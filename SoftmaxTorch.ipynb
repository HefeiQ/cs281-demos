{
 "cells": [
  {
   "cell_type": "code",
   "execution_count": 20,
   "metadata": {
    "collapsed": true
   },
   "outputs": [],
   "source": [
    "import numpy as np\n",
    "import torch\n",
    "from torch.autograd import Variable\n",
    "from torch import optim\n",
    "from data_util import load_mnist"
   ]
  },
  {
   "cell_type": "code",
   "execution_count": 21,
   "metadata": {
    "collapsed": true
   },
   "outputs": [],
   "source": [
    "def build_model(input_dim, output_dim):\n",
    "    model = torch.nn.Sequential()\n",
    "    # computes w_c^T x + b_c \n",
    "    model.add_module(\"linear\",\n",
    "                     torch.nn.Linear(input_dim, output_dim))\n",
    "    # Compute our log softmax term.\n",
    "    model.add_module(\"softmax\", torch.nn.LogSoftmax())\n",
    "    return model"
   ]
  },
  {
   "cell_type": "code",
   "execution_count": 22,
   "metadata": {
    "collapsed": true
   },
   "outputs": [],
   "source": [
    "def train(model, loss, optimizer, x_val, y_val):\n",
    "    \n",
    "    # Take in x and y and make variable.\n",
    "    x = Variable(x_val)\n",
    "    y = Variable(y_val)\n",
    "\n",
    "    # Resets the gradients to 0\n",
    "    optimizer.zero_grad()\n",
    "\n",
    "    # Computes the function above. (log softmax w_c^T x + b_c)\n",
    "    fx = model.forward(x)\n",
    "\n",
    "    # Computes a loss. Gives a scalar. \n",
    "    output = loss.forward(fx, y)\n",
    "\n",
    "    # Magically computes the gradients. \n",
    "    output.backward()\n",
    "\n",
    "    # updates the weights\n",
    "    optimizer.step()\n",
    "    return output.data[0]"
   ]
  },
  {
   "cell_type": "code",
   "execution_count": 23,
   "metadata": {
    "collapsed": true
   },
   "outputs": [],
   "source": [
    "def predict(model, x_val):\n",
    "    x = Variable(x_val, requires_grad=False)\n",
    "    output = model.forward(x)\n",
    "    return output.data.numpy().argmax(axis=1)"
   ]
  },
  {
   "cell_type": "code",
   "execution_count": 24,
   "metadata": {
    "collapsed": true
   },
   "outputs": [],
   "source": [
    "def main():\n",
    "    torch.manual_seed(42)\n",
    "    trX, teX, trY, teY = load_mnist(onehot=False)\n",
    "    trX = torch.from_numpy(trX).float()\n",
    "    teX = torch.from_numpy(teX).float()\n",
    "    trY = torch.from_numpy(trY).long()\n",
    "\n",
    "    n_examples, n_features = trX.size()\n",
    "    n_classes = 10\n",
    "    model = build_model(n_features, n_classes)\n",
    "\n",
    "    # Loss here is negative log-likelihood \n",
    "    loss = torch.nn.NLLLoss(size_average=True)\n",
    "\n",
    "    # Optimizer. SGD stochastic gradient. \n",
    "    optimizer = optim.SGD(model.parameters(), lr=0.01)\n",
    "\n",
    "\n",
    "    batch_size = 100\n",
    "    for i in range(100):\n",
    "        cost = 0.\n",
    "        num_batches = n_examples // batch_size\n",
    "        for k in range(num_batches):\n",
    "            start, end = k * batch_size, (k + 1) * batch_size\n",
    "            cost += train(model, loss, optimizer,\n",
    "                          trX[start:end], trY[start:end])\n",
    "        predY = predict(model, teX)\n",
    "        print(\"Epoch %d, cost = %f, acc = %.2f%%\"\n",
    "              % (i + 1, cost / num_batches, 100. * np.mean(predY == teY)))\n"
   ]
  },
  {
   "cell_type": "code",
   "execution_count": 25,
   "metadata": {},
   "outputs": [
    {
     "name": "stdout",
     "output_type": "stream",
     "text": [
      "Epoch 1, cost = 1.149908, acc = 85.17%\n",
      "Epoch 2, cost = 0.643424, acc = 87.44%\n",
      "Epoch 3, cost = 0.537060, acc = 88.17%\n",
      "Epoch 4, cost = 0.485690, acc = 88.71%\n",
      "Epoch 5, cost = 0.454144, acc = 89.14%\n",
      "Epoch 6, cost = 0.432298, acc = 89.52%\n",
      "Epoch 7, cost = 0.416023, acc = 89.80%\n",
      "Epoch 8, cost = 0.403290, acc = 89.98%\n",
      "Epoch 9, cost = 0.392972, acc = 90.16%\n",
      "Epoch 10, cost = 0.384385, acc = 90.32%\n",
      "Epoch 11, cost = 0.377089, acc = 90.45%\n",
      "Epoch 12, cost = 0.370788, acc = 90.58%\n",
      "Epoch 13, cost = 0.365271, acc = 90.66%\n",
      "Epoch 14, cost = 0.360386, acc = 90.76%\n",
      "Epoch 15, cost = 0.356020, acc = 90.83%\n",
      "Epoch 16, cost = 0.352085, acc = 90.88%\n",
      "Epoch 17, cost = 0.348513, acc = 90.98%\n",
      "Epoch 18, cost = 0.345251, acc = 91.08%\n",
      "Epoch 19, cost = 0.342256, acc = 91.16%\n",
      "Epoch 20, cost = 0.339492, acc = 91.24%\n",
      "Epoch 21, cost = 0.336932, acc = 91.26%\n",
      "Epoch 22, cost = 0.334550, acc = 91.35%\n",
      "Epoch 23, cost = 0.332327, acc = 91.38%\n",
      "Epoch 24, cost = 0.330245, acc = 91.42%\n",
      "Epoch 25, cost = 0.328290, acc = 91.46%\n",
      "Epoch 26, cost = 0.326449, acc = 91.45%\n",
      "Epoch 27, cost = 0.324711, acc = 91.45%\n",
      "Epoch 28, cost = 0.323067, acc = 91.50%\n",
      "Epoch 29, cost = 0.321509, acc = 91.55%\n",
      "Epoch 30, cost = 0.320028, acc = 91.56%\n",
      "Epoch 31, cost = 0.318620, acc = 91.58%\n",
      "Epoch 32, cost = 0.317278, acc = 91.62%\n",
      "Epoch 33, cost = 0.315996, acc = 91.63%\n",
      "Epoch 34, cost = 0.314771, acc = 91.62%\n",
      "Epoch 35, cost = 0.313599, acc = 91.66%\n",
      "Epoch 36, cost = 0.312475, acc = 91.67%\n",
      "Epoch 37, cost = 0.311396, acc = 91.72%\n",
      "Epoch 38, cost = 0.310360, acc = 91.74%\n",
      "Epoch 39, cost = 0.309363, acc = 91.76%\n",
      "Epoch 40, cost = 0.308403, acc = 91.81%\n",
      "Epoch 41, cost = 0.307478, acc = 91.84%\n",
      "Epoch 42, cost = 0.306585, acc = 91.87%\n",
      "Epoch 43, cost = 0.305724, acc = 91.90%\n",
      "Epoch 44, cost = 0.304891, acc = 91.91%\n",
      "Epoch 45, cost = 0.304085, acc = 91.93%\n",
      "Epoch 46, cost = 0.303306, acc = 91.96%\n",
      "Epoch 47, cost = 0.302551, acc = 91.98%\n",
      "Epoch 48, cost = 0.301819, acc = 91.99%\n",
      "Epoch 49, cost = 0.301109, acc = 91.99%\n",
      "Epoch 50, cost = 0.300420, acc = 91.98%\n",
      "Epoch 51, cost = 0.299751, acc = 91.98%\n",
      "Epoch 52, cost = 0.299100, acc = 91.99%\n",
      "Epoch 53, cost = 0.298468, acc = 91.98%\n",
      "Epoch 54, cost = 0.297853, acc = 91.98%\n",
      "Epoch 55, cost = 0.297254, acc = 91.98%\n",
      "Epoch 56, cost = 0.296671, acc = 91.98%\n",
      "Epoch 57, cost = 0.296102, acc = 91.98%\n",
      "Epoch 58, cost = 0.295549, acc = 92.01%\n",
      "Epoch 59, cost = 0.295008, acc = 92.01%\n",
      "Epoch 60, cost = 0.294481, acc = 92.03%\n",
      "Epoch 61, cost = 0.293966, acc = 92.03%\n",
      "Epoch 62, cost = 0.293464, acc = 92.03%\n",
      "Epoch 63, cost = 0.292973, acc = 92.05%\n",
      "Epoch 64, cost = 0.292493, acc = 92.06%\n",
      "Epoch 65, cost = 0.292024, acc = 92.05%\n",
      "Epoch 66, cost = 0.291565, acc = 92.04%\n",
      "Epoch 67, cost = 0.291116, acc = 92.03%\n",
      "Epoch 68, cost = 0.290677, acc = 92.05%\n",
      "Epoch 69, cost = 0.290247, acc = 92.04%\n",
      "Epoch 70, cost = 0.289825, acc = 92.04%\n",
      "Epoch 71, cost = 0.289413, acc = 92.04%\n",
      "Epoch 72, cost = 0.289008, acc = 92.05%\n",
      "Epoch 73, cost = 0.288611, acc = 92.05%\n",
      "Epoch 74, cost = 0.288223, acc = 92.06%\n",
      "Epoch 75, cost = 0.287841, acc = 92.08%\n",
      "Epoch 76, cost = 0.287467, acc = 92.10%\n",
      "Epoch 77, cost = 0.287100, acc = 92.10%\n",
      "Epoch 78, cost = 0.286739, acc = 92.10%\n",
      "Epoch 79, cost = 0.286385, acc = 92.10%\n",
      "Epoch 80, cost = 0.286038, acc = 92.10%\n",
      "Epoch 81, cost = 0.285696, acc = 92.12%\n",
      "Epoch 82, cost = 0.285361, acc = 92.15%\n",
      "Epoch 83, cost = 0.285031, acc = 92.15%\n",
      "Epoch 84, cost = 0.284707, acc = 92.14%\n",
      "Epoch 85, cost = 0.284388, acc = 92.16%\n",
      "Epoch 86, cost = 0.284075, acc = 92.15%\n",
      "Epoch 87, cost = 0.283766, acc = 92.16%\n",
      "Epoch 88, cost = 0.283463, acc = 92.16%\n",
      "Epoch 89, cost = 0.283164, acc = 92.16%\n",
      "Epoch 90, cost = 0.282871, acc = 92.18%\n",
      "Epoch 91, cost = 0.282581, acc = 92.18%\n",
      "Epoch 92, cost = 0.282297, acc = 92.17%\n",
      "Epoch 93, cost = 0.282016, acc = 92.17%\n",
      "Epoch 94, cost = 0.281740, acc = 92.17%\n",
      "Epoch 95, cost = 0.281468, acc = 92.16%\n",
      "Epoch 96, cost = 0.281200, acc = 92.17%\n",
      "Epoch 97, cost = 0.280936, acc = 92.17%\n",
      "Epoch 98, cost = 0.280675, acc = 92.16%\n",
      "Epoch 99, cost = 0.280419, acc = 92.16%\n",
      "Epoch 100, cost = 0.280166, acc = 92.16%\n"
     ]
    }
   ],
   "source": [
    "main()"
   ]
  }
 ],
 "metadata": {
  "kernelspec": {
   "display_name": "Python 3",
   "language": "python",
   "name": "python3"
  },
  "language_info": {
   "codemirror_mode": {
    "name": "ipython",
    "version": 3
   },
   "file_extension": ".py",
   "mimetype": "text/x-python",
   "name": "python",
   "nbconvert_exporter": "python",
   "pygments_lexer": "ipython3",
   "version": "3.5.2"
  }
 },
 "nbformat": 4,
 "nbformat_minor": 2
}
