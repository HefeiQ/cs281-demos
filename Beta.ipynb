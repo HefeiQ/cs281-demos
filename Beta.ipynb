{
 "cells": [
  {
   "cell_type": "code",
   "execution_count": 1,
   "metadata": {},
   "outputs": [],
   "source": [
    "from ipywidgets import interact, interactive, fixed, interact_manual\n",
    "import seaborn\n",
    "import matplotlib.pyplot as plt\n",
    "from scipy.special import gamma\n",
    "import numpy as np\n",
    "seaborn.set_context(\"talk\", font_scale=1.5)\n",
    "seaborn.set_style(\"whitegrid\")\n",
    "%matplotlib inline"
   ]
  },
  {
   "cell_type": "code",
   "execution_count": 2,
   "metadata": {
    "collapsed": true
   },
   "outputs": [],
   "source": [
    "def beta_pdf(theta, alpha_0, alpha_1):\n",
    "    return (gamma(alpha_0 + alpha_1) / (gamma(alpha_0) * gamma(alpha_1))) * (np.power(theta, alpha_1 -1)) * ( np.power((1 - theta), alpha_0-1) ) "
   ]
  },
  {
   "cell_type": "code",
   "execution_count": 27,
   "metadata": {},
   "outputs": [],
   "source": [
    "def dirichlet_pdf(thetas, alphas):\n",
    "    return (gamma(sum([a for a in alphas])) / (np.product([gamma(a) for a in alphas]))) * np.product([np.power(t, a-1) for t, a in zip(thetas, alphas)], axis=0)"
   ]
  },
  {
   "cell_type": "code",
   "execution_count": null,
   "metadata": {
    "collapsed": true
   },
   "outputs": [],
   "source": []
  },
  {
   "cell_type": "code",
   "execution_count": 4,
   "metadata": {},
   "outputs": [
    {
     "data": {
      "application/vnd.jupyter.widget-view+json": {
       "model_id": "33631952faa14e8d9d6000d64a416361",
       "version_major": 2,
       "version_minor": 0
      },
      "text/plain": [
       "A Jupyter Widget"
      ]
     },
     "metadata": {},
     "output_type": "display_data"
    }
   ],
   "source": [
    "eps = 1e-5\n",
    "\n",
    "def plot(alpha_0=1.0, alpha_1=1.0):\n",
    "    theta = np.linspace(0+eps, 1-eps, 1000)\n",
    "    plt.figure(figsize=(10,10))\n",
    "    f = plt.plot(theta, beta_pdf(theta, alpha_0, alpha_1))\n",
    "    plt.title(\"Beta(%2.2f, %2.2f)\"%(alpha_0, alpha_1))\n",
    "    plt.ylabel(\"Density\")\n",
    "    plt.xlabel(\"theta\")\n",
    "    plt.ylim(0, 4)\n",
    "    plt.show()\n",
    "interactive(plot, alpha_0=(0.0+eps, 5.0), alpha_1=(0.0+eps, 5.0))\n"
   ]
  },
  {
   "cell_type": "code",
   "execution_count": null,
   "metadata": {
    "collapsed": true
   },
   "outputs": [],
   "source": [
    "direclet_pdf([])"
   ]
  },
  {
   "cell_type": "code",
   "execution_count": 65,
   "metadata": {},
   "outputs": [
    {
     "data": {
      "application/javascript": [
       "/* Put everything inside the global mpl namespace */\n",
       "window.mpl = {};\n",
       "\n",
       "\n",
       "mpl.get_websocket_type = function() {\n",
       "    if (typeof(WebSocket) !== 'undefined') {\n",
       "        return WebSocket;\n",
       "    } else if (typeof(MozWebSocket) !== 'undefined') {\n",
       "        return MozWebSocket;\n",
       "    } else {\n",
       "        alert('Your browser does not have WebSocket support.' +\n",
       "              'Please try Chrome, Safari or Firefox ≥ 6. ' +\n",
       "              'Firefox 4 and 5 are also supported but you ' +\n",
       "              'have to enable WebSockets in about:config.');\n",
       "    };\n",
       "}\n",
       "\n",
       "mpl.figure = function(figure_id, websocket, ondownload, parent_element) {\n",
       "    this.id = figure_id;\n",
       "\n",
       "    this.ws = websocket;\n",
       "\n",
       "    this.supports_binary = (this.ws.binaryType != undefined);\n",
       "\n",
       "    if (!this.supports_binary) {\n",
       "        var warnings = document.getElementById(\"mpl-warnings\");\n",
       "        if (warnings) {\n",
       "            warnings.style.display = 'block';\n",
       "            warnings.textContent = (\n",
       "                \"This browser does not support binary websocket messages. \" +\n",
       "                    \"Performance may be slow.\");\n",
       "        }\n",
       "    }\n",
       "\n",
       "    this.imageObj = new Image();\n",
       "\n",
       "    this.context = undefined;\n",
       "    this.message = undefined;\n",
       "    this.canvas = undefined;\n",
       "    this.rubberband_canvas = undefined;\n",
       "    this.rubberband_context = undefined;\n",
       "    this.format_dropdown = undefined;\n",
       "\n",
       "    this.image_mode = 'full';\n",
       "\n",
       "    this.root = $('<div/>');\n",
       "    this._root_extra_style(this.root)\n",
       "    this.root.attr('style', 'display: inline-block');\n",
       "\n",
       "    $(parent_element).append(this.root);\n",
       "\n",
       "    this._init_header(this);\n",
       "    this._init_canvas(this);\n",
       "    this._init_toolbar(this);\n",
       "\n",
       "    var fig = this;\n",
       "\n",
       "    this.waiting = false;\n",
       "\n",
       "    this.ws.onopen =  function () {\n",
       "            fig.send_message(\"supports_binary\", {value: fig.supports_binary});\n",
       "            fig.send_message(\"send_image_mode\", {});\n",
       "            if (mpl.ratio != 1) {\n",
       "                fig.send_message(\"set_dpi_ratio\", {'dpi_ratio': mpl.ratio});\n",
       "            }\n",
       "            fig.send_message(\"refresh\", {});\n",
       "        }\n",
       "\n",
       "    this.imageObj.onload = function() {\n",
       "            if (fig.image_mode == 'full') {\n",
       "                // Full images could contain transparency (where diff images\n",
       "                // almost always do), so we need to clear the canvas so that\n",
       "                // there is no ghosting.\n",
       "                fig.context.clearRect(0, 0, fig.canvas.width, fig.canvas.height);\n",
       "            }\n",
       "            fig.context.drawImage(fig.imageObj, 0, 0);\n",
       "        };\n",
       "\n",
       "    this.imageObj.onunload = function() {\n",
       "        this.ws.close();\n",
       "    }\n",
       "\n",
       "    this.ws.onmessage = this._make_on_message_function(this);\n",
       "\n",
       "    this.ondownload = ondownload;\n",
       "}\n",
       "\n",
       "mpl.figure.prototype._init_header = function() {\n",
       "    var titlebar = $(\n",
       "        '<div class=\"ui-dialog-titlebar ui-widget-header ui-corner-all ' +\n",
       "        'ui-helper-clearfix\"/>');\n",
       "    var titletext = $(\n",
       "        '<div class=\"ui-dialog-title\" style=\"width: 100%; ' +\n",
       "        'text-align: center; padding: 3px;\"/>');\n",
       "    titlebar.append(titletext)\n",
       "    this.root.append(titlebar);\n",
       "    this.header = titletext[0];\n",
       "}\n",
       "\n",
       "\n",
       "\n",
       "mpl.figure.prototype._canvas_extra_style = function(canvas_div) {\n",
       "\n",
       "}\n",
       "\n",
       "\n",
       "mpl.figure.prototype._root_extra_style = function(canvas_div) {\n",
       "\n",
       "}\n",
       "\n",
       "mpl.figure.prototype._init_canvas = function() {\n",
       "    var fig = this;\n",
       "\n",
       "    var canvas_div = $('<div/>');\n",
       "\n",
       "    canvas_div.attr('style', 'position: relative; clear: both; outline: 0');\n",
       "\n",
       "    function canvas_keyboard_event(event) {\n",
       "        return fig.key_event(event, event['data']);\n",
       "    }\n",
       "\n",
       "    canvas_div.keydown('key_press', canvas_keyboard_event);\n",
       "    canvas_div.keyup('key_release', canvas_keyboard_event);\n",
       "    this.canvas_div = canvas_div\n",
       "    this._canvas_extra_style(canvas_div)\n",
       "    this.root.append(canvas_div);\n",
       "\n",
       "    var canvas = $('<canvas/>');\n",
       "    canvas.addClass('mpl-canvas');\n",
       "    canvas.attr('style', \"left: 0; top: 0; z-index: 0; outline: 0\")\n",
       "\n",
       "    this.canvas = canvas[0];\n",
       "    this.context = canvas[0].getContext(\"2d\");\n",
       "\n",
       "    var backingStore = this.context.backingStorePixelRatio ||\n",
       "\tthis.context.webkitBackingStorePixelRatio ||\n",
       "\tthis.context.mozBackingStorePixelRatio ||\n",
       "\tthis.context.msBackingStorePixelRatio ||\n",
       "\tthis.context.oBackingStorePixelRatio ||\n",
       "\tthis.context.backingStorePixelRatio || 1;\n",
       "\n",
       "    mpl.ratio = (window.devicePixelRatio || 1) / backingStore;\n",
       "\n",
       "    var rubberband = $('<canvas/>');\n",
       "    rubberband.attr('style', \"position: absolute; left: 0; top: 0; z-index: 1;\")\n",
       "\n",
       "    var pass_mouse_events = true;\n",
       "\n",
       "    canvas_div.resizable({\n",
       "        start: function(event, ui) {\n",
       "            pass_mouse_events = false;\n",
       "        },\n",
       "        resize: function(event, ui) {\n",
       "            fig.request_resize(ui.size.width, ui.size.height);\n",
       "        },\n",
       "        stop: function(event, ui) {\n",
       "            pass_mouse_events = true;\n",
       "            fig.request_resize(ui.size.width, ui.size.height);\n",
       "        },\n",
       "    });\n",
       "\n",
       "    function mouse_event_fn(event) {\n",
       "        if (pass_mouse_events)\n",
       "            return fig.mouse_event(event, event['data']);\n",
       "    }\n",
       "\n",
       "    rubberband.mousedown('button_press', mouse_event_fn);\n",
       "    rubberband.mouseup('button_release', mouse_event_fn);\n",
       "    // Throttle sequential mouse events to 1 every 20ms.\n",
       "    rubberband.mousemove('motion_notify', mouse_event_fn);\n",
       "\n",
       "    rubberband.mouseenter('figure_enter', mouse_event_fn);\n",
       "    rubberband.mouseleave('figure_leave', mouse_event_fn);\n",
       "\n",
       "    canvas_div.on(\"wheel\", function (event) {\n",
       "        event = event.originalEvent;\n",
       "        event['data'] = 'scroll'\n",
       "        if (event.deltaY < 0) {\n",
       "            event.step = 1;\n",
       "        } else {\n",
       "            event.step = -1;\n",
       "        }\n",
       "        mouse_event_fn(event);\n",
       "    });\n",
       "\n",
       "    canvas_div.append(canvas);\n",
       "    canvas_div.append(rubberband);\n",
       "\n",
       "    this.rubberband = rubberband;\n",
       "    this.rubberband_canvas = rubberband[0];\n",
       "    this.rubberband_context = rubberband[0].getContext(\"2d\");\n",
       "    this.rubberband_context.strokeStyle = \"#000000\";\n",
       "\n",
       "    this._resize_canvas = function(width, height) {\n",
       "        // Keep the size of the canvas, canvas container, and rubber band\n",
       "        // canvas in synch.\n",
       "        canvas_div.css('width', width)\n",
       "        canvas_div.css('height', height)\n",
       "\n",
       "        canvas.attr('width', width * mpl.ratio);\n",
       "        canvas.attr('height', height * mpl.ratio);\n",
       "        canvas.attr('style', 'width: ' + width + 'px; height: ' + height + 'px;');\n",
       "\n",
       "        rubberband.attr('width', width);\n",
       "        rubberband.attr('height', height);\n",
       "    }\n",
       "\n",
       "    // Set the figure to an initial 600x600px, this will subsequently be updated\n",
       "    // upon first draw.\n",
       "    this._resize_canvas(600, 600);\n",
       "\n",
       "    // Disable right mouse context menu.\n",
       "    $(this.rubberband_canvas).bind(\"contextmenu\",function(e){\n",
       "        return false;\n",
       "    });\n",
       "\n",
       "    function set_focus () {\n",
       "        canvas.focus();\n",
       "        canvas_div.focus();\n",
       "    }\n",
       "\n",
       "    window.setTimeout(set_focus, 100);\n",
       "}\n",
       "\n",
       "mpl.figure.prototype._init_toolbar = function() {\n",
       "    var fig = this;\n",
       "\n",
       "    var nav_element = $('<div/>')\n",
       "    nav_element.attr('style', 'width: 100%');\n",
       "    this.root.append(nav_element);\n",
       "\n",
       "    // Define a callback function for later on.\n",
       "    function toolbar_event(event) {\n",
       "        return fig.toolbar_button_onclick(event['data']);\n",
       "    }\n",
       "    function toolbar_mouse_event(event) {\n",
       "        return fig.toolbar_button_onmouseover(event['data']);\n",
       "    }\n",
       "\n",
       "    for(var toolbar_ind in mpl.toolbar_items) {\n",
       "        var name = mpl.toolbar_items[toolbar_ind][0];\n",
       "        var tooltip = mpl.toolbar_items[toolbar_ind][1];\n",
       "        var image = mpl.toolbar_items[toolbar_ind][2];\n",
       "        var method_name = mpl.toolbar_items[toolbar_ind][3];\n",
       "\n",
       "        if (!name) {\n",
       "            // put a spacer in here.\n",
       "            continue;\n",
       "        }\n",
       "        var button = $('<button/>');\n",
       "        button.addClass('ui-button ui-widget ui-state-default ui-corner-all ' +\n",
       "                        'ui-button-icon-only');\n",
       "        button.attr('role', 'button');\n",
       "        button.attr('aria-disabled', 'false');\n",
       "        button.click(method_name, toolbar_event);\n",
       "        button.mouseover(tooltip, toolbar_mouse_event);\n",
       "\n",
       "        var icon_img = $('<span/>');\n",
       "        icon_img.addClass('ui-button-icon-primary ui-icon');\n",
       "        icon_img.addClass(image);\n",
       "        icon_img.addClass('ui-corner-all');\n",
       "\n",
       "        var tooltip_span = $('<span/>');\n",
       "        tooltip_span.addClass('ui-button-text');\n",
       "        tooltip_span.html(tooltip);\n",
       "\n",
       "        button.append(icon_img);\n",
       "        button.append(tooltip_span);\n",
       "\n",
       "        nav_element.append(button);\n",
       "    }\n",
       "\n",
       "    var fmt_picker_span = $('<span/>');\n",
       "\n",
       "    var fmt_picker = $('<select/>');\n",
       "    fmt_picker.addClass('mpl-toolbar-option ui-widget ui-widget-content');\n",
       "    fmt_picker_span.append(fmt_picker);\n",
       "    nav_element.append(fmt_picker_span);\n",
       "    this.format_dropdown = fmt_picker[0];\n",
       "\n",
       "    for (var ind in mpl.extensions) {\n",
       "        var fmt = mpl.extensions[ind];\n",
       "        var option = $(\n",
       "            '<option/>', {selected: fmt === mpl.default_extension}).html(fmt);\n",
       "        fmt_picker.append(option)\n",
       "    }\n",
       "\n",
       "    // Add hover states to the ui-buttons\n",
       "    $( \".ui-button\" ).hover(\n",
       "        function() { $(this).addClass(\"ui-state-hover\");},\n",
       "        function() { $(this).removeClass(\"ui-state-hover\");}\n",
       "    );\n",
       "\n",
       "    var status_bar = $('<span class=\"mpl-message\"/>');\n",
       "    nav_element.append(status_bar);\n",
       "    this.message = status_bar[0];\n",
       "}\n",
       "\n",
       "mpl.figure.prototype.request_resize = function(x_pixels, y_pixels) {\n",
       "    // Request matplotlib to resize the figure. Matplotlib will then trigger a resize in the client,\n",
       "    // which will in turn request a refresh of the image.\n",
       "    this.send_message('resize', {'width': x_pixels, 'height': y_pixels});\n",
       "}\n",
       "\n",
       "mpl.figure.prototype.send_message = function(type, properties) {\n",
       "    properties['type'] = type;\n",
       "    properties['figure_id'] = this.id;\n",
       "    this.ws.send(JSON.stringify(properties));\n",
       "}\n",
       "\n",
       "mpl.figure.prototype.send_draw_message = function() {\n",
       "    if (!this.waiting) {\n",
       "        this.waiting = true;\n",
       "        this.ws.send(JSON.stringify({type: \"draw\", figure_id: this.id}));\n",
       "    }\n",
       "}\n",
       "\n",
       "\n",
       "mpl.figure.prototype.handle_save = function(fig, msg) {\n",
       "    var format_dropdown = fig.format_dropdown;\n",
       "    var format = format_dropdown.options[format_dropdown.selectedIndex].value;\n",
       "    fig.ondownload(fig, format);\n",
       "}\n",
       "\n",
       "\n",
       "mpl.figure.prototype.handle_resize = function(fig, msg) {\n",
       "    var size = msg['size'];\n",
       "    if (size[0] != fig.canvas.width || size[1] != fig.canvas.height) {\n",
       "        fig._resize_canvas(size[0], size[1]);\n",
       "        fig.send_message(\"refresh\", {});\n",
       "    };\n",
       "}\n",
       "\n",
       "mpl.figure.prototype.handle_rubberband = function(fig, msg) {\n",
       "    var x0 = msg['x0'] / mpl.ratio;\n",
       "    var y0 = (fig.canvas.height - msg['y0']) / mpl.ratio;\n",
       "    var x1 = msg['x1'] / mpl.ratio;\n",
       "    var y1 = (fig.canvas.height - msg['y1']) / mpl.ratio;\n",
       "    x0 = Math.floor(x0) + 0.5;\n",
       "    y0 = Math.floor(y0) + 0.5;\n",
       "    x1 = Math.floor(x1) + 0.5;\n",
       "    y1 = Math.floor(y1) + 0.5;\n",
       "    var min_x = Math.min(x0, x1);\n",
       "    var min_y = Math.min(y0, y1);\n",
       "    var width = Math.abs(x1 - x0);\n",
       "    var height = Math.abs(y1 - y0);\n",
       "\n",
       "    fig.rubberband_context.clearRect(\n",
       "        0, 0, fig.canvas.width, fig.canvas.height);\n",
       "\n",
       "    fig.rubberband_context.strokeRect(min_x, min_y, width, height);\n",
       "}\n",
       "\n",
       "mpl.figure.prototype.handle_figure_label = function(fig, msg) {\n",
       "    // Updates the figure title.\n",
       "    fig.header.textContent = msg['label'];\n",
       "}\n",
       "\n",
       "mpl.figure.prototype.handle_cursor = function(fig, msg) {\n",
       "    var cursor = msg['cursor'];\n",
       "    switch(cursor)\n",
       "    {\n",
       "    case 0:\n",
       "        cursor = 'pointer';\n",
       "        break;\n",
       "    case 1:\n",
       "        cursor = 'default';\n",
       "        break;\n",
       "    case 2:\n",
       "        cursor = 'crosshair';\n",
       "        break;\n",
       "    case 3:\n",
       "        cursor = 'move';\n",
       "        break;\n",
       "    }\n",
       "    fig.rubberband_canvas.style.cursor = cursor;\n",
       "}\n",
       "\n",
       "mpl.figure.prototype.handle_message = function(fig, msg) {\n",
       "    fig.message.textContent = msg['message'];\n",
       "}\n",
       "\n",
       "mpl.figure.prototype.handle_draw = function(fig, msg) {\n",
       "    // Request the server to send over a new figure.\n",
       "    fig.send_draw_message();\n",
       "}\n",
       "\n",
       "mpl.figure.prototype.handle_image_mode = function(fig, msg) {\n",
       "    fig.image_mode = msg['mode'];\n",
       "}\n",
       "\n",
       "mpl.figure.prototype.updated_canvas_event = function() {\n",
       "    // Called whenever the canvas gets updated.\n",
       "    this.send_message(\"ack\", {});\n",
       "}\n",
       "\n",
       "// A function to construct a web socket function for onmessage handling.\n",
       "// Called in the figure constructor.\n",
       "mpl.figure.prototype._make_on_message_function = function(fig) {\n",
       "    return function socket_on_message(evt) {\n",
       "        if (evt.data instanceof Blob) {\n",
       "            /* FIXME: We get \"Resource interpreted as Image but\n",
       "             * transferred with MIME type text/plain:\" errors on\n",
       "             * Chrome.  But how to set the MIME type?  It doesn't seem\n",
       "             * to be part of the websocket stream */\n",
       "            evt.data.type = \"image/png\";\n",
       "\n",
       "            /* Free the memory for the previous frames */\n",
       "            if (fig.imageObj.src) {\n",
       "                (window.URL || window.webkitURL).revokeObjectURL(\n",
       "                    fig.imageObj.src);\n",
       "            }\n",
       "\n",
       "            fig.imageObj.src = (window.URL || window.webkitURL).createObjectURL(\n",
       "                evt.data);\n",
       "            fig.updated_canvas_event();\n",
       "            fig.waiting = false;\n",
       "            return;\n",
       "        }\n",
       "        else if (typeof evt.data === 'string' && evt.data.slice(0, 21) == \"data:image/png;base64\") {\n",
       "            fig.imageObj.src = evt.data;\n",
       "            fig.updated_canvas_event();\n",
       "            fig.waiting = false;\n",
       "            return;\n",
       "        }\n",
       "\n",
       "        var msg = JSON.parse(evt.data);\n",
       "        var msg_type = msg['type'];\n",
       "\n",
       "        // Call the  \"handle_{type}\" callback, which takes\n",
       "        // the figure and JSON message as its only arguments.\n",
       "        try {\n",
       "            var callback = fig[\"handle_\" + msg_type];\n",
       "        } catch (e) {\n",
       "            console.log(\"No handler for the '\" + msg_type + \"' message type: \", msg);\n",
       "            return;\n",
       "        }\n",
       "\n",
       "        if (callback) {\n",
       "            try {\n",
       "                // console.log(\"Handling '\" + msg_type + \"' message: \", msg);\n",
       "                callback(fig, msg);\n",
       "            } catch (e) {\n",
       "                console.log(\"Exception inside the 'handler_\" + msg_type + \"' callback:\", e, e.stack, msg);\n",
       "            }\n",
       "        }\n",
       "    };\n",
       "}\n",
       "\n",
       "// from http://stackoverflow.com/questions/1114465/getting-mouse-location-in-canvas\n",
       "mpl.findpos = function(e) {\n",
       "    //this section is from http://www.quirksmode.org/js/events_properties.html\n",
       "    var targ;\n",
       "    if (!e)\n",
       "        e = window.event;\n",
       "    if (e.target)\n",
       "        targ = e.target;\n",
       "    else if (e.srcElement)\n",
       "        targ = e.srcElement;\n",
       "    if (targ.nodeType == 3) // defeat Safari bug\n",
       "        targ = targ.parentNode;\n",
       "\n",
       "    // jQuery normalizes the pageX and pageY\n",
       "    // pageX,Y are the mouse positions relative to the document\n",
       "    // offset() returns the position of the element relative to the document\n",
       "    var x = e.pageX - $(targ).offset().left;\n",
       "    var y = e.pageY - $(targ).offset().top;\n",
       "\n",
       "    return {\"x\": x, \"y\": y};\n",
       "};\n",
       "\n",
       "/*\n",
       " * return a copy of an object with only non-object keys\n",
       " * we need this to avoid circular references\n",
       " * http://stackoverflow.com/a/24161582/3208463\n",
       " */\n",
       "function simpleKeys (original) {\n",
       "  return Object.keys(original).reduce(function (obj, key) {\n",
       "    if (typeof original[key] !== 'object')\n",
       "        obj[key] = original[key]\n",
       "    return obj;\n",
       "  }, {});\n",
       "}\n",
       "\n",
       "mpl.figure.prototype.mouse_event = function(event, name) {\n",
       "    var canvas_pos = mpl.findpos(event)\n",
       "\n",
       "    if (name === 'button_press')\n",
       "    {\n",
       "        this.canvas.focus();\n",
       "        this.canvas_div.focus();\n",
       "    }\n",
       "\n",
       "    var x = canvas_pos.x * mpl.ratio;\n",
       "    var y = canvas_pos.y * mpl.ratio;\n",
       "\n",
       "    this.send_message(name, {x: x, y: y, button: event.button,\n",
       "                             step: event.step,\n",
       "                             guiEvent: simpleKeys(event)});\n",
       "\n",
       "    /* This prevents the web browser from automatically changing to\n",
       "     * the text insertion cursor when the button is pressed.  We want\n",
       "     * to control all of the cursor setting manually through the\n",
       "     * 'cursor' event from matplotlib */\n",
       "    event.preventDefault();\n",
       "    return false;\n",
       "}\n",
       "\n",
       "mpl.figure.prototype._key_event_extra = function(event, name) {\n",
       "    // Handle any extra behaviour associated with a key event\n",
       "}\n",
       "\n",
       "mpl.figure.prototype.key_event = function(event, name) {\n",
       "\n",
       "    // Prevent repeat events\n",
       "    if (name == 'key_press')\n",
       "    {\n",
       "        if (event.which === this._key)\n",
       "            return;\n",
       "        else\n",
       "            this._key = event.which;\n",
       "    }\n",
       "    if (name == 'key_release')\n",
       "        this._key = null;\n",
       "\n",
       "    var value = '';\n",
       "    if (event.ctrlKey && event.which != 17)\n",
       "        value += \"ctrl+\";\n",
       "    if (event.altKey && event.which != 18)\n",
       "        value += \"alt+\";\n",
       "    if (event.shiftKey && event.which != 16)\n",
       "        value += \"shift+\";\n",
       "\n",
       "    value += 'k';\n",
       "    value += event.which.toString();\n",
       "\n",
       "    this._key_event_extra(event, name);\n",
       "\n",
       "    this.send_message(name, {key: value,\n",
       "                             guiEvent: simpleKeys(event)});\n",
       "    return false;\n",
       "}\n",
       "\n",
       "mpl.figure.prototype.toolbar_button_onclick = function(name) {\n",
       "    if (name == 'download') {\n",
       "        this.handle_save(this, null);\n",
       "    } else {\n",
       "        this.send_message(\"toolbar_button\", {name: name});\n",
       "    }\n",
       "};\n",
       "\n",
       "mpl.figure.prototype.toolbar_button_onmouseover = function(tooltip) {\n",
       "    this.message.textContent = tooltip;\n",
       "};\n",
       "mpl.toolbar_items = [[\"Home\", \"Reset original view\", \"fa fa-home icon-home\", \"home\"], [\"Back\", \"Back to  previous view\", \"fa fa-arrow-left icon-arrow-left\", \"back\"], [\"Forward\", \"Forward to next view\", \"fa fa-arrow-right icon-arrow-right\", \"forward\"], [\"\", \"\", \"\", \"\"], [\"Pan\", \"Pan axes with left mouse, zoom with right\", \"fa fa-arrows icon-move\", \"pan\"], [\"Zoom\", \"Zoom to rectangle\", \"fa fa-square-o icon-check-empty\", \"zoom\"], [\"\", \"\", \"\", \"\"], [\"Download\", \"Download plot\", \"fa fa-floppy-o icon-save\", \"download\"]];\n",
       "\n",
       "mpl.extensions = [\"eps\", \"pdf\", \"png\", \"ps\", \"raw\", \"svg\"];\n",
       "\n",
       "mpl.default_extension = \"png\";var comm_websocket_adapter = function(comm) {\n",
       "    // Create a \"websocket\"-like object which calls the given IPython comm\n",
       "    // object with the appropriate methods. Currently this is a non binary\n",
       "    // socket, so there is still some room for performance tuning.\n",
       "    var ws = {};\n",
       "\n",
       "    ws.close = function() {\n",
       "        comm.close()\n",
       "    };\n",
       "    ws.send = function(m) {\n",
       "        //console.log('sending', m);\n",
       "        comm.send(m);\n",
       "    };\n",
       "    // Register the callback with on_msg.\n",
       "    comm.on_msg(function(msg) {\n",
       "        //console.log('receiving', msg['content']['data'], msg);\n",
       "        // Pass the mpl event to the overriden (by mpl) onmessage function.\n",
       "        ws.onmessage(msg['content']['data'])\n",
       "    });\n",
       "    return ws;\n",
       "}\n",
       "\n",
       "mpl.mpl_figure_comm = function(comm, msg) {\n",
       "    // This is the function which gets called when the mpl process\n",
       "    // starts-up an IPython Comm through the \"matplotlib\" channel.\n",
       "\n",
       "    var id = msg.content.data.id;\n",
       "    // Get hold of the div created by the display call when the Comm\n",
       "    // socket was opened in Python.\n",
       "    var element = $(\"#\" + id);\n",
       "    var ws_proxy = comm_websocket_adapter(comm)\n",
       "\n",
       "    function ondownload(figure, format) {\n",
       "        window.open(figure.imageObj.src);\n",
       "    }\n",
       "\n",
       "    var fig = new mpl.figure(id, ws_proxy,\n",
       "                           ondownload,\n",
       "                           element.get(0));\n",
       "\n",
       "    // Call onopen now - mpl needs it, as it is assuming we've passed it a real\n",
       "    // web socket which is closed, not our websocket->open comm proxy.\n",
       "    ws_proxy.onopen();\n",
       "\n",
       "    fig.parent_element = element.get(0);\n",
       "    fig.cell_info = mpl.find_output_cell(\"<div id='\" + id + \"'></div>\");\n",
       "    if (!fig.cell_info) {\n",
       "        console.error(\"Failed to find cell for figure\", id, fig);\n",
       "        return;\n",
       "    }\n",
       "\n",
       "    var output_index = fig.cell_info[2]\n",
       "    var cell = fig.cell_info[0];\n",
       "\n",
       "};\n",
       "\n",
       "mpl.figure.prototype.handle_close = function(fig, msg) {\n",
       "    var width = fig.canvas.width/mpl.ratio\n",
       "    fig.root.unbind('remove')\n",
       "\n",
       "    // Update the output cell to use the data from the current canvas.\n",
       "    fig.push_to_output();\n",
       "    var dataURL = fig.canvas.toDataURL();\n",
       "    // Re-enable the keyboard manager in IPython - without this line, in FF,\n",
       "    // the notebook keyboard shortcuts fail.\n",
       "    IPython.keyboard_manager.enable()\n",
       "    $(fig.parent_element).html('<img src=\"' + dataURL + '\" width=\"' + width + '\">');\n",
       "    fig.close_ws(fig, msg);\n",
       "}\n",
       "\n",
       "mpl.figure.prototype.close_ws = function(fig, msg){\n",
       "    fig.send_message('closing', msg);\n",
       "    // fig.ws.close()\n",
       "}\n",
       "\n",
       "mpl.figure.prototype.push_to_output = function(remove_interactive) {\n",
       "    // Turn the data on the canvas into data in the output cell.\n",
       "    var width = this.canvas.width/mpl.ratio\n",
       "    var dataURL = this.canvas.toDataURL();\n",
       "    this.cell_info[1]['text/html'] = '<img src=\"' + dataURL + '\" width=\"' + width + '\">';\n",
       "}\n",
       "\n",
       "mpl.figure.prototype.updated_canvas_event = function() {\n",
       "    // Tell IPython that the notebook contents must change.\n",
       "    IPython.notebook.set_dirty(true);\n",
       "    this.send_message(\"ack\", {});\n",
       "    var fig = this;\n",
       "    // Wait a second, then push the new image to the DOM so\n",
       "    // that it is saved nicely (might be nice to debounce this).\n",
       "    setTimeout(function () { fig.push_to_output() }, 1000);\n",
       "}\n",
       "\n",
       "mpl.figure.prototype._init_toolbar = function() {\n",
       "    var fig = this;\n",
       "\n",
       "    var nav_element = $('<div/>')\n",
       "    nav_element.attr('style', 'width: 100%');\n",
       "    this.root.append(nav_element);\n",
       "\n",
       "    // Define a callback function for later on.\n",
       "    function toolbar_event(event) {\n",
       "        return fig.toolbar_button_onclick(event['data']);\n",
       "    }\n",
       "    function toolbar_mouse_event(event) {\n",
       "        return fig.toolbar_button_onmouseover(event['data']);\n",
       "    }\n",
       "\n",
       "    for(var toolbar_ind in mpl.toolbar_items){\n",
       "        var name = mpl.toolbar_items[toolbar_ind][0];\n",
       "        var tooltip = mpl.toolbar_items[toolbar_ind][1];\n",
       "        var image = mpl.toolbar_items[toolbar_ind][2];\n",
       "        var method_name = mpl.toolbar_items[toolbar_ind][3];\n",
       "\n",
       "        if (!name) { continue; };\n",
       "\n",
       "        var button = $('<button class=\"btn btn-default\" href=\"#\" title=\"' + name + '\"><i class=\"fa ' + image + ' fa-lg\"></i></button>');\n",
       "        button.click(method_name, toolbar_event);\n",
       "        button.mouseover(tooltip, toolbar_mouse_event);\n",
       "        nav_element.append(button);\n",
       "    }\n",
       "\n",
       "    // Add the status bar.\n",
       "    var status_bar = $('<span class=\"mpl-message\" style=\"text-align:right; float: right;\"/>');\n",
       "    nav_element.append(status_bar);\n",
       "    this.message = status_bar[0];\n",
       "\n",
       "    // Add the close button to the window.\n",
       "    var buttongrp = $('<div class=\"btn-group inline pull-right\"></div>');\n",
       "    var button = $('<button class=\"btn btn-mini btn-primary\" href=\"#\" title=\"Stop Interaction\"><i class=\"fa fa-power-off icon-remove icon-large\"></i></button>');\n",
       "    button.click(function (evt) { fig.handle_close(fig, {}); } );\n",
       "    button.mouseover('Stop Interaction', toolbar_mouse_event);\n",
       "    buttongrp.append(button);\n",
       "    var titlebar = this.root.find($('.ui-dialog-titlebar'));\n",
       "    titlebar.prepend(buttongrp);\n",
       "}\n",
       "\n",
       "mpl.figure.prototype._root_extra_style = function(el){\n",
       "    var fig = this\n",
       "    el.on(\"remove\", function(){\n",
       "\tfig.close_ws(fig, {});\n",
       "    });\n",
       "}\n",
       "\n",
       "mpl.figure.prototype._canvas_extra_style = function(el){\n",
       "    // this is important to make the div 'focusable\n",
       "    el.attr('tabindex', 0)\n",
       "    // reach out to IPython and tell the keyboard manager to turn it's self\n",
       "    // off when our div gets focus\n",
       "\n",
       "    // location in version 3\n",
       "    if (IPython.notebook.keyboard_manager) {\n",
       "        IPython.notebook.keyboard_manager.register_events(el);\n",
       "    }\n",
       "    else {\n",
       "        // location in version 2\n",
       "        IPython.keyboard_manager.register_events(el);\n",
       "    }\n",
       "\n",
       "}\n",
       "\n",
       "mpl.figure.prototype._key_event_extra = function(event, name) {\n",
       "    var manager = IPython.notebook.keyboard_manager;\n",
       "    if (!manager)\n",
       "        manager = IPython.keyboard_manager;\n",
       "\n",
       "    // Check for shift+enter\n",
       "    if (event.shiftKey && event.which == 13) {\n",
       "        this.canvas_div.blur();\n",
       "        // select the cell after this one\n",
       "        var index = IPython.notebook.find_cell_index(this.cell_info[0]);\n",
       "        IPython.notebook.select(index + 1);\n",
       "    }\n",
       "}\n",
       "\n",
       "mpl.figure.prototype.handle_save = function(fig, msg) {\n",
       "    fig.ondownload(fig, null);\n",
       "}\n",
       "\n",
       "\n",
       "mpl.find_output_cell = function(html_output) {\n",
       "    // Return the cell and output element which can be found *uniquely* in the notebook.\n",
       "    // Note - this is a bit hacky, but it is done because the \"notebook_saving.Notebook\"\n",
       "    // IPython event is triggered only after the cells have been serialised, which for\n",
       "    // our purposes (turning an active figure into a static one), is too late.\n",
       "    var cells = IPython.notebook.get_cells();\n",
       "    var ncells = cells.length;\n",
       "    for (var i=0; i<ncells; i++) {\n",
       "        var cell = cells[i];\n",
       "        if (cell.cell_type === 'code'){\n",
       "            for (var j=0; j<cell.output_area.outputs.length; j++) {\n",
       "                var data = cell.output_area.outputs[j];\n",
       "                if (data.data) {\n",
       "                    // IPython >= 3 moved mimebundle to data attribute of output\n",
       "                    data = data.data;\n",
       "                }\n",
       "                if (data['text/html'] == html_output) {\n",
       "                    return [cell, data, j];\n",
       "                }\n",
       "            }\n",
       "        }\n",
       "    }\n",
       "}\n",
       "\n",
       "// Register the function which deals with the matplotlib target/channel.\n",
       "// The kernel may be null if the page has been refreshed.\n",
       "if (IPython.notebook.kernel != null) {\n",
       "    IPython.notebook.kernel.comm_manager.register_target('matplotlib', mpl.mpl_figure_comm);\n",
       "}\n"
      ],
      "text/plain": [
       "<IPython.core.display.Javascript object>"
      ]
     },
     "metadata": {},
     "output_type": "display_data"
    },
    {
     "data": {
      "text/html": [
       "<img src=\"data:image/png;base64,iVBORw0KGgoAAAANSUhEUgAAAtAAAALQCAYAAAC5V0ecAAAgAElEQVR4XuydB7hnRXn/597dhS1UERQTOiy9KwQQVBQxGjFYg7FgQY0a/xGNsUQNISqxRoo1KApYY0ExKqASIqAiKLpLFRBQusD2vvf/fM7Nuzt7OP3MKb9zv/M899lyT5nznTlzPvPO+74z5lSkgBSQAlJACkgBKSAFpIAUKKzAWOEjdaAUkAJSQApIASkgBaSAFJACTgCtTiAFpIAUkAJSQApIASkgBUooIIAuIZYOlQJSQApIASkgBaSAFJACAmj1ASkgBaSAFJACUkAKSAEpUEIBAXQJsXSoFJACUkAKSAEpIAWkgBQQQKsPSAEpIAWkgBSQAlJACkiBEgoIoEuIpUOlgBSQAlJACkgBKSAFpIAAWn1ACkgBKSAFpIAUkAJSQAqUUEAAXUIsHSoFpIAUkAJSQApIASkgBQTQ6gNSQApIASkgBaSAFJACUqCEAgLoEmLpUCkgBaSAFJACUkAKSAEpIIBWH5ACUkAKSAEpIAWkgBSQAiUUEECXEEuHSgEpIAWkgBSQAlJACkgBAbT6gBSQAlJACkgBKSAFpIAUKKGAALqEWDpUCkgBKSAFpIAUkAJSQAoIoNUHpIAUkAJSQApIASkgBaRACQUE0CXE0qFSQApIASkgBaSAFJACUkAArT4gBaSAFJACUkAKSAEpIAVKKCCALiGWDpUCUkAKSAEpIAWkgBSQAgJo9QEpIAWkgBSQAlJACkgBKVBCAQF0CbF0qBSQAlJACkgBKSAFpIAUEECrD0gBKSAFpIAUkAJSQApIgRIKCKBLiKVDpYAUkAJSQApIASkgBaSAAFp9QApIASkgBaSAFJACUkAKlFBAAF1CLB0qBaSAFJACUkAKSAEpIAUE0OoDUkAKSAEpIAWkgBSQAlKghAIC6BJi6VApIAWkgBSQAlJACkgBKSCAVh+QAlJACkgBKSAFpIAUkAIlFBBAlxBLh0oBKSAFpIAUkAJSQApIAQG0+oAUkAJSQApIASkgBaSAFCihgAC6hFg6VApIASkgBaSAFJACUkAKCKDVB6SAFJACUkAKSAEpIAWkQAkFBNAlxNKhUkAKSAEpIAWkgBSQAlJAAK0+IAWkgBSQAlJACkgBKSAFSigggC4hlg6VAlJACkgBKSAFpIAUkAICaPUBKSAFpIAUkAJSQApIASlQQgEBdAmxdKgUkAJSQApIASkgBaSAFBBAqw9IASkgBaSAFJACUkAKSIESCgigS4ilQ6WAFJACUkAKSAEpIAWkgABafUAKSAEpIAWkgBSQAlJACpRQQABdQiwdKgWkgBSQAlJACkgBKSAFBNDqA1JACkgBKSAFpIAUkAJSoIQCAugSYulQKSAFpIAUkAJSQApIASkggFYfkAJSQApIASkgBaSAFJACJRQQQJcQS4dKASkgBaSAFJACUkAKSAEBtPqAFJACUkAKSAEpIAWkgBQooYAAuoRYOlQKSAEpIAWkgBSQAlJACgig1QekgBSQAlJACkgBKSAFpEAJBQTQJcTSoVJACkgBKSAFpIAUkAJSQACtPiAFpIAUkAJSQApIASkgBUooIIAuIZYOlQJSQApIASkgBaSAFJACAmj1ASkgBaSAFJACUkAKSAEpUEIBAXQJsXSoFJACUkAKSAEpIAWkgBQQQKsPSAEpIAWkgBSQAlJACkiBEgoIoEuIpUOlgBSQAlJACkgBKSAFpIAAWn1ACkgBKSAFpIAUkAJSQAqUUEAAXUIsHSoFpIAUkAJSQApIASkgBQTQ6gNSQApIASkgBaSAFJACUqCEAgLoEmLpUCkgBaSAFJACUkAKSAEpIIBWH5ACUkAKSAEpIAWkgBSQAiUUEECXEEuHSgEpIAWkgBSQAlJACkgBAbT6gBSQAlJACkgBKSAFpIAUKKGAALqEWDpUCkgBKSAFpIAUkAJSQAoIoNUHpIAUkAJSQApIASkgBaRACQUE0CXE0qFSQApIASkgBaSAFJACUkAArT4gBaSAFJACUkAKSAEpIAVKKCCALiGWDpUCUkAKSAEpIAWkgBSQAgJo9QEpIAWkgBSQAlJACkgBKVBCAQF0CbF0qBSQAlJACkgBKSAFpIAUEECrD0gBKSAFpIAUkAJSQApIgRIKCKBLiKVDpYAUkAJSQApIASkgBaSAAFp9QApIASkgBaSAFJACUkAKlFBAAF1CLB0qBaSAFJACUkAKSAEpIAUE0OoDUkAKSAEpIAWkgBSQAlKghAIC6BJi6VApIAWkgBSQAlJACkgBKSCAVh+QAlJACkgBKSAFpIAUkAIlFBBAlxBLh0oBKSAFpIAUkAJSQApIAQG0+oAUkAJSQApIASkgBaSAFCihgAC6hFg6VApIASkgBaSAFJACUkAKCKDVB6SAFJACUkAKSAEpIAWkQAkFBNAlxNKhUkAKSAEpIAWkgBSQAlJAAK0+IAWkgBSQAlJACkgBKSAFSigggC4hlg6VAlJACkgBKSAFpIAUkAICaPUBKSAFpIAUkAJSQApIASlQQgEBdAmxdKgUkAJSQApIASkgBaSAFBBAt9QHJiYmJlq6lW4jBaSAFJACUkAKSIFaCoyNjYkRMxSUOLW6V/GTBdDFtdKRUkAKSAEpIAWkQLcKCKCz9RdAt9Q/BdAtCa3bSAEpIAWkgBSQArUVEEALoGt3ohAXEECHUFHXkAJSQApIASkgBdpQQAAtgG6jn+XeQwCdK5EOkAJSQApIASkgBXqigABaAN2LriiA7kUzqBJSQApIASkgBaRAAQUE0ALoAt2k+UME0M1rrDtIASkgBaSAFJACYRQQQAugw/SkmlcRQNcUUKdLASkgBaSAFJACrSkggBZAt9bZsm4kgO5FM6gSUkAKSAEpIAWkQAEFBNAC6ALdpPlDBNDNa6w7SAEpIAWkgBSQAmEUEEALoMP0pJpXEUDXFFCnSwEpIAWkgBSQAq0pIIAWQLfW2bJuJIDuRTOoElJACkgBKSAFpEABBQTQAugC3aT5QwTQzWusO0gBKSAFpIAUkAJhFBBAC6DD9KSaVxFA1xRQp0sBKSAFpIAUkAKtKSCAFkC31tmybiSA7kUzqBJSQApIASkgBaRAAQUE0ALoAt2k+UME0M1rrDtIASkgBaSAFJACYRQQQAugw/SkmlcRQNcUUKdLASkgBaSAFJACrSkggBZAt9bZsm4kgO5FM6gSUkAKSAEpIAWkQAEFBNAC6ALdpPlDBNDNa6w7SAEpIAWkgBSQAmEUEEALoMP0pJpXEUDXFFCnSwEpIAWkgBSQAq0pIIAWQLfW2bJuJIDuRTMMphJHH320++Mf/+i++MUvukMPPbT0c51xxhnuzDPPdMcff7w77bTTSp/vn/CHP/zBPfWpT43+68Ybbyx1rTrnlrpRxsG33Xabe/aznx3pePbZZ4e6rK4jBUZCgb/92791v/nNb9z3v/999+d//ucjUWdVsh0FBNAC6HZ6Ws5dBNC9aIbOK/HSl77U/eIXv9igHhtttJHbdNNN3aMf/Wi31157RSD3jGc8w82aNSu1vgLo9KYEyr/1rW9Fmp544om5bf7a177WXXrppe6//uu/3L777rvu+ImJCXfttde6n/zkJ+7qq692t9xyi1u4cKGbPXu223XXXd2xxx7r/uZv/sbNnDkz9x5FDli9erV74Qtf6ObPnx8d/oEPfMA997nPTT313nvvdZ/4xCfc//7v/7r7778/et6DDz7YvepVr3IHHHBAkVsWPmbNmjVRv/2f//kf96tf/cox6ViyZInbZJNN3J577un+6q/+KpqMTZs2rfA14wei76c//Wl35ZVXuoceesg96lGPcn/xF3/haJ9ddtkl87rUi8nkvHnz3LJly9y2227rnva0p0XnbrbZZpXrlHUifeFTn/qU+9GPfuTuvvvu6H3dZ5993Mte9jL3pCc9qfI9r7vuOvf5z3/eXXXVVe6BBx6INOa6gO5TnvKUzOtWqRPtyrjEmPPxj3+8cr114vAUEEALoHvRqwXQvWiGzithAM0Hnh8KcLJo0aLIorxixYro//hovvWtb3UnnHBCYp1f/vKXOwDqgx/8oNtvv/1KP9d5553n+DnmmGPcW97yltLn+yfUsSLXOTet0j//+c8jiPmzP/sz9+Mf/zjz2a644gr3ile8IgITYMgvgJwP4Fxvyy23dPfcc08ENpSdd945gp3HPvaxtTTkZODxox/96LrrZAE0kEUfAJgAN+oBRN93330RxJ566qnuec97Xu062QW+/vWvu3/+53+O/jk2Nua23377qI/SZx9++OHo/w866CD3mc98JgL5sgUA/vu///uo/3M+17/rrrsikN54442jicITn/jExMuefvrp7qyzzop+t80227itt946muwsX77cPe5xj3Nf/vKXg7SPf3Pq9uIXvzgC5xkzZkQTKtoCPSg8yxvf+MayMrivfe1r7pRTTnFMpubMmeN22mmnSF/eE8orX/lK90//9E+J161TJ94X3puvfOUr7sADDyxdb50wTAUE0NntOjbMZu/fUwmg+9cmXdTIAJqPKx9Zv6xatcr9+te/dp/73OfWgR8ftne9611dVLXwPetAcJ1z0ypYBqBPOukkd9lll7lPfvKTDqu+X4BroJE2e9aznhXBmRXA/O1vf7tbsGBBBByAR50C8P31X/+123333SMQBtLTABrIxFoIMB1++OHuYx/7mNtiiy0cFnMmRf/2b//mpk+f7i644III7EIUABoL70te8pLI8s79KNzzm9/8pnvve9/r6L9Yoj/ykY+UuiWTkac//emRRfu4445z//qv/xpNCrjef/zHf7j//M//jKD6oosuiqzSfgG8X/Oa10T/9e53vzuy0gL4QOc//MM/RNbsEO3j35NnftGLXhStTuyxxx7RxMsmwz/4wQ+iiS91xx0oDfqTBOJ6TJiZUHP9d77znetWN+iLjBeLFy92H/rQhyKdQtbpu9/9blTvv/zLv4w0V5ECKCCAzu4HAuiW3hMBdEtC9/w2WQDtV923RuKrjKW4r6UOBNc5ty5A33nnnRG4YVUGooFOvwArWD+xMCaV73znO+4f//Efo18Bq8BUlbJ27drImvnb3/7WfeMb33Cvf/3rI0tmGkADyViYsVDiPkD9/cKKwoUXXuie+cxnRnAdogCkm2++eQSnSYUJCOCF9RvYM8Aucu9///d/jyaN+N/ih4tLkxVgFajEbYTJDpDnF1xccHlJAvcHH3wwcuMAzD/72c+6o446qkh1co/Bped1r3udGx8fj3SOu5ewisD7u//++0cW5aLlTW96k/vhD38YrSYAtPH+yATmfe97X7SyQrv7bVG3TljrjzjiiGgFgGthxVeRAgLo7D4ggG7pHRFAtyR0z29TFKB5DFwLgBHADEDzS5oPNNbAd7zjHe6QQw5xX/jCF6Lla/yB8VkFCPnwAip5QYQsIfMRBxBwF8DFBFDbYYcdIkvtC17wgnVL9XEI/uUvfxkt5WNRwx+Vc7ComXXQf44iAA0gAQ/4hGKdBWqx1OKigNUWkLGS5GPu388PujToA8KA1bIF6zM6UwBVgLVKOeecc6L746978sknR/pmATQ6ovHzn//8CKjiBZ2wFGPFxQKb5Utfpb5J59BH8IGmAI3AY9Hy5Cc/OXKF+H//7/9Fk4d4+fa3vx25LcRdcpgAAciU888/3z3+8Y9/xLm8C7wTIYJl7eJve9vbovfxsMMOc7RdvLAyYL7Kl1xyidtuu+0KSQHAYo0Hzt/85jc/4pw//elP0YpD0vOGqJMBPJZv3INUpIAAOrsPCKBbekcE0C0J3fPblAFo3AT+7u/+LnoirEL4c1rJA+gnPOEJEfCy7M3yMgGKwCqBcnkAjeUOkMHqR8EahY8v/49rAUvMPoj6EAwI4nJC4Bb3ASY4j5Lkv5kH0Czff/jDH45cBbC4AiNYQ6kHBYDCB9aC17DMEhR10003RZZMgq/8wjI/gZoU/JsBTHxOCQYsW/BBN6smy/h5AV5J17/jjjui5fjHPOYxDos2k4MsgEZ7AgRXrlzpsNwygYgXfoc/Mm4ETKD4e9PlmmuuWeevz8Rr7ty5hW5JO1rAHZZ1+m28MJkw9xpWCtCKAsQCjqwQ0FeTVgqYPOJqs+OOO0bW3RCF1SDaLcvP2dqQvkuGlyJl7733jnyfcYdhRSKp0J9pV1YZzHWF40LUCV9+MvKQUQefcxUpIIDO7gMC6JbeEQF0S0L3/DZlAJqgJCycwGPcwpkH0AAlQV4sJ5sfJh9nCkvDaRZo7oXfNRAKeAPEWNqsYIkGkMgUYkvXPgQDrXzceU6DWnNHYckZoCdAzEoWQP/3f/93ZIkDxoFyQNOszaTdYjn/9ttvd1jO3vCGN6y7ZhEfaLTAYomFHAsl8FK24ONKECfg9tOf/rSU2wL3Mq2xGLNaYOkIswDat7pmwbEB1fvf//6gwYRpGuG3jBUYH2W0KJqNww/U9OHYvw8uLgTKAo7oRGYOChkjAL0sOMZSj8We+tBn4m4RZducOlAX6pQFxzY5o1/SP4sUnougySIWaCZOTKAooepEphnAnfeN9z/NXafIs+iYYSgggBZA96InC6B70QydV6IMQFNZIA9oBSABWyt5AM1xWR/4NIA2qzcgzNJ5Xvow7uNDcJpbAVY4rMLx50gDaAAX/2Ssj2k+4KQs434EmF1++eXrfGeLALRvPeZcLPRlCvV+znOeE7nF0KaWoaLMNb70pS9F1m/cYQj8i7dtkg80ftI8M4UJRlr7cAzHYn3FFajJApjip0yblb0fQXe4blC4Dhb4pMIkjpUM+i39gmLQnuVr/Lvf/S4KAKXQL8r4ZifVgzrYhDLLr5pn4tnK9A1Lp0jgJ6sR8UmI+b5TLz9rTKg6+ZMzABqfd5WprYAAWgDdizdAAN2LZui8EmUBGhcBYI+MAubOwUPkATTuDnwE0yxuaQANALHsXSabgg/BnGsuEr7Y73nPe9xXv/rVRwBFGkCbNQz3ESyaacV08NNvFQHo66+/fp37AyCeFiiYdF+C0rDU3XDDDVGaMSzY5IYuU3BtQWPOA4T9XMVZFmizqHKvLP9a85NO8ysuU9esY0mbxwQAVwzcL7AQF7U+c13zb+bvtInvz+7f1/yksfgzcaHgq0vQJZNMrN9JxYdCMnbUTTeIrzZ1oeD/7K/O+Pc3n+S0CWVSXcnn/epXvzr6FX75uBtZv2JiyzWZTFN8/+tQdWIySB5xCsGcBDOqTG0FBNDZ7S8XjpbeDwF0S0L3/DZlAZoPGh82PqYEhlnJA2h8JYGLtJIG0JbVIH6/LFl9CMYXNQkmbbk9HrCXBtAAERZGrMu77bZb6u3Z+RCg9V1cigA09cTvGdgjAK5oIVsB2SCYnAD31JMgybKFzU6YGKALKen8kgXQfbJAY/lkVeTmm2+O0uWde+65j0gzl6eLLNAbKmTvCf/LKhATNIIHCS7EVQW3KtxecNFhZYYSygKN77xtJMTEhg1yVKa2AgJoAXQv3gABdC+aofNKlAFoguXML5YUYeRoLQrQ+E4DNGUBmuVx/Ip9S1+eaHmBgJyfBuxp51qGjLx72+99d4ciAP373/8+ymdMwapbZPMPAINVAMB3q622ivQt4uISfwYLfksL1soCaILXLKUhLiBmMYzfo2kfaDKQkKkBqzFgh3tBldRndXygeSfoJ0xg8K1PKk36QCflY7Y6VPGBtnPpX/QtstgweSb/OH2VwF5Wovg9KyAEG1J8H+g6dSLDjcVLhLDWF313dVx/FRBAC6B70TsF0L1ohs4rUQagWaK34Lj4By3PAl0VoOtaoLEIJ5WyAI0rAAFwuAUAZ2VKEYBmKdzSnhVJNQY8s/kN7UCgHFlIsizjWfUl9RznA+1JPr9YFAlSIwiUbcJxO7DVBD8LBxkTLHWcf7+ms3CgHfBMekHgFdizzBhl2olj/SwcXMfSAvrXmSpZOIpoZy5dcf/4EFk4zF+c4EH80f183EXqpmOGp4AAWgDdi14tgO5FM3ReiTIADaT87Gc/izJE4Gfrl6YA2vLmVvWBDgXQZpkk6Iu/p/nGJjUo7hXonLeVt0EHmRywBqcVLHxkUsAPlfoA91U3TeEeBtBFO2P8ObA+4iNOHmwmGfFieaCBb/pPyDzQWEQJSgSwSCnI5KauX7H5N8ezqdhzmZ80aRxJ52jFt8bn5YH2s1YU1T3tODbPIciPrBn0hXipmgc6r17mvoO/PhM5VkGshKiTZb0hxzrPpyIFBNAC6F68BQLoXjRD55UoCtD+ToRJgNcUQF966aXRhh5Yn3A1KBJI1IQLB1ZUoJYgNXI7v/CFLyzcdsAdgW1YioHvtEJGEPJi2wYmSceRWYJl84svvjgIPBd5iLyNVLDUkrUjbydCfKvxqQ1V8DXHdxv/cXJ8Uw8/N3nV+2BJJwdx3k6E3JtAOr8U3YmQjX0s33TVetp5lqkmbydC/InpXyEKKw88P/05aeIUok5MxpgQ4NfOu6EiBQTQAuhevAUC6F40Q+eVyAJoYO3Xv/61I78wH0RK0uYj/H9TAM21zfKN5ZOlYvPD5ndYIMkDzVJ7Uh7oUBZo7sV9yPVsuaUJ+sOqagWgwx+U/MH+jnz4jmMdJM9y1hbb+M2yGQYbk5DFI573FmjBsve9730vgmeyLpQJrCJPL5t3kGatzJbaeQBNICM+sbg/sDMd16Z+PC8WYeCa7CtkRIlvaGLuLWhou1IWeSnIl83GHVj36Rfcpww8k88bn17qza6CfsH3Ft/7pUuXRrm+CR7Fao7lHz9nNtPBnYX28q2uXMO2sObvBL7abpf0ASY+ACftSwaYeLGMM3nuTvHz0JnsGmRvYSWCTXQI7qMQFEmfpe5Jae74PfEFFHvH/euT2/vII4+MJhNWyLJBm+JqhLWfPh1Px1enTnYfm4ww/pgvdJG+oWOGq4AAWgDdi94tgO5FM3ReCQNoPrj20cXfFb9SfD2BIwppzYC3NMtrkwCNDy7BcsA8heAw6ko2gLydCEMCNPfGIgZwMLnAX5isBPzJhhNYvtEuyVWDzSiAK5a78VUGwCikPjMIXrFiRWTlJsMBbgJs8IJVEfgkOwfgzKYwFL+9kjoRVkHLz2y/rwpoeQDN9VnOx5WCfgNsslIAiGKx5xmAUKzw8VIVoP0VEYIGse6nFbSPW3ut36dtqU1b4cLBygO+4bQFrhC0MxMoMk6kWZCZQACxFALu6K+33HJL9C7RbgRbJsF+1fbhPvQ9XGlIMUkfIwsJGx/xDlPSNlDBFQs3KUrSu2JtT15yYJlJIgGvADL+5kB5WtaXqnWiLujFVvTozkRFm6h0/qnoRQUE0ALoXnREAXQvmqHzShhI+BXhAww08OEnhzLWU5bffWtrvOJNAjT3woIGVGIFtlRxQBMfb6ATWDQobcKFw39ePu74uOLPizUOyMICBzQSVIUvM1DnF7JEsMU3vqJAP89DIXgPiyNADnyTxYEfrKv8ACpAKT9MICzTQV7HIcAQa7ZfqgJaEYDmPmhB3ckfDDzTh9i2m1zCBx54YGKVL7zwwmhSQF/DAlo0UMyCQPN04PdJG8DkATTnEcQGCNPOWJBpY94FJnN52U5wPaJtCWzEkg0400+B+bQNQSyVIBkzDGqLPJ8dQx2ZWGDJpy1I30j6SFwg0mA/D6Cx7DOZIDUgE1muST9nPGCzmrSNZurUiXM/8pGPONxccJFBFxUpgAICaAF0L94EAXQvmkGVmOIKAM233nprBCJYKwFtdknE4szSOJMWwAh4AVwAan6w6toPEx6OH0UrHRMC3FVY3bBNO6Zil8A9hywsTKwA4KpZRIagHW5ZTDbo17gc4VuvIgUE0Pl9QBup5GsU5AgBdBAZdREpUEkBIBhowvJ82223RW4PWCn5f6zbuIlgRcYaCUDjrpJk9Rx1oCa7Cm4HWDltBaGSoCN+kmW0KLNT4Ig/cmr1bXWBIEJckVSkgCkgC7Qs0L14GwTQvWgGVWIKKoDV2Vw2sBoD0Fig8YvFDxrfVbIlYHkjUDELoOPyjRJQW3AlWUcI6pvKhYBQgjxJ3YZf/VQuaIFbFCsSZdJFTmXNpsqzC6AF0L3o6wLoXjSDKjHFFDCrM6BrLhcEZbFcjRUa31V+RwGq8Tm1oE4Cw8oWuxb3MpcPghL5GUWXj7LPr+OlgBQYjgICaAF0L3qzALoXzaBKTBEFAFn8W4HhOLhigcbixu/xg8aVgYwNpGojAA2rtAE1kM0PYI3fc9liQM15vg+1gLqskjpeCkiBthUQQAug2+5zifcTQPeiGVSJKaBAktXZHpvsGuxgB1STucPyDfuy4OpAVguyQADVllqQjBUG0/wJBFcpBtW+hRqLuCzUVdTUOVJACjSlgABaAN1U3yp1XQF0Kbl0sBQorQBgiq8zAB2HUSzRBM8RHAj44u/MVtRmqfZvhk80+ZTNhYNzAWmzUMeB2qBaQF26yXSCFJACPVZAAC2A7kX3FED3ohlUiYEqAOTikuH7OtujArzkqsZtg01XSF2H9Zfd3tIAGthmA5akwr24Ju4eZqHmOuZXjbsHUM2/q5QkCzVwrgCvKmrqHCkgBaoqIIAWQFftO0HPE0AHlVMXkwLrFEhz2QBEyefMRioALcCMG4a5cKRZoHHz4Jw0gI5Lb0BtVmr+5N5Ar8E0f1b1e/YzfeCHbUGJAmq9BFJACjSpgABaAN1k/yp8bQF0Yal0oBQopEBWoCCuHGyrDAyzSQZbI5tbRxygsUz7Lh9lATpeWerlByX6QO37UFf1e/YzfQDU/HAtAXWhbqODpIAUKKiAAFoAXbCrNHuYALpZfXX1qaVAXqAg8GxuGlh//XLnnXdG/zQLdBJAk95u7ty5QUT1gdqs1FitAV+zUAPWWMerBBLGgZrnNqCucr0gD62LSAEpMPIKCKAF0L3oxALoXjSDKjHiChQNFNxyyy3dYx/72MTUcwA019l+++0TfaDZ2viuu+4KBtBJFknXC6QAACAASURBVGpS5VlQIn8aUPsW6hBAjTWdgElS9QHWAuoRfwFUfSnQogICaAF0i90t/VYC6F40gyoxwgrkBQoCxrhusMPg5ptvnvqkBBRyLQPouAXaABof6DaAE5inDhaUCFBjYQd4fQs1G72Urc/vfvc7t/XWW7vNNtssOherN9fFj5q/l73eCHcfVV0KSIGSCgigBdAlu0wzhwugm9FVV50aCgCUZNmg+NDnBwoCmwQK5mW/AKC53g477BBZoLsG6CQLNXXyLdQG1P7GLkWAGoBmsxgA2kp8t0QLTBRQT413SU8pBYoqIIAWQBftK40eJ4BuVF5dfKAK5AUKAsNYjOOBglly4B+NpToNoJcsWRIFILZlgc5rOtPALNT8aUA9c+bMdVZq/h63KCcBdBKwcw/b2MV8qAXUeS2j30uBYSsggBZA96KHC6B70QyqxAgpkBcoCDwDeQQDYpktWoBjrNnsRJhkgTaAZiOVPma2MKD2LdRMCIBn30INUN9yyy2PsEDn6eSnzfO3HxdQ5ymn30uBYSkggBZA96JHC6B70QyqxAgoYIGC+CnHC/9HjmbyOxMouO2225aGXAIEcZEAoCn83S9YeIHzvgJ0kgUZgPZ9qJkgANRoSQAh25ID1FUmBElAbbmo5UM9Ai+UqigFKioggBZAV+w6YU8TQIfVU1cbpgJFAwXZUdD36y2jBgBNFoyddtppEACd9OwANBZqJhtYjm17cyDaMn3UAWruCTybhVpAXaYH6lgpMBoKCKAF0L3oqQLoXjSDKtFjBbICBf/0pz85ttcuGiiY9ZjkeGajkzyA3mWXXRLT4PVYwkdUzXyg0c23UJvV3fehBqyrWqjtxj5QV90oZpT0VV2lwJAVEEALoHvRvwXQvWgGVaKHCmQFCmJJxWcZv2QCBbfaaqvaqdcAaKyzO++8c6IFmt+REm9IAB231uPy4ftQ+0BtftT8ifW6SrFMHwLqKurpHCnQDwUE0ALoXvREAXQvmkGV6JkCWYGCCxcujOAZ9wDS05UJFMx6TNwasMZOZYCO60M7+BZqXFwopMrzc1GHAGp/+3H5UPfshVR1pICngABaAN2LF0IA3YtmUCV6ogAWUNLPJaVe8wMFH/WoR0U7ClZxLUh7VAAaizYWZko8iNAs0AA28D7KpUgau6TnA6ht23HA2gdqP9NHCKC2jV3QOmQ7j3K7qe5SoA8KCKAF0H3oh0TDT/SiIqqEFOhYAQB5wYIF7tZbb3V77LHHBpAKtJEBA8CuEyiY9Yj4UgPvaQCNf/Qdd9wRWainKkAnWagNqPkTjShsN+5vP15VLz/Th23sIqDu+EXV7ae8AgJoAXQvXgIBdC+aQZXoUAEgyVw2gDAAevfdd492DuR3IQMF8wB60aJFUZq6JAu0ATRBhnm7GnYoZ6FbV7VA512cSZBvoY4DtUF1HaCmDrb9uL9bYl7d9HspIAXCKCCAFkCH6Uk1ryKArimgTh9pBeKBggAXcDd37twIkrA64yoQKlAwS6z77rvP4V8tgA7XpQBq2tT8qPk7bc4ExLdQV52Q2JbtTMAs9zfXwuVDftTh2lFXkgK+AgJoAXQv3ggBdC+aQZXoQIGkQEEDaGAIoA0dKJgH0LiQsFU3hUwfvocV/r633357lOauKvB1IHPiLZuyQOc9nwG1ZfqIA7VBdRl9cb2hrQgotfYyC7VtPy6gzmsZ/V4KFFdAAC2ALt5bGjxSAN2guLp0LxXI2lEQsGKbaUoTgYJZgtx///3u4YcfzgVodirEx3eUS1cAHdeMvuBbqGl//o+JU9xCnWZRBqDNNz7p+vyfD9RcW9uPj3LvVd27VkAALYDuug9G9xdA96IZVImWFMjaURB4IkgPayIWaHI7t1kA6IceeihyH6HELdBk5fj9738fbfUtgG6mZQyofQs1fQbgtbR5/OlvxkL2FFYzCC7NK76F2nJRcy0BdZ5y+r0UWK+AAFoA3Yv3QQDdi2ZQJRpWwA8UNIug3ZLfPfDAA5HLBnBkqeRC5Xcu+mjU4cEHHxRAFxWshePoG7jO+LmoDajNQk1/oRQB6HiV/SwfAuoWGlS3GIQCAmgBdC86sgC6F82gSjSoAMDDEjt/xpfhsfJaoCB5ndkZ78Ybb4xSxQHTbRYAmowfZADJskDvsMMO0UYio1z64sJRVkMDaj/TB/2Ksskmm6xz+2CFoEoQoYC6bIvo+KmogABaAN2Lfi+A7kUzqBINKZC1oyABe3fddVfk77rddttFm6cA2jfccEMnAA08A9FpAA3s33bbbU4A3VBnqXBZgJddKek3QDNgTZ/Dmuz7UDPhCQXU9Fd+qlyvwiPqFCnQOwUE0ALoXnRKAXQvmkGVCKxAPD2df3kAB79V/I3xcyZFne00x++uv/76KNPFnDlzAtcq+3IANH7QbOKSZIEWQLfaHIVvdvfdd0fH4jdPv8NX3bdQ+0BtuyUm7XRZ5IZ+Vhb8pv3dEgXURRTUMUNQQAAtgO5FPxZA96IZVImACmRZnW07bI4h7dimm266wZ1Zjr/uuuuiQD2W5Nss+D/jh50H0Ntvv31kLR/lMqouHEmas4oBvALQ8WITOQtK5E+s1RzvW6hDADUwDVTz4wc5jnI/Ud2lQJICAmgBdC/eDAF0L5pBlQiggKWnA47j1jgLFCTlGGAMPCftRmcAjZtEHK4DVDHzEgA09dtzzz2j4+JZOAAvdkkUQDfdEuWunwXQSUBNO1pQIn/6QO1bqG1VpFxtosxK0SkWlEg/F1CXVVHH91kBAbQAuhf9UwDdi2ZQJWoqkJWejiV1/FSBFQIFye+cttwNfMyfPz/yM24boHEpwbVEAF2zM7R8OgANrNK3qhQmSr6Fmn/TP7FKm5Wav4cEaqC66vWqPKPOkQIhFRBAC6BD9qfK1xJAV5ZOJ/ZEgbKBgnnVnjdvXmTlJSNHmwWAxp92r732im5rmUOsDmaBJuCx7RR7oXUYkgsHkzPcJqoCdFxbA2rzo2YC6AO1WamrAnCShVpAHbqH63pNKiCAFkA32b8KX1sAXVgqHdgzBfICBYFRdvaLBwrmPQYWaFw8Nt9887xDg/6eumLNTANoJgrskiiADip77YsB0AAowahNFCZOvoUaoKbELdRAfJUS337cfKirAnqVOugcKVBGAQG0ALpMf2nsWAF0Y9Lqwg0qkGV1xlWD3M64dbC5RVlXjL4DNHDfdo7q0E05JAs0fQ0f46YAOq49fd/f2IWNXiikyrPdErFSVwXqhQsXRtlgdtlll3VBiWahVqaP0G+CrldFAQG0ALpKvwl+jgA6uKS6YIMK5AUK8uEnkwXQDDwnBQrmVY8sHI973OPcFltskXdo0N+TlxoY23vvvaPrxl04zAItgA4qe+2LtQ3QSUDtp83zgdrP9FEUqOmHvEe77rprdKu4hRrLNBMG/hRQ1+4+ukAFBQTQAugK3Sb8KQLo8Jrqis0okBcoCMgAEnmBgnm1Iw8019hyyy3zDg36+zyA5vmx3Aqgg8pe+2L0OzZR2WabbWpfK8QFmGgZUPPn8uXLo8tSR99CnTa5xJWInORYoJOKgDpEK+kadRQQQAug6/SfYOcKoINJqQs1qABQQHAVJW71AjzxQwUQgMu6OZLZiRAYIltHm4Wl8zvuuMPts88+0W3jaewMoLGst73JS2gdhuTCceedd0buE30B6Hhb0W98C7UP1L6F2oAagCalItvZFylJQM21sHjLQl1EQR1TVgEBtAC6bJ9p5HgBdCOy6qKBFGgqUDCregD01ltvHQUftlkMoHHhADziAI0WN998c+SaIoBus2Wy79V3gE4CaiDa/Kj5O30Ltwws1AA3v0uzQOcpz7X4sTzU5vIhoM5TTr8vqoAAWgBdtK80epwAulF5dfEaCuQFCgIufKixOofcNfDGG290j370o1sH6EWLFrnbb7898oEGoOM+0ALoGp2pwVPph6x6MOkaxQIwA9F+pg+eA6C2lHmANf+uUgTUVVTTOVkKCKAF0L14QwTQvWgGVcJTwAIF+bDHC78LESiYJfhNN90UuW8A0W2WogBNgGPICUObz2j3GpILB243gOaoAnS8/R944AHHaghpHM31g/cOtwzf5aPq7oYC6i7euGHdUwAtgO5FjxZA96IZVIn/UwBoxqJHJgF2A/QL+W8tUHDbbbeNgvya8LHETYIMHG0DkQE0eaBZ9o5boNECuBdA9+t1AaCx0LY94WpKBQIIFy9evO79A3h9CzV/5z01oDaoDgnUXJufJt7vpnTTddtTQAAtgG6vt2XcSQDdi2aY8pXgI20uG2yAAkDvtNNO63SxTUYIFGQjEYK2mioANNa3toPCgJbf//730UYqAuimWjf8dXG7wSd9KACNBXrJkiWPmMCacryrvJ9+LmqAGh9n30LNu1oFgC0okfuZHzVwLqAO33dH9YoCaAF0L/quALoXzTClKxEPFLznnnuijzNZAIBqducj0waAAtQ2vUMa7gVs490VQO+5554RjKRZoLG+l90cpm8dbEguHEMDaFykcN1gO/sixYDa96H2gdqgOiRQA9NVLd5FnknH9FsBAbQAuhc9VADdi2aYspVIChS89957oyVkQLGpQMEswdkuGx/jtnaWs7pg9bvttttcFkBjHSdHtQC6P68MAE1/aTtrS1MKsBERFmZWeqoUgBp3K99CzXvOxNe3ULOKVMVCTZ3MSm0WagF1lZYa3XME0ALoXvReAXQvmmHKVSIrUBCAJg8tH10swfj8VtlRsKqoADRL8oBqmwXguPXWW90ee+wRPW+SBVoA3WaLFLsXbjdMaIYE0AAw2W1CFANqPxe1D9SW6YNMJiGB2rYfD/EMuka/FBBAC6B70SMF0L1ohilVibwdBbHCkgMZcG4qUDBLcCCWoLC+AjSWcSYWo1yG5MIxNIBmAsv7Fwqg4/3UXLZ8CzWTReDZt1DXBWrugyuU/QioR3nE2LDuAmgBdC96swC6F80wJSrhBwrywHFrkwUKsizL73bfffdOdAHg+XjjQtJmMQs0z41/Z5IFeijgOZTnoH8A0Exo2t65sqm+SQwCFmI27GmjGFD7FmofqH0LddX4B65NLMWOO+4Y7VgKVPOOVb1eG7roHukKCKAF0L14PwTQvWiGwVcCq7MBYRyc44GCWIpIpdUVQANEfGSxgLdZ+MjjPpIH0KTXI0vIKJchATQTLtpjKABNFhygtu3+7/dnLOB+UCL/ZtxgYmtWav5eFICZnJICk90Vgef49uP8n1moq7qRjPL7OGp1F0ALoHvRZwXQvWiGQVcia0dBAuf4sPk7CuL/TCATvsBdFILC+Ji2ZYGzZzSAnjt3bgTw6MaPXwBPAXQXvSL9ngA0ecNxNxpCAaApba/AZGlnQG1QHQdqs1KnATXjzB//+Ee32267JfpZx4Hath+31bAhtOuQnkEALYDuRX8WQPeiGQZZiXh6Ov8h+R2QTMqseKDgQw895FhGJhtFF6UrgGaDCgAZgObDjTZYxmwbZSxjWKhJ5ycLdBc9I/meQwNoXB3oa30C6LjyrGb5FmqCHim+hRqoNqAmqw/PlQbQ8esnATWTat5HWai7f/cE0ALo7nvhZDqgiV5URJUYlAJZgYKkyMLqzJ98pLHe+R8l84VmQ5EuCjvL8eFtKogq7ZkMoLkvEwgKOlpOXUAaEMBVYNQzPgzJhYOgU6zPQ7FAY6kFFNsOoq3zrhtQG1QbUJMqj/eGwsScyWmVIqCuolpz5wigBdDN9a4SVxZAlxBLh+Yq4AcKxi01/A44ZomYDxugmLSjIJumANh777137v2aOIDc05SqeXCr1skAmvP9nRD9Xd9YiqZgDQMM+MHSRkDUKJWhATSTGiaCQyi8e/SntvOgh9QO1yffQs07RGG88TN9MFGoUhjL+LE81ObyIQt1FTXLnyOAFkCX7zUNnCGAbkDUKXrJLKuzHyiIDy+7/KUthS5cuNBhBd5nn306UdI2bym6E1uISuLTyTPz0Td90AxN/YILBy4vfKgtDRgfcoDHYJo/28ybXeX5hwTQtAkrAkMCaHzw296Js0o/KnoOcRX8MDHlHWOySuE57b0BrKu+NwLqoi0R5jgBtAA6TE+qeRUBdE0BdXqkQJFAQY7D6swmJVll0aJFDj9kLNBd+BtigQNc2wJonpd7AsUsPe+6666RL2dSGru4uwAfbmAAmOaHv/N/gIFZ2gCEqpa2prq3ALopZetflwkkltohATTuG/zsvPPOkUC8376F2gdq30ItoK7fn5q4ggBaAN1Evyp9TQF0acl0gqdA0UBBLD+kxSoCcvj5kkoOH+iiaapCNgo+oMDrDjvsEPKyj7gW2rFpxQMPPBD5z2LFBCxJtcVHPAmg8wLWAIM4UPuWNrO2FWmHJh9+aAA9hMBOa29WQuh/rIQMpWB9xjVsp512SnwkA2rLRW0TUX9lp46rlO9D7W8/DqB3YSQY9XYVQAuge9GHBdC9aIaRrESW1TkvUDDrgfHzBRTJwtEF6BGtjyWYTReaKlwfSx86MbFg+R83jhtvvLEWQMfrm2Zps+Aqs7a1PVEZEkAPJbWg9R1Wf1glYlIwlEJeeVZ6ir7TNhE1K7UP1L6FumrsgR+7b0DNtQTUxXqcAFoAXaynNHyUALphgQd4eQZ/rKMAdNVAwSxZbEc+8kBXXUKtIzsADdimWavqXJtzsYRh5cbNgkBFC6Q0gGaZGUtxmgW6zqYdFlxlYGDBVbiM+L6gTQP10AAad4dR317dB+hNNtlk5DO9+O8pqzyMK1XdsnygNis146AF81oeaiC4qkXZoNq3UNe5Xt1xqs/nC6AF0L3onwLoXjTDyFQiK1AQ4AM+CQLMCxTMeuD4jnxti0OWECxOoQEa7UhPx3Iy7hpkOfBBFf1uuOGGyE8TmE3aSCX0ttF+tgIAw9J/GRBQjzI7vhVtKwF0UaXaP44+tummmw4KoMmpzjsdKrOOxR74ftQG1P67UweAfaBmJc62H68K6O33pObuKIAWQDfXu0pcWQBdQqwpfiiwhZWUEh/E8VsmEI7/LxIomCWlv6EIVtq2C5ALTFrAUYj7Y+nFZQP92OEwyVppAA24s4TeBkDHn83foAIN/B3fLG0eQF33Iz4kgL755pujydBQLNBD25qcPs6mTUwOm8rtDuz66SYBaz9/u0E141nVdyfJQm3bj4cYo0bpGgJoAXQv+qsAuhfN0OtKZAUK8pHg48QSaZlAwawH5kMElLBrWFKe6KbFIrCPCQHBfCEK0f9Y5vmI8gFPmxQAzNdff31k+c4C6DatgwC1ZfgACgyo/QwftFFZKBgaQLPpCO0yhJIXqDqKz8ikmPeLyWsbxYDat1AbUPsW6rpAzfuIfzcbUvEeThWgFkALoNt4j3PvIYDOlWhKH5AXKIhVFcuOBcKFEIvr3XTTTevSuYW4ZplrANAEHJFOrk5BO9xB2DymiEuLATSBTvigJlmgCfDq0j+VD7bln+ZPABs3FD+wqghQC6Dr9KxmzyVV4pA2hkEt3kOglnGqi8K9Gdfs3QGseb+rvDt+/VmtI2sKk26LF2Eyy3vJ/UZ5M5ysdhJAC6C7eI8fcU8BdC+aoXeVsEDB+EYeVJTfYVXlo5RnVa3yYPFsFFWuUeccLOr4cdcBaD6QTC7QD6sz0JtXOPa6666LMgVkAXRfMiTYyoRZ2YADgwJ/U5ckK9uQAJrJHhbAoVigh7YxDO8dK0CAJe3Uh2JAbQGJ/rvjW6jzJqM2zrBa5mcsYvzimqziDbEIoAXQvejXAuheNEOvKlE0UJDMA1hWyy7f5z1sPJgu7/jQvyfgCKtxlY8PH0aCBFkyBnSB56KZRAygyT8NjKVZoPsC0HHdDah9lw+egQ+77/JBYBWQNpTMFQA0ls0ik6TQfbWJ6w0tLR8akfWGfoirTR+L/+4YVNvqjp8hJx5/QMpPno3Jvh+QTKYfXOFCuaH1TTMBtAC6F31SAN2LZuhNJQCe+fPnRzlgyRThFz9QkGh2rIxNlLgvcBP3yLom/txA8Ny5c0vdmg8eHzPcP1g6RcMykws+omifBdAs16L7KOTo9Zetbena/EBpY4Lu6GNVc+mWapyGDuYZ8dcfGkAPZXJjzU6AM/1sVFwa/NUdW+FhfGE88S3U/B8rgUz2/bGGFULesdCZhBp6jUpfVgAtgC7daZo4QQDdhKqjd00/UBCLmg/QfqAgG36wDNrkBidxV4a21QSgCczZfffdC98aQMRlg1J1cmEATa5a4DLJAj3Ku8T5mQrQmA++n0vX3D5GCaiHCNBMCIYUFMk7ybuJ9XaUd1fEtc0PSrSMSDwfE1HA2lJOYgDg/aqa9/qCCy5wV199tZs3b14Uj8K9PvCBD7jnPve5iWMixpUzzjjDXXTRRY4VPCZgxx57rHvjG98YrcSFLgJoAXToPlXpegLoSrIN6qR4oCADJkFEQLSlXwsdKJglYNwS27bYwDOAVwSgqSvHEngI9BLlX2dywQcrC6CHAAK0p7kJ4B8dz6Xrb58MVBd1gWm7n3A/A2javQlQ6OKZhubTjYajtHJTtM0tAwcrXrwj/PtDH/pQNGbvvffe7glPeIJ7+tOfHoF12XL00UdHq2lbbrlltOLF39MAGuPBi1/84iiD0BOf+MRoB1n+/tOf/tTtu+++7vzzzw+eTUkALYAu26cbOV4A3YisI3HRtEBBLFDAICDTVKBgEYA2kGxbTKw3BBKyE2JWYfkUoOUDgsWOSUcZl42kawPQWLBJCZhkgR4SQMfdBGxzCvOhtu2TgWzfh7rOBCV0X2K1hMnAUAB6iBZ12rzr7DWh+51dD1cNfshZz3h0xRVXuEsuucRde+21EfQyhu+zzz7ukEMOcUceeWQE1UUK18GVjH79mc98xn3kIx9JBejTTz/dnXXWWe6kk05yb33rW9dd/sMf/rD77Gc/604++WT32te+tshtCx8jgBZAF+4sTR4ogG5S3f5eOytQECDg91idmwoUzFMGX2AC8ADJtgsAjUUZS0paMX9wAncA3ipWnqRr+8+dBtBE5tMuo1yKZOGw7ZN9oOaZAWrb1AXduwRqA2j6alMxAW228xAt6ug3xM1heC7GKjJukLnHL4xfADW7Sl511VXuF7/4RbTR1WWXXVY6W0wWQNNfjjrqqChv/uWXX77BO8B7e8QRR0TuJUB9yCKAFkCH7E+VryWArizdSJ7IgGcuGzxA0o6CWGv4fwblrqCAdG4hc0uXaSwsOmTRSAJo9OPjhNsG/uDU0Y9+L3OfKgDNRxCAnAoAHdcHWPXdPbBQU5hQ+GnzQrZHXnsODaCH9jzWfuS2xh2BnyEVxiEycWAt9gsrh+aGZ/9P21Z5N7IAmonJM57xjMh14+yzz36EtK961asiV45LL700aApBAbQAuhfvsQC6F83QSiXydhQEDPH/xZ+ONGpt7dqV9PD40OEW0cUHjxR25I3da6+9NqgaFnkAFnBrCu79iYNNdPxJzqhlE0jr2EUs0HkvBfr4eXTx/aT4ab+wUFeBhrx72++pAyn5hmKBHtrzWDsNMbc1z0bAHuMRq2B+YfxKyqRUtF/7x2UBNGCMe8ZLXvIS9+53v/sRlz/11FPdeeed58455xx32GGHVbl94jkCaAF0sM5U50IC6Drqjc65WTsKMgADZgAi0AxAAtFdAvQNN9wQWVmxorRdyKGKHgTiWGGZ1HwK+Vg1tcU4AE2WEyYOAuhyLW9AbS4f9GeKn/bLshSUu3L60QacId14QtWtynVY9sdaO5TnMQ2GmNuaZ8PoQfAgEzi/MFZhgGCVrG7JAujvfve7kd/z6173OvfmN7/5Ebf62Mc+5j71qU+5M8880x1zzDF1q7LufAG0ADpYZ6pzIQF0HfX6f27ejoK26Ye/oyAR61jt4oNym0974403BrOglK03sIwGBN+w7Ik7BzoB83yUmrRo+pb3JIDmw8jkZlTy2aZpH8ICndeuwKC/SyKggTXfLNS4fcQ3psi7Zvz3QwNONGJZngBetBlKGWJqPtqGsYkxKr5FOcHGjN8Eg9ctAui6CrZ//lj7t5yadxRAD7fd83YUtE0/4oGCDL6Ad9UcoiEU9VPphbhemWsYQLO7l1nmQ32M8uoBQAPHwHoaQPd5R7W857PftwHQSbDr75JoQO1n+MjbOnmqADQ+tU2tshTtI6GOG2pmEfRJ26IcAwAxLCFSK8qFI1RPbO86AuiWtBZAtyR0i7fJCxQkbyjwbFbmeKAg0Ai8xQNTWnyEaHc3lh+72PgAfQikRB+scMAzgXttFN91RQDdrOIAtO2QyJ+2dbIBNX/mAbVZoIdiscXthcwNQwTooaQa9N+KtBUp2hADQIjsQAoibHYcauLqAugmVE24pgC6JaFbug1WZz7q/BnPsMH/WaBg1o6CWDX4kMZTI7X0CNFtsFCy/Nh2tgk0wnpDWibSL+GyUTe3cxnd8gCatgHsqdcoly4s0Fl6+Vsnm5WaCQxa+xk+mEj5/WFoLg8EYjJ55N1va9LYdD8eamYRdGO1MCmtJW44bAQVYhWhbho7VtN+9KMfBW1m+UBnyymADtrd0i8mgG5J6BZuUyRQkA8+/nJZ+ZVJgURg4U477dRCrZNvQdT8Jpts0qqvL8/MBwmN+OiSxq7tHMMANFZ34D3JAp22ZNtZQ1W8cd8AOv4YBtS+ywftQX/wXT44b0gWWwNo3v1R2lI9qxsOzU/df1YmO7hpkHHDL4yfBEGHaENtpFJxkOvwNAF0S+ILoFsSusHbZKWn43cWKIgljWXMPMsSgSnkFt1ll10arHX2pckEQH3bsLTGNcJiAkh3AdB+8GQSQDO5oZCpY5RL3wE6CahZlfGBmkkWQE070WeYlIYAli7blUkkKzDsbNfnLdTLaDS0VQL/2Zm8kXKUCbdfeL/222+/ygaAr3/96+7qq6+OLkk8Chs8HXTQQevc+g4++GD3ghe8IPo978QJ5OMl0QAAIABJREFUJ5zgmPyTD5r0n2QTsq28SWMXOiBVFujsN0AAXWaEqHGsALqGeD04NcvqjOUFf2bcEQhMw0pRxB0BNw/8gPGh66qwBMmg2zQooh9+hAQOmkZkbgDg2cq7bYgAoPkY0lYWBOq3mQC6qx654X2ZdGGt5T1h4x3aiP+jv/i7JI4aUNP3mTwOCaCH6NdtvZFxEnc8P1++BU0CvEXG+6Q36u1vf7v71re+lfqyHX/88e60005b93vegzPOOMNddNFF0SZTrKKxwcob3vCGaCUxdBFAC6BD96lK1xNAV5Kt85MsPR0AmDRIMqABz1jIyuZ0JTk/uaB32223zp4TywqW8nh6ppAVwnICLFAIFLSIdSCCJVB8CNsGID/7SBpA0/ZN6hJS47RrjZoFOu05fDiL75RIO9F/fB/qtidkZduSd4Jxg9Wntt2Xyta16PFD9Ou2Z0/aIIZ+yP8D0EMtAmgBdC/6tgC6F81QqhJZ6en8vMVYJbDgls1bjAWBHQkByK4Kvn1NbeYC2PCMWNptx0UfbAyg586dm+vuElofAJp2w4KTBNBpeV9D16Pp6w0FoNPgjD6GO4S5fPB3/o9Joe9D3TdINYBm9ansuNF0n6l6/SG6pZgWZCti5czP94xRBQPEAQccUFWy3p8ngBZA96KTCqB70QyFK5EXKIhFFdeNvEDBrBsCz1ihcWHoqjS1mYu5teDjjX81vqtxCz4fXACvC4D20/elATR9oMtdIkP0iaEDdFwj2jIO1BwDUPsuH10DNe8FLk2sPlVd/g/RP0Jew9xShmRVRx9z1cBIgiHACj7ffAf233//kDL26loCaAF0LzqkALoXzZBbibxAQaAXiyofY9wR6rge4NOJpZMguq6KuVbgfhKq4AvO8jSWtSy3FqyKgCwQESINVJn6c1+C0UjfJ4Auo1w3x1bNWhF39wCuKfQ33+WjbSsw7wiZXoYE0EO0qtNXLD1fPL81bkW04b777tvNS9HCXQXQAugWuln+LQTQ+Rp1fUSW1RlrAxYjLEcs5RGAVtdyhP8zAzDR1F0VQJcPRIjdEJl83HfffZFVHTjFOp9l6eMDhCsFy9iho8fz9PTzXycBNJMkrOiyQOcp2c7vzT2gbto33nEspbb1OGBOsW3Hcfvgp2mgJnaCQFVWX4ZShjgpoG3oM/g6x40B9EnGO9LYDbUIoAXQvejbAuheNENiJfICBckcATxXCRTMeuoFCxZEltouB2CeC1CsuxuiLWcCJoAzEet5EwwDaJZ8Q+zkVaaHAdAsxzIZSgNonolVhlEuQ3HhCAXQ8bY0oDYfavokxUAaKzVwHRqoAWhWn7oMIA7dr4c4KUCjtPR89BlWJLs0gIRuw/j1BNAC6Kb7WKHrC6ALydT6QU0HCmY9EGCODzIAnQebTQkTYjdEm2AQIIiVpqg1mQ8T6eS6AGh/AxkBdFO9K9x12wpQYzJp1mkAiT7Ku2kWagPquu8r7wzWyy5TWIZrnckr8Uys3AxpUsBzWQaY+K6RrEZiBOkyCDx0GwqgyymqPNDl9Kp8tAC6snSNnYj1iQ8kJf5B5COKddiW8f3o61AVYsmTKG4sGKEtXEXrWGc3RH/LcoIECRYs8xxoy6YA5MIFTNosADTp9KhzEkADN3w4ZYFus1XS79VV3mT6qL+piwG1ZfjgT+C6LFADXrg6DQmgh/hM9Mi01Q8s7ozhQ3LDEUCXG+8E0OX0qny0ALqydMFP5COI/zEAFffRxZ0jZKBgVuWxYJCgv4ud+KxeLCMDCEBsmYLvKAGIQCZ+wllblqddlwnM9ddfH21lbrmhy9ShzrH+DoxpAM0zhgyurFPfqucOxYWjLxkeGDt4X8xKDWAzafSBmgDFPKBm/GGc6XIX0qp9Ku28IT4Tz5rW95gwMEYMqQ0F0OXeCgF0Ob0qHy2Arixd0BOBNpYaAaj4Bh5NBApmVZ4PcVI9gj5wzsVYcsWKUuYjYMGPgAKAmbdleR5AszTaxC5aWY+O7kAPqamSABrrIJYnAXSbvTH9Xn3ceMQy9vguH4wvALWf4YP3Iw7UvEMPPvhg6YlrP1ojuRZkFeK5mBAPqVjKwXjObp6VCdTQntdvO/lAZ/dkAXRLb7oAuiWhU25jgYKWJzaef9j342XZvo2gti7zIJtMuCrw7EWWktEOlw8+lGyBTQBenqUtq9W53nXXXee6AGh/C3P6BpZ0/1kE0N2+r/G79xGg43U0oPZdPgBqVrn8TV1IfQl8DQ02mRAwlvA+D6mkZRfheSl1A7D7rJUAWgDdi/4pgO6uGeKBgpZ/GGjEOoQbA4NhFT/eOk/VZR5kq3fR7cSBfds8hgmGv6FAVQ0Ajvnz50cfoBDXK1MPABoLOhlD0gAay2KI9H5l6hX62KG4cIxijmHrVz5QMxYB1ATcYr2kf9XJJR+6v9S5HruOYq0dGlCmBUfyvBY4XUe3Pp8rgBZA96J/CqC7aQY+UvxQzMJo2R8AQQCyyUDBrKfuMo2b1YuPAJOHtEAYIACLM5bnEJvH+HoYQAMRTQRpZmlP8CaTpzSARhfARwDdzXsbv2vaMno/alesFvR3Js30K/xnLYAZCPN3SRxVoGYsHcKkM96atBXjQdzNjdU7VhYYQ4ZaBNAC6F70bQF0u82QtaOgATQ1wveWILguPlpWjy6yUFhrEMjExyEpFRPLz6S54wPCjn1bb711LZeNpB4wb968yM+4ShBinR4FQNPmtH2SBVoAXUfd8OcOAaB9VXjvyOKAG5T5UPMnfZF+6ftQA9ijUADKIQTexrXGgMBPPNCa+BG+H2TyGWoRQAuge9G3BdDtNUPejoKkp+ODjMsGQWR1/HjrPFWXWSis3lif+fDtscceGzwKVjJcNvigA7hNZcnAhYOVgLYB+vbbb4+WX7MAegjL0UNx4TCAHsrW10nuDrxruEqZywd/5/9YKfF9qLN296wzHtU9F6AcwuZDcR3SfLtx/WPcwrgw1CKAFkD3om8LoJtvBj9QMOlufqAglpIuXAf8enUZRGf1wLLCh4BUehQ/jZ9Z55u0gBFEaDsXNt9D1t8BgAZEgPckCzQWQoKHRt2fcygAPbRtoou4O1jAsw/U9GCA2nf56AtQM45gFGBSOqSS5tvN6hzB1FtttdWQHneDZxFAC6B70bkF0M02Q96OgpY9wgIFyT/cheXTV6FLH2Crh6WkYzMXfMHZ2htYYWmZD0PT1nnagSXQLbfcstkOErs6O0CSbiwLoFliH/WMAkMD6KFsWlHF3YExznf3wEJNIRjWd/kos5lRyJeOMZbCqt6QSlpGHsZKxsm2x642tRVAC6Db7G+p9xJAN9MMQKi5bHCHpB0FcUXgGD97RFfgFlehKxcGqwf+zbi0AIroxMcXl4020vhRB9qBjxATmzYLAE1f4VnTLNAC6DZbJPteZoEeEkDX3emSMQ2gNqhmVY1i247zDvPTFlBjkeVeQ/MJTnNNYdzE2t52AHSbb6UAWgDdZn8TQLeoNhYZrKb8GQdnoIilNyw9+O8Cz74rAltIExTX9fJbVy4MPkADzhT8+XCnaHNJmHbAh7BtgLZnTgPooeS0HYoFmskMFs6hAHQT/sIG1ObyAaBTDKSxUgPXTQE1FlnGWCbEQyr0O74n8WwbTMJx8Wp7E6g2tRVAC6Db7G8C6JbULhIoyIcEawhwFgfsm266Kfp/fNi6LF1ZYHlmAn7IRoHlio8DS5FNu2zEtb7xxhs78SO0AEn84C1ji183ABrr/KjvMjYkgMbHliDCIZQ2/IUxLvi7JPK+836bhdqAOtQ7zzuFO8nQguqwrKNR3DWFsZPUdug41CKAFkD3om/LhSNMM1igIACdNPADPQx4luCej0VSufnmm3sRQd2VJRyLHkuQWKP4sOID3ZRlKqvlAWhWAdqeyPDsrFwIoMO8l01fJW0zi6bv29T106yaTd2P6wLU/qYuBtSW4YM/GS+rAjUWWa7Byt6QCmMFqQXjlnU2Y2JFJO0bMwQNBNAC6F70YwF0/WbIChQEqLHqkFUCIGOwywLCW265JVp663q5sW1LOBri1oJ7CxZn/PfISEEWjjZdN6w3tP38dl8+ivQZAJogIXxsLbMBVrShbLU8FAv0EAGavthlwB0ADVCblRrAZsz0gZp3oShQM47gLtf2ZLj+lyX7CljWgeT4xIBvCIYHsqIMtQigBdC96NsC6OrN4AcKJg3mts0vcEhQR5FtoW+99dboQ9HlBwxFsIRvscUWrVht8InkY4DLBjrh84x2aEEe6CbT1aW1fpvP79cBf03zEUUDJlOAhEFEfKvlohBRvZc3c+aQAJqJ36677tqMUC1fNc0toOVqrLuduTH5Lh9MMAFqP8MHsJj2LuDSwNjbdVxJaA3TJga8W/vtt18nhofQz5h2PQG0ALqtvpZ5HwF0tWbIsjpboCABOQzcQGFRCPS3cq5WszBnMQhT96Yt4bi2AI1YlAicM6sJH0wsKexE2MVujDw/VvC2/SZpfzbn4JnRw1YrzCqHXpbVwN9qGZgo2sfC9JB6VxkKQNMerBQMBaB5F1nx6WvGCgNq3+UDoKbO/qYuvD8G1Lg0YAwYWlo3xgrGqHigM6tnBx10UGELfb03uZuzBdAC6G56XuyuAujyzZAVKIj1kGV4ADAtUDDrjn4e4PI1C3cG8MqyZ1MfUiYguLYQFJfk2kIuWSALX74uliLbmkBYi/mTLkCYoDTzA/dbFRcONlNhUuZDhO0M18eNLJJ65ZAAGrcjgraGUNL8avv6bJbq0X8XGFsAansXaB/GGCB6SIUVOiYF/sQAPVg9O/jgg4f0qI94FgG0ALoXHVwAXbwZzPqRlJ6Oq5g1FeAjPV2VIA4/C0PxmoU/EqsN9W/ClQQ45jlxS/BzYPtPgZWVDwEgiXW67dKmLzoTMsAFf2fLc73zzjsnZuEwgPaBLW1nuHhWgy6CMdPaTQDddo8udj/6IeNX2ysvxWqXfxRjNGOH+VBjyOD9oO/jDmVuH12sauXXvtwRjFH4dePyZoWxhLH7wAMPLHexETtaAC2A7kWXFUAXa4YsqzO/I3oduCkSKJh1R5ZQAcuut2puwpWEj5vtMAgo4qKQ9iHDks9SJEvjVSYixVo1/SisO3xsm7LA2535wLPqQEEPJmFMMEhTl7SRCr/Ps3gm5d1lOdtf4i4ThFVXy6TzhwLQSROaJvRq65pDS/nGO0RfYzXNdkzk/xh3fB/qUXJ/sr6AgQEXO3/DFFy9aMP999+/rS7TyX0E0ALoTjpe/KYC6OxmyEtPVyVQMOuOBPFgQek6zy8BKiyDYiEOUYA6ng0AJGocC1dWABwfAlLJYWlta/dB/zmbtMBzH/oV7iu4sWAZMz95JmJAtVmgmUj4OhUB6Hh7+WnC6K8WkGhL3Pzp+4yGaO+8awwJoGlH2msIZYgp35iIs5JGTAfvHRNUc/ng7+b+5E8wu8j8U6b/mKsGefL9DVMYLxhn99133zKXG7ljBdAC6F50WgF0ejPkBQoSPEQEftlAwayGB6gY3Lv+IPs74tXtqAAh10NPgLzIDllAHrmo0aGLDQEAaKy08V2+6mrB+f5kAgsSy7AGyX77p1mg6wStxYOw6Gu0S9sBiUMBaNJT8tP1+xqiX3KNoaV8SwNN0yvN/Qk3lj7HE1Bv3iEm3ljXrTAhIHh9n332CdUlenkdAbQAuhcdUwCd3AxFAwWxbITcKY/Bj81Euo7q9zf0qNpRfStr0rblWddFf3ZDxBLvfyCq1qXseU24sFAHPnBY+fgA4rIRfzYAmiwc5uNsKe2s/uQdDpk2zfcZNb/RNgISBdBle2Q7xwPQTHCHkvItDTTT1DQ3D3sXeF8pTKZ9l4+u4wkYH/GBZgzxV+gwVuDiRR7oIRcBtAC6F/1bAL1hM+QFCpoPb51AwayGx7rIPbreGhhfbNwodtxxx0r9FAsy12AygB8xH+QyOYv5kF133XXR/YtYrCtVMuMkQAKrLBaeUAVLJcurfIj58CX5XbYN0PFnaysgcUgAzfvatctVqD6alhot1PXbvo6BJitfVVayLJ7A8lBbCkkL0AVe+WkbqBmbWSVjwyU/RoTJN/2R/PlDLgJoAXQv+rcAen0zFA0UZMkdH94mBk1SlGFBIP9xl6WOLzaDOBZsCqBY5cPFRGb+/PlRMGWRDWhCaxUynSBQim8zAJ3n/80KBNk4sizQHNPWBKupgMShADT+z/ilDwWggTKyOsRzC4d+v9q6HhN5AoLjoFn1/knvA9cykGasA2ib+Db4dWZliskOBgY/zScGC8YP0n8OuQigBdC96N8C6MmALgZaBse0HQUtvVxRH96qjcsHGUBiC+suSxVfbHQ0v3Aiw7He1gnGmTdvXvTh86PM29IEgKYvMAGoU7BY0XewGKWl7POvH3fhibtw8IGkbdoC6PizhwpIFEDX6VXNnZuUW7i5uzV/ZbPUMhFvIh0m74O/SyL3Y9yIp5Ass/pWRBVzBWPi5mcysiw+XbsAFnmGOscIoAXQdfpPsHOnOkBjHQRwABVgzS9xICSgrOl0R+Yi0rUPW9wSmtfh+HBgdcZ3MJRfOBZooNPPc5pXj1C/DxFEmbbLYlYd8W/Gz9k+gEkAjTW7DxamOgGJQwJo2quqq1Oo/hrqOgA01uehbDqSZqkNpVfWBBOwNqC2DB/8CVzXBWoLzGalyjdS8P3gnkMJak1rJwG0ALqpd7jUdacyQGNxZrDBomepw0w8f0fBUEBYpGGALuCt6yhqQI66FLF0YhUFnplcYLENlbcZH2gmLV18zOsEUTIpYwKCO07ZvOBx3fsM0PH+XCYgcSgATRvT/4cC0ASmDWnXPlaAiGeIW2qLjMUhjuH7YgGJfgpJH6ir5GTHTY4YEybavrsIK5i8h0PpjwLoar1wrNppOqusAlMVoBnYzGUjvmzuBwoChE0s/aW1Ex9jBvy99967tpWibF/wj8cPm8E4y9LJQI12HAvkArshff/IwkEAor9VbZ1nKnNu1Q1tAF4mQHy4cWEpaz2PB5HGARr/RvzT+2CBztMzKyCRJWjaFVgL2Wfy6hT69wA0bdL1xkehnouJDX76ZfttqPuHvo5ZarHINr16mFd3W7HxXT74BtH//Qwf+DTnWahtHMDA4R/LWGyGjLz6jPLvZYGWBboX/XeqArT5PNMIQAsBXiyH2WYfTQYKZjU8AyPBIfhA1/Efrtu58oIZfVBsykpMHmiCNbsIaKqShcQs8fgkVp14WV80QE4D6PiHs257t3G+H4DFJJXStx0Sy+oAsGANHApAJ+1uV1aTPh1vG13FXR36UMe4CxRgzTvCuO9v6pK0yRFuQ0nBxIwfGHxCZg/qg1bxOgigBdC96JcCaBcttbN0jiWAQa3pQMGshmfAxw+RNERdWkyyghnNtxdLSVVQLNL52YmQiUwXOWmZSAGvRZZC6TP0Hz5eWFVx+alqVY1b/ocE0H6bY+mkXYEF2xWuDzskFumX/jFDBGhWfbrIfFNW+yLHp7k6FDm37WNs4yR7HwBqVnF4R+K7hqZtIc84RG552nDIRQAtgO5F/57qAM2gRcYFrIdke2gjUDCr4VnaBi6wQPrpidruLFjkCVbzgxkZzPEXB67L+vZWqT9b8GJ9BqLbLjw7bZGXngzow2WDjx59p667CUDGhM7SGMYB2oBgFC3QcYBmdcEyrNQJSGy7b8QBmraPByB3Wac69/a3va5znb6cm+bq0Jf6ZdXDjykApg2oMawA1Yw99Ds/CwfjM+43vFtDLgJoAXQv+vdUBWiWyvjwAT+AEoNV137HdAh8Z1lGJTgkVDBelY6GlZlAOjSxelk6NpYH20gthw5dfQyKpPEDZtEEa3OoPLNx1xl89embVkbJopbV7/KCCMsEJFbp36HOYdUBsBkCQOdtex1Kszav03Xax5DPSvvwraK/MT4zNlAA6B/+8IfuMY95TBT0zU9oowP3vvjii925554bbeBiG2Qdeuih7qSTTqqd7rOsTgJoAXTZPtPI8VMVoAEVLM/4i2E1ZMm+DwDNoIjrAj57/hatjTR+xkXxsUMfNGG5EIssQI97S1uWcSALUO/CmhLfEdCXio8JlmJ8EAF8LM+h/NXpl0CZ7SQWB2jz6YxH37fdP+reLw+g49dva4fEss81JIAuu+11Wa26OJ5xDLeGoeVFZvzBug40A7P/8i//4n71q1+t2z328MMPd8DtIYccEiSG5LTTTnOf//znowDTpz71qdHusMSoXH755ZF7yVe+8pVWA5sF0ALoLsaTR9xzqgI0M3jAkAEIq14fAvdoHJblGJhwHcCXrati2UAARLTK20GviXqSUouBmjZqu6TlwWblAss8Hy/8DHExyYuYL1N33GP44Augs1VraofEMm3FsQA0VsG6G+6UvW8TxxtAV932uok61b1mmq9w3et2fT5jBKuVfr/DMv3jH/84MnwA07/5zW+i78kxxxzjzjzzzMpVpo8fddRRUWzHBRdcsIF//DnnnOM+8IEPuOc+97nRn20VAbQAuq2+lnmfqQrQfCxsCcwC9/A79f3Jumgg6kX+Y4LXgMeuCiCHVR7LKoN0F3UhmBLrRhcBMfENTWgHPlB8nCgs2TexQhAP3kyzQPcxq0CZvlrWAp137VA7JObdJ/77JJApe42+HM+khEnrkACaWA5+hraxCBN8+nw82wbjExlhGK/5rl1zzTXRd+4pT3lK5W7261//2r3oRS9yz372s92HP/zhDa6D4enYY4+Nrv+pT32q8j3KniiAFkCX7TONHC+AdpEFiQ86vmNt5nxOalDcA9iBr6strLk/EIcLA3/v0hcbXzvcRrB8tF38DU18TfgwARihXDbiz8XHHu1tK/c4QKftQNa2PnXvFxqg/fq0GZBIPyHQkz4x6gUgY9LKhLmJyWEX+jCWsYKWFwzcRd3q3BOXOvo57mN+YQ8BJgsYHkIVxqQjjzwycqX7zne+s4Ex5Qtf+IJ7//vf797xjne4E088MdQtc68jgBZA53aSNg4QQLvoA0j0edd+x9beXW1hjQWK/Mf4DeKaYBuptOXzHO/vWDe4d/wj0cZ7YRua8DGy3OC4khCcE9JlIwmg/ewnAuj6rd1kQCKWQNpoCADNczBpDRUQW7/l6l9haDtFmiKMSQQvx1fnaD8yOIUOQD/77LPdBz/4wcid7uijj47cC/lmXnnlle55z3uee/e7391q2lUBtAC6/ugQ4AoC6PV+x6Fn7lWbp4sd+CwjCXXGAsXg3LVVHmsKlt4u4IQgHX7QAbcaNGnDJ912wbT0gWkA3Yed1ar2b85r0gKdV6+QAYlDBGhcALpeictrw6K/H1qebntu4jBwN4zHh7CCwOpVE0aP733vexEoEzNk5eCDD3ZvectbHH+2WQTQAug2+1vqvaYqQFvSeoTpi9+xNRJBhATttbGBiJ9RgowX+NQBrWaV79KFA38+rL1dBGiRno6lX6CZ+7e1qQ0AzSqApQ+MAzTuRugigA43fNYJSEzzRQ1Xu/auxDvPqs+QAHpIQZ5+T2B8wsrMd8IvTEz33Xff4OPVJz/5SXfWWWe5N73pTe64446LAgkx9BA4yPfq9NNPj7JztFUE0ALotvpa5n0E0C7yJevS7zjeQG1tIILPI5YMLArxjBJ9SKfHR8Is4m29LEymcKHA7w94xxLcpMtG/Lni+bfTABqfzq4DXuu0SZcW6Lx6lwlIxF8dAB/C1slkdWDVhwDmJiyYebo38fsh+aj7+tBOTO7j+Z7JnX/AAQdU3gk1qQ1w08C/mR98nf3CBOVpT3ta9P0gF3VbRQAtgG6rrwmgExTwLdD8mswX+NpuscUWnbdLGxuIkIYNeMZFISloqA/p9KgfQNvWJhUAhG0WQ/o+fMEtnVxbnQKApg777LNPdMs4QBvkCKDbaZG8gESstl2tkoRWYCh9y9dlSCsE/nOxUsCKIbEqVmwjnIMOOijopN9yQGOFxv85Xo4//vjo+0nGjzbc3Li/AFoAHXr8q3Q9WaAnZWM5Cn8yf0CqJGiAk5rMf8wgi1UGywGTBTJcJGWU6INbC64MgDxLyk0XwJX74fvJhAKrvJ8No+n72/VtAxsDaJ6ftrAyFMjpswU6q63jAYnEDlCw2JL5gB8yWDSVpaXJfjgU9yBfo7RsFU3q2Ma18XVmAzB+rLASQhDhgQceGLQKp556qjvvvPPc+973Pvf85z//Edd+0pOeFH1Trr322tZWLgTQAuignbzqxaYqQKMXMGKF3f/wOQ69BWqVdmFw5CMcOn0b1jKsunwoubY/+MbraW4twCv+bl0UIs1poyZTUAGnWKmI1qf9mURhlY8H87X1/P4OkFg20wB61JfZRxWg4/2APkobAc7ANO8WBf9UA2r+Tp/qe7EUiaPuX+/rTPvwHoUeS7tuS4wsfKtYKbNCP8S1AxeOkIXgwZNPPjlK8/rlL395g+8B/2YXRKze/L2tIoAWQLfV1zLvM5UBGqAEFCltuE0UbfAm0rcBZlhY8ZvFwlokyn7evHmd5aNGK6xHfNSb2gSB9sddAkjHh9X/GMV9kYu2Xd3jbAdI21Y+DtAW6CWArqt0mPPpoxQDtDoBiWFqVP0qtk38qG/S4yvAmMdqQBebMVVvifwz+V4x2ceNwwpjA8+733775V+gxBH06Ze//OXuqquuiowMuHFgVMFt42c/+1k0WTz33HOD3zerigJoAXSJLtzcoQLoSYBmRo//Vh8G2pDp23wLK+4pPF9RaxiBlYBlV37huFDgSsEHPXQBVC0VVNKEomuAJniRdhJAh275sNeLA3T86mUCEsPWrPzVDKDJvFN0jCh/l3bPSEv31m4twt7NfJ2J2fF3iMUQwJhp7l8h7wqcs23397///chNhNgMYPrQQw91r3vd6xoZowXQ1VtwrPqpOrOMAgLoSYDucte7eHthFWWQrBs8Z0FxDH5xC2uRPtJFPmq/XrhonKXuAAAgAElEQVRWEOwYEqB9H3BcWLAcJsFC3Be5iF4hjuF5WYHIA+hRTzU2JBeOoi4CeQGJ5vLRVsrEeH9lsooFk6X6NjPPhHhv0q6Rlu6tyXs2fW2MIrw/jOl+0B6rdeS9thzyTdejy+vLAp2tvgC6pd4pgJ4EaKy+fLj6kI4qRPCc+fBaUFyVtFTk92T71q4CKwlMAWSxiIUoWAP5oGJpw3qT5QMed6UIcf8i1zCAZjMElp7jWThstzgBdBE1mz8mbUe4InducofEIvePH0Pf43mGBNDkTGdi0ofYliptknQOLhWsmMazJzGusXssY8fQiwBaAN2LPj6VARoYsQwHXeQcTusAdYLneB7OB6D5aOAnV9Wa1HVgpW2nzQe9bsG6RhtjbS6yVbEBtFmC696/6PnUk9UQAXRRxbo9LqSPbcgdEquoQp/HJYWtoIdSMIzg5tDGplRtaZa25Trtx8/uu+/eVlU6u48AWgDdWefzbyyAnkwRhq8cM/s2UqblNTx+bFgTygbPkQEASMTSyvbXdbNnEKiC/3N8t6u8+of6PcuRZMeo80Hwd1okSBDLc5EUY3FXilDPlHcdA2jyT7MiEveBTvt45l23b78figtHSICOt1HbAYms9uA2FWLC2pf+lpQvuS91q1qPtEBi2g83jlArdlXr18Z5AmgBdBv9LPceAuhJgK5j9c0VueQBfMSwJBQdCIFEds7DesRyJfAcYpc6IIcob9w4uijAM1boqpuZACBMjIDh+E6Lec8TtwTnHR/q90ycSGOYBtAANb8vYkUPVacmrjMkgGaiw0pP06XpgEQADLepouNO088b4vpJ+ZJDXLfLa1i+7vhmSqw6MsEua3jp8lmq3lsALYCu2neCnjeVAZoPEpBFaTLjQ9kGK+O6QP2xgvHxA3SxFld12YjXs8kNXYpogj8fk4kqPn1YYvB/pACb5NUuU+IgW+bcOsfafbG6MwmKW6ANoJN2j6xz37bPHQpAd5XloYmARDLPMPYMCaAZw3Df6CqTUBPvVVq6QYwouAGR4nLoRQAtgO5FHxdATwI0lhc+IH1YvizqusBAar7bWJ1Db6Pa1IYuRTu+WdXLRJUDFoA3EyJ8H9GliMtGvE5xkC1a57rHAf589NMAOi2AqO592z5fAB1W8RABiVgwWfUJmfUm7FOWvxr9DKOCn+O9/FX6dYZlS4mnG6TtLMajXzUOXxsBtAA6fK+qcEUB9CRAF4XWChKXPiXP8srHksESSMTPmcwhTaS+amJDlzJilN0NELjEFYeJEEvqBFFWtcbHQbZMvesca/clkIvMKXELtAC6jrrhz8UCTTt15eaU9kRVAhKZsPIzJBeApA1HwveCdq9owZ7xbCmsHpB1qQ+ZpJpWRAAtgG66jxW6vgB6EqCBVqzQVf1tC4ld8KAsyytAxUcbK0RZv96Ct193WNep/cpsZmJ+gYAD7g11rfFcD+uVgWxZ7aoeH79vGkBjWcfffVTLUCzQrAABLX0D6Hi/KBKQyKoL7xy+tUMoaRuOjPqzpfmq8/1iTBjatuVJ7SWAFkD34j2eygDNRwVAoZS1djbZeHzE+DDHd5QiGA54ZpmuDR9YfIix4HKvLoptZmLbWqfVgQkHlmc+HtQ1hDWeTWiwXmHlKbLteSh9DKDtvnGAtk0UBNChFK93nVHdqCMpINFWa3B54F3CB7/qCk49VcOcbQAd33AkzNW7u0qaqw3xIqxIthHQ2t3TT95ZAC2A7roPRvcXQE8CdFFYa6PR4pt4+LvnlUnFVreuoXZErFqPvFzMwCSZRwBoPvpYAUN98A2g8TOcOXNm1UcofV4c3AXQpSVs9YRRBWhfJAtIxAUAKzTvEO8WE1HbHZE/Q0xM22ycoUw245ox3gHR8ZUCxkI2vRrSpjFp/UUALYBucyxJvZcAehKg82Ctzcbyd6PjI8BHGt9YchgTTR4KEvOeKcSOiHn3yPp9fFc+/1jbppy0TSFyXsfrQa7Vm266KcpI0EeAHnWr2lBcOFilIcNLV7nS67xf8XOJA8E1jKw1vF/AND+MPUA2vt4G1DxzleDckPXNu9ZQ4gXiz0n8C9+reLYNVuHoh13tHJvXHiF/L4AWQIfsT5WvJYCeBOj4BhaVBQ1womWAAAyxKmD5wTWhTZDjMRiQAcmu0iKltQkuLsB9nW3K85oJMGcnRjISlE2Bl3ftrN/HLd9xC/RQlqWHBNBD2SoagGbsAaD9UiUgsc47EOrcoWw6lDTRSWon3Pswsgwp40haXxBAC6BDjRO1rjOVAZoPA4MsJZ79oJaoNU82gOYyW265ZRQUgt9z2wV4R5euovLjuZhpL/z8sMCQ2xVfv6Z0AVxvuOGG6NnbDNaLW76xolmuctp/KIFRQwFoAm0JWB3CsjkuHLzvcYCOjztFAhKZ3La1UpY2LtqOfewu22YcQ9PjNMGCTLTjsSmsVPJ/dXegbbr+Ia4vgBZAh+hHta8hgJ4E6K58XuMNyKDPR5n6kGWjyw8zsIobRVd5Yf1JDTrxgUAX3BeatrJ0DdBm+RZA1x7iGr3AkAA6DczyBGx6h8S8+6f9nrGC9mEFDfeToRTGZTSPp6vjWfGLrpuBaBR0EkALoHvRTwXQkwDd1ZK93wnMNYHodwb/tt0H4h2SDyrBlV3tTGYZKViW5KOBLlhY2rAmAa7XX3996x+keD+MAzRthG82mrBRzKiWIVmgaQdWREa98I5ZTEHVZ2lih8SqdUnb8rrq9fpyHiuD6MwY4Bfy9jNWt+ly1pUmAmgBdFd9b4P7TmWAZhDC4kvpCpi4t59NAoszH2P8b7u2JpTZUryJzmwAzbXbdmWhTa677rrIetUmqMYt33EfaANo3HpGeal2KAANtNAOQwHoJMtmnXc7xA6JVe/PCharVhgi+h7wWOYZiU3BdY0VSr+wcyz7GLRhYChT3yaOFUALoJvoV6WvKYCeBGgG+vnz5zv85doEEyCRQZ4Pl2WT6Are4p2ny90Z0YMMB/hBk56u7Y0qrA3a7g8+QNMnCZa0dGIszbIUTX5qAXTpoa6REwDozTbbbBCZD9jZFENCkzvZtRmQyNhBYF18y+tGOkKLF+WZWI2L53u+5ZZbor0DRi3dYBXpBNAC6Cr9Jvg5AuhJgKYA0EBs0/61Buy24yBBatyXQdGHeYJ5+Dh3VbranZHsG0wqsLKwQtB2IF+XbWAATSoq9GcyRzAWmgA3WNL4kz6K1XNUP5ZDskAPBaDTXAOaHH+aDEjknWECGt/yusnnaePaabnHmVgfcMABjQVWt/FsRe8hgBZAF+0rjR4ngF4P0CzZY9nDXaDJwkeDZTh8nrGskrszHrHeJsynPSuAj1Vqzz33bFKOddfG4orVG19MABFt+Ch05coyb968KCNBm5MY84FGFPoi90YXczfCqoZrDf3Fz82LdRrfx6aykoTuAEMB6Ntuuy3qq0PIvQtAW78L3d5FrxcyIJFcyTzT3Llzi95+JI5LCly17DwHHXRQ59lP2hBRAC2AbqOf5d5jKgM04hCsZ4W0ZcBsk/6M5pfHUiYBcWkR023BfFYHYbcrLDhspd10YVLB0iRZP/DtA0jQiEC+tv2Q7VnbnsTQF3Fb8TOwJPlAA5/0U1YsAGosbZwDVJMrnD7FqkYfUoml9ZshATSbGzU96W76/eP6ab61bdw76R51AxIJgGYyjgV6SCXJbYixEhcOAHoqFAG0ALoX/VwAvR6gyW7Ah7CJXcX4GJC/mAGdoDT8DLOW34F5LLBdWrZse3P86posTCoARwoWX4si78oP2Z6VSYzt/tjk83NttGYCAfSih00akrJwJMEnxxlM8yfgjTXaYBqgNhehpp+lyPWHAtAEbjFmDAGgmSzjIhQPTivSnm0cUzYgkRU+Vmu6yiLUlCZJfY73Hcs0LhxdFMbqNle/BNAC6C76+SPuOdUBGh9bBmYKH3WWzEMHrDG48XHCukrgBxbuvE0GyMLBcV3mgbbtzbFA59W3SmdGd/x8cRNhUoEfuB8tb4GdbbtR+ADdtEsPz0i6QD70TJboH1jdLXgxDaCZ5KX56pvlDsu0bcfM/wHQPlC3+cGL9w8BdJU3ptlz0oLTmr1r9avnBSTy+y7TcFZ/suwzbQXKf/9x/aL99ttvv6ZuW+i6aM63oonvhV8BAbQAulCHbPogAfR6gGZmj6UupAXGAuIYUHDZKLqrHb6/5gfcdB9Iuz7Az3LhXnvtFdy64PuBA41MFJIGXfyQ0a2NwM64DoAsfaEp6yITKz569BFWJHAFiGeDSQJolmrRq6gmXJNsLwbU/J2CpZ/+yA+uH01/9Hx9hwTQTHxou1Ev9EWyvIQ2ILSlS1JAIve2Pt53t6aiOvFtYMz0YzNw4cIQ0fRqoV9HxhXGjFNOOSX6RhxzzDHr3gMzSjU1pgigBdBF35dGjxNArwdoYJEPSDxBfZUGYADBqoh1EdDhmmVykQJJWGXjqYqq1KXqOQAXQVLkFg2Z7cE2OMjzA6fe+CEbXFZ9jqrnNelGk+a2Ere6hwDo+PObu4dZp7FeYY020MBKXcfdY2LR/W5s063dtEs+49Y89STnli917oE7ndtuj3VVGQpA856yUjQEgE7L7lD1/en6PMZfLND0Z9+tyQdq+nlTkNfE81uwYHwjJcYTnreNeBV7LgNovg+UJz/5ye7oo492hxxySOSCFj8upB4CaAF0yP5U+VpTHaCBB0COgh8uIIErQZ1iy2kM2uYCUHaQxhqOhZDzuyq2lfbuu+9eC6j8+pPZg2AlPmJYlvPAvMtgyqaCSk0DPuxoEJ9Y+dk/0gA6JLThxmQwzZ+8D4CFDxqFJn9rVrnxe29wM772Vrfm0BPdRl/8R7f0zNvdrDfs7x4+6Sy38cFPcu6OG5zbfo/IXQpLZ5sZTpp4j4YE0Ix/jDlNxIA0oX3eNYk5YRUNd6i6AYl592rr97ybvDt8o/zVTN5b3OHaypjkP+8PfvADd+GFF7pLLrkk+u+DDz7YPfOZz3SPf/zjowwoZb99RbQUQAugi/STxo8RQK8HaCwwDLT43FYt+A2zFAoYAkcsjVcpIa3hVe7PObYTIIMglvk6xd9tkQ808FRkYMWNAit8F8GU+KHbzpB1nt3ORQOWWfnQZWngu60kATSTq6bcBszdw4CaSRSFfswHG+hPcvcYv/1SN23ef7uN/+cct3zbo9zM317sVm7yZ276zEe5h6/5jZv+nbvdrC+e4pbc94Cb/p7PDQqgy7jThOhHTV0jKT1aU/dq47qkxKQfJ43nZQMS26hvkXvg9sX7z7fF37KbiQLWdowdXRSs39dcc4279NJL3Y9//OMoRSsTl+c973nuqKOOysw4VaW+AmgBdJV+E/wcAfR6gCbQD+uxv/xUVHAGZDJsMGiH2HaajxlWv7rW8KL1TzoOvzr87YhirzoR4Lpch8kJ2tpui0Xr1ZQVuMj9ycoCqIYI5OTZLUUdH7+s3S799HlpAN1W5gffrxSXHnP34ONtAYkbLbrNbfLpw9za5du4aQ/d5daunOPGVyxxCx51uNv8tivcHQtmum1e81a38ef+zd3xnH9yj3rDu9wfLzjPbfqU40beAp0U0FWkb/XxGMYc3MaaTOPZ5nPjPsfYw/uWV/ICEi1OoMvAW56B9w+3OuDU37IbeGay0EXKPnPloH6sZl1xxRURRF9++eVR8DzanXDCCe64446L3PHoY3WLAFoAXbcPBTlfAL0eoEm6j8WNne/KFAYNAJHBOlTaM65HKTL4l6lrmWN5LiByl1122cDaUeYaWCIYRBnseZayluwus5EwecC3te6SNuAJPOMWgQb+hy9JS9/vu2uAjtePD7ifLm+769/htrjuSjf+0FI3tnS1m1g23Y2vWu3Wrhlz44sns9vc5nZyOy65zT28zLnF/3yue/TKB9zCsz/kVn/xF4MA6CG4otBOQ9qWnOfBoGGT9jJjFsc2uUNi2br4x/ONYaKDkccfSxln+R1jdVclnsoO97uLLroocu9gVZbyrGc9y73kJS+JfLXLfgv85xJAC6C76ucb3HeqAzRLYgyWNuCyFFZmEDJAZDAoAkdFG50Bh3phaeiq2LbSVbbSZjDlA4YfIhYt3DCqWG+azM2dp2vdTCiW+xu3DQJJsb4U0cDPP50E0Fig+rB5x4xr/tVt/KOPO7dwjXMPr3VupXNjK5xbOzHNjS1c48YQeMK51cumu+kTq938+5zb7iOfd5u+7xXuxq32dJueffHIA3RSRoS8ftXX3w9pV0U05r3j/eG9q1sAcYwr5tpkedbbDki0AGzGZD9+hLgKnpVdW7sojHWM+X6shO0q++lPfzoCaQwIHEM9Dz/8cPe2t70tClCvUgTQAugq/Sb4OQLo9QCNHxe77xVZBvP9WesAYlqDEmiHRaGrAdGsMFV2AvQt8ny8iqZbS9KiLsTWeWHq5AX30/QRCIorSBGfb+rrB06mAXTX20dP/91n3czv/ZObeHiWG39gkVuzenM3bdkCt2LVLLfx0km/6bVj425iqXPT/i9I96qH5rjHb7bUjU1MuCu2e7Lb4Yzz3KMuOt8tO/RYN2O7cqs+ddo15LlDAughbQpDGze1NXmXAYkAPMYVjDw+rBJXwfhSJ34nxHtBPYjh+O1vfxtBMyuIgDP13X///aPV3W9+85vR/xNA/MlPfjIKOixbBNAC6LJ9ppHjBdDrARprKbPmvEAM36cXQGwikwDWEwbLsu4kITtJlZ0ALYiyqLtCXn2BWPyFu0jnVzWVoG3JDfxmbdee9ux+/uk+AvT4PRe5Wd95lRu/b4GbuM+5sXHn3MPOYXJe+/A0N+7WuFVrp7npK9e4scnFnagsXb2Rm+1WuoeWO/fbw1/s9nnCfm7Nf7zLbfzTB9zYtGl5XaGXvwegyRWe5dPey4onVGpIGUV4vLa2Jm8zIBF3MFziMPL4E3KMP6yCdhUz87Of/cxde+217qqrrnI//elPo96FmwmuGk960pOiHNF+0OM555zjTjvttOj/zzjjjNKviABaAF260zRxwlQHaACF5TgKy2CAa1YqIEtBxmAAHNXJl5vVnrg/AKNdbkNbZidAf0e9EEGUpg0fdYLVQm5uU/Q9qrKxjm3JTdBl1f7hZx5JAugufVXHFsx3c759tHN3jbmxe5e6teObu/EHF7i1boYbW7Laja2ewGvDLV803c0an3yv1kDYa9Zbon/7gHPL/+697vFfPsXdtGKmm3Hh/HXZPYq4uBRtvzaOw8WIFQYBdBtql7sHoImbQ9uT7yYDEvkmYFknM5JfCJjEnaTttKdo/J73vCfaPRXrMwGCuGccdNBB7sgjj9zAHRJd+E5gOcdQ9dKXvjQKTv/Wt75VrmGZqxddzit95WGcELnPqTSvgAB6PUDjvsGAkJSMHpBh4OKYMmnYqrZgGXeSqvcocp6fESLteCYgBD1iMSeIMuTOfV3mwy5z7/iW3AB/VRj0N3BJA2iArfVsCcvvdbMveIqbdtsf3MT9052bNuHcfZiYx51bPsONrVjhJtyYW7tmhpu2fGXUXVaucW76+LgbXzOZa51y2X0buydutcqNT6x1P1u7jZtz3iVR9P74ssVu5lbbrM/usdFGhd1eivTlJo4ZEkAPKaMIbd2XnRVDBiQyQQeW44YVDC5trtRZwOBll13mXvOa17gjjjjCHXrooW7fffeNXDIsQDC+tbdl7KC+r3/966NX8hvf+EbpV1MAnS2ZALp0l6p2ggB6PUAzOJEtAYD2J7gEjwCIDAYskYVIw5PXWszQcSnJcyfJu07d3+dtZGJblQOL+N/VSXeXVFcCm8haEWJ3yLJacG+eJ8+qk7Qld9l7+cf7qftshcTvj1igWwfo1cvd7AuPcOM33eHcgyucm5jt3H34Ok+4iSWz3PiqZW5iwrm10+a4aYuWRI+DJXrhkjG3+caT2TjsP5etnuZm/Z9vx8Ub7+H+4uJfuOmffI97+OEFbtGJb48mYjw3lirLPc2feZvu1NG86rkAdHxXuKrX6vq8Iflzo2Vfd1asE5CIAYfvQjzQHeNOqJSbZfohVmf8nffbb78NDCf2/qZdC5C2wMcqWY4E0ALoMv20sWMF0OsBmgwcwAkuHHy8eckZIHDrwI0AeG7rI859sTRUjVIO1WHSNjJBG4uyrrJVedH60R64yYSIpC96TzuuyGY2aVtyl72Xf7y/gUsSQLeer3ftWjfr4qe5afN+6dzC2c4tW+ncg2udW7XWuWkz3NhDqyJaXrp4pps9vnwdPK+cNtttvGLpukdbNT7DTVu1JrI8U+7HF3rno9wRRx/ipp/7YXf7q09zW7/89dF7Z7sjMkFDY/4Pq5blnsaFqqqFv07b+Oembasc6vptX2dI/txoNwobw5QNSAQ6geh4cDn+3oBo2xtO8W1kwo/lmRWxNHDm//m+8g77vtBV+7gAWgBdte8EPW+qAzRWZSwCFCxfLNsDrVj8cOfAKo0PHZtptOl2xUCJVWGvvfYK2t5lL5a0Gx+DIcujDIi4KpTJMFH2/l1uKMO9mTClwXveltxln9WO93NfpwE0IBlig5cidZx52Yvc9F9d5MaWrnETD27k3IIJN7ZilZtYOsuNrV4WwfPajaa58YcnIwbh47Wz5rhpSyYt0ZTFK52bPX2aG1+7Pqrwlw84t/b4V7on/O/n3B859KwL3eZ/cdQjqmQ+pcA07yhBmryLfIgtjRirFG2+n9FzTkxEGw3RP2iPUS9DckehLTpZqanZCfICEhkPSGUXB2i+VYzFpLdsoxgof/vb33bvf//73Qc/+EH35Cc/OXon/PfQ/s1qwEc/+tHIOIXLRzxndNk6C6AF0GX7TCPHC6DXA7RtXU3wFzNrCn/nI912Ib80kJrkj91mXeK78TVhcc16HlxqGJC72FAmDd6LbsldtZ18zZMAGk3ok20A9Ea/OtltdPm5bmLlxm7sroXOrZrhxh5e5SbmTHNjd0/C8OplG7vpa1dMwvOEcwsWOLeFt9nY6vFpbuniNW6z2G7wX79ntnvCpkvdjnOcu/w+5/a+5m43bXY+iOIyY/l4+ZN/m7uHAXVTwb1+m9IP8BseAkAPzZpOOw0hr3VWQCITSKzRjI3EzOTtcFp1POK8iy++2H3pS1+KUmzyzmHtPuCAA6K+/9nPftadeeaZ7mlPe1pkjPJXaS039G9+8xv3qle9Ksq6AXDzztZZzRVAC6Dr9Odg5wqg1wO0bV2NuKSmY3Dwc20GE73AhYi2BuDi/tgFTg16iOVhZsA0dxZ8wHFnaUMbLBd83LvIbwqo4ibgp4YqsyV31YbwN4/pEqBn3Phxt9Flp7mJlc6N/26pczNmurH7lkV+zuMPTlqX10zbzE1buHDyUSecW77xpm7m0kXrHn312DS3au0MN2vNpGuHXz4637lX7ubcFhs5d8E9G7ujb7p/8jJf+4Qbe+FkgFFe8d09DKrN3cPf5KIJd48hAfSQnsX6DKuJrI61ZZXN66shfo9hB0MP8IwL3atf/epojGLVFAswP/w9VH/nXXrve9/rvvrVr0Zj8BOf+MRotQX3QlLWHXXUUVEWjS9+8YsRUKeVa665xr3yla90L37xi6MNVATQIXpD+jUURNisvuuuPtUB2j7AvNAAEx9hLHu4bbS9JOw3edwfu6Xu8IjbkEYOEEEfrOJtu7N0uSNjfDv1sltyV20zfwvxNIDmA1ol+KZonab94dtu5iVvchNL17jxGxY5t8UcN3bHEjex+UZu7I7JDBtrZ2/ixu5fvG7HwRXT57iNV6x321ix2rnxGRu7GasmrdNWls2Y7ZYuXurOut65f95/8n/Pv3cz99c3/cHNestx7oE7/uDmfP2aolXd4DjeZ3/HOGCDYu4efPxDuXsYdDLB6mKVqpJAKScN6VnsERm7GMvrbOQUUuMQ1yJ7BWOxuZXh+3zFFVdEP/giA7ZMGMiIccIJJ7jDDjus1m0B4/e9730R+L7rXe+KrMa//OUv3dVXXx3tUfC1r33N/fznP3dvfOMbo9R11I13jRUg/J0Beerzla98xZ1++unune98p3vZy16W6itdtLKyQGcrJYAu2pNqHieAngwUBNR42QleIgF8G5k2sprO98eus9RVs3tES9RYXc2Nom1fT3z7uD9t0nYx6zdLo0S+l92Su2p9/d0XkwC66ewC4w/+0s36/ovcxIPL3PjNi92aP5vppl+/3K3ddBM39sfFbmwCV42Zzi1bEe0qSFm8cNxtMnt9qro1btwtXrzWbT5zQxXuWercY2aPuV//acL9zz3O/cPeLvJ/vmL8z93xh23nps+70s3f4Ui3/ee/V1W+Dc5DP7NMMwHyt2C2gMSq7h5cG0gbAkAP6VmsAzB2bbPNNo1sdBWkc1a4CHExTBLjWYlwVyE3NOMlm5pceeWVkSUasK1amHyyCQoZf37wgx9E30d+Tj31VHf++edHgEy/oT5MSg2YeZ/4ZhlEs5rK2Mk4yuYppLmTD3TVVil2ngC6mE61j5rqAM1HlZk7s2TSlZF1gqWqJnYXLNNYWNH4ODMoWk7NMueHOJYgOduMgLyjXYB8l1uaM6ky/1qs72W35K7aBv4W4mkAzQcLOAheltzhZl94rBu7+yE3dudSt3rbLdyMeQ+7ia2mOXf7hBtbs9ZNbDrLubuXubH/G6VXzdnCzVjAVoSTZa0bc0tWb+Q2dRtanhdOm+1mr1rqpo879+3bnXt4pXMn7ubc5fc6t3jPJ7hjF14V5Y3+1YEvcHv9x9nBH83PeGDZPfiQ86G3dHlYz4q6Jg0JOunnuDwAOSGyJARvvAoXHFpWESRgPKZ/xjeW4luBu1/VyWCSvD/60Y+iXM2veMUr3Mknn+x+8pOfRG6F/DAe0ld++MMfRlZv3DdI+clkFYMHhih+bMJKvU466ST3nOc8p0JLPvIUWaCzZRRAB+lm+ReZ6gBt+SjNssrGISyPde03Z/7YbF7KplMAACAASURBVNkKLLVZgAosHQA0A5+l8GuzDnYv6sFkoostzXHpwZUGq0uVLbmr6uVvX25ZYnx3IizQjQD0qsVu9oVHuvHf/8FN3LvSrdh6Uzfrtwvd2s1nubH7V7qxZWvchJvm3MoxN7ZqcpfB1Yucmz5r/ZOuWePcmo3nuI2Wr3fl4Le4bcxYucxNx3ztnPv4dc7tMMe5v97BufPvmeN232iJe/w2zv1ugXPLX/4Ot8Ob3lFVvsLn8e5jZbPsHnF3D6AaKEhz5TKAHgJ0Aj1YMZvI5V64QQIeOMSgSORhUs+YHN9dkcnC/vvvX3jyV0Tqj3/84+4Tn/hEFPwHTJPVxApj4oknnuhwKSFm45RTTolyU2NtRnvAmR/GL8aqeNaQIvfPOkYALYCu24eCnD/VARoRgVUraXmPg4hd4iLM3hmYGJTatAihBYDGB5WlaSA6HkhX4jFqH8rSH4AT3zig9oVzLkD6QnQAnpjEhLTs5NUdaxIuRHwkkwC6kR3W/j973wEm11We/d47fWZni7ZpV33VrWZZlnHBMjbFBofmGLAdYkIIxqaE3yEkhMTwkwAOCRBsIDGG33ECcYnjghsu2LjhItnqva+kXW3T1tnd6fd/3nvnaO7MTrkzc2dG3tzzPHok7Z57T73nvOc77/d+1Hp+6hLY9u6BMhJBxFsD594xKH4bpGEbpLEwFK8TGAirFA4VPMte2EITpy3RcQUIjAG1aaI1/RNAo0+CnKB7jISBH+0GNrQCG9qBf94O/GEHsLgOePYEsOSn92DGe/8ACIegxCKQPDpJj3ydV8Lv9XQPYUnj3Nc7I+pvg6aT1VYA6Hnz5lX8wF7CkGV9dDo6RbKxPNSn+z+IwwI5yGb67TBEN50HafGmnCr/T0MGb2xvueUW9caCFmpGIWQglVw3pRwPJrOcGy0AbQHocqwbBb/TAtCpADqT7nHBnWrCA9ycuVBxwaqUgxKv5XhFSIsBrWpcENMd6UxoWkGvoIWDVo300LUFvaSAzPqQ3LQ+csGvtPWbAJpWf17TZgPQmaxQBTRzSlb3Cx+GfevvEZ+IIa64YTs6AcVugwQJck8Eil0CYk5IgYRcnd2lcaATd4XUfg7E3PBLqWobA0EJdU4FDjlZ5PZB4OFjwE3n1iAyHsAv9gCfXwE0e4Cf7wau2rYXTp8P0mfOR+SOl2FvaCqlaUU/S1AprNME1Hq6B79Jfh+8zp4OVlse2GlhpK9BtShjRQ9UhgenE71G37xMwWE4L7lmEECbmQiS6STIdfCZZ55JsXrT4v2hD31INbJQ4q7SyQLQFoCu9JzLWJ4FoKFytQicmPQKCNUcIC6K1NyshEMjyyJQpaMco0nR8iksBdVUwWD/k19HYE8rcLlTekhuUkeqQR+pNIB2bbwJjjceQDysQBm1QxoIQQoriHtqYD8+BsUpA0FAmtSsSEpUBqU3pEREQf41GXHAa9MCEok0ZvfBHR5PAc/83WPHgdl+YG0T8GqPZnX+m7Va6O/bd0q48cAB+G5Yj+M9Y5jxymC5h93Q+wXdQzgkcl6IRH8JKj3konsYKqSKmXjzRHA2XQD0dLod0E+LTNrWPCzw8JNLRq6YqfW9730Pd911F84991zVaZDpoYceAv1SCJ4pocc5Q6dC+mPw4KX/I5wI6TujV+Qww0puAWgLQBczp01/xgLQqQBaf31uemcX8EJu2ORjl9uhkYcHWpm5gZL7nS75xMVSKJMUUH3TsjJAAGkkdKYsZ8oUIIb0EQKmSlugeTVKC2c2C7Rw7EznQRbTP45dt8L10o8QJ/Y9GUU8FId9KIZQSz3c+4eh2AD4fZDUUIGA4nFDGiWaTpSmAOOjQHogvqEJwO+VYUdSmUN9HsD+kAtLfZol+54DwIlx4K/OBvYPA8+d8uLGc2RIwQC2Buqx8OVjxTSr7M/w0MmbER48CRCEs5ReLo8AwgywUPbGACoXnPQAclUrSVcqV9umGyVF9FMmbWu2lWs4OdBmpgceeAB/93d/h0svvRR33HGH+uorrrhCBes//elPVX70zp071Z9zvaLRRahvCCUOAmf+m98Fb3N+9rOfqc7YpSYLQFsAutQ5ZMrzFoBOBdBcoPixm/GRlzpABNC8IiuXjikBgHBKIWUjk7MinfgyhY4ttW1Gn2ewAFrGly5davSRgvNlC8lNcEQnwkrzr/VzMBOFI5snfqENtx/5FVzPfw1KKA7p8AQiDhtc3REMzWtAw44hKBKg1Dgh92i6zxoAtkOKag6ERMOT8MMTSwZO4Y8JnmtcgIPgW5dUjrTXj9qIlp+XPt/bCsxwATecBTzdbceg5MK18zWw/vzEXKx/Udugz8SkB2kED3q5PI4bwYRQ9+DfRtU9qtFWAaB5WKyG2o7ZbZ5ulBTRP3Qwpv67fk+g8YPr9KpVq0ztRh6oGDmQvHhSOJieeOIJleZ3+eWX4+qrr1Zv6D7ykY+oN7jixo59z/nEevGPUOPgekq6hxl7qwWgcw+1pcJh6qeQ/WUWgIbqMCecHHi65olZCNVXaBgyFkMKBxebhoYGU6uh5/ny3Swjm3NHtZz4RIMJnmmFpqap2SlfSO5K869F+3hNSzoAx6VcAFrufxmep66HMhqGfHAMwToXPEdDOLWgHo1bh1VwHJ1fC/tuLcqg4nZCGg9rJmT1B0B0wga7SwvnLdK4zQcnaRtp4DmmAL0hoF3nD9g9Dvx8D7CsHvjEQuBnB+2Y443iAx3AaAh43b0KFzz5e7OH3bT3CZCW7njH74vAgYCaVjeCCaGVK7SneUg/k6zTBD+0YvKweCYDfaODJygp08WiLtqdSZqP84tUN8rYmZ2owPHKK6/g29/+Nj72sY9pn76iqNZnBkb54Ac/qIbmZuJaJf6QViIkOPk3f87vhd+KGY6EFoC2ALTZc72o91kAOhVA89QtgoYU1aEmPkQnQnLLGI7WrMSrZm6U3Nwpxp8PnFcLRIr2MsgN67B8+XKzukB9j5GQ3NyUqMZRKQdG0UACaN4GcHwyAWjSargJpWvBGu6gwEH4Hv8DKP2jkA8GMDnTA+++SZxa2IDGzUMqOA4vaIBz15C2YRIMSy5IwYRaDcEz5evS1DYCQcDjtsGGVFDN//UFgbY0MQ3Bf75sgRPrWsL4/hvAe+YDF84CdvQCY+vej1U/v99wsyqdMRuATq8Hx5AAVTgk8jmuMenqHtUE1FwPeBs1XQC0OBBMF4u6AK4E0FwX9IG+OHZcJ81eI1km98NrrrlGvQVkmHD2Jw07DNZCIxNVOhjtsdJz1wLQFoCu9HqfsTwLQKcC6Go7zekHiYogdOrjAmVG4gZO8EzwZVQ5gNbf4eHhijjxZWoj6RW8nqSMklnJaEjuarWdtyDkDuYC0NywiroKDQ/C+9ilkI73Qjo2gcm2Gnh3BTC0oB4NtDyTD7ukGe4t/Rp4dtkgRWPQx0SJuethCyQDpzCfBp5l2NI4z9E4MOL0ohETU4bv3gPASBT407PtOHwqivv3AlcvBVY0AU/sB+Z85gtY8PVbIR/YjOjWlyF/7MtmTQFT3lMsTYCHN0H34N+00NHqK6zTBNaVplHwm+DVPA+LZlgITengEl4y3Q4E7Ips4dY5dnS0LhfNjesvrc0vv/yyuhdwP7rsssvwhS98Qd2f0hMt1FyfuH7yIMN5nSlfCcPL91sshRwdaHVOKbOrgGctAJ0KoKsZ+S592PQhnQsY0owLGrnEtOSSO0dgZvSals/RulFuJ75s7ePGwEONGdeTXNgLCcldrbbraUSZLNDc0JgKBtCxCDxPXgL54EGgL4RgUw28O8YwMqcW/j1jkGMKRpa0om5LrwaeaXn2eSENJsGvEgYknSQd80VtLlWz2Z5G24jEgVHJgUZHqjqH+m4F+K/DMq5eEofbDjx1GHjjJPCZ1ZpCx79uAi6/4ydom9sMz/evw4lLb0b9Td8o5TMw/VkzlCs4JwnEhXWagEPQPYSFmnSPcoNaAaCpdjMdsMl0OxCo31mWaJG8JWN7q7FGM8AK/5DqofcVefHFF1XFDqHswqArZqqEWAA693JmAWjTl/vML7QAtLYw0QrEVC3lhUyjY4YiCNtFAEpnOF75kw5SyAZZTg6ykSlOAE2r+cqVK41kz5qH/cDDUSEhuSvhwJipwtx0aIHkFamZANr93Adg37EJylAEYX8N3DtHMd7mh+vIOOyhOPoXtaFp+0k1UIpikyB5FEBnaI57aiGPaZxokUJwwSFFISuptI0oJAyFFTSn0TzEc8fiXsx0TsCZAN13bAF6J4C/WA+Eo8D/2wJ8+p7b0fQfX8ZwQMHY5+9EwwevKWkOmP1wOXi2gu4hLNQsg9+rXt2DtxOFfMNG2s31gd/HdAHQ0609HMNsyiJc0zhPKu3szH2T4blfe+01vPTSSyrdkInrFx0LeRikUhANN5R6fPLJJ027TbUAtAWgjaxrZc9jAehUAF0t3mumgS5VESSTNFuhE6pcHGSj9aB1hTw8WqCLBQ3cXPgOguhCQnJX6/DADYg3BFRgEQ5pegskLdD8OW8SjCbXa38Kx6bHEA9EEZO9cBwYQ7DeC1tfGM5AFH0LZqBp7zDkaFxV34i318LWmQTLccpUjabSMEIxOxx2ZQp4jkPCCBxosCfVO/T1PDEBtDVIsCU8EiciwD9vBGwS8LcXAFt7gOc7Jdx8mQJZBnZ0Am33bYKro3xKLEb7MeXwkNBOLqejGkGKXt1D0D306h5m0D2oyMN5VQ0rZjF9n+8ZtofGkErox+eri1m/z3bjQZob54XZ4bLz1ZuHlPe///0q9/rOO+9UsxPkk+7x85//HNdff72q1vHUU0/hnnvuUSkfjFxoRrIAtAWgzZhHJb/DAtCpALpa1/aZBlLPhS1koAmuCHy5gdDZhEDMKGUjvRxy3miZMpODXEhbuBESULL8Yq6xCcBpgaeqBcFzIRq37EMeqMqhAJKrDwj2Rfh0ccWvPzxwXGmpNAqgHdtvgfOVn0GZjCM+4YDtxASiThfik3G4T4UxOLse/s4AHMGoCmnjs12wHU2Gtyd4lkYnTks/s+6MTBgPKbCl0TbCccAuSZAdQq4jtaXHJoDZ9YCsu2PcPQA8sA9ocAN/vo5RCmvQfyqAGy7Wnn12h4Tz9wzjdNjDQiZQGfNWWjtZzAWh7iHoHrRI69U9iv1OaCmcLoCT3z2/3Uo7AJdxup3W6k53jOQ6xUSFi0omzpdLLrlEBcpf//rX1aLZ7x//+MdVIE1qBxO/kw0bNqhr+N13360e/os1hoj2WQDaAtCVnOtZy7IANE7L7bCTqmV1zDRAekuk0cmipyrw+qxUD2kzOchG26DPRysHDxK0chRyCNBL9ZG2QvpKocCClh2C1XJ4t+cD0EIJJhuA5jgbkVq0H7wTrue/CSUYB/rjUIYjJC0jJNvh657ESKsf7r4QXAFNoi6yrAGOhPoG6xhvqIHUH0gBzzG7G3I8DCmeGiQlAhlRhxMeJTWct2hrd9yNds/U3z15CNjUAyyoAz65BvjJa0CLH7hmPR2ngIc2O3H5kYFipk9Zn6m2djIPUayD4E8LugcPiwJQU83FCFiZboCT6xaNIZWmNZRzwmVzjGQ7eQtBA0ElE/cnWpg/97nP4eabb1aLJu3wyiuvVP/84Ac/UH9GgE/LMw98v/71r9XDf6FrcXq7LABtAehKznULQOfobaFXySzlUH0odqDJ/WUyujCKDZ0LVCFUhVz1M4NCUWz7+Rw3DVJZaAU2elWdHpK7vr6+qCpUay7ox70UAC33PA3PUzdAGY9AOh4E45/Yh+MI1HpQe2QcgQYvpAkFvsFJFTyPr2yFb5vmQMik1LqBoRCkRJh7FVDb3ZAygGeKbwRkO2rsiSAraT0+Lnvhc0xV4mC2f90M9E8Cqzv8uKB1DP/5GrCyHfjAKqBnCHijpx6X7TzzIhKeaVJpXMeEdZp/8zvgoVMvl5ftBoaAk6oJ08Viy5szArdKRxEtaqEx+FA2R09a2smRN3ojZbC4XJhBPZTRsMGQ3rRC//jHP1bzM+Q3Q3tTG/qqq65Sf8Z5dcMNN6ig+cEHHzytOlNKPSwAbQHoUuaPac9aFuhUC7RZTmtmDFAhknoimh43S4Jno2AzXz2FBbhYCkW+9+f7PUEKrRqUaDJCvzCD9y3qVC36CgE0gTOlBjMBaF6dEhzlskBLwzvhffKjUIYmIB8OIOR2wNUVxkibH/V7xzDpdyECB2p7Ampzh1fNQv2WrtPDEW/yQuqdUB0KTwNqlwSEbZCUVJAck2yQpTgkOTNtoyvmxCxvZj40Dd8/2KSVcMlCwGsDXtgPXNABXLwY2HQQGK1fiPN+t0XNIx3eCqXj7HzTpiK/P9MAtL7RnDe8RhfWaQJq/ox0Dz2gFpZAznXevk0Xiy3BM9fySvOCyznxsvHUuR6Qqle0LnyRleZ8+cpXvoJt27bhlltuUQEy+c8E1/fdd58aMZGJuvbXXnstLrzwQvzwhz+0AHSR/V3IY5YKRyG9VUJeC0CnAuhSObclDMWUR8k9psTV/Pnzs76W1mY6/xBAc8GiJ7SRK1uj9eQGzAWwUAqF0ffnyycANJ2buPnnStlCcucrI9vvq0Vf4cGJ45oLQBMckdueMQV74X3s3UDvIORDAQQb3PAcCmJwXh1m7BhB2G3HuM+HhmMj6uO9KzvQuvVwEig3eoBTIUgUcU4kxekGYkFIqWIbiMgO2BGZIm3Hx2i4PhEE5uS4ANh2yoZH9mov/dAK4GAvQLbG5SuANbOBh98AZl58EVb+12/gvP+bmHz+Idh+tqPYITX1ubdT9D4Ralk4JPK2ikmoe9B6zbVvugBogju2J9faaepkqMDLstFsuP4zIJYArBWoyukifvvb3+KLX/xiSpGkc5DWIRxeH3nkEXzta1/DV7/6VVXuzqJwlH+ELABd/j5WS7AAtCZQT0DCVG3AqB/2fJJ65DzSWinAlN/vN33WCAqFUQuw2RXgRn/w4EHVuYl8zkwpX0juYusk6CulSugVWr7+5iGbBTorgI4G4XliA+Sjx7RAKc1eePdO4FRHPRq3DCNqlzHcXIemg1qUwSMr52DBVo0qpK4HTTZgIA4pmrQmKx4ZiMiQyAFJSxGXG47YVF4zwfOkwwuvLTNtg68ZiwDP97mx9aj2/B+dAzy2DYjEgI+vA9rrgX9/Hrjg83+E5c2nYN/5FE7YVqP+568U2qVlyf92DtYh6B4CUIv1j5ZMofBh5ManLB1rwkvJC+ZaXmnHOhOqnvUV2W4JaGihr4vZwUqMtIV7EDWfN27cqHKc165dq/KfeTBj4g0mrdKbNm3Ct771LaxevdpyIjTSsSXmsQB0iR1o9HELQKcC6EIpA0b7uZh8ucJo0zrKyGEElaRs5LPOFlM+nxEA1ogFuNgycj3HBZoBZcjNpHPUFAAXiagSdczHfjDzEFEt/jfHlRQNbv6ZADQ5j7yZmGKBjsfheea9kPfuBHqDCDbWwLtzDIMdDZixZQhxCeif24RWyl5Qr3X5LMzZ1Q05roFlpcUNDEYgBZNmZsXrBCJxSJFU8Kw+YUeKc6EYG/XpCGBLC92tH7vBEODwAfdtAboTanlXrwKeSBiXP/NOYGwc+M0W4AN/dDbmhbeCUu373Zdh9h2PlGOqFfxOAaCnQ/Q+8lS5phA8s108lBJACzBNQFSIE2/BnWnyA2wP1y6j/iMmF1+W1/GGjSA6nZbC9YIO47RCnylJWJnFLQ3nkpnUQosDnXukLQBdoS/BAtCpAFoAtlwWzwoNjep8kR5GmwsTgTWvKGlx4MJZqkezEQBbrf4gUNy/f796tSysGqK+RkNyFztegs5TigZ1MWVzQ6RFkNfP2QC0ODDo3+96+VrYtzwHnAojVFsDz47RZIhuBTi5uAVt2/rUR44vbkP7gT7YGKYbQKzVDXkoAmlCB55rnEA4DCmNvhx3OiHHGJJwauuoAR1yuOGRJ7M2vS8E+GuhRiC89TnN4sx0WQfwWoJJcvN7gNcPyth5NI5rrwDq/UBfLzC6/lNo/abmsFTtNJ0AtJ7ywDlH8CkcEgXdQ6/uwX+bSRUzeyyzHjLNLqiC78tGS+GNFf0hGKyk0on7EedLpQ9XFoC2AHSl53rG8iwAnQqgcwG2Sg9YeiQ81o2UDYInLpgMy13uJPojmwW43OXTErt3717Vm57WMKZCQ3IXW8dqOVDque/CGUzfhkzWNeeWr8D5+18iPhpFxO6Fa88oxmbVoWbvKOSogq5lrZi1WVPY6F7QguZjQ3CENNpSpNUF+1gE0qiO8+y3a7SNYBp6tgGKw56RzoEYEPR54Vay0zaCUQds/ggcNmB4ErjtJa1lPifQ7gNODAEeB/ClS4F7N9oxPBzFZ6+CGiZ8x3ag/svfRf0nUzmXxY5vqc9Np3DRuSgPpHvQkigcEnm446GdB1ohl0cL45kEqI042pY6/pV+nt89x4G+EfrEGzjeVpF+U8mk5zJzX+IcYqIDO29E+Uf8m/OFAD8bDa/QelsA2gLQhc6ZsuS3ALQGyAgUmQRg4zUZN4dqJn0gD1pDaWkQV2FmLUT52sfNct++fSkANt8zZv6em/eePXvUa0uORzEhuYutT7X48ATQPCSxzUYAtH3/bXA9fyuU8ShiISfsh8cx2VQDV+cE7MEYupbNxKy3etRu6JvdiLq+AFwTWqCUULMfjlAQ8qAGppmUWhekSAhIMyIrdgA2GVIsVf9ZfYhWZP4+h5/nRNwJjz98Oh7KgX7gns1ame21wOgYEFOAlhkO/OEFUfzqCQVuJ/DpD2t5nnsGWPXgo/Cc965ih9TU57LJiplaSIVeRvBDi3M6OMtUfLq6h57uIRQ+Km2RTK9nocGGKtTNJRWTzapOOTne0AkDQ0mFGHxYgGcaN+6//37s2rVLvRnl3ODYc5/iH4JoHrRID7rpppvUEN+WE6HBTi4hm0XhKKHzCnnUAtCpAJof9+7du9UTvZl82kLGROQVqhJ0EKH1gRy3tra2slI20uuZDmCLaUcpz4jxIJ2BC3IxIbmLLV8A6EI0qIstS/8cvep5bZ4LQAtLlO34w3A/8yXEx6PAkAKpJ4SIxwP5VBjO0Qi6l7aiPWF5PjWzHp6xMLwjmoV4YkYd7IjC2Td+unilPmF5Hk+1PCt+D6SgphednhSHExIpHY7sre+CB7NqUhH5q0eAZ/drz8yvB3qHtX8vmiXhrHYFv9sENNUDH3svMDkJ/OZx4N3dxyHXlP/mxcg48oaChx3Sm84k66uRuqfnyWbdzPcuEWpeWKc5L5lI8RBgmgCq0v3Db4iJ6+V0STwUZAqgRJUk+qhk8hEpR9tFJEEC91tvvVV1IuTeJKROCaK5ftEIQMMU68x1m1J3lLMT6hyl1M2yQOfuPQtAlzK7CnjWAtCpAJqLA0/TdHioBEUi11DRAs0NmpsPRfKr4SSiB7CVviJk34jyKdFEDmAxIbkL+BxSshYTxKXYsvTPcfMnEOGhgXxoghMBRmiF58GKdZtf0wv3k9cAo5NAVxhKIIZ4zIFYSIFnIISexc1o3davajmPNPkhRwD/qTG1qJE6PxwOG7w9CdRKy3ODE4iGIWlZTifFK4MeiFKCL53yO0kGXNSGTlqwU36vAINuPxodaS8F8OudwNaE9PTKFuCQRs/GusU0jQP7jwEL2oErLgI6jwI7d8rYIFC2GR1d4jumE4CmdTMTr77QLuL3KpQ9+DcBFNcv/fytBN2D3w0toZXWRi60vwrJn+1QQJ18+mlUSjVFAOA777xT1XWm6sanPvUpdY8SkS95k8u5wLz8w7lFnx2z9hALQFsAupBvp2x5LQCtdS0/cJFogablohqAVdRBOMhx8cnkQFe2CZH2YnGg4NVutZxUOB5MxYbkLravqqXIQksTwRkTrTk8yNGiw/oIhx17qBvLtn8W0qkxVa4uqkiwjQBBhwO+rkn0LZiBxr3DsEXjGKvzIuZwoj4Blsf8PoR9fjSe0GgdTMoMgmdAGk23PPPnMUjC00/fmXFA8dkhxTNHH1TiAKWkHVl0oH/xOtA1ojkTLp/nx95DGsi+dA2wex8wEQRWLQLeuRbY+DoQiHixfn+PKjDt+vk1mLj0q7AtPrfY4S35OQGgaf17uydx/Z5VW7zIBnL+6gE11zPyYoW6B/8uB91D0N3oZD1dUrZDAWU+KQ9Xjn7M1HcExxxD6jo//vjjatCUNWvWVLSbLQCdu7stC3SFpqMFoLWO1gNo8roYkISArdKJAIl8RG5otDYSSFcriIloOy3y3FgrbZEXIbkJVDgWlQpVK9pdLQk/OuSQM0hru56TKqx7p3qPYeGbn4C9px+245MIexxwnowgUOdF7eFxDM6uh78zAEcwigmfGxN+H5pOnFKbFfB5MVE3Ay3HTpye2vFGpwqCpaFUbrPS7AFGJiFloDwrdOiMTGQMoMIXxxUZcSUOew5hgH98TqvCpy/34alXx9GrSVPj3WuAjdu0f1+wGlizBHjiUWDG4jaseu51+H6wAWP7OyH9oheSS9ObrUbKFhmuGnUptcxKON0JuocA1OJASKulANSc82aoCvEb4nu5jk+XxEMBOcX6NrFPKfN5zjnnVIwmIyzQX/7yl1X/lH/7t39TjTxmUDOMjpUFoHP3lAWgjc6kEvNZAFrrQF41cjFiomwaARu5x5VMXIC4SBIw8uqRmwn5bZXm4Ka3mRZggtf6+hwh5UzuKH1IbhG2upLlszlGgriY2WzOP9J2eFVLaxKD1/D6WwS5UMuiPu/jF8N+5CBsJ4KYrHPDc3ASw221aNg7ipFWP9x9IbgCYTV893BzA1qPaNyISY8LI00zMfNI5+lqx5tcQByQKcysSyoXOsiAKlPRs1IrAyEFUiZCdAI8Kw7A5s6AvBNljAaBuzYB170TaK4FfvRwUs7ugsXAzgNaxvedD8zwAb97Dph/+TqsXbgbUnwS3btd8D/eD0OvGwAAIABJREFUb2b3F/wuAmjeFpAD/XZP2fi15WwXD4T8zoVcnqB76NU9CBiL4U+Tc0tQXuk1vJz9xTaxb/QRBwWAXrduXTmLTnm3cAL8xS9+gZ/85Ce45557VP6zcCAUmcW4FTN++RpjAejcPWQB6HwzyKTfWwBa60g9gOaVGOkKlbRe6AEjrY5cKAsJY23SdMj4GloZCOgrRWlJD8nNA00lyxedUElNcH1Idt488NBAYJauA+1+4SrI234P6WQQwRk+eHcFTofoDjR4IU8o8A5OIuKwoX92M9oPaDSNkNOBgfbZmHXwyOkxjja5IUOBPJAKnuNtPkhDkxnBc9zvgxQezxhAhS9W5aEbnZCVNPm7tJl1ZNiB5pYIatzAyDjwsyeTGZa2AN0JPvRHLwOG+4DdO4FV73Ri8UrtvQc2NmDmC8mDQDnnf7Z3TycAzUMb51qlb3n0fcs5L8A0/xYWTSGVR0BM6oCR1NnZqfJtqxGdz0j9ismTqU3sIxpZGAGwkkk4En72s59VjU0M1V2p/YHttAC0BaArOd+zlmUB6KkAmk4ZXLQr4YAirI60AHHBJ1VCcNkqCeByTUZSWmj1KPdmlC0kd7UoNZXSwKblhtYlEV2QBydGQaT2th5AOzd9AY43HoTSH0LI74F3ZwCnOhrQuGUIk34XInCgtieAmCyha1E75u7WPPTCDjt6Zs/F3AOJKCUE1I0e2GXA1p+qjBGf7YPUPwGJenJpKV5XAykYyAqeoyHAVi9BsmWQ6tC9KzwO2Fol2GQt3+Ee4H9e1jLYJcAvq7RrNV3/B8Cb27w4dXwC73gvMGshEAoAh3fPwuwX9lR1DeUYkfowHSzQwln5TFGtEPNer+7Bnwm6B8E0jQzZ6B5UiKARpBo0vHJNSgJl0uj0beLaQbpKJTnIAjw/+uijqgLHCy+8gHe84x246KKLVN8hjgvHSf9HOHSaQc+xAHT+GWZZoPP3kSk5LACtdSMXIgI4Ji5U/PjLbY3RaxrT2YXXjfrrrjMlqAt1oAmey3kdKkBkppDcLJ9llxvAp39Qleh/WtoInrnB8OaB846KCORA6y3Qzt3/COeLt0EZDiPs9MKzc/R0iO6w245xnw8Nx0bIxsCx5XMwf8dxbV7bZJzsWIi5exKcCADjDTVw2GNwpoPnOT5IfeOQksEIk11CNtNUIY3Tv495vJAxAcmWe1kKjQOuNGWxTfuB3yU4zx2tQL8W7wWyDPzJJyQ8eb8COiS+66PAjFagZzcQqDkbrfclorCYshIW/hICaI4VDzpv90QATXBTCaNBMX2lp3vwm+E6wbWSYE3wp/V0D67hpHxV0ipaTLsKeebw4cMqeNZT2bhGcexWrVpVyKtKyisoHOeff74aKTc98ZaAc4l/UxmEaxppiU8++aRp88uyQOceQgtAlzTFjT9sAeipAJpXZQQ0Znuk60eF/FoCJy5GlMzLFLQlUxQ+4yNrXk46qXDR1nPvzHs7VEdJ9kW2IDGVAPCZ2iOCyJRLBUVQVag3zsiS4uYhPYR7/MDdcD3zVSijYUSjLjj3jmJ4bj3qdwwjbpMx1FKPpgODqkbz4VVz0bH1mNocWqKPL16C+bv2nW7e6IwGOBxReHpT0XBssQdyZxBSfKr1WGmxQRrJhKoTr/UAii1jZO/T5RIAj3rqUOcamdLVT70JbE8wSzYsB7YkDMv+ejsue0cUrz+tPfKB6wG3F9jzFOB93x9gxvfvMXMaFvyu6QSg326yb4LuIRwS+X9+P0Iuj98QD92V9psoeBIV8ACphVyD9c7c3Ed4iKOMXaUTZexYNhOBvBgLoQHNv/lzrqN0jH/66adNM4JYANoC0JWe7xnLswD0VADNKzFeUxmJylXMIArgxMWe4Dkbr08EMaEesFn6mcXUlws3QZ7ZklBGQ3KXG8Bn65NyHWDYblJ2qGtNnj03Rf3NAzd/zhFVHq33JTge/QSUkRDiozJsneMItNaiZt+oGravf24TWncPqOD50Jr5WLj5qNocWqKPnrUMHdv3nm7eUEMjbE4Jtb1ayF2RYotqIB8LZFTbiM2qg21gKugVz8Zr/ZDjOUzTrEtUVciDM4uozX89D3SdAuprgHPmAZt2aW9vbwPmNgBHdmvW6A9/Fqol+o27gfnf+jJqvvgPxUxn057hLQHHajpYoN/Osm+C7qGXyxNyj1y3aJzIRfcwbUKU+UVcB3lDoA/wRboXwSmd+CqduD6yn4XeM/8Wf8TPmYf7GEE091OzHAotAG0B6ErPdwtA5+hxPYWD1hh++IxGaGbSO4oRNBE85VpQhAZztaMiloMTXkhI7mo4dXLcyxGFkfOKBzRufLzhyKStzQ2RahxL2gDHw1dAOTUKpS8GaSCEUI0PzmMTsE/GcHJxC9q2aRYgFTy/pYFnFUyvOgsLt2r62UwEz2GXB609Sfk6/jyyqhb2vaNqsBV9UiRAItVCU7/LmOK1tZDjozk/kVgIUNyA3Z892+2/BoJh4JLVwGiwBgf3axrYPD9Ee4DxUcBXC1x+HTB8Atj1OLDk/jvgfv91Zn6eBb+LAJpjxRuKt3uaTrJvXGe5ZghnXEH3oKqRcEgUAT/eLuMm1DZIK9QbU3h7RxoFlZr+NyULQOcebYvCUaGvwbJAax0tTsr8tz6UslnDwEWcmxSBOoGT0TDh1dJg1rebfEJuPmY5GLEvCgnJTQDPTcNsC3i+sTX7BkAorfDQRGtMttC7BGVDvYexfPufAL0DkI5PIhZUEIcL0mAYzpEIupa1YlYiRPeh1fOwcHNCkUIBDqxegcVbEmZcAMP1MzDsrsH8Ho3aIVJ0ZT1s+4angmfSMSifO5ilh7g6U985B6uDT8ZsHkj2Sciu7D09HgR++hhgtwFf+KAdj74SxUDCQL76LKA3cQZoagc2fAg48irQvR04a9sbsC9YDsRjkA4+D2XJe/MNp+m/J3DhLcJ0AdCcj+WiaZne+XleSOUerldcZ/kd69U9uNaTo6sP5lKpKH7F9oM4FHDvYL1FohIM+cXVDubDNYv7JikbNAzxZpVJOBwW2+5sz1kA2gLQZs+pot5nAeipAJqe9VyUzNoYaamiVZtWDy4sdHYxms6EqIj0aGedzXCqJG+U18WFhOSm8ww3jUo7OIkw4mbcAHAOsN20gHEO5IoadqqvB/XPvQ/ukyeB4xOISDLkgMwo2/D0h9C1fCZmvanJ0x1ZORcLEpxnWp73r1mBJZuT4HmkrgGDnlos6EmVfJtc2wjPjgzmZTsQn+WH3JOZlqHYZUi+eF7wTE40vBKkdNN22sQ/1gc88jrwiY960VI3gV/8Px5mtUyMQth3UPv33CXAuZcBm+8DQmPAioEhyEOH4f3V+xD0XorYDXcZ/aRMyzedAHQmjWHTOqrCLxLWWvoVpPuW8HciOiKttzzU8jsngNbL5ZmlFmFW0wn6uQ5y7SAdRSSuK+QaV4tGRKrZL3/5S2zdulXd49iPV1xxBb74xS+qVaQEKg0wl1xySUY/n2L7xwLQFoAudu6Y+pwFoKcCaL0KQimdzYWZYJxWKipI0IJa6MJcLQk3fbvNcKrkxsV+JWe00JDcZlvAjY6pGRQafbvp1MQ5kJMHqChQHns37Pu3Qu4KqlEGHSdjmHQ6UHNiEt1LW9GesDx3Lp+NObu6ICcc//atWYGlbyXB82hdAwa8deg4maB2JBo+cU4rvNsTUhe6zlBcMtDqgNSbqgstsiiMue3OHFxF36cRdw0cTo2GkS/tOulC+5wQGuqAsTHgV/+VfGJZKzCUqObSc4CFy4C37gHcDXac9dD34X7+K1CCMYzNvBnyZ7+VryjTf08ATapNR0eH6e+u9Av5jRNAllNpp1JtymatzVQ+v08CUCGXx38zCXUPHtx52DeLu1tsHxD0cx3kYZ6GGJE4B/m7asxB7ms333wzNm7cqFLRaOCg5f+6667DN77xDdX6TKm7v/7rv8Ztt92Gyy+/vNjmT3nOAtAWgDZtMpXyIgtATwXQvI7i4sBIcMUmXmWRskG6Ai0hxYbBrpYChb7dbAeTuJYrtE9ESG5uUuyLQj3jKyUrmN4uAaBJt8jEVc7XD/rIkkbbbXvlekivPw7p5CRCtR64Dk4i0OBD7aEAehY3o3Vbv0q5OL6kDe37+2BLCCZnAs/9vnos7E4GTmF9R9e1o3Zb95SqKzU2oCYOaSizhrPCPdvvgBSMZG02n4zEHXDWZ8+jfzgSAKTZMuw2TT7y2HHgiSe0HD4f0CIDEwlD+NkbAE8cOPwK4D+rFav+sBeSBExsByLX3wn5PdfkGw7Tf0/rG/9UA7yY3RjeMpHuUGmpSLPbwffxuyPtK91aa6QsQfcQDokEp4LuISgf1aB7cB/hIYcO5fobTB7gmMz218nXV9zffvjDH+Luu+/G1Vdfrf7hz66//np87nOfU4E1E7+Pd73rXfjIRz6Cb33rW6ZROiwAbQHofHO0Ir+3ALTWzVw4CfSYuCjRcrx8+fKixoC8NOHVzkVcbzEo9IXVUqDQ15NtoVWnGFWSTBEWC+0DbhxUKiEIrXTauXOnuhEXegASG55Qc9Ffu2Zrg7z5b2F76Q6gZxLBGi88uwMYbq9Fw55R9C2Ygca9w7BF4+juaEFz5xAcIQ2o7ltzFpa+lXQYHK2tR19NAxalgeeBdfPRtC3VGs3nFfKZ/S7VSTFTUsG1HZBEdJMsDYjXuCDLmd+R/khkHHDMTf3p9u3A71/VfrZ+HXBss+YQyXThB4BTu2UMH42jZQ2w+MPazwf/B7DfvxHSvMo7UREc0AK4YMGCSk9L08ubToFHhLU2l5+B0Q7Uy7MRVAu6h5DL49+56FhGy8mXj+soDRk8rOlVm2js4f+LNW7kKzfb77k/fuhDH1IBPSkcBPXUo77ssstU+oagcHAvJajmreN//ud/qv1X6C1spjpYADr3yFlOhMXO7AKfswC01mF6AM1NkXyuQrU19df1FPCnE0upi0W5JOQKmSbFqpKkh+QudqMhP5P9WE5d7mz9UYwTJw9Q3Ox49ctN3Ej4YXn/nbA//beIDwYRcnrg3T6Kwfn1mLF9GIOz6+HvDMARjKJvdiPq+sbhmtCumvetXo6lm5MR+cb8dej1N2JRdzLqIPOdXLcUbduSetCivfFmNyQbLc+ZQ28r7U5gLDzF0TClv7ha068pTxAVPhOHhFhEgWPm1B5/8SVgd0Ky7iNXAr9/LJnn0mvs2PtgFPEIMPtiYN6lgBIDem4DarpGGNu3kCltSt7pBKAzRbkzpZOq8BKCXh4I0ukOpVZF0D2EdZqglonfubBOl4vuwTJpyKBfjn4dJSWOBppKGReEUyBvRj/84Q/jhhtuwF/8xV+o/UC+80c/+lF85StfAUN8M/EmlxZpAueHHnrodHj2UsfCAtAWgC51DpnyvAWgpwJoOroRtBFAG+W+CXkyLnR0tjMrAla1HOj0k4uWBVpUjVrasoXkLnbClkohKbZcPkcnTo6nEdoJNxdahGidKYTnLXX9BvbHPw1lKIho3AXXzpHTIbpHWv1w9YfhHgvh1Mx6eMYi8I6Mq03av3IZlmxN6jwHampxsq4Zi7sOpTT54Jp1WLTrrSndEJvlhhyKQhpLeO2l5VDm2YHBaE7wrPi8kKQJQM7fy9GIBLnZCdmW2Ur9618D3ScBBvZbvgDY+GzynRd/DNj/gPb/hX8AzDwHCB4Ghp92wHcoh9Ze/moVnYPWNTpxGf0uii6oAg9yneGaZda6VYEqZy0iG93B7DrR6EIQLRQ+BN2Dt03CIZF0D6N7SK760amd6zCjk+rfR78SllUpB2sBoLdv346Pf/zj+PznP48///M/V6u+efNmlf/89a9/XbU6M7HOf/zHf6wqc9x7770WgDZ7EmZ5X+XNCRVq2JlWjAWgtREh6OMCyMTFihYMitMbsSCT20uQx7xmXBvq50i1+L/6OjDoBzcJI1zPXCG5i537pVBIii1TPEerCjenfMCC84f1pPWZNw8E0IbS8A44HroSytA4YuM2OPaPYnj+DDRsGUSgwQt5QoF3cBLDTX7Yw0DNoEYK3r9iMRZtPwhZ0TgOYzV+nKxvwZITqeD590suxkWHX55Sldg8L6RACHIgsxZdfF4t5FO5NZ7jjT5IkQlIgmeRo8HhAOCYY4MkZ9e+u/s/ABr1PvJhYLgb2LNJe6HDBaxYA5zcqP3/rOuAhkXA8FNAZLQe7o2p8nyG+t2ETATQPGzzGvvtnsgZJv/ZyEHxTG+riPLKg00l+cp6dQ9B9+Dtk17do9hbOK4rXIcJoNPXZtLLCFArkQSApnP7tddei4svvhi33367WvSLL76oWpu/+c1vqr9jeuutt/DJT34SV111Fb7zne9YALoSg4TcUWErVIX/HcVYAFobZz2A5uJHiwzF6XNdv+stjlzEaKksdoHMNtvMUMAodSYblfXLF5K72HoUSyEptjz9cwTQVM7IBYh5ZcwbC95CZAvLnrEuk71wPLwBSu8glME45BOTGGurQ+32IQR9LkQkB2p7Ahir9yJuc6Kud1h9zYHli9Cx+whsMQ2MBmr86KpvxdITCc23RGEvLr4YlxyZCp6DS+rg6h2DFNSc9/SJAVSUhTWQe3KraMTr3JAVjUaSL4UnbXDMiuVkWYRCwF3/DjQ2Ah//GPDGCy507dUs1bUtQEMECA5pJa29CfA2Az23A441HXA+tjVfFcry++kGoKnAUSjXvywdW+JLBV84ne5Q4msLepx7Ay3hQt1D0D1ItxCAmpZqo9bpbFEvqb3Mg0+lnT95cKTSxlNPPYXvfe97Kp3jtddew6c//Wn86Ec/UqXseBt36623qiG86XD4vve9z+JAFzSLis9sWaCL77uCnrQAtNZdegBNCwa5xxSnz6bZrFdYoIWSAMvoYljIAFWTviDqmU/Wz2hI7kLarc/La0CC1GpY+vLJCPK2gmPEecLbB8MWr2gQ9kcugHTiBJSTYSjDUQRr/fDuH0HUbsN4jQ8NnSOY8Lkx6feh8YRGUzi0tANz9x2DI+HwqoLnhplYevxASve+tPhibMgAnkMr6uHsHIUUyQCe6ShIY6omMZ0xEWCT7ywZ4DvTMB33OSF7MvOr9QX09AAPPwJs2ACsmAc8/1sJwyc163ornQ11RuZ3/DWgjAB9dwCeay6A486ni51aJT1Hfictg9WYlyVVPMPDXO8YRGU6AGjBF6Y2spEbRLP7MtP7uL/oQ41zPeN+oXdG5BqSbQ/JpjlO4wIP+PluyMrRxtdff111FuRB4cYbb1Qt5A888IBqhb7gggtwzz334JlnnlEVOL773e+aOhYWBzr3iFoAuhwzPsM7LQA9FUBzQaD6BRfgTNHizFCWMDq8pAUQrFdapkhfv9OhpRlbOS0VEpLbaJvT85UjMqTRutBZhpa5dAsPDw20QLJuvPbm7YPhzToeh/3JdwMHdkHqmkQspCBq88BxYgJSRMFQSz2aDgwi6HFgtKkBLUe0cN1HFs/HrEPdcIY1QDruq8HxxnYsO7b/dHPiEvD7he/ExUdfmdLEsdWtqDnQBymhG63PoDA2QysgJaIAZuwfO6A0eSBNaM5TOROxL8N354hCqH9+z17g1VeBP75OgmOOgkf/EYgl1PDmdWh8ZyabGzj/r4CxV4DR54HYTR/A6Oe/p1r1+KdcTlyZ2koAzQNUNb/NfMNg9Pdc7wjEipFrNFpGpfLR6ktgmc4XrlT5RsoRdA8BqrmO8rZTD6j1t5/Z+PbcH+hAWI1x4xr4/PPPqxZnzp9MiUodX/rSl9SbOTOjEloAOvcsswC0ka/QhDwWgNY6kR83rQJMXNwInMj51YdNFaCJJ22GlqYqhNmUjfQhrab1VdSFQIEgOl0Xu9CQ3MVO10I42MWWke05Bgbg7YI+wAStSRwXWoV4+0BwXcjtg+2Fj0Pe8jvgxAQisg2YcKgqGI7RCPrmNqF19wAiDhsGZjej7YBmDu7smIOZnX1wketA8Oz14VjTbCw/llTWIHh+teNCvLMzoQWna9To2nb493RndgisA+INHsgD2YGxQquzD4ABlTrF7YHknjSkyiGq+PuNLsQdwMWXhzAxAjx1m/YbimusWAT0J/Znbwuw9kag/y4gfAJw3vbXGL3ys4j07cKsLd/AwQv+vWIhmvlNEKxNFwDNuUwt6Ld7yuZwd6a2S9A99Ooe/BnpHkLdQzgqps81Usf4M+5H5U6sk0hcA8Xex1s60jcIoqlMw8MA5xGt0FdeeaUalMYs+TpRvgWgLQBd7vlu6P0WgJ4KoLkAkPvKq1mxMOktrbTUEFAVApoMDUaGTLRw0uJtxIGv2DLyPUfrB2kc5ISLVExI7nzlZPu9UQ52se/P9RwBNK9Heb3NJJwkediiVaXQjUveeDNsr/4S6JpE2OWArU8B1Sk8vUF0L25B+7Y+xGQJ3QvbMWdPl1rm8fmz0Nw1CHdCNmvC40Vn85wU8ByTJLzRcT4u7HxtSnMG1s1D087UUN4ik9LiABwKpJHMShzMpzR5IcUngOxZkhtrvR+SPFaQqlx8DHhqk4QL3qOgoQnoOwy88ivtle3zAX8UGD6h/b9hMbD0Q0DPDzWNaP8z98Pp3gXX3m8jfrQZ3TduUkGtCNHMa3E959TwLYGByTSdADTnOW9RCp3PBrqp4lm4NnHNSHe4q3hFiiyQYFOv7iEMO5y7PKwTVAu6B31k0g09RRab87E777wTP/jBD9Q8999/P84+++xyFGP4nRaAzt1VlgXa8FQqLaMFoLX+01ug0yPQCa9uLmwFOYmVNjTq09UEj6L6tCoQyFOVpJSQ3MV2B8E7N0VSaiqd9IFsaAWixYeWF1p9svHjs9VR3vMj2J79DtAzgZDbDeeRECZdTtQcm0DXslbM2twLMpOPL5+DeTu06I9dc9rQ0D8Gb0Bz6iN4PtoyF2d1JuXrorKMTfPX44Jjb0wpun9dB5p3pmpCi0zRjhrYxwJADkaG0mYHJmMZaR8phSmA4rNB8mRX2UivHHWclTAgzwNefAK45Eotx6GNwLantH9vOBs4ehgIJQRBZq4DZs4Chh/Vft9812o449vVf8feXIqJf9KkOzhP9SCEtyU88AqJMYLqUiXGCKA5J4oJMFTpeZyrPPYV5/l0AdDZHO7OpD4vpC50TuYtHOcwE+fdP/3TP6nAmVKr1F4up0Y+D1csg4l1+dM//VO1bK5/pJnwD6lT/Lb4N/9PsM/vS/yfNLdSAoql95cFoHPPIAtAF/KFlZDXAtDJzhMLFH8iAmiI63qe+gmejQTFKGE4pjyaz4HPzLKyvYsbErl2pHDw72JDchdbVwYLIF2iGhYlOleRX8jNgLQNXk2Sc1godUc69iDsj38BSv8Ewg43XHvGMDbDh7qDAXQtm4lZb/WoFtUjq+ZhwVbNWtzT3oqa4UnUjGrocdLjxeHWeVhxNBk4JWyzY8vcc/CO4wmNN10nn1y3BG07k/xoff/Hlnsg94QyOhOezsfAj4lQ2jkBmN0OyRUF3MZHOKY4IDsikGYAsShw7BCwYKn2/NbfAIc3AfXNwCVtwOsaPlbTvMsATzcQ3EtKiYz22xLOkCeBaN8FmPxOZodCbvziGpx/C85pKRJjnJcE6W93AM01jvOc85r98XZP2Rzu3s7tIoDmnOUhh3OOVmDSJhgplRZqrs0XXXSR+ue8884r+HCfrW944/aJT3xCNaCIsOHMy8MoQTKdTgmcuXeyflwX9bc+/D/3sL/5m7/Be97zHtOoHBaAzj2bLQBdoa/dAtDJjtYDaAbQ4OmZmy2v76mzWQnKRvqw09pADnI6/7hC00MtRgSWEQoTBAxGQlObVcdcToxmlZHtPQQWTLyF4BzgXCh4HpzaBMfDH4UyEEBEccG1YwTDs2rRsHsU3Utb0b65VwXPh9bMw8LNGnjundkE73gU/iFNum7S7cGhtgVYeSQZsjtkc2D7nDVYf+LNlOpHJRnHV52FBft2ZmxWbE0N5CMBSFOFONT8CoOizJIhjWTJoH+rF1A8dkhG+B3iOUrlNciQ7Nr7Q5Oa1rOcCMby8i+B/iPAutVAkwxs1anULfogEHtWhhKMwz4baP2/iZc+B0RWX4PgF+7MOyWySYxxTgvOKa1l+caZAJrzotJhlPM2sMAMAkDTiqn3+SjwNWdMdt6Y8U81aW9mdwYBLBM15vWJ+xRBLhUxXn31VdXw82d/9mf46le/akoVfvzjH4P0jW9/+9v41a9+BQZQueaaa1TfD87/Rx55RN0jSXfkzwiiRRwFAn0aH/iNfP/737dk7EwZEWMvsQC0sX4qOZcFoJNdyJO82Fx5pckNlGCxmo41mfjHJQ96gS/g4k0QT34kwUKh1tcCi5uSPZsTY6nvzfc8rZa8vuScYLuL8nQf74Tjwcug9A8jGrTDuWsEQwzRvW0YJxc3Y+a2ftWx79DqJHgeaG6ALSyh4dSgWsVM4HnS7sLuWSuwrmtzSjNCsgOH567E8pNbMjZvbH0D/HsSgsoZcigeGWh3Quo3oPFcDyg246L9CvGyW4JUn3RGylTJJ/8FYN73dwCDMrBvWzLX0qtrEPofjc7iIsDWgqABPwGCX/k7RD78V/mGdcrvRUQ53qzwD8edc1yAaf6d6eZpugBotp+BVDjHK3kwLnigDD4wnfS5RZOpKsI5mR5xkPsU+ciC28+2c75mUo8y2H2nsxGMM9ogIw1Smu5rX/saHn74Ydx3330qnY860HS2p0zd+eefrzpbsx40uGzZskXNxzrfdNNNuPDCC41LfBqoqGWBzt1JFoA2MInMyGIB6FQAzes/LlYETXTYqFSI1GxjqecfmzHehbxDH5Kbz+ULLFPIuwvJW41DhJAqJJjiNWVRHMPwGByPXASluwfxEQX2gwEMzWvAjC2D6Js/A437hmGLxlPA82BjHSTFiYa+frWLgi43DsxaiFWHd53usnGHB/vblmBttw5ZMqCK3YvSPtvUAAAgAElEQVTu5iVYMjg1sAj1myfXNcO7V3tvpqTU2SHV0WMv9+jwXVKj5sRnNMXhBGptkKnOkSNFw1Al7JafBSy3AcdjwLGk0R1LzwdCr2sv8L0LqP8kAEpk3wZM3HsfYms/YLRKmftAUVSLngDTnAdCESE9AAavpnlr9Xa3QHOOM3DUdAHQ00leUExSUudIjdBHHBTc9XPOOSfvbUmhHwWNSYweyJuY//7v/1aBsADQpI/wZo6RBQmiBT86vQzupQywQlrJLbfcYurhzALQuUfUAtCFzvgi81sAWus4Lkb0aObiS+DMayhaHKm4Uc0k+Md0Fqlk0ofk5qJNDl61ADQPESx/+fLlFekC0ecETDxE0CqXfnWatyLUen78YkiHDyI+EIbUHcJoe70aontwdj38neNwBCM4snIuFmzVooQM1/kRc/rQeFKTrgs5Xdg/e1EKeA44vDjUuhBrenakVGHYWYvB+tnoGNGhzUSOuENGaEUDPAe1YCyZkjLLA0RDkCZz0zYUO++RayBN5I5UmFIGHQyb7JBs+WU8hrqBF/8duGIl4I4D+4IyBg4k6iQBCxuAmGaYR+1VgJ94mcEWnwXG3tgP1M3MOzSFZMikiEArm5Dm4rrxdudA81s/cuSI2g4zLJeF9G858k4X505939B5mXNOqAHxd7w54LitXbvW9G7853/+Z/zHf/wHHnroITWgGJMeQP/kJz9RedF33XWXukfyEKa/pSEAJ+Dnexhc5Ze//KVKQzRLC9oC0LmH3ALQpn8SWTZOvbhjhco8E4thN/BUTWsj/9AiUxRwMrlxgn9MAJ2Pk2lW0ekhuQkieMXLBdBwpD2zKkNgOTysOvDx2rCciXOAqifcgClTyI3h6NGjqhWGzjuFJNtvPwxp52tATxDKSBwT9bXw7xjEaEst3P0huMZC6DxrNubs7IIcVzDm9yHoq0fzCU26LkjwPGcxVh9K8phHnTU41jwPK3uT1mjm7Xc1IuhvwJyx1FDe/F3U58TEfA9qO0eyV38ZoPRKkGJ5TMrkO9c7IYXyRxZUC+PrCLhprTaYju0A+rYD53oBzAa27rFh/Kim7FE/H6g/mnxRw58B3vMB3AkoA0Bga0Kqw2BZxWQTATD4jfCQzcRvQu+MaKZUXjF1LPQZgh3OcyrLmKmUUGg9zMo/Xag1+v6gcYcUOn1AJ4JW/txsSTnSL6677jo1yuAXvvCF09XQA+i///u/V29p7r33XpW6IRwIRWYBqP/1X/8Vt99+u8qVpgHGAtBmzfLc77EAdGX6mRO6gIvYClWqSsVwcyRYZOKGwo2RnunVTMIhg+Cx3BtztpDcIrQ5VTCqscFWwgrPDYAhudMVRoqZB/LrN8L2+oNAdxCkJITtPngPjGLSzyh+CryDEzi+pA3t+/tgi8Yw7vVgvKEJLZ2adF3I6cTeOUuwRgeeh9216J4xC2f1JRU4mLfL0wbZ7UDbhC7WdWLCBht9UBoc8PTk4GSsYpSW/DNcmWED5Dgkg8uFQmUOZxQoML7D7t8BbeNAw3kA1gGvfwmIJejYS98JhHQBFpv+CnDR4PwDQJnpQuB32ekp+VtYeA4hLUbwTEcqfidCKk/wp3OFZy68xPI8IQA0HcEKlWYsT41KeysPwVzLi6JdlVZ02Z6mpZmGHYJVkThupBuuXr3atHIJfEXwE1qO9QYTPYD+6U9/ipdffhl33323yn/OlsidfvHFF/Hss8+aSnWyLNAWgDZt0pfyIgtAJ3tPD6B5ZcbNsNr8Rm7MtIaXmz6RKyQ3F2o602ULbV7K/DPyrLDCr1y50kj2gvMInW9xHa93pKKFh1eTRg9S8o7vwva7f1EDpURgQzzkhKNrElHZjrDsQO3JMXR3tKC5cwiOUASTHhdGmtsw87BmWg07HNgzbznWHExqtw166tFX34pl/cmog8x7pGY+amxBNAc1yoc+jc+iQ08QnqGJjP1BKkb8LD9sR/Pr1CkdHkgjBsJ3i5I8gFJjhyTlp2ykV+7gq24sencQaAZCw8Cbf6nl8LYBixcCIzoA3fqPgJ0S148D8VVNGH8gs951wRPC4AMEagQcYm7wGxJSeTyI6cMzCwt1pR1wjTSFPG7O8+kCoIXkm9Fv1kgfVTsP9wCCZ+opi8RxY1vNXBe51q5fv95wc3kref3116tOgry141rJb4DfxnPPPYcf/vCHqqweLdFmBumxALQFoA1P0nJmtAB0ZgBNpw1ao6vNb6QTE+kT5KGVyzqULyS3CG2+cOFCUx1BjM7rsbExdYMvB41FH1GRY52utsCDFC3/RqxZ8uFfwvbkXwInxxGyOSEPkH8ShRxSEKjxoqFzBL1zmtDQG4BzIoiQ04FT7XPQflADfgTPu+cvx9kHkuB5wDsDQ/4ZWHwqlZ6xv24xmuODaAhP5TWfWtgGf2AIzvHMShpKDRCZVwvn8dyUB8UBSHMA5GB/6MeQV1kS93cH/2F0dHX5AsDYDMCfoDEP7wV2fV/7/eINgDMAjAvREQlo/zdAYsTCw0Ds3csw8dOEFnZ0Egj1A765RVTC+CO5gJoIzKR3RuSbyTEWYJr/rhQtK1erxAFywYIFVaFoGe9xYznJzWX/F0q7Mvb26uQivZD8Z1qhReLeQLqZmdQ2zoV/+Id/yNjIN998U72Zveyyy1Qgz8PjY489ps5hWqGFEyoB9MaNG9U1m5QTSuHR0dHMZAFoC0CbOZ+KfpcFoJNdxwWBViMmcm5peaVVppqJ4JZSReWiTxgJyc1+2bt3b0VCxmbq63LQWLjBkitJJQVadugkmAnMGL6JOPkiHI9eB6VnDGGbE47OCCJRCc7BMIZa6tF0YBADbfXwjYThGWUwFTv65i7A7H0H1CZH7HbsWrACZx9IKmv01TRhzFuLhYOpltVdM1ZibrAT/thU63HfigWYcfI47OHM1t9oqxuSLw7bQG4es9LgglQTAjIbsKcMk2KzAw1xSLIB7ej0p1kVFwCCdV06+Tvg8H8Bznpg3TpgsBMIJc4Rch3Q9m0A3wMYvjH6R5dh8pZHYO++F+59/weTs3+O2OIPlfXTLcTSycO4PpALD6U8mAkwzb8rHaRJD8RIX6JucrXqYOZAce1m31ZbQcnMNnEPYHv0kqqcT1QoqpRztZ7CQd41944nnnhCBdHbtm07vXey3XQ855514403FmTRNtpnFoC2ALTRuVLWfBaAzgyguTlygaq2GL+gT5ht/S0kJDcPFXv27FEPE2Zewxmd2LTikQPIjcKMK3C2h9xBWrYJnPW8wvQ6EVjkVVoY2w/Hg5dD6RlGWHHCuS+ASbcLvhMT6JvXhNZdAxhu8sMellAzOAqG3u5etAhzd2tRAgmed3asxNr9Sfm5k/5WBN1uLBhKJShva16LJYG98MSnUiqOrl6OuUf3qk6JmdL4Qh88E5OQx3OD3Pg8F6RgGFLUoHsEKRt1DkjxiNEhPZ1PCbsgtYcAOg2mpcP3ASd/C8y/EKBISM+WpAKHowNooQLHQ9pD4b/6DGyrNkOObIG0Gxj72E6grvwWaALjYiyd/K71gJpzTERwI5imdbrcPg/pAJprjBnfV8GTwOQH+G3zIFBtBSWzmpUt1DrXLxoXhEqGWeVle086gBb56OQttLdpFWdqaGhQaYflShaAtgB0ueZWQe+1AHRmAE0OFxco8n6rmcph/eU7CwnJzQWcovr00q9GUBkzeeAELrxaJIgmZSNf5LW8VJ7QIBwPXgTlZB8iYQdcu0Yw2uhD3YEAuhe3oH1bH8bqvYjbXKjrHUJMAk4sXYZ5O/dq4Nlmx86FqeC5q7YNMacdc4c1p0KRNreux8qRrXAqU4Hq1uVrcPbxVF1o/bPjq5rg6ToFOQ8oVhYDGCyAgVEHKK4C8otKUdrOJ0Fqyg7Sd/0IGDsEnHshYOOt0PNJ7Wn3OqCRdJGET6XyNQ+kpdrmrTwuI/DtIcYbLuunaxZVgN8XgQcPipzrvHXibQjnpt4ZsVyNYZmc59MFQGfSTC5X31XivSLQTXqkSFqAOW8qtUdlA9CV6IP0MiwAbQHoasy7KWVaADozgOb1PvWHK3W6zzYZzLb+igAhLK+QkNw7d+5U8xcVja/EmS544KXK6NFaQ4syLX1sixFJPlqzeODg4WFKikVgf/QioPMoYgEJjr0jGG6rQ8OuEXQta8Wszb0Yr3Ej5KvBjK4BMg3QedZZWLBd02omeN6xcBXO2Z+MGni8fhYkWcHs0e6U4t5svxBrT71Ot8SUn9PY/OaSc3DeydSIhCng+ZxW+A725hwFxSlBmqeo4NlIUhwypNq4hmyLSc0APLkffPNrQNN8YH4dwCND33PJ/DXvBmoPApI4S/wTVMdDhADlXhcCPyu/Ike28MrFdIf+Gc43Aab5N63cnKv6yIhmWqdZBuc5gZiZ7y21H4p9nt84Lfh6zeRi33UmPJct0A0tv6QCVfuWtBp9ZAFoC0BXY95ZADpHrxOscrFiYkAVguhyXkMZmQBmWn95ICA/kFfEhYbkpgWaXu16L3Aj9Tcjj5DRK9aRUi/Px/rzyt0oUMjKhVcU2J6+AvK+rYgPxiAfGcfwbIboHkLX8pmY9WYPgh4Hxhob0Hy0T9VEPrxqBTq2ahrOUdmG7YvX4Jx9SeDb2TAHTkTQNpaqqrFp9juxvl8nP5Ho1KDixI72lVg/lhk8x+0ShlfXY8bB7KG7+ao4dZrr3ZCHDYTv5gMNgOJ2QIoVRtlQbc0uGVJLPK/JmmyQN/4cWHcJ4FSAyRgw+EJyNjVcWQvvloQTJA3NdyY0p3cC8X2NGP/+ETOmXs53cG7QUlxwkJ0Casa5S4u0cEbkt8BEpRjBn6a0ZCnOiDxYsi3krJbyngKaVdasvGFi31AVYjqkbDrdXM95uKq2n041+tgC0BaArsa8swC0QQBdzRDa6VUkeOX1nd4Du5DJow/JTasMHTwK3SjJgaYTC7ltlU6lOFKy7QQHtNaw/vQKL6TtfJblU6FAn2wvfQrSlt9A6Y9A6gljtK0eDZtPoXtpC9o39yHisGFgdgvaDpxUwfPB1SuwaEsSPG9bsgbr9iaB7+HG+fDGJjEzkGop3jR3A9b3vjSly4eVWhzzzsVqWzLQij5TuMaFyXlO1B3PLVMXW2iHFI5CNugsCMqiF4ab1Wopkg1os0GyGwvCMn4C6H4IWEyrMoCxCWD0tWQLWy8B7Jr/JUAqx78k/v0AEGtagomvv1n2aVoJAJ3eCL1UHqkXPPCTt6wP5FKoI+B0A9BUiiDVTB90pOyToYwFCJnBdJUUGnloCKi2UlQZm5711RaAtgB0NeadBaANAuhKBO8wOgF2796tWrmKAa/6kNy0OhfLYaYKB4F3Loc7o+0pNF+xOtSi7XyebS/GAZLX9LT66QG0vOVvYXv5F1B6goiPxDHeUIv6LafQs7gZrdsGEJeAkwvbMXtPlwqeD6xZicWbNaAbk2VsXbIW6/a+dbobDjZ1oC4yiuZx6t4l01tzLsa6PsapTk0n0Ypxdw0W2Q9l7MqxmT7YvTI8A7nBc3R1HWwnRyAZEM5QnDKkmXHAoJE6pWLkO8+VIEkGnRIBDLwJeA8kfQsH+4DJRPRyWyPQOh+QTiZK6QBwC8M3ArgNiH7gEkze8Fih06zg/NVWexBSecIZkVQn/owWaQJq4YyY78BIXw/O82rT1QoegCwPZAo6Yta7q/EejmsmlRTekHKsp5PetdH+tQC0BaCNzpWy5rM40MnupbWSoIupnNrDhQ5oseA1PSR3KVEE9+3bp16JVsOqU4wONUEFJehojaOFplgN7XQ1Fnn/z2B75ptQuicQC0kIOX2o2TmEgbkzMGPfEKRoHCeWzcHcnZoD4P41K7HkLR14XroW6/YkwfO+5sVoCp1C40SSfEw8u3XW+Thn4PUpU+UQOuDxTKLdJtBjapbBhU2omRiHczx74BMGUQmv9sPVmT+ICt+uNNiBGtl4CO9ElRRZguRWgCJu0gNvAjXCwkz+81EXIodC6pvrrgRqaMwXxuxzATDiMAH2Y0D4M59C6CM/LvQzKzg/ecO0/p4pcmlcv/TOiDw40kKpd0bMxPunMxqdpknhmA6JQUdobCjG4HAmtl84eaZz1CnBybEtJ4XoTOwP1skC0BaAPiPmpgWgMwNos6XTShlsglcCV6OcvmwhuUupAyMRckOqhmNOoUoklFSiRY3WdlpnSpHmIoDmXKBCAbqehOOxP4PSFUAkZkMs4oL7wChGW+tQ0xmAYzKCIyvnYcE2TXouH3je07oUMyd60TCZDLUdkWzYO+tcrOp/Y8pw7ZBWYI7nBOrlzJFN+lZ1oPHEUdhi2U3KsQYJ8TYbHL3GogQqpGzEJEhZpPGyzilK2zXaIcnGypnynldTQ4x3vw4o44BcD8z8CCA9o3vifQCuBfDfAA4Cwa9/F5ELvljKdDf07JkGoNMrzYOncEYkCCPA5kFSOCOSR02ATQBNMFYpNQdDnVtCJgae4lpZLOWthKLL8mg2ig3XJraRN4P/25IFoC0AfUbMeQtAZwbQZik/mDHIFNGn85sR8MpNkhs7KShC4zjfFa6ROjISFhU4qrFYCyUS0ih4LZ0t8eBA4EwAzXqyv0ptOy1z3MAWzhiH46EPQukaRjhuhzQkw949iYkaL1wDIbhGQzi8ej46tmghufevXoElmzXOc0ySsGXZOpy7J8nL3dV2FmaPHkddKGkFnrS50Nm6EstOJS3Uoq1vSOux2rsDHikzh+LEukWYfSA1WmF6PwXn18KhjMEWyE+lUBwSpHZ67xmZHbo8dOgjTb6mwOfSsitPOyANardBMRvQkwDMte8H/LRo6xQ5VPC8QaNvIAaM//gxxOdfUloFDDz9dtIbFlJ5gu4hpPIEiObPeUgs9Xsx0G1lz8K1it9/NRSDytE43oYSLKffEHCtI6XOqGGlHHWr1jstAG0B6GrNvZRyLQCdGUAL5YdyRQAsZPC5IdCami8wQL6Q3IWUmZ6XVh1yiPPVoZQysj3LQwF54LkCudBKTcoGx40Ol2ZtnrTMBQYOYemWP4FyrA+RuANyVxTKSAwxyQ5MKvCemsCh1fOxcLMAz8uxZLMmUKyC5+Xn4tzdm043b3v7SiwYPgp/OHD6Z2N2H3qbFmLRUDKMt/jly/I7caHnVdgykJWjdhv6V81F26HcqhPDq+tQ1zMKKZYfPFMOTvG6IE1qlAmjSal1QfKFtFDeRSaFxnOXHfhV9DQ3O+QABp4CZD/QehUgs1p6v0rSN5wAHtcKHfufLsDlL7IGxh+j3jApEdX4JozXMnNOfi8CTPOASIBNupPeGbGUm5tS61fK85mi9pXyvmo/S2MI+c7pNwQ8wFXLL6XafWIB6NwjUF4F/GqP/hlUvgWgk4MhnHL4k3JFACxm6Mnp47VrLq6lkZDcxZQtnmEdaK2qBt8un5Sf0Lam9Yx6zaVwvdP7qP/kcTQ+fwWcPb2IhO2wH5pAOG6DPK4gIjvgPzmGQ6vmYeEWjbZxYOUyLN6qBUnJBJ63zlqNxYMH4YskZS8GnfUYrZuJ+aPac/r0gu0SvMvzYsahC3h9mJjfiJYTx7IOrSIDY2tbUEspPSOJNFjiei2ivaFESC7NAhSbBIlek8WmMUCZ74IUCAF3J18yLgHDvwX87wNq26kxCUBvpKcDIc8nhxicRUbgviQlptiqGHluugTs4I0NVYdI0SLlQ0ST4/cu6B6lSuUZ6U8z8mSL2mfGu6v1DhHpL13vmfOPkpzThapSSP9aADp3b1kAupDZVEJeC0AnO08PoAXvNh9toISuN/wovcq5gWUKGVxISG7DBWbImKsOpbzXyLMCQGcK5MLNhZaYYrSt85Ydj0N5dANsh/ciHrTDvn8Mkx43XL0hBPw1aOgcxpGVc7FgqwZgD65Yio7t+yErihruZPOK83Duro2ni9k8+2wsO7UP3kiSF9HjbkHMV4NZgcMp1SHl+BXnO7HBNVX/mRm76lvha4ij/lT2gCEhvwPxeX54TuaPjqJSNhYrQKoQSN4uUtxOSDPDSIvvkvc5fQZanVVmytLET8l8eSKZYyQIjG8FZl4NyNwZaGzXORjiHwH8OwWtAWWWF4E7Ejra0T7Yhx9CtOnGgupjNDOVEfhdVoPWZLSORvIRPPM7EkozpEwJZ0QCaiGVpw/kUqhUnpF6mJGHt1W8saPvQy66lxllVeodPODQCp0upcn5V4qyUqXqX45yLABtAehyzKuC32kB6MwA2ghtoODOLvIBBgbgdSqpCfpUaEjuIotXH2MduGlWSzIpXQuboJr85IGBAZUDyGt0s/mbthc+AWz9HaIjcTgPT2CswYeaI+MYaqlH04FBdJ41G3N2dkGOKzi0fBHm7z4CWyymYsm3VpyH9Trw/Oacc7Cyfxfc0SQt4rhvNhwOYObkiZShYYCUba6z8Q5nEnzrM+xtWYg56IEvOJ51SEfn+OB0KHCP5Bd4jra4IdVJsI0URniOt9RB8oygAHW6qfWNAcpMByS3TlyaAVN0TT/VBzhagVox/UklF2cCe0KB40nt1fFVbRj/zl64Bm6GI3Y3Yl2XYHLdr0uZ+lmfnS4AmgCNN1iZAnLwO0t3RhRSeXpnRLO/vWIHLFvY62LfdyY8R71n0mzSo6FyTT4TDDzV6CMLQFsAuhrzbkqZFoDODKBzWT0rPXDcqJlobRCp2JDcxdad/GJukvo6FPuuYp4jB5oWeDpTcpNkn9A6VkqAmVz1kDf9BeTX7kH8VARy5yRGW/yo3z2CvrnNaN3dj+NL2tC+vw+2aAyHl3Zgzr5jcESjGnheeR7W70wiwI3zzsWanu1wxZJBRA77O1AnBdAYSqVWqAFS3POw2pEQPU6r5KY5Z+PssZ1wxLOrWwyuaELtqUHYI/kFnqNL3JDHQ5AjBVAvHIDSjpKBM7wAMgkI/A8AnUG+7xDQuAGwyYnOeJbaeol/M9DK2oRVmhEe37setqv3QHIGgBEg0nMtghf9rJgpl/eZ6RIymgCNjmpGItoJqTzBnybVjeuC3jpdrGRk3g43kCFb2GsDj56xWch/5nqfHjCFAWPIiybV5n9bsgC0BaDPiDlvAejUYaAjnkh60FbNwSLXjaBRWCBKCcldbDsIFnioqFbUKxEJkZsFwbyoSzk2D3nPbbD99lbE+0IAoww212LG1iF0L25F+7ZedHe0ouXoIOzhCI4umo/2w91whjVwvGnlO7B+Z1KC7vX552Fd9+YUwLuvYRlmRnpRF0kNsZ0vQMrvF5yHi05ltkqzbEUC+s9ZgJaj+cNYx2m5XW6D3FsA2ZmFUGGjVgdgi5hQcbcfct2Y5viXKf0bPQG1XxAnM2B3XfLsCOgl7JaQgK3RN9T8nwCkKxIvfRUILvwGIiv+soha5n+E85Dzz4g6Tv63VS8Hb3F4GE23cBqpEa3TAkwLqTw6VuqdESmVV6nE+pBuZrYvRKXqn6kcOjLzoJJ+A0m/lOXLlxetcV/NNpVatgWgc/egxYEudYYZfN4C0KkdxYWK4Iyp2AAmBrvecDZGPGO9CF4pZ8Qr12JDchsuNC0jeca07hSzyRZbpv45jgWVNcjVJGihJbwcPEzp2EOwP/ElKN3jiA/HEaj3o+GtU+haNhOzNvegd24TGnoCcE4EcaxjDlqO9cMd1KTl0sHzqwvOx3ldm2CPJ0HqzsbVWDB5GL5YUoGDz+YKkBKCA1vmr8H5g9nDU4e9TowuakFTVyodJFPfhxrtkJuccAzlp3ecfl4GlHk+SLHstJG842xLAPBcBjN25e3JN0VdgNSksz7T8P588vfKBYCk521/HsD6xO9/AUxc/9+ItQtEnbeGBWWYTgCa4LfUwzHXTargCO1p/pvWab0zIq3T5aR7cJ2kZZbW9GpawguaSHkyc82nASWdPkdlpJUrV5ZlHTSz/uV4lwWgLQBdjnlV8DstAJ0dQBcawKTgzjf4APU+uSlx46GFvBqOIwLEG7nmNdgsw9m4MdMCzetj6p5SCaQsm/DAG3A8/DEoJ0YRnQCCTh/qthI8t2LWW70YaKuHbyQCz+g4Tsyb9f/ZexPgSLLzTOzLrPtCFapQuK/G2Q000Pc93TPUDkVSpi5KolaygyaDWsaubMuO8K4pr+SNXWtDCp27Wmm99jJkh70KySGRw0sWzyXn7pk+0PeBBhpAA2jcN+q+0vFVIbuyCnWjCkBj8kV0NIDKfPnyvVcvv/ze938/XLOrMPkSIDQdPL/XcRHnpz6AJu7Llih3ak+hd/MBjLFUL+dcCVKWIw7MtDRiwPswa3+t1TuhsURhW8ucYEV5orfHAKMvDE0ov7zjxXkuJkXZCvQreNQUIFcCBLrK2QHkIyOpVvprxUWOKfTO/DPfO5hkhWyzXgA+Y4BwU9Gfvw2gEwATNf4nYPN3RgFDZRJNEEBTuvCy+/BSIkCwW255FkGfzE5z/eLvjOWQ04yz78ptlcf1UdYGZ8q6WML03fNTuP6zpDsg0a7v+PHj8WQ4H7WiAmgVQO+LOa8C6OwAmgvUfsj0RPkEo7CNRmP8IVdOm7ZCJyEXcerw0q2UCj2/1OP40CX7zSAnMtA7ZcmytsM7Cd1XfwLS5BLCQRHhiBHWB6uY7a5F49A81tw26IICLCsbmGlugH1pExZPgkW+PnAeZ+4l026/03kJlybfj7txyGWo4TwGVm9AJ6Vql3MlSBkPtEDTIKE1mp1VnjzSioa1Oei2JCTZ7i8mCvAPVsEykx9kp9RBWzuqU4qQSCvPlyhcrtFA0CuCBHNNhiEAP9w6gID7AoBEPppEmeebyNbPHwfiOmrlu8W/AeBIJFqRHgjw/K9F3m8RE5VAjWDwZQfQlAjIL+ZF3H5Rh8oORzI7zbWEf+OaJuun+fNOX4z5IsAXG65TldihKuqmy3RwpoyXsl3fyZMnd9xnZWrmrlajAmgVQO/qhMt2MRVAp/aMUsLBLTI+IHP5L1dyEJUpuckyHD58eJmxmk4AACAASURBVM/YhpSU1pW8aUXdysQwfLCSfa6I3jS0Cd0blyCNTyMU1kDa0MDwdBNLrS7U3l3EpsMMCHpULaxirrEWlvUgbOsJYJYOnt/uegVXJlKt5240X8LJxfchpqHQXAlSbvv60V47BYdIBXDmMnmiB62TT/KORsBhQrheB9tK9rrSK4lWaSE2AYK3xFTcEj2ZAbiK9Ib+ngIg/+IWk6ywuZbGzRBGfAngzAyEtLNLEHQAdd3/cQvs/2+AZDXC808L9L/O24vbDyCAZnIhl8tVwtn75xS62VA7nK6xrWQLuZtEdlpmqHl9rnHKYMRSGGQCcxIOzKpYbna7kv2Rq+5MfuPsPz6fCKA/ikUF0CqA3hfzXgXQqcPAhZyLEwuDUciK7EXyEGVKbmYhJLPS2ysb5e7+1CFLRRY4PRtWpVpC2yY+CKljJOtMsFKRVOLRKLTfvgI8fYJQUIQwH4NmNoB1tx3Vw6sIGHUImi1wzixjoc4Foy+GqtVE8F86eH6r6zJenXgnpUtutFzG6YXUv/GAXAlS3vWcxbn6IejEzOA1YNBjubcZTc9TvaMzjcVmlwOGkBf6QIEMMJ0sOm0Q4YVYgItHpmtKGkBwAjCWMDv+EsDMlif0z275QStxP+Mz+e7yKQBMqkLiXzY3oSPHH2w5eHwViHXXwvuPcqc3L6GFL06h1pbfzYMAoBnfsFcWlexQEhfKYESSB/zuy8GIcsrxfONFhpuMLdepgyJtyKS153hxTaSE46NYVACtAuh9Me9VAJ0dQO+V93F6Sm7+TgBLBnqvCnWSDOBjavNKFiXrTss6WtfxQVipVOKaH/wchIdXEfYJEJ8FIXkk+C0mWJ554pkEN53VcD+bx5K7GtqwCMcS0+AB1wfP48zdpGzjra4reHVCmV8auNl6BafmU/+WL0HKm96LeK1hS+SboaNXa5wIO3WoXaaWIXuJCYBnsAFVW/rJQsaMmuJYtxWazS0LjEJOUh7DQEO3BYLOm3DGKLZQJvKnWyf9GgATIH0VL1J6g0GI3wFAPfVnt/TU9IyWC98vfxPAtwE8AqJn+uD7peQYFducfMcfFACdLUgt3/1X6nOuAXIiF4Jqrn+yVZ7MUJOdziT34Is34zW4Tu1UDlKp+yu23kzzjEQPmenBwcFiqzsQx6sAOvcwlrL8HoiJsds3oQLo1B5XMtCZ/JcrPT6ZUnLTto4a5L6+vkpfPmv9tLqiX2wlWXCy7nz4EaiT9adkQ34IFpLOvNjO0Vz9dQjX30B0ExDHfQhJWkRjWuiXQhADYaw01aFudAarTjskwQDnfEIOcH3wAs7cvfricm92X8Fr46lA+VbrZZyYT2WecyVICUT1GIoM4qI7u9PGZGcnXMFZWPy53TP8VQb4W8xwLqba5OXqn1CLDlpDDGKoSFs7uVI5SHAnKzczcFOC8XrC21mKGSH8jSJAULfFSH8aQP2WfZ0SQFMv/XkA/x5AGIi8/jr8P/lGsdOi4OMJbLgrwnn6MheuLQStmTKd7of7ItuqZKcZF0EArZR7yGwz/ax5Pz099Dc8GIU7oSQTmGpdLnyp4IsPXTg+ikUF0CqA3hfzXgXQqcPAxZoLNMtuWrflSsnNAEKyDf39/Xs2Z2idV0kWnC8u3KrkVi4DJaktVZZyy2nEe78H8c1/h9haFOKED36DEZoNCZIfMKz6MN/RhMbH01i3WxHSWeGeS6SHzgeeyVo/aL6AwYVUFjlXgpSlcDVmNfUYcDzKOr73BwbRN3svJTAx08HLHc64RZ7Rn0zakmvSSCIQHNDBsBoujTTWaSDURBP6452WEUCizfUXAKEpwSLj64pKyUCTUP7MFnjm11QpN/8vAHCTZisrYeiXvoTgmT/aaauyns85ySDjlx1A86WVL6p7IVUrdnC4ThI8KoMRWQclHpR78HOuVZXeKSu23Ts5nrtvlAkRRMuFDD13BffymbCTe9rpuSqAVgH0TudQWc5XAXR2AM0HCxdrpkutZMmXkpusNMElF8u92pYkC07Gg8b95S58GJLtZ9Q89c6Z/FvJ9vHv5WDJhLG/hOa7X44nShGnA/DYzDDOhBAS9bDObmD6cCta7k/CY7PAZ3Ggdvp5QeA5JGox2ngSfYupyU5yJUgZC7RCa42g1Uzh7/YS0urwtL8HR6aVVhTbj2MSlYXBDtTOjhUMhMM1zCMeg26jRNa5CZA0WghpziKlzo/YpAXCuSAE65b2m24cyvcQvhPQmYNaZxaaoNxUXO1zABYBTCT+FvjSnyDcRS1IZcpBAtBkcPcqWHonoyNb5ckMNddSFmrTZf30y+7GMTo6itra2vhuh1x4v3xRqMR6vJPx2K1zVQCdu6d3shG4W2N4IK6jAujUYVQy0LvhPFFISm7q+gggKeHYq8AYyir4QlFuGQkfAtxy5QOPLgDZ7q9sevT5t6D75n+F2IwXmAvDY7fAOuKFx2aFY2IVE0fb0X5nAl6zCZ5qN+qeJSwg0pnnt7qv4FWFbMOnMWKq9gh6V26lTKhcCVJu+Y6iw/UMdl1mzfGSwwVvrRVty89yrjU+qwlr7XY0LiRY8kLKRp8LVv8yxBKws2TaYoiTSTsLuWT2Y9gGAuOGtEPoB02XDbkwDrJji33m3/jOofz8nwB4K2m55/3yDxBzndtZ23KcnWlrvWIXq2DFmWzSKni5ilUtx09wrWLwt2yVR9tP2Xu6HFZ5FbuBLBU/efIkvjvANVIufCaQWKmkpG6377OY66kAOndvqQC6mNm0g2NVAJ3aeUoATckC5ROV2g4sNCU3GVo+rBlEuFdsCvuBLHG5NHfUO8tZFevq6uJeurnYdTLwBNc7stpafwLdG5+CNLmK6EoUXqsF9vtrWKmtRs2TZYwNHkLHrXH4jXqs1TahYSyREvvawHmcVfg8v9V9Ga+OJ/XN6zoblp2t6FhLZYnvCkfRaqIV3XYv4nxOG09belAtLMLpza1jXmmrh0H0wOJNzWyYbUkIWXUIdOpRtVpaRsFYixmi6HuROnsHSw9oky1Q19wKxAME0wsDCpVd15bmR83uVmYhpK3d7UQlZOQ9v7sIaAyQYs8hhb8M0UCLj/IV6vKpS1VqU8tX++7VRHkYNcX8Hr7shWsqATR3DbnGKIMRKQ+TrfKUwYj7+Z5lv2c6pPAlQC4Ez2ShK/Vs2s99wrapAFoF0PtijqoAOnUYuCUobwNWKnBOCR4LScnNhwB1cGQbSvFGLcdEY3AOWeByyEjYvwTEcvYzJbOSra07DugMrkD3tcuQxmcR2QD8OjPst5ew0FaLugcLGBtsR8fQBIJ6HZaaWtE08jTelOvHLuDMnWTAYLrP86LBBb/NhdbNVD/mXAlS8jltXD98FseXh6CL5fZgnjjWhda5MYiKbIe5xnqjoxpGzSb0wRK8na1AtN4GTbBEh460hsXMAoRqCQL9nDMVstu/r/iA7DRt8ZSMOd9hlAkVLycBtVSlweZvjUAS/jsEzO/COKqF2Jh4ISpXIYCm/lmpTS1X3btZD79bZGkpE3jZC3e0CC4zZUxlnIWsnSb45DpMWZgMpgu1ytvNPuLziGs/iQO2Uy4kNCgvpN/1R7GoAFoF0Pti3qsAOjuArkTgnBwsV0xKbh7LrIhkG/YiCyF7qFwyEr4MEIiTCWprayv4fsiS8YFXUibCaBjab7wCjI4i7BUQjBphv7WE2e46NNyZfwGew1oN5ts70Pw4oQu4MXgBp7fcNmgL937nJbwy8d6LCTNrqodkNKLRtyW63frkHc0ruGh8HxohNV02nTZuRQZxIYvTRljU4O6R0zg1R7Pj7IXykqUuF9rmsmcoVJ4d0QvYPNyI6rWElruYQiZXaGEiQgGCIrNiMXWkHEvGmRrmJJmWuSqm9P6/tj4iO/0PAShNTbhHmW5hp8hoHGmrxfI/C4Ke1KS67W9aETn9uORmZzrxIAFoShsqkqSorD2evzKSHgTJXFtyFTK7fIHnsfwnW+XJwYgEqwTXexVzIredZAPnGdc9jpFcyLQTXFc6Pid/j+/NESqAzt3vqoRjl+alCqBTO1rJQJdb98uFmswrWeRiUnJz65E6OLINXOD3opRDRsL+pN6SDhtkVIrJFFayI4okQfvdTwIPhxDyCYh6tbDcX8FsTz0ah+YwfrQVh25PIiKKmOnqRuvD4Xj33jh2Aae3mGc6a3zQcQGXniUj2p5ZW2HShFEbkNPgJUblTe0VvGZMtbTj3+m0Maepw1FHZhC3anRiobkevavKvNTbR3q2qRkmwwYcnsKyCm40maG16WD2FZ/SOuIyQmsPxC3hdlokrQaCPQoU6vjG4MD/b+uqr23JPJSAmR9R78zCpwV9oe8mW+k/rcP6FxOMnX4qDPNIM8JnslsElnJ/mdwRSqlnr8/JlKhjr9tU6vXpTMGX9GJftLnuy+w0/+fvlMvJgYgE1MWsV6W2P/08rv2Mf0knG2gpShKi2PssV7v2uh4VQOceARVA79IMVQF0akeT5SRLzFIu9wtlchDaXlHPVkwwIFmIx48fo6OjI2Ubb5emSPwyO5GR8P6ZLpjsUCGSlUz3xQBGPkwybc3m6gfN25+HcOu7CPsAaQnQj21irsONpptzmDjSjLb7zxGDhKnDR9B+L2Ejd/PYBZzaAs8E1tfaz+HiZFLGMWrvgjO2BmcoKcCNSgLe01/CFUNqGm/W9zTQCr01gpYsThuj1d2wmjdRH8gdBHi/rx9HVh5Bs5UpM9d9kzFfGaiGc30tr/Vdej0xLRDq1MHgK83ablu76phWW4QgpjLyOecvE6Zc3wos/OIWON7SN8fPoyPH1pBIp4Fovw3aa0l5iecn9fD8fOJl0/4DHyTbRUT7mWGlfIUAmtp9fqdf5sIdIQJF3svLXhi3Iu/ulXovslWe7OzBtY+FDLAcjMidwN1gp3kvHB8yzUr5Hl8UyJDvKCak1A7aB+epADr3IKgAepcmqQqgUztaCaBl3e9O3C+UKbnTk4MUOsRkQx49ehQHj+n+yIXWsdPjuN1JOyUmKMhkM5etfradGkuyOlzsSwUbdOpgG4rZshRv/TbEd/8CEcbXzYQhLoSw1OREw9Acpnoa0Tg8DyEaxbO+Phy6m2B+leCZkoqb7adxfjIpqXjk7ENT8DmqIklGN1eClCHvUXTWZHfauN1wFocjd2GMKRKGpHWm32DCTHcrOhcS7Hi+suG0QGg0wbahjLDLd1bi81CDBqJFgjZYBNjNUrXkAATXVsbAwi6fPOr/BkCFCl3oGNtG9lmplGHSlTuAZBAR+1UBkTBguJkUSG/8shG+1wwQ/DHU/uUmvOc+B+nQnxfbipzH8/vAF8JS53RZG7ODyg5KRkV2AV/Uy52WnGu4MpELCRay0cpELpUK7iZ45/pJ8kR5Db4o8Povg3f3DqZm1lNVAK0C6ErMq6LrVAF0dgC9U9lCekpuZRR1MQNFRuTBgwfxbbxCAu6KqbvQY2UddldXV4oWL9f5BLzcHmb7udW4E/kJHTv4EOODpJAijnwF4vf/JaJrUeB5ENKmhDVnFdz3FjF3qBa14yvQBsMYG+hHx+2Ee4YSPIc0WtxuPYGzU6RBE+VezXF0ep/AHEtmAsyVIOUdzzmcr78Jnbg9aI+M9VDzBZwJZE/bzWs+a2yG1RiEy0OD4/zl+ZE61AaXodvyw81/RuKIiF5EpMMOYx7Xj0LqI6hFvQBBX4JHnnyBPwRAB7orW39gQhWFCiU2bYL41I/gJzUwNEcRWtZA/zh5vdV/bEbwmA7mu0FUXQ3A8/q/hlT7G4U0v+BjDhKAPggZFTlwXCcIeMvhF59pInAtSw9G5N/ISCuDEcvFTnPNY/wH113lriVfFPgsOAjOKQV/4RQHqgA6d6+pDHQps6qEc1QAndppSgZali0Uy7qyxkwpuUsYnhen3L9/P66b3iu2q1gdtnz/BM1s904ZGj4wGMhYUNT5zHeh/fY/iidKIXgOR7Qgi+sYXsVSowPVc17ovQE8PXYUnUP3432sBM8BrR73mwZw+nkyS8ft+tM4snYXBimZ4S9XgpRcThvrkg3PGw+hL6QQ7WaYHLeODqJ/+RH00fwiZJ/ZjI1uC+pXCwPaystttJhh1IWh35IulTxPRUCq1QC2GARIJVcDKjHoAU32mYGBxMV0oFNUGb2XeEQIPy9BFIDImAjtbJI1X/rnVkRaNHD9zSZ0qzFs/vQ3AdvHSm9ThjMzJbgo6wV2qbKDkhCG3cWdKpbdYmb5vFAGI3KdJHhWstPF7NilDznXPMrXGECuBOW8TzrAHATZTSnTXAXQKoAuZd6U/RwVQKd2KdkELoIspbCuuVJy72TwHj58GGdV9soyq1AdNu+f+jxuMTL9LLOblYONYX0E5WRicpbVu9C98XOIzmzEZRtBUY9oWAfL5CbWqq2wroVg3PBi9NgAuobuxasaOnYBJ7c0z36tAY+a+nDyeTIhyo36czi+egNahYcaE6SYTT40aFJ1y4GYHrfCA7jgVqbIS7Z4QmqBoTaGhlh2Rwyf3ojRI10YnE2A+3xlur0FLt0qTMHCvKDl+sImA/xtWlR5S/OETmlXNSBVA0ImP+d8N5D+OaUalC/LtsQrAL6VPCgmAuKPgeAvaGCoTrDOsRuAqEjsMv+HNmg9Mbi+mbi3jc9OQNAWGsFYWIPpjEMGUJkhrrAz99dRB8XPmr2610lhyE6TNZYlHwTY1C4rgxGLiX+hjJCserrfM0E15UMvexr5Ur8JKoBWAXSpc6es56kAOjuA5mI4PDxcsPtFvpTcOxk4aqD5sN6rBVPWYVODnE2KwmO43UjWhGC/nAkmCMrp4pEzcYB/DrqvfgyxiQVI8xH49CZoViToloPwmfTQBwDLygZGjg2g+2YCPN86dgEntsCzV2fCSH0Pjs/eeTFUN5pfwenF1MDAbAlSFsNOLGjd6Ldn1irfih1Fr3sMZiQlIOlzYrK2FVpbBI2bmVN7K48P6zSYPnwIh9ZHi55aq+1NsAlz0EZ2ILMgKewA4DRB0CQCrcpSSLjT7g5AWBIRWLDD9p1kQpmwQYDwRIDmdTLdQFQENAqLu5gBWPi3dlS96YN5OIyYUYT3MxRNl7cQQPMFca9kVeW6m4PiJsL+2E9JYWSrPBlMk6kmmaAMRsxnlUe/Z6596cQBXxQ49/aKUCnX3Cu1HhVAqwC61LlT1vNUAJ0dQBcCGuWzC0nJvZOBI5Dndh1Z3b0oZFLIgmfTYSv13tQ7K03/y9FeOnjQl5tymowlEoDu65cgjTxDdDECn8EMw3QQ8AMR7uwLetgWVjFy7Ci6byaY3VvHzuPEnQ/iP2/qLRiv7cDgXAJYs9xsuYJTC6mWdNkSpDwNtMFgC6HZlGprJ9d1XTyFM9WZWWn5mFuHT+DIxiMYI9kDCuVjF+pqoa2OwekrLlAwUKVHqKEaVb75HQ2LZASkZsTlE5Uo4ZgIT5URQbcO1h8GYH0nSS+HDBqgRoLenJBshAURuneT8o1IvYjl/9kK93/aAOXnYZcFgU9kHpedtP0gAeiD4CbCsdzPSWH4PFEGI5JwYTCi7OyRySqPpAHXvfTYD94npXEv+8tbqd8/FUDn7rkKLculDtfBPU8F0Kljq5RwFBq8V2hK7p3MIj6syTbsVbIDuS8IjtO3rLnNKD+4+HklsiXS95QgmtkYt5VYDNq/fx3Sw3uIrkrwaYwwj3gQEg0QPSGEzVY4ni9iZLAf3UOJgMHbg+dx/G4CPK8bbJiqacXR+WQq7qHWKzg5nwqesyVIGfIOoMs9jirtdgmFVzLgqaETg7bs/s4BrQEPe/txcnEo7xShPd3I0S50boxDKxXOHlM+vNZlQ1XYD02eDIe5GsHEKlKLCMGQYH/LXcIaER6zHUFXlPl649U7/soL43AyEDPQqoHRkLz3YEwDw1XF70e0CHxcB/vbCVbc21SHqa43XwCVcs1PerNTa/uyg5iDEgzJsX5ZPK3l54zsPU0Chn8jOy3rp/kzny1kodPdh2Rru1ID08v9vd3t+lQArQLo3Z5zGa+nAujt3UI2VS50v8hmv1ZsSu6dDDgfcnsddZ3eF0p/a8o1CCaK0fcV0x+5skJqfvTLEG7/GOENIBDRw/pwHR6bDaYFDzxOJ1zP5jAy0IfuWwkQe3vwHI7fTVjTrRmrMONsRN9CIsEJecy7rZdwfD6ZcZB/f1P7Kl4zypk7ki2n08aFhhvQCtvB7POoCzG7ES2G7Hrn6eoWRJxatG/mTzO9brdjo82ClrX88g5l3647rdDW6GHxU0xcevE36KGrEqCNKcTGpVeXcmYkIsJTU4WAI/YCOMsH1PzbDWhXExGElGdEzmign1cAZp8GhlvJ330XddBaY9AvJP7m6R3ETOPfxq0U5fTNsiZ1J+mbCaApVdora8kydX08y+lB0HKzP15WT2vZKk9mqCkf5FrK4Gt+RrZZ+eJH60HKOnbibKScPwzS/s53voO33347nvmQZAUD1k+ePIlf+7Vfw7Fjx8o13cpSjwqgc3djJciNsgzcQatEBdDbR1QJoClbIDBM1/OWkpJ7J3OHixqZCere9qoo+6Ic/tbF3AeZGAbTHDlyJOU0zbV/CuHqXyLsAUK+RJbBtVoXqiZWsNpUj9rR5xg9egRdtxNJUm4fO4fjdxLgedlcjSW7G72LT+K/RwQRj5vP4uhCgplmyZUg5U3fBbxWn0ywomzYg1gHWp3zsGmyB+gNtZ5Gd+QRbJH8QXyPuw+jLTYBUzi/vONF20UBC901qPMvFZ1MRXkvoSoNoo0amKJJB5Jixi7XsRFJB6+ggb/NkHDcSCtCSELt725A2HLgCH1MA3FTgnY9KdkILWigH0kCaO8ndLDMJ51LfKc/jWjPX8UZvkzpm2XGj6C6UHaadRF4HgQAfVCYdE4dAsuDYMknW+Vx3ZMTe3HN/fGPfxxfA/kcGBwcjNvnlaP80R/9Eb7yla/E7UbPnj0bj7Xhy8gPf/jD+Pfmj//4j/FTP/VT5bhUWepQAXTublQBdFmmWf5KVAC9vY/owsFFg4UZACmbUGqPyWRRskB2oJiU3PlHI/sRtJriYlkpf9NC2iYHMpJx41YpF3YuuLuxjZgprbr46E8h/uffR3hTQnRNhOnxKpaaa+B6tIiFjmY0PJ7C0/4etN8bjWfvuzN4Dse2mOdFiwtrVge6l5/Gbz0g6jHeMIgjS8l0z9kSpPhjBtwJH8X5LE4bH0r9OON6CFFGfWmdGxR1uNtxBmc2cntA8zSv0YyJw63oX8mcAjzbuK3V1kG0e1AVyA/Os9UR0YoItbtgEhbLLteISQK8FgO8NUZAk93yTjcdgesriXsIHdFA1x8F7gGCIs9L5IkA7WKyjsDHNTAuJgG158pvQGr+19tukxpUfpflbXQlO805TXYvm4PMQQHQB+U+5MHlOkmpWzkDmAtZGyt1DJlhPo/4/KF13W//9m/HX9wYfHju3DlcuXIFr7zySlzisRO3o+9///tx0Hz69OmUW7lx4wY+//nPx9f4d955p6gkWpXqE9arAmgVQFdyfhVctwqgcwNosjNcjAmid5qSu+BByXAg2QACdqYB36vCQEayOwSzZOoInnficVrMfVAHyAj7/v7+xGlTX4f2734DkbUIYksx6Mc8WGx1o/buHGZ629B8/xnGjnSj7eEYNNEo7gyexbG71+Knzlvd8Jht6FwZi//u0ZoxW9ON7tWk+0a2BCmLYRcWtS702ROstbIEYlrc13TgtHP7Z/Jxs5ZGeGus6PJnP+YFGGjuhM2yipoipBdBnRYznQ1o907tCPSutVbDbPJAH8vvQV3MOBLW+kwG+GoMkLT5eRLTUAj2b/oRcQoQX5MQEwRo7ybBcvynDwFhSyIdqRUgHROgW0wi7M1P/gfA+V8iilUsGf8EVv9JWISfT2k2v9vUocpgmrtQ3EJX+vkq2WkZePL7uBsvkMX0cTHHHjQAzZ06AsGD4k7BXTcGHyrXfYLqv/u7v4uTOO+9915cJ83P/8W/+Bd47bXXihn+go794he/iHfffRdf/epXMTAwUNA5lT5IBdC5ezj/ylrpEfqI1K8C6O0DrWSgZe0xATStgwjkSk3JvZMpRcaXDAMZ770qZKC5mFMbxwW7UnrnTPdHD2j2AQG0sHQd2m/+MmILfsTmoxBng1hsdqHx5iwmjx5C651xjPd0oPnJZDwj393BcxjcYp5nq+oQNBjRvvosfplVvR1r9kYc2khIPFiyJUgZDbTDZAugyZTq/cxz5qMOeK0WdJiz653vuE/hkHYEVdGNnEPIFOKPDg9i0JP0oi5kzJ8318Nm8KAqVJwftLLuoMuMiFuEJVp6HZnayuBHn90GrxWQdBm0Gllu0PZdP8wfhhD9pAitJYZQUIT+kcJxQxSgfScJqEO/JEI7JUEMJP+29LPvYcH1Z1jRjsLk96PN989gMHwm9xhs+flmY6e5G0T7t5cdQJN15xr3st+HPJgHKSCS90S/Z677ysQw8ksP9clycPfVq1dx4cKFigDcL33pS3jrrbfwjW98Y5uErpB1qRLHqABaBdCVmFdF16kC6O1dRmkCHywsZDT4sGRwB8EjAexeME5kX9kmsr67XXhdbh+S6eC9t7e372i7sJT20+mDLHx/mw26Nz6O2PQ6pLkIpLUYVmodaLgxi4nBDrTfGsOzrnbUj83AEArh7uBZDG4xz9P2RsR0IlrXpuNNWDDUIGh1oMWT9FGOJ0gx+9AgpoLkm94BdGdx2ngca0WdYwXVusygMyxocKvxAs6GU/2kM/XDVG0jBJcOzd4EwC+keA0WrLTXoMVX+Dnp9QbNWoSa7bBJy4VcsuBj6Nrhc+jhtRkQ0xQOnOULVP8/XsAtwdCSkGSENjTQjyXlGUoLu9CgBtrzUYiJjYZ4iYki3vviSUhi4to9E2PQVX0HotAZfwEs5CVQyU4TUPMFm+fxe8HdKf7baabNgju0zAdyTeOL9t8IgQAAIABJREFUAAOly209WeamFlTdQQqI5A2TtOHcUqbs5rzjmBFAV7oQwH/iE5+IkyYE0bTd2w9FBdC5R0FloHdplqoAentHKwE0GQ1u58opqQsNMir38HEh44Ob4HU3C3WiZH4ZfMWFnAupcjHfrbYwOcvk6AMMPP4SpLHZOHiO+EVs2KyoH5rD+OAhHBoax2RHC2onF2EMBHBv4AwG7l2PN3HK0QxRjKFpI+Fg8dzSCFGnQYN/6sUtxBOkmKfgENZTbusdz3lcaLie0WnjerQXx2tGoRMzW8rN6+uwVuNEbyTJcGfrs9uHj6Mv8BD6WOHBeuPNXXDrZmEtIBAx03WZ1W+93YYqrQ+aImzx8o07Xz/9Die8VeGSgLNcf/XfeKE/EpEd7RCa10A/q3DgiGhg+DCKGH2pfyUBmHU3kwy1v8qA67+ScBDQRsI4c/8eAl0r8bTgBI9yIctXCJjm8VwfOB+Z4ILnEWDzJVv286X92E70qPn6tpyfywCaxEC5HB3K2b5i6zpIAZHxdWtqKj63amtrX3QFx4zBksePHy+2e4o6nvP8C1/4Aq5fv47f//3fx8/93M8VdX4lD1YBtAqgKzm/Cq5bBdDbu4oLBxcppo/mQ5I6X1oGFfqALbjziziQDDA1mumG+kVUUfShvB5ZX7IOZL7JhuyVE4h3YwO6v/sYTJOTiM1FEQrr4Nca4bq3gImj7egYGsfz1kZUz63B7PPh/sAZ9N2/EXefmHC2wSAF0bCZYJUnbO2wCAG4g0mWmQlSjpnvwSikuly85buAVzM4bYRiIu5ounAmh975ru0E2izjsMdyZ8FbsNVgta0WvRvZvaLTB2/dUoWNRhdaAvnt77IN/GZDLXT2NRjL6K5B6LrhNMFfpX8BeoueeFsnCKEYah5sQrOVlZB/jjwVoN1USDY8GujvRBH8uBaGzgg2vdWw3UtmLVxrsOHuzyScW1pmZ1C/vAapIzWJDBk9JZgmIM4HqGXgSekDj5WDEWV2WunssZ/Zab4gc5ftIADog6bn5pwlecG5xEQ3cuHziTuSdOGoVOF34stf/jK+9a1v4bOf/Sx+53d+p1KXKqleFUCrALqkiVPuk1QAvb1H5ayCfCiSTZID5srd98XUx8ARsl6dnZ3FnFbysQwUJGCm4wa3dwmiGeHO/lDq8Uq+QLEnfvengdtXgWUJwagekaAW9icrmOxtxqHbzzBL/e+yF9bNTdw/egZ9DxLgecx1CNaoF7WehfgVRxy9cEcW4QgnPZHjCVJM70MTd4FOlLjTRqQf52u2JzdZjlqxZHag15qQgqSXKARcr7mE82J+ycbNruPoxBgcody6aOU1nhzqQVvsGQwl+jFvVFkQatSjJpoEmsUOR/rxhLQb1Sb4CJyLV2pkvLzeE4FzIukiEjfGuYsXlnY8KTSrA/xG6H56M37dtVUbHMObL+qb73Zh+Cc6AUnC2Xt3ENC5sGp8Lz6vCUzSmWICBwIx+X9WlAlMZ2NuZfsxWTu939lptpffa74g87v9MhdZz31Q5CgcCzLN9P9XukBxR5SESqUC+jhnf+u3fgtf+9rX8DM/8zNx9nkvyaNMc1IF0Lm/qaqEY5dWMhVAb+9obgNSssCHChN48CGz29KJ9FaRDWcAY3d3d0VnBhdPRn4z8x8DJ7l1KIMMLuZ8mdhtJxDx/X8C4YM3EF6MICgZIaxIsEx68LyjDi33prHY4IZ5PQjb+joeHD2NIw9uxsHzqLsTjuAaanwJXe9D11G0+J/BFk0CrEwJUhbCLizrXDhStd0pYyTagKoqL+qMmQHvksaNJVcdDiORLjxb8egseNJ7BCc3krZ5+QZ2oboG/loj2nyZgXu+80M6HZbbHajDEkRqGMpQ4hkO7S4EHATOvjLUmKzCvBRE1VxyRyAcFaC7l9ruwCM9Ij+pgdWRyDq4PmOFfTKpRZ880YiJs82oWV1B39golqoGMBf8q7gsS3bZIJjmv0zyLJmdlllp/s+XyUKkDzxXdvYgoJaTYyhTN+81O03GnN/rtra2snkKl3USFFFZIWNSRHX74tBMtnx8NvF58MKRqIwt5ZwleH7jjTfw6U9/Gn/wB3+wb3TPyttUAbQKoMs47UuvSgXQ2/uODzuCRj4o90I6kWk0mRmKYL6np6f0wc5zJrdzqbnjQ58gmXpnZeF2IkEHGZ7dKuL934Pwoz9DZDUKX1ALw0wE2uUQFhqr0fh4His1Duh9MdhXV/Hw6CkcfjAUB89PartRE1iG05dgmu/VnkTX5iOYYgmgRZb4Pd0lXDGkssQjgXZYqwJoMG532rgZ68aAaxx6MZlWWtkPDw1HUV81C6eQOxBvuLYPVVVraAgVllGQCV6Gu7rRE3wKnZT52rnGg5BzrrUV1aY5GIvQV+cbY5/NgNXqamg0iT4td7FP+2BaS9rohYIa6B8ldctRAdgMWOE4nQTM3hEjLMtJ0P3kcjvm+mpxbPgR7J5NLNf9FEzOv42DWX7PuasjZyik1lQG05k8oJXsNAE4vyvFsJ0Eq3KmOf6fKXXzbmunZQBNgmC3LCnLPU/k+mQ5ykFg0+V7YrAg2WelLR/nDp8F6UmldtqvSvDMpClMrrJfggbT700F0CqA3ul8L8v5KoDe3o1ciGVNJKUTdICgBnovCxlh6rEPHz5ckWaQ1aDemYVsVKbtXAIGll2z0hv/K2i/8z8hvBpF0K+FftwL+EWsOqxwTyxjo8oKMapB9eJSHDz3PrwVT5jysO4wGr2zcAQSwYC3Gs6if/UW9FICjAWgxx39cZzTK+waANz0DqLH/RQ2bWrykUhMwB1dL045MicziUnANfNFnLVezZo8hdclEL7ReQFnQldT5CK5BnTc3QpTVQT1BYLt9Lrma1wQayS4oztL462sd8NqQcCpRazCAfmu0U3oAklZzcZ6DarGl140hX7SurYIdLokqI4MaaANJX+/96kehGr0OPUosSOw3PTrMFX9YUo3EcjKwJaAWmanyRTLgFrJFPNz5cukvL0ts9OFfEEzsdMEK0rt9G6AF94Lv/cHAUDLcpSDwKbLc4hB7NwFpP++XPjCx93I3t7eQqZaQccowfMnP/nJeObBvd4dydVwFUCrALqgiV3pg1QAvb2HCZ4JolkIWqkHrrR0It84Z0tlne+8Qj7nYky9s+w0km3hZOAK+4YPqIqXubeg/dZ/jfBKCOENEfqnXoQEPXx6HapnPfCaDIgJRrjm5/Go/yR6Ht2Og+cH9X1o2ZxCVTAh0xhquohjSx+8AKyJBCmtGNSlSize9pzHxQxOG6sRE54b3Thqn8x4y6uoxnNbK46akklYMh04bm1DrN6AzlD+BCpxkK/V42HXERzz3isYbCuvu2m0YbXNhtZYYSx3IeO5aTFi3WWGVpPZcaSQOgo+Jiah7lEyhTfP25izoGou8XJDe7yl8w64PckAzVBMA/211Lbd+OwAmtdnUb+cAN4rbf8GRvOXcjZDdtmQ2WmZKSaY5neDL9X8rsixAayMAERmqOUspvkCEZWNIBMsByJyB0i+piz3IDteCXaaL858GWAmu71yGCp4TuQ58CC9DMi3mslVhJ74nCvl3I38sz/7M/z5n/95/AXuc5/7XEbw/Prrr5ed9S517FUArQLoUudOWc9TAXRuAE3ml/KJcr7tlzKA2zLxlVJJ2jl8SMtOI9wmrK+vz/mQ3jUrvY1haL/2aUTnvQivCdA/9cBntiIckmBZCyIsCggabHDPzKaA5zuNA+hcG4d1K5HIzZbLOLXwzou7ZoIUn8mKTk0ifXcc+EjA276LeK1he1rt0WANrK4Y6g2Z2dvHUh+czmXU6lJdHdKH5u3myzijuQ6TlOrwkW0IR9w9sNlXUR9cLHqUI6IGT9sPoUPzDDqUJ4ug11iFNbcWGu0uAGcy9ZIGQX81OseS48SOCIzqYfQkLP6WB2yAG3AtJvXsnpAJ1qFUOckHnzuGM4/uQhOPQATWOr8Hvf6VgvuVoFhmpwlc+GJNIEswzeAuAtz0F07ZQ17exSrE1UPZIOU1eW0CerLRSu10udhpgnXuLNHdZz8zjoUM2EF6GeD9Zst2yWcBXxbKGVD+m7/5m/j617+es5t/7/d+D5/5TO4ERIWMUzmOUQG0CqDLMY92XIcKoHMD6Eoyv8UMXkomPmHnMbZ8uJNRJsvW2NgYTwaRr1APzocU2aqKleAKtF+7gujkEqJLgHbKj40qO7RrQWj8MSASg9dWjbqpaTzuO4Gux3ehjUVxq+kYeldGYA4nAtmGWq/g5PzbL5rJBCkWsw/1igQpvpgR9yJ9OJfBaeNWtAO9zmmYtZk9mT+QXsHp2qsZvaHli67onHja0oEzkcICBTf1Vjzq6MVZ782Suneqth0W5xqc0dy2eYVWvmkwYdHtgEnr27ElXSHXDEo6rKEa63Cgbm0Jvc+TFn1RCRC3HDjWmyzQXPAhMmuBYyOpf173WmG/l/w9bNBg+pMNOPQ8EXRJCO3tnYEopmr7C2mbvA4wLoDyJn5vZB0z2WhZ7pHJA3on7DRBlNLZo9zstAygCcbKBcoL6c9KHHOQXgbYP9mS3HAu8rOKrsOVGKAy1qkCaBVAl3E6lV6VCqBzA+hKML+ljBYf2IyW7+vr27GlkKzh5CLMgJtCM5DRnYOgoWJe1NEwtN+4gtjIOKKLMYgzIaw7HTDNeCAJeogeHzara1H/bBLDfcfR+fheHDwPNR9H39JjGCMJhvdW62WcmE8yz0yQ0maegl2RIGUhUoMVXTUO20ZShoOM9IdSDy64M0stNqJVGDd14Zhju72dsqIh+ym0V0/AGSsss9/9hqOoN82gRmGvV+g8WayqQbDOjGZklpkUWo98nFdvwLzbCZOu8sA5bn8Xc8Ij2OAVkjZqHbPP0LycZPa9USMs9wJgYpTwT0Sh0cUgjOtgDgZf3N7aig2OJwpG2mWCtjcKYyjxEhTS6hHpLs66jwCWMi7uRFGLqrQTk5lifjf5T2aKZd00QXU6KFUGIsZBfQGe08rxU7LT3MYnI74TdprfZ75IHwQALd/LXnv2F/t9y3Z8tqBIBhCy7IqUrlw3U+Z6VACtAugyT6nSqlMB9PZ+40OKD0OWcjO/pY0S4po3WhoxiHAnW60MiOSWLZkyBgMWo3usaEClJEH73Z+CdHcIkYUYhMUoVqvtqBpbQ8hkhWFlHcvuRjSPT8TBc8fwfeiiEVxvPYnB+fswRENxF+f7LRcxuJCUYzBBynHzXRiEJNAaCRyCze5DvSFVerER0WPS3ISjtszJSZ6EelHl3kC9YTbrMPpFI27WnsIr+vcKGuoFswtLjU3oC94t6HjlQT69EVNtzejCWEk66fQLerRGLLtboDMs5gyGLLqhGU6IxQB/yIl5gyseXJleBsceweFLguH1gBWWUR82X9dDbwvFpTeWJ1LccUUuG9MWVE0nA0BX+m1wmpJ1eM0uCG2Fv2QQ3HLXhS/R3KVJd6VRtpnHUscs66b5fWUhOy0D6kw65p2y0+naafmastyDzhq5tNNsJ+MfDgLolO+F8SqV0IuXY94XU0c2i0FKCrlu76YbUjHt3o1jVQCtAujdmGd5r6EC6NwAWmZ+aRm0l1uc3J6kpRG12MWAXvnu+IDnwksQTLkGk6EUa45fyYBKzdtfAK59B9H5GKKrMaxXVcH5aAkepxPW2SUsNrWjeWQUw0cG0fHkYRw8f9h2Gifm7kAfDSMkajHScAr9Sx++GNC3Na/gUlqClBveYzhcOwqrJtVpYypSDalKi1ZTZt3x9chFHK+/Dp2YXVf8xNgLgzuANiHhZpKvvN92DoN4CGssCfLyncPP+aIw0tqFRuMsbFLqfRRyfvoxPq0ek+5GWA0bOSUppdSdfk4EIjzBZqyQDdZkt/G48PAmdLGk5npt3YZogwRjU0KiEwrpUT2Wqin3PTbAvJZ4UQqZtFj/mAXuhWRa9nV7N3SNtwu6DQJbMrP83hGoEJAWU7i7Q0ZUZqfJJvLFVwbT3PXZDXaa15SdPTJdk+1jbMNBAJ0H6V441+SgyPQAT8at8MWML3Uf1aICaBVA74u5rwLo3ACaD0Gmui0VuJZrkKk9pqURH3RksoopBANkmcikETg7nc6SGJpKeVGLt/4XCG/9BaLzEYQ3RWwaLHDfncdqUz0cE7OYa+9Ey+MnGO45io6nj+Pg+Wr7OZyeIciKwK8xYLK2H70rSVnFm9oreM2Y1ECzv+i0canhGjRC0hqNf7/pbUJP4zJs2u1BfptRC0Z1R3CiJruOmZ7SV+2XcM7+AXTI79M8Y2nEUmM1BgMPihnG+LFjNW0wVQfRgO0+1cVWFhD1eOZuhNm0CZ2Qv93F1q88PoiEvnkDdkjInarQEAri3JNUV5N5mwPW+mTyGr/HjJrppN6ZRHTshghNNDG2ix+3QSMCzuXky8lKzWUY3d/NexuyHzp3ocrhKcyXV4Ih2XeaawoLAa0MqDMxxensNOvhS28hL74yI6509uA1Zb02Xwh4TX5+UAA0d9coM9trx6S8E6zAA7JpukmCMIC1rq6uwJoO3mEqgFYB9L6Y1SqA3j4M8sOHn+wEuJZzgLmdR0sjbrUWk3KX59GmSgYDxTJpynuohBe1MPIViN/9V4gshhHyahGQDHDdmcPioWbUPJnGTFcPWh8+xsjhQbSNPoI+Esb7h87j3PQ1aKQYNnRWLDgPoWvtXrypBLPv6y7hsiJBCrf73/FfwKv1V7cNydVIF87VPs0oWRgNdMDkCqPJkvC/zlRmtY3YcDvQq3uYd7jZtg8bL+Kk9gaMUlJSkvdEuk6YHZhrqUd/LLMXdSF1yMeERB2G3YfgMK1DJxTmDFJM/fKx8aA9yY11QQcvbAVX4dpYRf9kUps+73BB5/bCgGRAZ2DZkuLAEYzpYLiW2B1Y7bJB81oQwqgWNk8yO+Jyw6/C5PgKJEiY1PwIHmEC/ZEvprRL/r5QAkCJUyWSi5CdlsE0WVP+zl0lgmlZepEOkgtNMZ6tk2VGXAbU/J3sNO+PgP4gSDgotyM7u9ee/QVP9DwHZtN0U1bEXURmiv2oFhVAqwB6X8x9FUDnBtClAtdyDy5ZscePH8cD+AoN+uPDkuCZD2cyaTsFAwxeIftRtgxYM9+D9ltfQnghiKBPh7Bfg+r7C5jrbkPDg3FMHu5D+72HGDk8gNbRYRgiIbzbcREXp67Gta/Lhmps2mrRvjkc7+5EgpRjOKe//qL7fTET7kcP46zrVsqQ+KJaPBCbcKYms9ziRugsBhruwKDJDnQ/MF7AgPsuLEJ+GcWwtRsxlwZHigTAQY0Ow6296NGNFA260+dgBBo8rumE2boBs1CZ7IG8JjngFbjibhpRaIv+KrQuPEf7wvP4eYtV1XjS3I7j4VRGOjxjgmMj2e+bITNsQz4EzTr4fkEDjSEGwwMJhq1YBta10PKvcNspYUozgYAg4kI0hMPB/+NF+2TGj98TyjZ2EmtQ6E3L7LQs9WAbCN7T2en0+pTsdLzPY7GS2GnuSsnxHrymLPfIp50u9P528zj69fMlv5z2brvZ/vRrZZOkcMegpqYmJaB1L9u5F9dWAbQKoPdi3m27pgqgcwPoUoBrJQaWjNGjR4/iGcPIVOUqfCgT7JKpYOAT03IXsu2br918QHHxphPIjsvKHWi//gsIL/gR9GgQWwOqhpcx09uGpjtjeNbXj0N3H+Bp71E0P30SB8/vdF7Cpcn34+B5zlSHiNGMZl8i4G8NVZgytmJAm0yQshBxYVXnRG+a08Z0wIaQw4QOy8K22/DFDHgkHsWp2uxWcuuCHY+svThfnZrJMFOfULrwYdMFXBTfgxbF+SjfaTyKRss83CjeD1rZlggEjFQfgb5qHRYxKXvY8RimVRCS9FgWnPDAllemkevafc9GULO5ihWrHQ9au2GBF73hxEuSXLY5cHiscNz3YPETVTC0BBCNCXDcDUJp+Pg3h38Gi5YEa9eMKRyOHEJL6E/ivxOsUPNMBrhc35dS+pfrjTLFOL/3BLOyTR4BbjnZaQJosrb0gE9np5W+0+VYP0rpj2LOob0b/1XMJaiYxpThWDLqJCzSJSmU41G+UYj1aBmasS+rUAF07mHZudHtvhz2/dcoFUBvHxOlhIPMzsOHDwsCrpUcXbbpwYMHcesi6t+yFbaXwJkPEj4UabtVroj0sln6eWeh/fo/QOT5OoKbGmAhAtOzTcz0tKJt6CnGBgbQcfteHDw3jY3AGA7i7a5XcGXi3fhtT1lboNPEUB9IsJQzqEfAZEaHZuxFt4wEOmCze7c5bTyINKHJtQZHWrpunjgRbIZgF9FWld2p4YH+GGqcs6jTbwff6WNyz3wU1TWbaJYKCyqUz39mb4a3wYK+aCpoLHZ+Ea6POtsBiwS7tjze0Jna4IEF86hHVNIBQtIVo9j2ysefHb6NgM6A++29iIki3JF5tEaTMppMDhxrS1ZIogDNla0gQr8FNcOplnV/MfirCOhM8ct8HN+HGP51NIZ/I55plN8Zh8ORN5lQqfdUynn8zlNCJrPT/JnfZWWK8UwBxVwD5CQuvG4udprfacY2yKytUq9NQC1fU6md5jXLtaaU0i/ZziFpwPs5KP7IvBcGbqdLUuiixB0SZXrvcvbjy1CXCqBVAL0v5qkKoDMPA4N+WGTgSgnEXi9Y9+/fj+sys9lpcSuWiysfejwuF9AuZfKVxdIv4of2jSuITswgtC5CmA1BuxTGbHs92m+O4emxAXQO3cPTnn40jY/GwfNbXZfx6kTC13msqhN2aROuUALAjqIDNosPdUIyqC7htDECqyapf+Wxb2224VLbFLRpQYT87EboGPrrh2HKEEjIzwOSHrctp3G+ZnvGwvS+9IoWDLlO4LIxAfgLLes6G8aaezCgvV00W628BiHsiK0bkjMIu5h0oSi0HYUetyK5sCS4IEFIYXoLPT/TcZpoBAMTw7jXfhjRLZeOtvAEamKJVNwsmRw4VpdtwIUINPoEy7+65kTbRHJOhAUN/uPJz8c/q8csXsXb8AX+T2DhXBykUE9azpfNnfRBtnPJTss2efyfwJjstNLZIx3YytppZVZEZSBiPtmDrNeWszHKem2CeFnysV/Yaco32C8HxR85G6NOWR7vMd9OZCXm4H6pUwXQuUdCZaB3aaaqADpzR8sAmp+S+eW2LhmqvSxkwmldlKkdfMBxYaU1FsF+sU4dhdzXjpO5xGLQ/v3HEXv4CKFVAeLzEOAF5pvcCfB8fACdN+9hrKcPDRNjMIUCeKv7Cl4dT7hpDFcfRn1wDvatTHuZEqRkctoIRkXcCLfgUtN2JjgQ0+Me+nCmPru92QQ6EXMCHdbU1NKZ+uye5QRqHLNoUGQ8zNe31Axfaz6HXvMwqqXSmWIC52F7B8IOAW4xCTjzXb+Yz9nWKbTCJ1VDU4EARH04FGedI5qkdvpw6CEsUvJlyL9pRs1zhQMHBDwnI+dI+nqvztegbXbmxa2tGuz4q6O/GP/9Y/gRarGIpalvw7tgizvT7PV3u5gx4LF8sadeWmanuV4RyMrsNP/Pxk7LoDr+orG6GmdtC5E9FMJO7zTOoth+UB5PJp3rINe/g1DIqJO0oGxPWZhQizsGhcbCHIS+SL8HFUCrAHpfzGsVQGceBgYP8oHBQu0xNWe0f9vLkq0dfAhSm0xGglt7lfKrlpO5lOqJrfnxr0K6+SYixHYzIUTDOiy77Gi7PYHRY4PounkX4919qH+WAM9vdl/Ba1vg+WHNIFq9T2GNJQLH4glSLHdhQGKngNv67/ov4Eqa08ZCxIoVowWH7alJU3jOdKQ+HnTW6cjusnFVcxEn62/AoMmc0lueD0uiE88cXThlya+LVs6hEUcvUBtBt5QfnOeae6PWdnhdOtSJ+aUlpczhsKTHhNCGEPQFWfWVco2M50gSToSGIMYTcSdKugPHg8YuNDmnUo7ZmHSieSXJQE/ZGvGtnk+hBov4B/gRopIG07d+iJbm1gPB5MnpvmWGmiCZL9EyO00JRjo7zZ0q7lgRaMuewjymUEZZZqdl7TSvybpk7TSvWWhd5Zgv3EmQd9/KUd9e18EXAvZtOqPOhFq0Va0ESbLX91zo9VUArQLoQudKRY9TAXR+AD08PBzf3mXk814WtkMZfU2AT99Tbl1yC5qphiupTZQ9sUvJhihe+x8hvPvXCC9IEGbDCMKIdYsZzfem8HTwKLpv3sN412HUTU3AHEwFz3frTqFn/f4LF4r0BCl02ngQO4wzzlSnjfteN+pq/XAbtwfOXfceRV/zU1h0md0o5sJ1WKmpQ589f4bADy3n0WsfhkNTeJroOWMdFupaMKjP7i9dyFwbsbZj025Do77wDHuF1Csf443Z8FTogA6hbf7ZxdRT6rHGmB/94VS/bM9MPeo2EuzySE071hot6I2lpmQPjVhQ402Ox0NXD37cfhmX8TYaMQtPzA7b6p24L/JBK1wXlElcSAYQyMo2efxflnuRMabciy/dsnZaTi/O/wt9GZf12jKYJiMuu4nIgLqUBFDFjA0D7nhfByVDX7YXAibU6u/vLymhVjH9uZ+PVQG0CqD3xfxUAXR+AD0yMhLXHROg7mVhO7jVTLAsJ3uQM6Xthj5bzobY09NTlCWe8PBPIf7gDxCeiwHzEfi1ZvgFLeofz2G8/wi6hu5jouswajOA59uN53F0+foLTfCb2lfxmvGtF8OwEK3Bms6BHutoytB8GD6EE7VT0IupCUJCMQ3uYBBn6lPBtvLkm5Gz6Gl5DJsumbgj07hPoxHr7lr0GwvLbsc6mLxkqOE0TphuwbQDK7lxSwvmXdVo1xQXoFjo/F2RqrEodUISPSnMbqHnl+s4R2QVndFUdj48boEjuIlJeyOW2qogScI2Bl93X4ApkrQg/LDhJEYb2/EJfD/etNXYITQFPihXM/d1PXK6b5mdlnfWCGgpX6EUIJt2Win3KIad5vok66YAbpPLAAAgAElEQVQJqmW9tmyTVwl2mmQCWXHK7Q5CyfZCwIRag4ODBb/cHIS+SL8HFUCrAHpfzGsVQGceBjIZXPRZ+MZP1mavMz9x4WRgIMH8s2cJ4MTtvWISq+xk0pFVIogvKhvi5Neh+fb/gMhcELEFCV6tGVG/BNfEMp71dqPr1kNMdPbCPT0JS9Cfonkear6E44vvxwFcpgQpT4IdsNs9KY4YkZiA9/yteLV1O7B8HnTBb7eiqyoz6NyI2DBi6sOphmQ68Ez9FU/MoruMM3U3YRZTAxVz9e9Nx0k0uqiPni15GCZMzZh3utGmTzqOlFxZ2okUSUyiFQGJzi2F31e5ri/Xw3aEoIv7SLeGn6M/ltwFiEoCLMMxLFlceN5RA0EUIMYiOKRwOglHtXDdS23/f267jOqaJbQiIddZip1Da+Bb5W76vq+PmlraoJF5JpDmOkeWWamdzuR//TKw03RS4T0dlBTXfCFgvyvvh/fHNfjkyZMV3W3c7xNZBdAqgN4Xc1QF0PkBNDVnBKlka/ayMKU4H3ZkdMjgcOt1N5I9yPdcdFKZxWvQfONXEJnxI7IkwSeaIayGUTW7genOQ+i8/QjPOnvgej4Na8CHt7sv48p4wm1jqOUyTi4kfmaClLuGYzirSyZIueE9jr7aJzArnDaWwyZMaew47t6e5vpeuAetNc9hN2ROenLfOwBX6zIaLMnAs0xj/Uw4BF+1CUcs+TMPyuePGDvhrbPiuD41GUgxc2naUIdRdzt6tE8gZnARKaau9GPD0GAcHXFZjTLb307qLOXcsKSDVzBjGS74YIlX8Xro+2iWEnaFLJtBK4wzwNOuJohbcYbmqAcNSGrcN302ND1ZTmnCd3tfw0nrzRds+lLk59Ea+t9LaeZLe45s18dYDlnuxe+0HIhIxpgAjWuLLPfgulcJdlqWevCaMjut1E6XIkVjHAjP2+t1ulwTJNP9sK9I6BBAf5SLCqBVAL0v5r8KoPMDaLK9BKp7uTXIBxtTeZMxoh6bHs+lPGR2Mul4beqwC8qG6JmA9qufRPj5BsKrGvgkA/QzfpjWAphpaUbb/RFMH+qG6/lUAjwrfJ6HWq/g5HzCeWOdCVJMrTiqSSZIyeS0MRathakqiAZjqm1bRBJwLdSHiy2pOlq5H8IxDW5Gz+Nsx/sZ03nLx4ViWlzXn8OZumvQi4mU0fnKuliFO/XHcMn8Xsn64XmtGw/rOtGtewKtUFwilnzt24QVz8I9EHQB6IpM8pKv7kI/587COuxYgwM+yQpJSDVg+mzw/4UZSZ36nL8O62YHBH3yCu7oAqqw+eIPq6tOtD1LfYm6dewwWrTTyWPC/z2awv+80Ga+9McxToIJU3LZ9RGcycCWoFpmp+VARALcTJpope+0LA8pRjtNaZgs99iJdprMOq/LtfEgFN4PnzvKnU9KVEjonDhx4iDcYsn3oAJoFUCXPHnKeaIKoPMDaNrDEayS8d2LwkWTWdI2NzfjesVCLKcq0U45GyITFfBhmrWENqH5+quIjM8jtK6FP6SDadIDTSCGhbo6tDwaw0xbB5yzMzAHvHi/8xJemXgvXt3tlldwfCHhnzwrJBKkHBITcoW400bgAq7UXU259PubLTjePAezNhXYzvrtWLXa0efKHGA3FWpHyKFDZ01qAFr6fT0I98HoDqDTVphsgjKD6/aL6HE/hFMsPLBQed0FrRNDtYPo09+HXigMsBc65gtwYxJt8Qx/mnji7d0vm5Id64I1Dp5j0GRsgEEK4FdCf/3iMy/MuK0/AbeQtOjjnOiIjafcx+qcC21zSZnMktmByOFYiv+3J/SnqI38w92/8V2+IgEtg9EIoAksC81eJyeTUrLTbLqsYSaopgtEJnZa1k3LYLoY7TRBuwymi2WnuUZSmrLXsSrlGmI6pLCPlfcjB38eO3asXJd5KetRAbQKoPfFxFUBdOZhYBCMnHyACzN/3guDfjIyBPC8PhdTMhJ7BeQLysoYjULz7Z9AdOQpAusahHxamCc2EJN0WKmuRsPIJOab2+CYm4M56MWHh87j4rOriAoCHjadx8BiAhzT+cFqTiZIodPGQ6kXp6uTAXtxLbKvHa+2TmwbxDv+DrQ3LsKuSzKTyoNuhC+iv3UIJl0g6/eQ17wunsbl5ndzstPKCm4bBmFy+9Fryg3Ks12UrPXV2pPoNT6CqYw+y9QVT0S7saSxw65ga3dzEYpKWsxK9eA9ZgPNyvY0xGbwifD34n8iW/49/SfRLEzDieRLCV9WemKpAaSbz6rRtJqQdAQ1Otw80o8eQ+oxkcB3UBU72NvgsksPpRvcPdtJoDHXH6WzB9dHrkVKdjpTinGOgTKJSzFgWva6lllx2U1EBvF8iVdK2Ag4KTkhy34QCtd93qvS/Yl9QGnHwMDAQbjFku9BBdAqgC558pTzRBVA5wfQXLAIZHc7RSwZZ/mhwOQAclDJXiUKKCSduOYHn0HszjUE1jQIbwrxFN0hvQUbZjPqxmaw0NgK+8J8nHm+3n4WFyY/QFDU4Wn9cfQtJzTOTJDSbplCFRJyjPloLTb0NnRbkm4M6xEDRoUanKpN6mPjD2tJwIfBPlxszSzZWAy6MGttxmBDbj3ykP8E6poX0GROrT/bd29eqMdYTTsuOEpzdtgULLhmP4s2xzCsQmaddinf+whEPMBRBGGAA7ldRUqpP9855Lc3JCc8cGMVTPVdeI6s/sh9nIlex6rgwPd1n4BfMOMkbsK45f3Na8fowJEGoMNPzHD5EglpbnQMIFitRS+SLzQ8x+h/Cu2WzjrfPbyMn/O7SgkAGWTaupUza52cUEVmpynBUFrW8VpkgivBTiu102wHSQVZO02JCn/ea7vRcs0XJkxh0Dgle3KhzzXvkzZ2H+WiAmgVQO+L+a8C6PwAmsCVCzezP+1G4YOBJvq0MeKWK4NiyO4QyJOBSM9MtRttkq+RK524ePW/Bd7/BoJrGkRWJBimvPDbquATtXBNL2GprhH2hQWYgz4MtZ3C2clr8GpNmK7pRe9qgllOT5BCpw2HYxO1usUXt/nUXw1NlYT2qtSsfYshG6ZFJ040ZnbZuO0/gfa2CTiM2WUVaxE7Hgj9uNSeP2U3G+SXDLhuPIczzddgErOz2dnGyCcY8IHtIhocY6jWlJ6FML1+j2TGQ/TH5R9KDfFuzRUfjFiBCxuSHVEhs0QjX1teCb8Nh7SOH+g+jqBghAYRnENqopp0Bw7WabgnwRAN40ntISy2OKFFCJ0Yf3E5v2SGy5/8PV87XrbPuVPEXTMCW+5WVTpjnZxQRQbUcrpvZYrxTOw01znZ6Uj2ni408UomdprjRODONTOdnX7ZxpDtpdaZtqVK2Q3HlM+Gvr6+l/GWytZmFUCrALpsk2knFakAOnPv8SHAbUoWvvHT/qmrq2snXV3QuXygkDliel3aFymzH9KmiQvoXmmgeQPZ0okLd38Xwo/+A0JLAqLLEnQzPngc1QhHJNjn1rBaUwfb4mI8w+Dd5mM4PX0Da/oqLNtb0LmRYIvTE6Rc9x1Hf+0wzGIyiOxOpA2drjlYtUmPX55719OGxsZV1Bi3s6zeqAl3IoO42J3bnu5a4Cw6mp6ixpzq4JBt4K6K59DSMIVmc27njkznByUdPqg6jxrHc7i0hV2vkAk0izoM4zDc0jJ0ZdZO57t+EDosSg3wMT+kYMx3eN7Pz0Y+wJDmFCKCLn6sDRsYQDKYlH8zx7xokJIBg8GwDu4HXixYXHjS25ZgRuFFC5IBhOtSIxr82X3A8zZsHx8g+8Pzf4Ln3bK4lLtETqgie04r2WkZUGdK9811T6mdZj0E04UCamqD5WBv/pzOTmdyE9nHwxhvGt02yD4r08yTyKEkh8msPspFBdAqgN4X818F0PkBNN/4V1ZWwAQilSxkl6l74wOAMo30QD0y0nww7RYTnulemU48PRhJGvtLaP7+txCej8a9njULQWy4XJA8QViXvVhz1sC6tAxTMIAHzUdxcnoIiwYXfJZqtHkT2tT0BClveS7glYYPU9wr3vS047W27XrnD8L9ONPwEBoxme5ZbvtwoAsmVwCtriSASr+v+WBdXNZxvP5mQcM7HuvAutuG487ibenCkgZvWq+g3v4cbsP29OIFNSDDQaPRbkxrGlGP+V1NfEI5xJJQgxVUIwxaYxQu0ch3r4IUgySILw6rxyw6FEwyP6iJLsKukKZseKrgGt/Erb4+SPrEudVYRi2SgYfLsUG0BH4Q/yyMMO5oruFE9Bw02PLFy9ewffo51w2uHwSPXD8yAdXdbjqBPEGfDKhJTLBdsk0e2fFc7HQxgYi0+SRbS598AndZ7sF+4TVkqQevuZv2n6X2OX3/GUCo1K5T1se+rPSzqNQ279Z5KoBWAfRuzbWc11EBdH4ATfBMFrqSb/1cFKl3ZnawbA8/toHMNBOZ7FV5/PjxCyuseBvm34LmG19A+HkI0fkYxOUI1lwuaFe9MK4H4alywry6AmMwiOGGwzg2cxsz5gZAr0OjfzKeIOWq/hJe0SecN6hhfj94Dpdrk1piT1SH+9E6nG9IBcFrUQueSm6catwOqiMxETcip3Gm4wY0YnanibdXLuHkkTuw6ren+07v47WYHXf1A3F5h6ZIL2be15vWy3Dal9BgKExXnW+MWecN4TSCURPqNeUD4/muy89X4cC8VI8ItNus5wo5v5RjOvA0/oIgl0wOHMsrLizp3QjZE6w1SxOmYEUyscpS9FMYjv0ipjUPEBXmoEUMn/f/aSlN2jfnyC/fBIpcP/YjQFSy01zvqOflDoGcxIWgOlO670LZ6UyMLQeIfaN09ngZ2Gk5YQrle9RBy4XrP/ttN3ZD983kztAQFUCrAHpfzE8VQOcH0Kurq6B8ohK6My6UBOisn8wJo+WzbVvuFhOea2LSB5rbivFAnfVhiF/7WUSmPIjOSsB6DGtOJ0yza9AEJPisVTCtrMEQDuFpXRcGZu5i0toGgxhGXXAGAcGAe4ZBnNEmgge9MTMeoxunHElmdybqQMiqRbs5ySDy2MehFjiqN1Fv2a4bfuapR9BtQ487uxPGlL8Fy0YnjrfmZ5HjoF66hKNt91FtLE6nTE78bc0lmGs30WIsT9ptn2TCNeFsPJhO6UhR6QUlJBkwLTTGHTGSvHClr5qsfwB3YUPyRSeTA8fdyFEIhiQLzlenXjxJYeXfkq5gTkgkReL4uCQ/ftb/ld27kTJfiYCKzDOZXco2CvVgLnMziq6O7LSsm5bTfctBgQTTxaYYz8TYpjeKYDydnWZ/KZ099kP/yQCazwPlTiTlG2TU91LGV/RAV+AEFUCrALoC06r4KlUAnbnPuNByoWLhWz/ZYUY+lzN5Ca/BwEAuipRFEJjmqp9ervR0rSQTnm8GMY0sNXluqwbar30MoYllROYkxDYErNsdsE0uQ4ppEDBaYFpdhz4SwbOadvTN3cdTezeqoytwhpexIVRh2tSKPjGhaZ2PurFpsKHLnPRaHvLU41D9GqoNqcF5H4SP4HTDMLQZmOV3V0/gZN9jmHVJ3bTynshM3wxexLFD12HUpeqoM937w/BR6OoD6Ham2qDl6ycCs/fFs5BcMXRZS7O0S7/GQrQWN3AKjeIszELm+8vXrmI/5w7BFFqwKrniQXxFmGgUe6k8x0s4hw9T/J7JQHfHks4sj4VeLIuulKQqkHToFVJ109/Dx7EGZ/x6OgThkAz4tP/flbm9u1MdmVWuTQSAuV6+d6c1pV9FDgqUATVdj2TZhSz3yMVOk2WmBlqWPBSqneZ5stSDwJrtoF5alntk8rou/S4LP5NSFzLqdFBRBoGSbGHZC0vVwltf+SNVAK0C6MrPsgKuoALo/ACaujMuzmSgC12Y83W9rFfkAk7WqBCbKTLhdAQ5cuRIvuor9jlZniqzEfVXP4vIyBQis0DEr8Gm0Qr7+CLCohEhnRHG9Q3oIlE8dzbj8PxDPHb1o9E/haroBubEegTNZrQhAZZHQp1w2Nfh1iVZ5re97bjU/CxF17weNmHC0IhjNUnQJN/oStiGSUMbjjengiVlRzxa6YW+MYpOd34wPBuuxzNDK853pro+FNKxt2PHseY24nDVo0IOz3vMWKQTT4RetIgT0JU5G2G2iy9FazCjaUA0rgwubwbEvDec4QAj/DiJ1MA/pQMHwfOI2INGaRF6hQ2gHwYcx92UGr+Jn0YA5ngKmTZMIhw9jk8F/2UpzdrTc7guMeCYW/wMOC7ny/2e3hi16eFwSopxkg0Es3IgItONy/erlK8QcPLvBMLFBiLyGkqph5yJkWBaZqh3i53mtenCQTmOMhCUu5B7mQtgr+eFfH0VQKsAel/MRRVA5wfQZCi4mJH5LYe2kIs0t1y5GHOB5IOhkEImnPZUe+kB+nR0FG0P/jE0w8MILQoI+3TwakyofjoHv6EKMUED/aYHukgMc456dC8M40HtcRzafAJzzIcxsQM2sw9uJJwTrvuPo9/9GOYtC7hAVMTNcCMuNaXqnR966lBdF0aDJcHAKMu94BHU18/BbctsT+ePGPDh6jlcPv5uTj006wzEDLgRPYtT3ddzJlnJNF63IgNYdthx1H2vkOHMeQwZ7JvhM9iEA026zJkUd3yRtApoPTeKbgQkY1mTuJSjnU4s4zCGU6oyxXxolGYxgpN4rGmKZ6psF56lyDXoDDKY5tzxt/gFxKAFQTk11VLkE/iJ0H9TjmbuWh3ctaLsi0FzTPV8kMBzeifKsguZnZYTqsjZEMnKZpKvKLXTrJO/F+rsQfBNELtX7DTvkT7QtCxVBoNyB5KAmi9MH+WiAmgVQO+L+a8C6MzDIKey5afc2uN2GiOfdxrZThaZsg2yRtxyLYbRoJUegXe5pSTFTETv338W/z97bwIkV5aVaX6+7x7u4R77vikUEdpTUqZSmcqkqIaiwBgKqBnoHgYolmmgqqBYhmqbpmeGsTaaMWumh20a2mAGM9akimItqhi6MiszJWUqU1Jq3xWLYl89fH++vbHzXK5wj9U9wmPL9GsWFlL4fffde+71+/537n/+Y7/xNokFE0rMTDxtwvtwirCrGjUD5lAEQwbmXT46Zx5wreEUBxeuYVET3NAfpt0+gutpgpQ3oy/wUt27z7L8TSgOFqw2+qsL+c7vKAd4rukRJn2hJzSeMSGg9Uz3lTWHcDt4GEfNIm21G4PQK7FT1LeN0li1lAa6GNvcTvXyxF3P0bqlLInFXLdanbhq5mLmLKZ0mlrz9gcGCkVjONnNjMmLlfiOKniUYqMWRgqk6ORaTzrEoK6ZCX2T1lQSPT1PTzWW2lY1DnSuxLHwN3yP5n1uJwu2zdF/xYvqf7tvQKgARlHkkTgE+fkwg+fV1oiASwHTsh/K3ixFQGXOO72aZF1OIi+XFVGuKSUrYr53WkC18Ldl785X9ihlL99o7ed47ZK8K5+6kksWI5S/j3KpAOgKgN4T678CoDcG0MLHE+6vqF8U6y1e3moura7wmIWnJ+lmS33wyUNDvBLlpJKUsgh1V3+F9H/9AxILZg08J+N6vI+mCXhr0CfSGCMxDTwvOqpon33MB01nODyb5a1eMpzimO06ZpSs0kbieV6uWVLauJtqoMYbxGdeysIXTJm5RxOnGlcmvbgbbMbWmKGtenUN5sW4iwcc4mRPNjX4euVxvIuQy8HR9sKj/o2uu6908cTVxEDTxoGIG7U1m/ZxLXkSj2kel2H7MwaKXvQgHZjUFFbdxlzwjfq/nZ/ryHAwPYTXsKT3LN7mebWaaf0SkJCsi93LALSdMC0sqZ5MUcsbfAtOQvjJ6m/rBn+UhkB/QVrqcpw0ldsmsoeIB1L2EPE652vEl/tee709Ac7iTBCwLHbISeXlaBc53rT8Xg3YCiDOB9OlJHLJOVfknnKaKD9ShFaSA9SrZWIsxaYyPuG2i2Rpfv+FwifB5vIM+SiXCoCuAOg9sf4rAHpjAC2bsqhPyGYmm2SpJZfcQDZF4ejl63qW0la5qSSl3Ft98F8w/OO/JzqjEo+YUMM63MNzLPjrMUbjGKIJdOiJWuy0zA9xpfklTsxkpeneMpzlRdtFDUiHM3bu67o5UbUEVt8KtfB8yxhmQd9Py72QH1tthlZXIWVDgNNbi4d5ceA2JsPq3Nx3J07SeXCYGvdS9sLVxhpIVnEzfYgzAxc3pHbkXz+ktHDL0suxtsslXbdaHx4mO7mdPkyn+TFmfaKUKSm5rqicPEj3ETWZC9QsSm5oBy7QkyaJkXmqmaSOH+C1Z3rPGXRcUw9j0WUTHS2VDO0UnjQ0MF4QVPiQTt7jFJ0sSR/2BX8bc9CpeTUFDAlAku95zqO5W4Fk+SPLvYALdUOO7wVEfVSL7INCZROwKqd4+Y6InHe6lLnMeadzv8Wuu+2dljEKv13k6vLjboS2I8Hm+em9P4rroAKgKwB6T6z7CoDeGECLp0ISiMhx2vLkJhtNYs5TIhvy8oCQja5d/nmOStLb27uqXmqp7RVdf/Qf0f/tz6BMZ4gFDGSCKq7xAHO1TZhDUfQxBRUjSZOZpoURrrSe48TUm1rz3zSe4xVr9t+TmVqiFgedtqxHOZnRcTHewrmWQtBzSenmaOMQFkMhQBqP+whUuemvWz0N82zUx4ihgxPd7687tHRGx+XYCxzouY3HsVi0Gcbi9VwzH+Jw+1VMy/pWdCNPpdOuR55j1NhAj6U8Ch1r3V9eOAYzvYzq6nHrFjHuUBBiKfbI1lVJoyeCg0XVz4LO+Swpi4kEn+H/0VK0CKf5KicI46DxKY8+dy8LMRrydKKFniK8aaFp5MoHHGWKOjxPaURpVc+3xP4Kw1NhPgFROW+mgDB5+RVvdA5My/e/XIHExdpIwLPQviRoUF7Aiwk4Lrbt/VZP5kTAszghRCN5vVO8teYypzstv9fzTue80vK7WHpGvnda1lGOYlKqd1rGKXMup575YxRQLacP+em999sclqO/FQBdAdDlWEdbbqMCoNc2oVA3pMhGLCmsRTooX9R+I+Pngv5koy6HPqvw4kQFYytUko36vOLz+evov/xpEuNxlICR9HwK+3SYubpmLIEQOiWJiomMQU9DYJSrLS9xfPptLUHKO5YXOWs6rzX5INmNxx14prQxl7Yzba2iz73EN46kTHyQaOJs+yrZBoN9DHQP4bKuLt/2/uJpejrvUmVfn/5wM3gEa12E7uaVSh5r2WZK8XMpfYKjvVcxGzfvJZYshG+GXgWjnhb7xpzskucq7wKhaIwqnaimNLa8VOhbabPc14onGdXBgs7EDH4SrJ7+u45JPsXfsIgbAcBJLPK6Ri2FJwwSaOgm9KybCmaOUBjQ+U1exsrSHMZUF5+M/cmqQxMwJHtALnhteVpq2QtWk1Yrp51k7xHAKPeWPSRf0qyc99kPbeVUR8T7LhzgUihwOWCbm8sc7ULsmZ9ifHmbW/VOi/Mlp+whgFr+Ly9k+dzp1V7IhN8tPPflSbNkLYjXfbOnmPthnovpYwVAVwB0Metk2+tUAPTGAFpq3Lx5U3uAFXN0Kpu1BHsIX1GCfMoVJS/Hk/fv39eO9fKljbZtkUQm0H/520kOLaLM6VHnM5jnI8zUNuGYD0IiTVpvxkAa/+IE15tf5NjMBS1Bym3bEU7oswlS3o8fp99/55nSxp2oj6pqhUbHUlKMh2EfOg90VWd5qbkSSNi5k27hTG+hAkPu87FIHXOWWo50rK98MRFrZFjXwguH3y3aXELxeEt5gYED17BbNq+7vJh0cz76Ml7bAj5z4fiK7kwRFSPYuEM/8bSNKkPxnvUimi5blRQGzcscwM0iQkPYOCVLP7fp5gF36EPFoPXFRgTvUy+y/D8nSSc0oVxZLmEnAPw8Z/GxRAuKqM18V+x3ixpfflpqAWLrSasV1eAGlQRsCQ9WKGSy9+zId74cHd+GNsQZIR5Z4TsL/7cU8Lxad8S2+SnGiz1pWI07vR3eaRmvSNYJbTC/CO9bHDkf5VMIsUcFQK//JVtKJbUNX8ZKk0sWqADotVeDAFYBw1LEAy1HhhsdncnGLF4CecCKp0CSjpSryCYvqbQlC9W2e6JSMQx/9S0k7o+TmDHAXApDMMFMTSPOmQXUVIaUwYYlFacqPMvdhuc4PHeJoN7NuL2Vg0+lw96KneFs7TvPlDbeibZytGEcm3GJnvG+0kl/wyj2Zd7d66EO6loD1K0iTyfUhPPTpzh55AY2c2GilXx7x5JWbiZPcrjvPazm4oLlggkn78RfoOPAXVy2JY9mqfM4Emvhavg5OryDWI1r97HUdvPry+q8RT8LCR9OU2jPUTSkf1HsBHEj3t6wTiQbS9ve2xnUXtJ0edeJt1kyMebKagGECYwc5pZWRdQ3vsonNO63Oy+bYTRzmO+M//uSp2CtxB/5VI+tBCIKaBbwLIBNqF9bVf8peYB76IKcZN92qY5sdNIg3uLVggKXpxh/CuyKpvis552WPgnAXw6gJR/Bjuz/e2j+V+tKBUBXAPSeWKIVAF0cgBbgKsoZ6wVvyHGvbHCy+clDbzMBh+stiq1wsUtabKKX+g/fTvLmPZJTetTZNLpomvmaRhwTM2RSkDDacSbC2GOLPPIfYiBwhSljPYrNTqv6WFPaeCd5mrP+rMc3rcLb0VZeaV2iLsRTBi7FWznXWchpVjIGPsj083zn6l7lBwttJNxGBtrXp2FcGDtD5+FB6n1L6g3r2SGasvJG4GU6Dj7Au4amdDF2vLF4hKFUO93VDzDoljyixVxbbJ1x6rnPASwkcLKkXFLs9dtZL6UaSOBlVmclhIs0xi3drpnRArAsFm1ivACGrwagdaQ5wEPE6/01vp1FPLQzVJAYJp36Fj6e+MKW+icXbyZ4ba2b5icGkX1kK0B8ywPb5QZykn2y9wqA3omS750WR4j8X6g6uZcjcV4sp10ImNb2uXQ2sLkUVY9cfXl+5HSnha4nJZfARYvsn5oAACAASURBVP4tp5/yfBE51XKfRly/fp3f+q3f4urVqxrvX+7xIz/yI3zyk5/cCZOXfI8KgK4A6JIXzXZcUAHQxQFooU7I8eFam7jw88RjJBvbdj30ZFO+detWyVzsUteN/o1/Sfrdt1E08JxBjaks+Opxj0+TSuuIGx14YgsYEgrj3g56gzcZMnbitEXxq5Oa0sZDfRfH3FkAHEhaeKSr5rm6Jb7zcNRD3Gmk11+o+TwYryNVpacnr26u/4m0gQvTJzh74iqmPA/28vHdm+sh7rZxtL84WTolbeKtxZeo6xqhxlPYn2JtJy8M56fOkTRbaKkeLvaykupFVBuX08+hUw2a3N1eKqpqZpZqLfhPvL3FUDOK679KJ4MFgYACVZpZLl+4UoFDpOoEaP9XvoVJGlBRV+hEW5I/yIvJHyyuK0XW2kogYk7/d7XEIEXe/kNTTSgMQoPbTck+2XNlTnLcafm30EeWc6eXG32r3mmhAMo95T5yovlTP/VTGnXl2LFjfPd3fzdnz54tm4PmnXfe4cd//Mc1L/t3fud3avzsf/qnf9JUQH75l3+Zz3zmM3tuTVUAdAVA74lFWQHQa0+DHKPmPAtaCmu3e4X+Zk6bVTY8AdgS3LKdUfqlcLE3s8B0l36JzJuvkZjSk5nJkE7oCXhqqBqZIKUaiZoc+CKzpDOw4KijK3KPW6bDtFmGcRJkKlNLxOqg05r1Kg+mfFg9GRosS1kC34u109c4gdNUSKm4GO3jRPcDLKuA4zuLXdhqFNrrCjMU5o9xLurlbqKfM89dQK9fUl5Yyw6pjJ5vTLxCQ/8YNdWbS1oSTdr55vSrOF1h6tyba2O9eZJRXE8fZkJtoMYwi1mX3My0lv0a6VcMGzHVywJuojrxMpdGzSimU6LA0caTgqriWc5X25APzcRXqHI0McoNDvGYHI80QzeFpx01yi9wKP1KMV3ZVJ2N6AHi1czRMyTYTF7C5eRK1Da2cx/Z1GB26KJ8vWuhzZWTBrfVIazGg5f5y08xvpp3WsaUe5YU452WFwcB68J9l/qy77/++utcvHhRCySXe54+fZpz587xqU99qqTg9nwbyHi+4zu+A9GXfu211+jr69M+FofQ93//92sg+utf/7pGR9xLpQKgKwB6T6zHCoAuDkA/fvxY8wbkZ4DKRcjLZiMb/U4kNhAutujAbstD5e7/BV/7P4lP6EjPqaQTRoKuajzDEwifNGKpon5xnCgWYlYnbbFB3jOd5ojlGhYU7ie78boXqDFlA+XeDUmSkWmcpizoS6T1XIy28UpXIYiZiLmZdVdzuGGl+kY4YeV2qo+TPR+sCYpTaT3nx85y/PnruJ0bB88J+PvG+DncHfO0NBaCs2K/lBOhej6YP0Vt3Tgu61IwZLHXb1RvNNnEreRh3OYQTuP2J1bZqD/yuVAhoikXQaOdoFpFSgPN21vEi1zPdMFNJBlPLglK7gMv8890orN91ZNBz3WOPrvWQJKOZTrRffH/RH2mc3sHkdf6WoGIQhEQj2MuQ+lWg+R2bEBlvlEuAFuoG3td7zqfBy/UCwG8Ap7zvdOrqbQU450WBQ5x4MiLVH6Rk1BJ733hwgXefPNN7ffP/dzP8elPf3pTM/H222/zYz/2Y3zv934vv/Zrv1bQxle+8hW++MUv8rnPfY7Pfvazm2p/uy6qAOgKgN6utVVSuxUAXRyAHhwc1LIQyqaugcFEQsuEJQ9E8RKUqg9d0iTlVRY96u040lSf/BX6r/wisWlIzehIpUyErG68Gng2EbZ6aVwYJmCsQmfQ0aiMct70Emcs57Xj9feV4wz4bmPTZ73Kb4TbeLVticowGnMTtFnpry0EQ+8FOznQPUWVdSWP99pCL/Vtc9RVrU2ruDJ2DHd7iO4N+NDSJwHOF6aeR9+o0NG6upb0RvNyZ7aP++FeupsfrEsj2aid1T6PpW28p5wmrrfSYF09w+Jm2t3KNULHCGjQ1EVctYJuY9WMrdxv+bU+5vASKPizS+vN0kuLUDNaeaIl6smVx7Qyj6+ASmIjShNLNKKMquOV2JcwYipnl4tuKwfAJLOggGcpAsDKFYhYdEf2SMVcshhRoBCPZymSoXthCAJ485U9ilFpWUsmT0405bPc80bbv1RVy4h74sSJLauQ5Oz1G7/xG/ze7/0e8lvoG/lFvOAvvfQSL7zwAn/0R3+0F0z8rA8VAL3+dJT/LHBPTf/e6UwFQK89F/kUDgneELki8QjIw06OWuUYTfjO260Fm99DyYgoPOyyZqKauYT+r/57YmMpkvMGEkkTEaOD6qEJ4noLIauX1rlBJq21ODMRapLTvGU5x8umbIIUkXqTYEG9TiWUNvHAWM+J6iXP7pVoK50N03gsS0oUoaSZa4kWXupbGQg4F3NyN97G2SNZBYXVyli4kdFME88/l5XKW69owPnJ86iNabq7S09cItdfGnmBeYOPrqaHG92upM81ikb4KGPpJuqcU5gNm9eZLunGa1SW/ixokNWDkjGT1Au43L3tuJFx7BRKCNYyVRAIuDyA8J7GdO6g5mmq7txQqwgU/C2u2vmO2J8XWELAeL7aRzlsul4buSA5+U5LkFi+TvFezIi4Xfb4sCWLkfHk9J9lTiVAUF6O8pO4rOWdzimwSDyNBE/KdfIjAYriyDl+/HjZpuHzn/+8RtH48pe/zKFDh1a0K/eSdfnGG2+U7Z7laKgCoCsAuhzraMttVAD02iYU73IuqjonKSXeIUmnKhQK8Q7sNE9RjvBESk821rKU0DC6L30XykgEZd5IImnWuK3ieY4bLARsfjqn7/PE0Yo/OY07FeCS9UXOGM+TUvVcSp/ixeqs0sZw3E3KaaCrKst3TmV0vB3q4NWexwVdvR5opLo1RrNniRedq3BhvJ/evif43KvLx0USVm7GjnPsyBUsRcjSvT9+nJDXSl//7ZLNFU9aeHPwFcyeJI215fUIT8Tqua4cxWaN4bWutEPJnd3CBXLCsJj2sWBwoWDRIOReKR2ahN2SZ3m1AEKhlnTzCEnMcpWjjNOClegKz3U9kwWKJRG1niblf+eyYYxBwxRB3QKvJg/xfakj2z58AVgSJCc/q50obSUQcds7X+YbiC2Eayve2w9rshgBxbmXIxmnjFkAcg5QC+9daDvyzJGTTflcnDWiwJLzUksbElBYTgAtAYLnz5/XggZFX3p5efnll7UXgcuXL5d51rfWXAVAVwD01lZQma6uAOjiAHRO21k2OOFBiwd4N3iKawUzbmo5xIPo/+pjKI8XiM0bUZJmEikz3uFJokYbC/Yaeibv8Kiqm5boEGaSWoKU47r3CGWcPDZ2cNSZVdq4Em2gq26eqqegdjLhYtbs5FDt0pF5MqPnknKAF3ruYVgW5DcZq2ZC7+d49/01h/L+7HFaekepqy7MQLfaBdfGDjHvraJv4GbJppkLV3Nx7Cy1jVN4XBtzqou9gcjkXV44rdm20VteQF5sH3L1QjiYoZYIdoTKsBtreaM+G0nRznJFE5XGPBqGtCFeY1HbeI9TT2kb4GKxACxLnU51qEBW8J7azz3dUqIKAeA/oHycM+n2jbq2pc8FHAnHdWFhoSiebymBiFvq2C5cnJ9pcTukP3dhSBveUsYsmSVzgFrogHK6KdzpXLZLAbP5Hmq5Rpw4shb6+/s3vEexFSoAulhL7a96e8cFsr/sVnJvKwB6YwAtb/6PHj3SvAMSwLGbWaBWC2YsedLlgnQa/d98nMSdYWILZuIJM8mEgaqRaaImOwuOWnrHbnCvup/u0F2SejMTthZ6ucVkpo6o1UqnNQtu3gi1ca5tGP3Tb+0HkWaa6+bx26PPujYY8hHzmOhvWqnJ/O7iYQa6HuK0rZ7t7+FCO1GnhSP9q2cjzB//7YlenhjqOfr8ByWb5eFUF7dmD9N14BFmU3moFEKJuDM/wFC6nVrPFJZlyiMld3KTF0g/pqhjNuMjrdOj0+Zqb2+zdiIrlDUkELBuWQpvSbEyRBtRXM+s42NGe+HLlbRqold3t8B6lznOGNkgrSQGLVjxx6I/TQPuTVp548vKQVXY6YyIG49qczVyoFDoDQKey61tvLle7fxVAqAldbdw4XNKHRJv8+6773Lw4EGNWiGnngKyJQttOV92KxSOnZ/vnbjj3t7Zd8ICO3SPCoBeH0CLwkbuSE2O03p6enZoZla/jXDg5EEjqh9bKbp/+n5Sly8TnTcTV8yk4npco7PEzA7m7LX0j17jZu1xDi1cYcHkJ2G106w+5n6qh2rXLH7TArG0gaupBl5szErLSXbAt8KdvNw5+CzzoPz9zbkeTg4MYTcXSrANBmqIe5z0tawe0Dcfr+JWsIezZy5vKEv3aLaD+8kOjr9Y2lGjAMsrgyeZSDZw4MDa3u9SbT0Rrud64Cg2d0xTJtmNoqhmpjINLBjcGr3BoIVR7p8iyho+Cm0n1IzqvKBCCTF8QvPTBN/ZsUny0HomCtZgDOuzrIQ5C7zNi9odxCo24tjUOL8S+8Vt40Dne1vLRVXY7oyI27Va8tOUC3gWwPhRLfJCJDE2UoS2IQ4bAdOifiFeZ+Egnzx5ku/6ru/S9J/l/+UqlSDCcllyb7VTAdA7NB8VAL22oSUKWTYwiQaXDV68BLsNoGWjFSC/JV3O8z9D5u2vEp01E4+bSMd0OCYWiJkczDjrODx8mWsNpzk+9w6jlg7s5gh+dYr3E8cZqM4qbUyk3EQcVrqdWVWN2ZSDMZOHozVjzww6n3IyYq7hWHMhQE6m9FyY7eWFYw+wmJZSeucuFFm69xeO0zdwjyr3+hJxQzMtPNR103fiAwyG4rP+JVMG3rr9KgY/NDx9AdjqV05LGz7zHPNGF/U14wUAbqttF3t9IFOlBSRGdTYtIDHrad6fRUCwk6VTDBmFh3nsxMmoBobUAR7o6qlnCn1exkcF0wrqRwwLhynkwf8zHyOKQ5PnE++zorr41djPbIuxcoBRvI3b6W0V8CUv/UIPEO7qXgxEFMAo+6rY5KOepjwfPAttIz/rpHwmXmjJDijqS++9957moRYOtHiOn3/++S2v1bfeektLolKRsduyKfdUA/t4299TdtywMxUAvbaJhKMoDyIJ2JNoeQn46e3t3dCm21lBvOFyhCcerE2VG79O5uv/mdi0GSVqJBXTYZ8KaAlSZpwNHB26xAeNZ3hu9jx3LIdpNg0jsmFvJ87wkv+idstr4Vqa6kL4rVnKxc14I7W+RWodS1J0l0NttLXO4ncVytPdmWvEUq/SWb/Ejc4fx+WxXvwHIrRtAGrHFuq5FR+g//QHGNfJSrjcRosRF2/fewVvyzz+mqxe9VaKeC9vTh5mNN6Cv2Eaq6UwOcxW2i7mWuEvjyeamUv5SFr0mI1CPflwbJ9tDGNi6QVLVXU0MKF5ja/pDpHCrIUXLs9KGMdMB4Wa4mkM9FJ4wvCPfAIB1qLWIYGKSbWe/zX2I8WYvaQ6OVUFAT87CRj3YiBizhYC7HdawaikSduBymIL2c+lLAfPudMKAdRdXV3ani/Bh5I1UPSfJYHKt37rt265lwLSP/GJT2ic/LUSqXzta19boUe95RtvsYFKEOH6BvxwPAG2uEh24vIKgF7byuIhkQ1GSk5uKpepaSfmZrV7SDBj7kFcah/UwT+Bv/13xMYNKGEjqShYZ0IabWPK0cCJwYtcbX6J52be5qrlNP2maxjUJO+pJznjuaTd7s1QK2daRjE99fa+He/mTPOjZ0GB0ZSRq8l2zvYWyr3FUiYuh7o4M3APg2ElleBJoI4Zm48Th9ZXy5iNVHMlcILek9exWIsHq0+mWrgxdYzGrlHsjkKvZql2lPqTgTruLR4Cd4pq786m1VbSZp4k2lhQPejNqbLrUW/GHuW7Jrs2MqqRA7pCwBvRtDUcTFL/TN95NQAtfGbRhc4vZhIr/va3fJcmh+chGyhqSPfwReX7yjeUPL14UeuRl96dlLzMH8heCEQUwCgnaGILAc/53tayGn0fNJYDzwKMl9tiNfC8nUOqpPLeTuvuTtsVAL1Ddq8A6LUNLRuZbHRSAoGAJrU0MDCwQzOz+m2kD9InCWYspahTb6D70k8SHYPEopFURMU8F9FoG1POLHi+3vQix2fO8471JU4bzhNRHTw2tnPUeZNERs8V2nihJkvHCKRtGj3jiC/rQZFyP96AvTZJs6cw8cmVqVb8rWFaa1cCzWjKwrXFAU6cuIFlGUc6f3yBqJt3507RfeI2DmfxAPj6gyMMh9rpPvqgJIrHaraNJS1cHj5F2OSkoWV8Q152KfOzUd2A4mE01kLUYMXskIxnG12xPz4XuJxRLcR1BhZxM0sNSSyI1vO3sKQ9O4OfOxzE+xTs5kanJ7UiU6Gk+hZaR35ZnpAljIOv8W005tXzpk7y04mPl81wkplOPIyiFy/gWYLA9kpZLyW1UNZysmrl6q9QV3L0M7FFBTxnTxJ3Gzzn5vf69ev85m/+pkYXkbVx4MABfvRHf5RPfvKT5VoCZW2n4oFe35wVAF3W5bZ2YxUAvbZt8gG08J/lYSgAupxR0KVOs0Rjy4O5o6Oj+EsDD+BL30NsKEliwUAqAqaFKDGjg8mnnudbjc9zdPYiF2zneNHwJhOZehSbmXbLCNMJG1MmF4f9Wb7z7WgdXn+MBmc2xXQ6A+8mDnC66yHGPB7yomLjRriFl46tHpz37uQh2nrHqV8FWOcGF4rZ+ebwaQ6+9ACnq7iU2emMjnduvUTY6KCjb3MZB3P3F4B3a2SAiWQLVQ1z2OxLyWCKn4DSa2rUjFATc3E/itOIVbvv/t4WxZaqaiamMxLGqSVrCWvKGSvH1ctdjnENCf67xlGGaaeOSXwUvoRZiVG9LNDQQQg3SzriotLRzeMCPelx6rlPb4FSR3fyW/nvkqdKn6xVrhD+sfB8BYhKYNhO68WXMojtDkQUlQ3ZO8X7vtdeJEqxUznqFuN5Fjt1dnbu6nOmHGPdzjYqALoCoLdzfRXddgVAFweghQs9NDSkaXDu5sNwcnJS48IJL66oEptF95ffRuxhGGVOTzoC+oBC3Ghn0l7P8eFL3K89Tt/8e1xxvsgpznMvfQC/cxqfKcDtaA3Vvij19iyX+Xysk9PNQ88oHCORKuJ+Jwfyggel3uVAD23tU/hdWZCdX+5ON6PWmenrLkywkl8nlrDw+uMX6Dg9iNdXnBZzJGrnrauv4O4K468vTBlelK3yKk0t1HJt7BhmfwJf/da50sXcX5LYjITaWMhUoXemMVlXBlgW085eqaOqBqI6i6Y1LUA5iJt0kWmzT/OultTlFgOknl7TxhCOZUGFotQhChq5IpQOSZiSn3xFONGHuPOsjoDy13kVD4Vr85zyaV5OF/m9WsfIEsQnJ0XiyZVkS7v5wr2ZtZBL+iHj2GogYs4LL0HYAp53c+/cjC3Kec16FJacpJ+cVlTA88ZWrwDoCoDeeJXsQI0KgC4OQMuDRDSYRZdzN48fp6enNTUQ0QPdsCQV+Ot/QfzOBMqMkXRIRRdMouitGng+MnKZIV8fncHb3LYd4rjuMu8nTzDgvYlNn+DtUAunWsaxGNIsJi0MWuo55l9KbPFOuIPD3eM48jICTkddjFDLyd6VKbpnw5Kiu5UXn7+zJv1BSRl5c+gF6g+PU1MkcJ2cqeO9ey/QeGgMl2f1DIYb2go0LewrD04Strqoa59AvwpXu5h2SqmzGKniSbBVS65iqY6h2zun/KUMQ5OOi+lsRHBoP+JhVrBu2mtuRiFBobSZeKWXZyWUBCr5/usERtpYohXJIPIl7ATM/398nCRmLflKfvkfov+aFjwljXt55cXFRcbHx7VsoZJhcL+B5+Xj2UogoiQFEc+zJAgR1aAKeF6d/10Bz6V/5SoAugKgS18123BFBUCvbVQ52hTunhTxpEgWQOGGiZdgt4oogUhAo/Rj3ZLJwNf+GxKX7xKbNZIWZ1soqXn1puz19I9eZ7KqjfroE8atTfRymwupF3ix+h0tBff5eAuvtGSByJ2Qj6r6NI2OgPb/ecXGffy80FMYqHVxtoeB3lHc9sKEKMm0nsuBfgYOP8a1RgCfSNe9/uAUtcfmqWsoznt89+FBBhd7aDvyGOMqcnjFzJGW6GSwj6HFDvzds9icqydzKaatYutMzjYyp/iJOsxYPPuTmiHpv0O4NKAcFWE51UZmG9G/iQQ9FAamCjWjhSXZRLH/ahJ2cSwc4jYhnPwz30oMhwbxa1ji6qdVPf9z7BcxsHlyeS7Q2O/3Iz/7HTwvX8+lBCLKKZkEPEuqagHPHzZbFPtdl3o5z7Nw4IXznM+Fr4DnUiy5VLcCoCsAenMrp8xXVQB0cQBagPT9+/c1z+9uZswSgX3RpxZP+LrlrZ8g+ebrRGfMpEK6LHjOmJl21HNg7DYBux9nMkjcYqMhM8xlnuP5qvdYSNkYs1ZzqCoLTN4MtPJ815jmhZZyeaGR5vYgdVVLfOTRSDUBu5NDrYWeP63+WBfejjCdbYVBXbm+C4B9a+gkzp4gjc2r18kfp9S/dO15QiYvrf2b5zdPz/m5PXoU1Z/B31QY9FjmrxjJpImx2VZmUtXofUlM9qwt90sRPraA5UWqNO9yMm0iaZSXyJ3jZAsBpIVswp6ltSMpvAvlEFfzQGfQU8eUBp4VbNrl1cwV8KQV1cGvxj63qSkRYCkvtvIjXufq6upNtbPfLlorEFHoGkL/cLvd+5LCUs55kOeGeOEr4LmcVkVeyHZu8ylv13ektYpxdsTMEtQjh6+VspoF8j3Q4kW4d++exk+TI8ndKqJNLTzodeX0rv4Kqa//KZFZC6lFHZlQmmTKyIy9jvaphyRMNtIZPTZjGAnCGjS0cNR5m/tRLzZvmhZnkFDSxK1MPS+0ZL3M8bSBS9FWzg0sgVYJHnx7sovnj49gXaag8SToZwIvp597sKqpZNFdHDqKrilBx4HCo/TVLkgkTVy4dg68GRq7Nq6/WhtK0sTl26cIGqpo6BvbVopGKOxmYq6JRb0TU4OC3rh/vmaxjIX5dDUh1U1GbyJmMINu857ZcnxXapgu8BhLm0aS1C5L6w0ZGihMFy/e8tsMFFBCGhkrCCBMqHX8b7EfLbmrskeIhq58L4XvXM4scSV3ZhcvyAUiygu+xItIEcqG0+nUfsQTvZvUt90wTTHgWV42JCC8ggdLm6EKgF7fXhUAXdp62nTtCoBe33QSQS5FNKElG5TIx8kDYbfKRnJ6mfv/BfXv/g/CUxaSOfCcNDBnq6Fx5glGXZpFg4963TAi5ZWwGGi3jnIx1MSRpmkcpiT3w14sPmiryqZRvhf0Y6jJ0F23pIBwb66GjFdP3zLPclgxcy18gJMn7mIxrwyCExj5/ugAca+enkMrPdbL7Tof8PDu7RfwdS/gqc1SSEopcr+7Dw4yHmvD2b6A3b19FI2p6QbmozWE7WYstfuDmiHJSSJJN7PJaiIGO3GTBQyy/e6tLbiZJwUeY1kDQsOoWhYIKCzsnK6z1BHY/ZjOAmKGikoHS1x+Dexluvg38U+XsrS0LH/CdxZvq9AUJGjwo1xy/G/xwAsHXGgcAqbl917MiLidc5Uv27cWbaMCnjc/AxUAXQHQm189ZbyyAqCLA9DyALh165bGYZOjyd0q68npqaNfI/PlnyMyYSCxqNeCBpOKngWbn5r5KZypICPGNvr1NxjMtFHjnMJrXORiuouzddmgv3diHRxreoLVmCKjwvlwF8/3DmE2ZmkH8ZSBy/K3/kLJOvns3ekeOg5Oa1kJVyvvDXYTr3PQM1CYJW61uo+H27kxPEDnyREs9iwPvZQyM+vjg/snMNan8HduD0VDqBkTUy3MKx7SfhVT1d5XzYhlrASSHpKqnUWcJMwm0O8tsLzaPHfzoMBjLHX8zBT8TYBxLdNacpQ0em7TzxBt1OVxneW61QB0VeoEn018W9FLLJfsQgLlRF1iN0+liu70NlbMnYytxv/eSiDiNnZ525rOgefVZPtynOcKeN6a+SsAugKgt7aCynR1BUCvb0jZDHMsFwHQoum6m8e04u2ShATL5fTUuQ9QX/tXRJ6oxBdNpEIqqTgELT7coQB1sXFumQY4rb/I1cxx+t03SapwT/Vzqn6caMrAFaWRlzqylI3xqIspq5Pj7Usc02vTDbibFDrqC7V4b081oNboGegtDOjKWfbaSAczdjeHTq0PnMVbfO32MUZDDXSfGiw5UUkyaeDK9ZMsGLzUH5rAYBRRs/KW4KKbmdlmgno7uuYEetPepWZkVD2BhJeA3k1MtZHUmUmbROZj7wPm/FnTk+Yg9womcrUAwhz/OYhL4/SHcSNJVWqXAWhpb3mmws7kx/jB5OmiFoucRonGs+wN8kK9mzERRXV4myvlgidra2vx+Xzr3q2UQMRt7va2NF8Bz9ti1hWNVgB0BUDvzErb4C4VAF08gBYKR319vXY8uVtFjkMHBwc1DvSzaO7oBJk//yTRRwqxoJlkUCUdh5DZiy0aozX0gFv25zilvsXFzAuc8bzDYKwK1aWjsyrA40gVGbeebl+WsnFhroWB3mmq7Fn6SlCx8EGwiXMnCnWbZ8IO7sUaeenF1XnO92daGDXW0H9ipaRdvv2SKQNvXXoeQ52FhhL5zQJf79/v5dFUF9UDcziqi89SWOwcTo7WMxepIe4yY2oUm+xNABpL2JhL+wmpLuIGC2mTHt0+8C5vNA92IrQvo1yslsJb9J4lYPAuB8lg1Jo1ksC3LNGKSOQ1Lgs+PKt8H6+mezbqiqaoIOBZPIkCnndTkWfDzu5ABQmclKDmzQZP5gciyt4mLydi0xx3Wjz7+4UfXAHPO7Dgnt6iAqArAHrnVts6d6oA6OIBtAQRyhHlRl6W7ZxYOTJ+9OgRvb29WmYvEjEyX/44sVvzRIMWlJCOdAxiRjdGJU1H4BY3bMc4wSUu647xgvsy74Ua6G2cx21WeC/WpMarwAAAIABJREFUzkDTGHZjkmDKwl19I6fblwIFr8y309S2QJ1niZYhsnTvBw5w+MgQzlUy8w3NN3A70sCJc+sD58Wgk/NXn8fTHcbfVBq/eW62mjvDR0m4ddT0zJTV5MmEifGRZo3qkKoDU/Xeo2ZkMnrm49UsJj1EdHaSFiNY9h53uRwTI4oZy1Nz65YFC4q+8316ViRqsRBbkTDFSQg/hclx/mXsJ+hQ1/ee5oLCJDhOaBva9+8jWsSTLMBZggYbGhrweLamny1m3O6MiNs5VetlW5SXLVHikJOKSsBgeWahAqArALo8K2mLrVQAdPEA+sGDB9qDoqamZotW3/zlOT3qnp4eLPIA/7vvJHp1mHAgC54zUVAMTtSUnq75G9y39tLJA0aMTRx23OWNUBvn2oZJpPW8F2/m5c5sIN8HgTpqWqI0ebOJSOYUB/djNZw5XEi7eH+sFV9nhI7Wldn5hmd83M+003/qEYZ1kpBMTNfxwdBhGvunsTmzXu5iiniqL18+yQLVNJwYx2AqH0UjtOBicqyJsMUGrWkMlr1FzYjEHcxHfYQzTuJmKxmnbl9wl4uZ143qiGJGfmCg1BcvsoBgUdiQIMERWrQshRYK+fIClpdnL/QxqylY54rI9P2b2C+RUnVcVhNcR8Go6vgJw1JQYC6jnnhHP+rpqPOVRyR4crtiQnIZEfd6IGIOPOfWRn7CmBx4lpTuEoC+X7zpG30nd/vzCoCuAOjdXoPa/SsAev1pkE1cNkEpkkhFIu3luHK3Sr4etfntH0e58D6hBRvxoA41riOJjWTGSsfCLaYsDTgyAZJWqDVNc8vQyCnfCMNRNzGHiYM1cxqQvhBq5dwhyZKVBY2X5rvp7hyj2rWkWDEa8jGBk1MnCtULpP74vIfLCx0ce2UYk2ltjePrt7uYUNppPTxeEj/58WAnjyZ7cB8MYPeWj6Ix86SOybl64lUmLB17RzUjndYzH/SxGPcQNdhJuwxkbLsrI7db613u28kjrBS+aDkJai9Sj+jSsgpKqSKgBRDmF0n1bSZZ8LcW9QkG3VK9WMrD65xDb0ig06nIi1qz4uUvdS3adZKFVGgbAoIkBuKjnFFPwLPIaIrixk4qj+zVQEQBzxKTslqq8hxXvgKey797VAB0BUCXf1VtosUKgC4eQEsqb9kM5chyt0pOj/rA4h+SfuOrhOasxEJG1KiOjGomrtppWHiAYrYSy5ipcU4Sy6hEbCZ6vfO8E2hioH0GlznBUNxHqtpAtz+b+W8i6mbO7uVQyxJIjiTN3Ip3cezwfczLwPFs2M37C930nR7BYi0EKTn7CCR/+9IxohYXHUeLyzAo1wYCbm7cP0Lap8fXleVmb7UkFSNjD1qZjfrQdaQx1aze563ep9TrI2GHBphDaScpp5mE24BOk5KrFNHM6OPOM9a5rKd5BBZXEydfjz1DNQuF7HQ1q8qRn3IhkTJywFiY0fCJ0sxty4BmbFHFTyVNHEv6+L91DZoMm2TUkxdn0Xn+KHsQ82X75EVit+Q890ogYgU8797+VAHQFQC9e6sv784VAF08gB4aGtJ4j+J52a0iXo2pN36F6ktfJjhjJRo2o8b06JJ6onoX3sUn2A0RnqjNDLhvcCdaTWtdELcpzoVIK690Z8HxmwttnO4fxWpKIw728zMdnDg0hsO6dAR+YbSdnqPz1FRLHvClEojaeXv0AH1nx3A4V5eYi8YtvHnpOewtaeo7iuM3p1J6rlw5xlymmvoTMxjNW6doBKfdPHnUQtxlR9+tYLDuLjUjlTSwMOdjMVZF3GpDcZvAUQHLa32fJNFPJ4Nk0DGHj0HaSWCmiizVKFfMaXAZCmlFkjin1VSYvTCq2Oi33Cm49m78IMPWNu1v0bgdjzXAx8I9/EzIoOk8S9CwnDp91MHz2NiYpum812T7ZE+UF50c1WMnAhGLAc8SANnW1vaRXjfb9ZysAOgKgN6utVVSuxUAvb65JEpcNmQpEggiD1F5gOxWSQ19ifif/RtiMzYiUSuZmB5DXCWME0c0QINuhFv0c6bqXS4kOzldN8Rsysm8xUq/f5qZhJNhvZuTndlsfg/nq0lVmznYspS97fZULdTq6T9QmNEtFLdwfryPzucmcHuE8rCyTM14+GDwCP6eIC5vcUlLHj5o5dFkJ1V9MRz+rVM0Jh80MDFVT9JvxHpQ+rB7ADUccBJY8BLCTdxuIe3ToTPuXn92a91u5r46NYMvE8WiS3OPNiJ6i9aMQcngtRRKKSYVE/WWwvUaj1tpsxZSjqJxG/3WQgB9JX6cGWstAq49lmyw7A+MNXN2MqgFDcvPRxk852tei/KInMLt1bJWIKJkQpRThHJkRMzx4SUocDmlJ0fbqIDn7V0hFQBdAdDbu8KKbL0CoIsH0HKUm5OvKtK8Za2mzrxL6k9/jIVhiMbsqHEj+miaaMZKJp7igO4ON3W9HHde471EEy81PeFSoIGelgW8tjiXI610tM1SbY9q3OfL4U6eOzj4LEnKbNTBo3Q9zy+TnYslTRpwbj46i8cbWXVMD4ZaeDDVTtvxOUziDtygLCy4uHL9MGqNkbr+rVE0knEjIzfaWIh5MfSnMPg3vv9G/dvM56mEgcVpL/MxL1GjnZTPCO4KWF7TlqqkNNGRzhhIpU2YUxbmkyZCCRchxUMyY6bKO4fLVehtNsTTeK2FayYdN1BrLaQIJeImWqyFHmj52wFroezixfgZZgw+bIY4Rn127fzCdQ/tycwzOTWhK3wUVTcEEMq+Jx7X/ah5Xe5AxN0Gz3/zN3/D5cuXuXnzJvfv39dkFX/t136N7/3e7y1py5Ln2J/8yZ/w2muvaRxuAfwvvvgiX/jCF3bVQVTsICoAugKgi10r21qvAqCLB9BynCtBfBJNvdNFDQ2R+uNPEXiYJBJzkI4aMMVSpDJmggkTveptnhjrqDWNMWu20+ud4e1wG692DxNOmrihNnGmO6uocXOmBmtdmu6mrBcvmdJxYaKD46fHcOepYiSSer7xqJfmE0H8dUuqBbmxCxninct9WjBX93MbZ/tLpXV8cK2P2VQddcfmt0TRCE07mRhqIYAT8yEFvX3nqRnReQezs37CaSdxtxm1Tg8V73LBV0M4xRnVQFI1kkiZUVJWYkkbScVGUHE+02te6/tUUzuBxVoYQGhVYjgthS9yes0rXQiqVQXqLVMFTUu9VkthCvnXlVeJ6e3YTNkTE5EIfG2sE5PRqKXpFtqCAA7xOOb0ieXfH3avdM6bKiBNwLMEyu3nInMoAaFC9ZB5ldNFo9H4bE7FO71egOhug2ex/cc+9jGESiO0IgG98u/NAOh/+2//LX/5l3+JqDm98sorTE9P84//+I+ah/4v/uIvduUZV8raqgDoCoAuZb1sW90KgC4eQEv0uWzAnZ2d2zYfqzasBFH+5F8QvBslEnWQjOgxhVOkEiohXRUtmUekLCphNU2NUCCMOubtbg56xrkdqcNVr9DiDRBJGHk/0MzLx5cUN94bbcbfHaGjZQl8CNB9/UEv/kMRGloK+c/SPyVh4O3Lx9D5DDQfWD1td/44Hj1q5OFEJ+5eBWfN6tSPYgw6cbeeycl6krVGrP07q5qRVgzMjfpZDFcRNdtJNRjAU/Eua4BT1aGkLKSTJhSDmXjSQjxpI67YiSeswGYVRFQam0dWZKSsSgcwGQq1ue2pKDZjIWXIlozhNhWuX3cySLWpkP7x1fgnsOWB9FTSxhvJI8+WpNAC8oGXAMpSgFcxa3uv1RFwKZS1D2vCmFIDETcCz2IrAZ/bzXm+cOGCdg+Jw/n93/99/uN//I8lA+h33nmHH/7hH+bUqVP84R/+4bNkQN/85jf5yZ/8SV566SX+4A/+YK8tyYL+VAB0BUDviQVaAdDrT4N4YeRhImVqakrzXHR3d+/Y3KnJBPEvfYLIB1NEYm5SURP6xTiqktTAs1tdoMY+xp14NadaxrgZrqGtaRGPNcY78U7OHBjEoFe5OtNIfUeEBm8W8I6Eqpmzujjev8QRFR/um4MHcXTFaW5bSatYCDh5984hfAcUqnzrc5WDQQcf3Ooj5bVQc3AlCC/GgFlqRhNh1UuyRYe5YecSmgQnXQSmqjVljITXQqZVyLebBYLFjHZv10mlDShJa/YnZUVNGAhh1/6dTIuMXPlfJozGBPWNWa5+rmTSUGsoPO1IZ3TU6GYL1DYyKtQyg0G3FIgqf5MU3sanEnaJjIk3Ey+jt6gF1xriHr6e6V11QgR4ySlUzospiY3EEy3gKeed3u9UD3lBEEAoRTzP+308xXyz1gtEFH1n8dCKx1eAa76XWq4TW8nci6128lRiswD6F37hF/j7v/97/viP/1gD0fnlh37oh7h06RKvv/66pjqzV0sFQFcA9J5YmxUAXTyAlsxbCwsLHDhwYEfmTtM+/etPkXjvAZFoFYmYGdOigj4eJ6TaSKOjz3mTy8kGXmoc5s3FNs71DDMSqSLus3KwboqFmJXbsVrOHs0+EMMJM5dnmzlzZhjzU66yJjX3sBtDa4bO3pUJUh4P13JjqIvO04tYbGvzi8VzffVKD4uGGnwDYYyW0lU0QjMORu42ETE7MR1KYnBsv6mTMSPzwz6CQQ8Jp4V4gwm85QeE2z+Srd1BAvHSCTORpC0LlNNW4mkLCdVMCsm6t7M2sdnD+PyFYFloGTWWwr8lE0bqzYVUjUTSRMsyBQ4lZaLXmOU/zyZ9vMlLRHHQZJooMJw3WsdfUhxNKz8VtYBq+c4K1UEC1gRU7Teqh4Bn4cQKSBRAKJ72j1rJD0QMBoMaz1iKzKnMp9imurpaCy7fLfAs/dksgBYPs9CS3n//fQwGQ8H05tr89V//db7ne75nz059BUBXAPSeWJwVAF08gJa0tQKiDx48uO1zJ5t28Ov/I/oLFwlHvcSiFnSBOOZYVAPOc7g46LzNqN5JkzvIhMXLkdpx3ol2cqTrCXZTkgsTzRzoncdflfUWvzvdSUfvFLX+LH9UgPOV0S6i1Tp6BgrTYWufXe9kIlZH96l59Os4Xx8/ruPeSDvu3jTuhuIzC+aMOHHPz9SkH1qs6DvFy7y9QC046mZhopqE2UrIZSfTpvvI6C4nomaUmJVE3EJMzYJkRbWgYCGj31tgqcozj8tdeHqhj2eoti5T4IgbqbcWAui4YqFtGdc5J2F3T+nliumoNl6dotKwTL3jQKSV39WVrvW+36ke4lkX8CygWZSGPorgOX9jl9OFXApuAc8COoUf/Kd/+qcad/jEiRMaf/jVV1/dleQ6mwHQQkU6fvy45gT6u7/7uxXPsa9//et8/vOf56d/+qf52Z/92W1/zm32BhUAXQHQm107Zb2uAqDXN6d4lHIeCPE+T0xM0N/fX9Y5WN6YbNyBt/8XbG/9HcGQFyVqgcUUhkgYMwlm9U685jHsVQqzGTsN9WEts99jQzWnu8aYCDt4ono43T+mNX13vh59nY4D7Uuetg/GWon67XQeLPS+iRf54pXDxO1W2gbW5jcHF618cKcPxWmh/tDqyhxrGSmV0DN+r465aBWZNhOm+u0zZzJiZP6Bn2jaSVDvJNVu+FB7l9UMKGGrtmaUeJZukcZERG9DMVhRdfuHhuKvncRqLeTMm+MJ3NZCUJ2J66mxFr4AKnEzrdYnBQsrErdrCVhGrMLHyRZR9Khbpt7x8XAPX9RXb2lRrkX1EBpAzju9l6gROV3jSqry7LTnwLPMl0jV5agZYifhCn/jG9/g6tWrGrVDNMIFSH/84x/Xfu9U2QyAFhriuXPnNPD/Z3/2Zyu6ev78eT7zmc8gVA4JNNyrpQKgKwB6T6zNCoAuHkBL+lqRdBoYyGYt244i91i4+nt43/ojgoEqohFbFjxHY9jUEFGjnpgpxUDNGO9HmznbOcyVQD3tXYvUuKK8Od7GscMTuO0JpkN2HqVrOXMqq74h5dqTeqatLg6fLpT8CoYsXLxxCFd7Bn/j6vzmdAZu3OhkOlFDzZF4SRSN0IyVJ/dqiVqdGPr0GLYpeUhoOOtdFu6yUmMm0/Xh8y5nkjqURdEANxFWHChJ8SBbUYwWFJMJ9IXHstuxTneizWwAYSENyJkMYTUVnnIYlRRVT/Wbc/3KKLoCz/K0UsvDdCeqvfAFwhpXVni0fyo8wPfpnWUdYj7Hdq9RPQQsSqry1XSNy2qEfdJYDjwLr104z/m85nzahnjpHz16pPGFBVSLtNw//MM/aIB7J0oFQO+ElffnPbb3DHd/2mRbel0B0MUDaAkglCNOAdDlDhYRj5XQQ0IP/p7at36DxVk34bCN+EIaU1zBpYYwmoOMZGwcrp/iEV4O1U9zJdnK2d5BRiJegnYbh1rHSaT0XJho5eQL4zjt2UyBt8dqGdF7OfZiYbKJJ+Merj7oofVEDLtr9dTWQ4N+7g634uoFd0Px6a9nBz2MDvtI1FixDshXurxf61TEyOw9P8GQG8VlJdlpRPXsHw/reisvHdejLFhRQlbNk5zQm4lhQzFZSNq2J2hvWzaYTTZqMCRpaMqeoOSKfEf8zBUE/MlnznQIi6EwI6YlqeAxBVhMurmt9DOjr8VhCGO1FHq0XYkQLnOhROPvRk5wQCec7+0pq1E9hIsqnOlcso/15NTK2Ss50hfwvFqAXDnvs1/aKgY8yxwJeF7+DJB5LfdzYT27bQZAVygc+2Ulbq2f5X3Sbq0vH+qrKwC6eAAtHLjBwUH6+vpWBF9sZZEITUT0PKMTV2m68KsExsyEow6U+TS6aAorUTyWcaYMFqz2JN4ahaBqxlKXptW3yIXZdk4fGcFqTnNptIm6nghtzdn02Y/m/DxK13Ho1FiBHNiNO80MzjfS83wQg3GlhnIoaOHa3QPEbFbqDxcnPZdS9Izc8DEfrcLQa8VQV96vcfiJk9BMFTGchKstJFpN6PTlvcdW5rHUa9NhA/F5G0rYQlyxomSspMymrEyeTfjI+3dspdpieX2bLYKvZhkvPwk1pmUKHGndClUOATLOdIQH8QM80TXBU9pKlXkBo7EwCNafnsVsWHopTGf0fCN2agVI3+p41ro+n+ohnmkBOALCdoLqIfuZgGcB7ss9rds13r3cbu5lYi3PszhP3G73quB5N8a1GQAt/awEEe7GbO3sPT+6T46dtTMVAL2+wXMPOKkl3gk5suvt7S2btFNOMioRmqTt3V9k4ZGOuaADNQiZaBp9Jo7X+gSLJ8mYwceJxiEuBps5e+gJgxE/qjtNb8scg3Me5ix2Th7Pyn4Nz1ZxI9zI8XMTGAxZgKypbVzqIWKuovNYYXY3+VwoGrfvtGsUDW9fApN1YxWN6IKZ0Yd+wkYXugNGDI7yeIATQSPzD6sIBp0kfXbizVbw7j9qQmLOhDJvRVVMhOSlCKFZWFAcVtLWvRW0t8Nbz7q3c1ct4K5axsGPq/ithSoxScVYkCwlnrIyHGojZHKSzg+KzGTwOQuDD9WMSpO+8EQmnbTxep4G9E7bZKeoHgLWhY4mgLChoWFHPac7bdNi7pcDz/IyIfJty2kbew08y5g2C6B//ud/XqOarCdjJxxveanaq6XCgV5/ZioAeodWbgVAFw+gRUz/4cOHWgR2ObJyCSCXjdlAhqZLnydwK8pUwEkyoGJQUqhpBbN5mkZfgFF9FU2+IPMOGz0Nc3wQb+f0wcdEk2ZuRps5eXwQkynDZMjN+zNNHHl5ErM5C4AjMRPv3BjAVKOjvmMlv3l42MudwRacPQaqmjbWWp564GBizIPa6ELfbSyLFzjwyE5o1kUw6Uaps5Hp2h/eZQnaS0xbUGatKBELimIlZTUTNdm0AMuMZf+B/h3aeta9jb9mEqut8OTDGE/hsWZPVnJFtMJFgSMQ9/Ak1MZ0rA6DKYWtqjCwVZfJUL0MQJOExmUSdoa4l69ndkamciM751M9BPCKSkY5qB4izSYnXh6Ph/r6+gp4jkY1tQ2hZiwHz7mEMnvJ85xbNxsB6Pn5eU12VbIWiuxerlQSqWz0zdv/n1cA9A7NYQVAFw+g5QF2//59urq6sNlsW5qhXECi026n5uovsXhpjEDEQ3A6jVlJoCOMYgjjrwrjrFEYSXk4cnCKRyEv/vYELb4F3hpp5eCxWWp8UWaCdq6Euug9OY7VmgXBM3Nu3rvXQ31/EqenMPAqErZw+VoHcaeDhqOF/NHlA0sndYxc9zAXdkOXHXPz1jynyqKBRQn2m3cSczlIddvQVe1doKkmdSSnzMRmhG4h0m8W4norSbeZuMuKaiqP131LC+pDdnFD0wgGQ+EJiC0RxWFeegEUusV8wEdQ8RJKup9ZwGSLY3EUgm9DJonHWejR1sVVGqyFHujqaB2vFakBvdMmFwUIAdJboXrIvjM+Pq4Bqtra2gp4LgI8V1VVFShx7PS8599P0m9fvnxZ+5M8i27duqUpakh2QinPPfccn/70p7V//9Zv/Ra//du/zWc/+1k+97nPFXR7eSpvib/56le/qiUE+vM//3M6Ojp2c5gb3rvigV7fRBUAveESKk+FCoDe2I7y4JIi3oi7d+9qm4tsNJspuWBBkT/y+/1U3f5V5r92mYlFN2rQgDEaw2yYI2mOkXKZOdA4w4jFR3fdBDei9bx0ZISbkzXo66D/wAyBiIXzYx30vTyL3Z7lct5/VMvd8Va6Tkcw5SUzEQrHzZutTCdrqe5LYlyHohGeNTJy10PcXoXugBWDc/MgMfDQRmDCSRgHiUYHapekd95bX/FMVI8yZiU+a0HFRCjiQDFZUdxmEh4LGPZWfzez9vbLNQZDioam0RXd9WQW0OsyhCJVLCz4WJz1onpXZgq3OCOYrIXBrmYUXPZC2pJ4tGuXyd/1Rlr5nU1oQO+0bdeieuQCEVdL4CLeyMnJSW3fkZ+dDHjbafsUc78cB3w1GkvO87yXwLOM6Ytf/CJf+cpX1hzepz71Kf7Df/gPGwJoibsRCsdrr72mnYIK5/7FF1/kC1/4gpZAZ6+XCoCuAOg9sUYrAHrjacgBaNl0bt++rb3ty3FfqSUXLChHqHJUaHv4Oyz+9d8yNFOFuqjHEo9jMkxhdkYIWS1Yq1I0toUYjnno6A2AEYbUGk4fHyKimHnzSSddp+ZxexSN3/zulQ7m0j56ThUChScjVdx63IKz20hV89qZBKce2Jgcd5PwuzH3WTZFzUgEDSwM2rUgyLjbRbzFAe6teaxLtfNa9dNBA/FRK8qc6CRbSRrMxAQke6wkvTufaa9c4/qwtWO1RfHXLMksqirEwjZ0IQOBWR/pVE4hIwO+zIp3MZsnhGFZsKBdH8FmjRWYyhqPU20tTFn/beED/E96QeX7pxRD9QgEAogGsHidfT7f/hncNvV0P4LnbTLFvmy2AqArAHpPLNwKgN54GoS6IQ8p+ZEjM3lDF69FKeVZsGAioQFww8hfEPyL/8zodDXxWRVzPIbBPIvFEcZWnWTC5KKvY4bHaS/P9U1wcbKV506PaQlTXn/USfvpINX+OImkngsf9KPzW2joWJLjikZMvHe1DcXpouHY6rzmVELHkxsOQhkviQYH5ubSpLuE/xt4ZCIedDIXE++yC7XTvqve5eSMkfScmciUXcu4p+isKDYziRoLSUcFJJeyZnerrgQQOpwh4nEb8ZideMyGGjdAaBnNx5gBz/JAVxWHb3GFiobbFMBkKvweuBNBnOZCrvRnw4f4Hv3mTpd2y17L77uc6pH7XF76JenHXkrgshs2q4Dn3bB6ee9ZAdAVAF3eFbXJ1ioAemPD5QC01BQPtHiPJQCn2JILFpTUuAK+MxP/zPjv/zum5qpR5w3o4xEwzaJzJPHVx7E3qUzrXRzsHudhpAZ/a4iGuhDfeNhJ4/EItQ1RFhbtXLzeS3VPiur6LIdZvNA3bjQxLtcczmBxrJSni8wbGLntJmR0YRxwYnQVzz1OLOqZvW8lFLETc7tId7vBXRroLtZm69VLjBtRJk2kY2YiISdxAclOK4rPSsa+N7zd5RjnR7UNoXCk07Iu82gzET3EltGI7GmwF65xnSGNw1t4AiMvvj77Sv3o+vQMekMhqPbcPM20aiaiQlSnQxeHW/2JHZO1K+ecy7jF6yzUDaF0yD4mp2ASAL0e1aOcfdhrbRUDnmVvr8j67bWZK+xPBUBXAPSeWKEVAL3xNOQDaOFAyzFoflTzei08CxZ0OrMZqhZu8OR3/jXj41WoCzoMShiddQadK0Pao6eldZFFmxWPL0bI42SgZ5w3h3vwD8SorQ8y9MTH7fEOmg9FsTqydIzRURe3Hjbj6LGuqqIxO2RlfMRF3OvCMmAvipqRSUPgoZHFKRsRvYNUm4e00DF2gLuspiExaiQ+ZUIJmUmkrCTMNmJWO4rfjlpRtth40X6YaqhgCOpJJwsBtMuVImQpHKg7EydTu0y9I5KhqmaZhF0cmqyFaeyl/UsTZ5canAdj2sBiXyH1Yz+YNh88CxiUE7P1qB4CqOVnpxK47IYNc9J9wmterj6S4zxXwPNuzEzp96wA6AqALn3VbMMVFQC9sVHzAfS9e/c0DqEE4axX5GElgYIS3Sx15eg0ND9G5P/9IUYeWUjMGjAlZjF7g5iqFKjOELGaOXhwlrsxPy+8MMb5x604e1K0dAW5cr2Z8WgtPacj6MUZFzNy7U4nMZsLf1+hikYqAU9u2JkPu9D3eDA0Sua69Ut8DuYfm4ilXISsTlI9XnTO7fMuZxRIjuuJTZpQwmaUtKSitpGodhL32MFYvGd8o7FVPt8FC4hjOPeTAUMqDRlQFdAldKQVPcZUhpRqBHECS8yf9luFtD77f/mRpZ3WwXFgGVhGlwZfoQfaHItjblmmwDGXxtNSyHVmDhp9hQA6GrBzLfhc1lhSXWdAvprjA/sLQMveI8GC8vIu4HmteA3Z1yS76nJVj5x3+sNE9dgIPEsgnci9VTzPu7BXbOKWFQBdAdCbWDblv6QCoDe2qfCX5ehTyoMyWiTJAAAgAElEQVQHDxAPhnih1ypSV5IUyMNJ6B6yMb977wn6L/0QyoiZ1JwJU3oK1R7GVJPB1RjH2ghBq4PO/mnuL9aiq8/Q2rPI25e6SbqdtA1EsxSNa/WMBmupPQYW1xJ4EGrG2EMXYZMbXY8Tg3NtACoe3oWHegJTViIGJ4kmD7RLUGR5lSYyEZXkhI5kwEA8Yiah2oiZ7MRcbhS3A+1NoFL2lgXSoEurqCkdyAGHgNqUDjsq0aTu2f/l7/pkhoyaA7u6p4BXzYJeqVuu9SSsnJOrmMmeAqHc5xVrKoKxfpkCx2wCV2uwoJ5uQqWhoVDCbmGimrvJgWfgGaOOrkiG6wPFZeLcCxMp4Flk6mTvkRMvAcPFlM2oehTT7l6oUwHPe2EWytuHCoCuAOjyrqhNtlYB0BsbLh9ASyZCkbCTI8DVitQVb4b8lmBBkQcik+H8f/puuJ8gNWNCzxi6qjim+gyZavA0KliaUgRNDpJ1RupaQ1y4fhBvlx5PXYyJCRd3R9oxNOjxti4FTU0/MjE76yFid2AecKBbA5DG5yH4xExYcRCvqiLWUgX28niXUwsZlDFILhpR4haiSRuK1YHidZPy7gzlY+MZ/JDXkPcoUVoU4JoAYyZDKmFY8uKmwKpTiSf0TwGweHWfgmO5VsDus/+X9yWqLJavAvqWtZRWoVbQfuHf7eYgevcy/ehADHtjYbCgaSxFTVNhqvDJoUb+f/bOAzqO6vzid3dV3Y1xwdgEcGg2EHqAQIAAoYSaQAiht0AIIaEFwj8EAgQSegkBQiehl4TeOzbVGIwNxsYNd9myLFldW/7n96QnRuNZaSXtSiPpvXN0ZK9mZ958783Mnfvud7+5FeMkxQR4pu1eG9dzm7buk56Vc8zCTnhxBzyj8x07dmzjvacDDRBO3oZlp70FXHqa1MOCZ6QZrAJ6rfuQbTjmuQMTJARfcQDaAegQTEO5Ut4ZjIIXQM+dO9ck4cAs+xvlYKloZZMFFc3TazNKtM7kP6n6vfmqK4kpWrhMRevGVTCiQfnDa1U7OF8FI+OqHt5fA4bXa/JXG2jsVvWKFkgffzJW1f0Ga/TWjYAg0SCVzB6o5eUDVD96gArG4qfcsiXjKa2eH1Pp4gJVRQeoYcxQpb6DY0jHgVHDsoTqlki1q2JKpIpU1dBPdUUDVLf2YCUGdOwhnUHYe/8m9VKkLqVUTeRbAFwXUSyVUKIu1oLtFYCRMQToImlgSvCDx5sZ246Pb+gDzaXmt6atS0nr+iwZEyn1H16uiG9hY2B9hQqGtATBxUtqNXSdlrKOeV9uqCUN6zWDZ+JycrJBN27YktEOY7zsqhfAl0TlzhZ68p5jT5V68AJgKy62Bp5NboprPSoCDkA7AB2KCesY6LaHAaaCJU6aKb0dizUmBHqaP1kwpYj++uJMbTD3Fo2b9qVqlkmRomXKG51Q/ui4IiMjGrB+XBXDBig6OKrZy0dr/a0rNePLEVqwariGbxVV0aCUqlfFNH96P62ODFT+hMGKDW7pMlG3UipfkK+K6mJV9h+o5EZrK1XcPnY5lUypfnFcdUtTokpgXUOhEv0GqaaQxMOhShT5xadtx6zXbsE0oBgePzVSNJ5UsjrWzP6i240krQSiCfBasIuqJhn5FutGejHozeYE+K4kf8pBfVIa3ZJpjtbE1W/st1aOdIG5PaxopSJ5LbXSQ8oq1G9oIysNW79oxne0pHKsUkNaou8bC+p08uj03unZPM2O7ot7E5Ix7OsAzzhu5KpxLBhuy057XT1gpwHuYSjQQv+ICfK5dOCZRHA0z671vAg4AO0AdChmrQPQbQ+DF0AvWLDAfIElUvOA9iQLDh8+vLk87uRvyjTpmRu09ecTVbciruSAUuWtF1f+2JQK1kuocq1iVRb0V+2AtVQwJKXPZ66r4nHFGjI2odJvCrVkYX/VDRms2Cb9FI01PtRhl8tmRlRd2U+rcKYYO0wamxm7nGpIqW5hg+pKpLrVgOQiadBglecNUP2wtZQqaB/objtqIduiJiVKN6cqohKSVljfWqkgmhDFX5qT1eJSJJJUKhltZHgtsxvFCoLV/V7O9oZs2Ex3viep2NcxbGJGtATFeVX1KvrOt6W+zTeqkhrmc+Dg45H1JYrmJVQyZx0tWLihGpIFEpeSb0Fl0rAafc+TaxC28ABouSexSgZ4ZnWsq1pbUg+kbpANXd0seA4qV279+B147upRye7xHIB2ADq7M6qDe3MAuu3AeQE0S4L8H32zN1kQJgOd3XtzVmry/DIVLHpF4955QsmyakXWqVTxplLe+imtGhxTWWywoiOKtbhylMojAzRy86QWflGk0oqBSq0/WAXfaUQLNStSqlhYoPrEAK0s7K/4uGFSK+xysiapugUNqluRUl1VnmrjRYoPGKya/kNUN3So1A0Ps7aj28oW8ZQBQKrGlDepSL2UqkTuYBPVpKLCiGpXRRulDamIcX6I5SN3iUm8dwB4+e0SFjs1FN32ZcZu+wCFSkG8EfB6WpADR3RlUkPHtLSwS1ZHNLC8WvO+3kjVDU1JdmDxkb6y4ImUKjaoUdP7a7eFIN2BrfUa9yHAc0FB2247uTwJpB5ojgGwyNlgotFhW910V/SPKq/cox14zuVId/++HYB2ALr7Z2Ejg7pmtY1Q9Cw8nfAC6CVLlqi2ttZIOJBz8DceXjwoJs0u1d2TvtFa1dO055T/KFFRpsgGNYpuLNWOKVRZ8VqqKh6ildGR6jc2pmULirUq3l/5E4Yo0i+mlTOlyopiVUb6q27MWtKYNdnl5OqE6pcm1FAmVZZFVZcqVnLQUFUWD1HDMIq7hEAWUJ2QquISv6uTUl1SPNrry5NSfaoxuS2BU11UcYpjIGtoRLmNP/l5MkJWA/hDcD7hmYp9ryeYw0zwnTa3rKFMoJafFyWrlDeipV45f0WDBq1XbjbEWaR63kCtnjtYdTFftUFewHyr+QW1KZVtGk4LO8ukcl7cf8JmOeeVeiD54P+2gEuupB4OPPed24MD0A5Ah2K2OwDd9jBw8wco0/BXhWHhM5ssaJmVG1+frRkzv9B+n9ymWHSZkhPiqlq/n0oHDVdp3gjVFg9QVbK/6gYPVsNa/VT2TZ6qEwNUN2yo6jdYSypsRAQNKxpUt7hBdSsjqqsrUJ36KT5oqKoHDFV8cPbt5sxB40mpqsEA30hdQtH6hCLoTEl0q5UaDBBOGUszktjyCvMUB1ukYsYvV9FYI/UbawK/bYfVbeEi0HYEYIU38G2GV/Q6a+qS+xVXKNq/pS66qKxW+UUNqvx6sKoWDlYyzjyVtJZvn3zNlxc8rCqlb0LoAW2dfih6AnjmPhTmZqUelp32u3pkQ+phwTMe/UjpvDpsjofMhb8FJX+HOXaub8ERcADaAehQXBsOQLc9DF4AjcsGN2sqe8FCb/aX15t3QEnus5bcpRHrL9TKzYdo+aj1VV48UmWJQpVFhqi6YIhWq7/qx6yl+miR6nC3WBVRXW2BEv0HqzI6QHXDhytZ3A5ni6r6RuBb3SDVxBWNpxTFsaEuJSQdSYBvk6dvLBJTKhlTMh5tBL2RPCkK6C1wbG/b08Bt0R0R2FCS33K9Limt2xIoK57SgFGNTDMtURZTYmGBkiV5ilf7dMH81yf/MF/yOVOOr0roown4A4anAQZZ+bIv792hMe5sNPxSD/YHiO6o1CMs4Hnq1Km6+eabNWXKFEO4bLzxxjr++OO1//77ZxwySq/fcccdmjRpkrEkZGUTueARRxyhAw88sFs05Rl3vgs3dADaAegunG7pD+UAdNvDAICG9bGVBWF+NttsM8NybHLxq407qKnRCVV3K7pVUnNHbqSVhSO0PDpCqyJrqTJ/iBI4WkQHGGeLmgFDlcJ7F9Bb3aBoMqVkeb2ROphKbE0yh0gkqhjMLqC3IdIEfGF4C6R8RBH5Ttvb9vC5LXpyBLYAXflOgKqGo1oqz6Kr4yrIq1N8UYESiwqUqok1VkLEQ9qvAmJ//ndUWOnhLY+zb11cT2wSHg9oXDYAz6x4kcTcE8Gzfyp2VuqB+xFAs7uZ5/fff18nn3yyGZuf/OQn5oXg5ZdfNnrs888/XyeeeGKbVyEs+eGHH65Vq1Zpl1120SabbGI05a+99pqpaPvTn/5UV155ZZv76QsbOADtAHQo5rkD0G0PA+B53rx5RrpBFUJ+A6CbwTPP4yVfKW/tPC3On6DK6BDVR/o1OjlEYooVFyoBYM4rkAqKpeIiKb+Xu160HVa3hYtA208BEgj9BSsp4d0vJZVGpBURaTkvo5T69iFl/hvENJMq4L/8yNsFbHvamWrQleuHwwMaf2cAFhZ1rHzxEt/bWnulHhY8r7322uLHL9tgtZDPcy3bgG3eb7/9jLzv0UcfNc8GGs+Jww47zIDol156qU3LvEsuuUQPPfSQLrzwQh133HHNwwvDfvDBB5sXhddff73N/fS2eRF0Pg5At33r7AvzoNvP0QHotocA5pnkQfSGLD9yIxs/frxx4fBKOJKJpCo/rVbh/MEqWVykZN5gxYYMNQYRKo40OmgUFUtFAxu1wtRDjsSlWFKxvIQSyTiZTorkJZWKQJ9RLzn17U8spbz+eYrXJ4yOM1IQVXH/fNVHUiYPLxWJKoW3cF606Scm5ccUKcxTioQ8tJJRl5TX9oi7LUIRAVjiLdVoO4i9M9W4V2FNl5JqffMYMw0/KIZV9ley5rLyS0I4WcCzzyrvzuJaHTnSJxXphsDgaAF4Zjkft5/eCJ6Dwtqa1MPahwKQ0Tx7G9/rKvDMcd99912ddNJJgQzxf//7X11wwQX67W9/qzPOOKPV2cM+2BfMNbINbzvnnHP07LPP6oknntDmm2/eDbMwXId0ANoB6FDMSAeg2x4Glhlx3kB3CBvAzRmWgZv4hMveXGMHe44bpOWra7RsapVmv1um8gWFitdTCYInN0LLEVJRrVRYKRXVScVJai0bgB0dOEDJ/P6NGuWcNMofA9ITSiUA8EkJRi+aND95xVHFG5qAe54UK4woki9F8qOKKqK6hmSjNRyljmMRxfrHlKAyHv+3wD0/JhWQrIWjBgmGDrTnZCh7+04hfwHNXhKYqRSUIgAA9pOyAOqgbX1SDeP3vc6aUo+pI6o1rh3pCLkYDhwsAM/ogwHPYShSkovzbGufVuqBpIF7MPdeJCxYh1K8hR/uzxY8A6rXWYdBzX277rrrdPvtt4vfyDe8DekFcowdd9xR9913X6ud+dvf/qZ77rlHF110kY4++ujmbTnngw46yJzbq6++mtNCObmPVnaO4AC0A9DZmUmd3IsD0G0HEKYZGQeNmxlyDpYFBw4c2MwGjb/0DU29cFezXPfIpys0bWVKBfl5SiRT2mXcWnr3rcV6+38LVDqnXg01sM+sI/MkB1ST/o+7hqcVrlakX7WigxKK9EsqUhxRQyoqkWBYNKDR9aLHNEB7E0jHggywDmqJphQtSCnJZzDuxsWusWBJv0FRVdc0gXVTwASGMaJIXlQplq8NYJcB7dHiiJLEJp+fSONvB9p7zOxI21FyAv0uciQABplOBDk4UpDPX1eEOTbMd8QACzuSEivH1ag7i0Vyr6GaHgnLgMG+Cp69o4U+mNVApHQAZmQS6IJnzpyp7bbbTltttZX22msvffe7lK/smnbmmWcaiUY6dnjrrbc2/X3zzTXJFj/YPuqoo8wL06677qqNNtrIVH1EA422+tprrzXn5xrFrrrzygz/CDjKqovGyAHotgMN28HbP78B0oBkbmxcwySLAKS5wSHtoKFRfHlmmRasrNG6Q4t18Jaj9LeXvtas5Y2lg0vnVerr10pUMqNa1aubKttF+0lJvLUA1bDU/KQDyalG9rpftSID4krlxRslIkUF30pEeqFGsu2R8mwBs26AOQy7lcHwb0ppNwF2whtNqWhgVLW1sOwYk6QMQCNPk+IrGJXkFcSEnD0B+MpvksogocmPkt/ZKB0w+3K3rXaNUVsbl/rYZ7aHEfaHmXHx6ZfNrkkW9INtxtW/bYCFXVFNSqWbdZ8HtHWWCCpF3VbYeuvfLXiGXUa6YRv3XeQN77zzjmbMmGHuy9tvv7322GMP7bnnnjnXDJMgOHHixEDpBX0EDCPDmTx5cptDU1ZWpvPOO8+ci23o3k855RSTpJjLMu1tdi5EGzgA3fpguCdRF01WB6DbDjTAmQx4mGj+zQ2aJUW7nAiY5nO0iWSDwzb4CxvMXVGl616bo9KqehXnx3Tk9utq6qIKvfdpiWa8skyLp1aqttxbJroRFcQKRypRx8OC5cgglBDQf0BjQaVUXCMV10tFSQOwI/2LlCoslgqRiPS+JKS2RzLHWxjADphOKQoQV8Ro2Y0ax9hlpxqdAzFWMVUSG7cV20YjisQiisKgx6RELKkUEhjMJFDB5EXMbwPYYxFBuPdq0E74lgWMF5pmf+knWGa/1CKdAwfb+V09OIzPwm5kZVJzNkd83fXNJscFVdPr+t6E44gAS5L0/OCZ3nllG5AZgE/YXn64T+OQkUuv7GwBaJjnU0891chR/vjHPxqZIAz7008/rRtuuEFbbrmlHnjggV7hvtLZWeUAtAPQnZ1DWfm+A9Bth5EHGj/oEP0MwLRp08wNjQQfbtKAaoA2N0Fu5pad5ihV9XEtLKvR8AGFWqt/gZ6YslhPfbZUsSbmMr9eWjZxhSa9tkzVsG9riDpBCsOkyAhFY+soGUf+0QE3DwA2DDYAu6hBeUMjioNKigsU6d9Pqfx+DmC3PS3CswWyF8OsN4FqMHhRXIkkaL1pGhnGPKkUc82WN28C9rF+TdtaqQwS9n5J1YPSDbPuBfu8F3QBv4FiylwDvhYEoAHE/irW6Rw4eAf1bwtL/S2haQ44oaJO72xSbVaWunK12ALFIGeJ8Ey4ru2JjcmIESMMQeFtrWmeAc+w1v7vZLv32ZJwIN/geYLO2Z8YecUVVxgN9TXXXGP8oPt6cwDaAehQXAMOQLc9DCQQwn4AomGZAcUA6auuukrPP/+8Hn/8cW2wwQbmQQsTDSMNc2ArFlLC1oJp/m0fyGx73/sLNGNppYryozpqhzF65+tSvTWzVIn6pGa9uUzzPyhX5TKY73SMMYiAp/9IRWKjlUogBu1kiyQU6V+tVD4SkYRiWIEVxZTMy1OqqFipvOKuAVGdPA339RxFwAL1Zm06evYmsN30WV5hXHHodrsNfy5IKtHEqjeD8qhUWJxUHZS8p5p7pCGpVGXAnA9ij0kf8Es10jlwoJDy439YaZ/d3Z4rV+nvxbPNShLXLi/PvCTnEkyXlpYar/kgoJijkQz9blsDz6wKwtp2ZcJgUMCykUQI8bLttttqwoQJevLJJ9c4DDro008/3fhJ4yvd15sD0A5Ah+IacAA682Gw4JibNpnSs2bNMnq1ffbZJ/Dhan1NLZhGP20fyDyUYan9D+Ql5TW69PlZqq4znLDWHVKkrccM0o23Tdf8SStVsSSpRH1rDCCMNCwNSIE6yCQo+im3zM85cMtIUpEBVYr0q1MS/XU/7PViimOTV1QkFXWzdUEnT899PQQRWL9JtdSCbkxJQ9ec+/kDUmpA+uJpg/KTqujXEoAXRVOqHbbm92NrpZQoaPn5BarXeaMqm1+EAWu8PAOkuXazUX7a298VK1aYYhkjR44U0g3XpEzAMy8bo0b59DddHDwkI+iTgwqdZGpjx7ni1EFy+htvvLHGGTz22GP605/+pNNOO01nnXVWF59h+A7nALQD0KGYlQ5At28YqASGTo0HKro0llpZJgQcex+ufq9Wq6O2YJrvI/2wzDQPZAuml1bU6uUvlqswL6qDvzdKny9arRvfmK1YNGoY7gWfrFTllNWa8Xmlkg2ZuHFArwGqAdRoqf02BO2LQZtbRxNSYbXyBjcoHmto0mBHG5McKSKDDts1F4HWIoDVrc+YxhRL8VvQ4aAB3vST1WzrdzHDQ3oj30EpNLheQEfAMGjayTtF8bRCumjbMv10sxKzwkSz5ae5hv05D5kOLtczwBn2GacNbNlck1auXCnKWge9UFjmOQzgmbGikMq+++5r+puukMqLL75okstprDLwHKD/zB3b2MfcuXN1+eWXm4qEtpFQSinvOXPmGJu7nXfeuc9PEQegHYAOxUXgAHTmwwBLwE0OucYtt9zSQlvHTZ2bPmAayQdg2gLqoMIHaPcsmKbKmJfd4nve7/CQvePd+Xpvbpl5pm+z3mDtvdnauuTZmaqYW6mv31yhkhk1iteCIjLRp+YrEhumVGKYItFRimi0kkm/31fmcWn3lgDsIvTXeGDjICLlDclrXPIvKpQK8R9zrU9HYIcAExpy+vzvfnyWzu7Xn3OLLZ7f3YzPNgmI9OtNoDwuaS4SJum/P63VjyckTWKalWnZnAcr07J5EplIPbiuAV3cV/B4xq7OtZ4Fnu14taeUN4VVYKax34O1tu2tt94yMg0A+U477WSSCAHPVB/k2cJK50033eSmiEnD6IpEjJ4b6kxQQM89uxD13AHozAcD0Pvcc88Zs3ySi9I12GgeivxgX4R20oLpoGxwtudBDKD22+PBUMBU0yrr4sYzeVBRvqrrEzr/yS+0qqa+UXstafdhA3Xt9Z9rybQq1VdlCqbtWQxQXuFIJZPDpRQJitB63XQZRuOm0ExscIMS/BvCuggP7HypuFAq6EKwn/n0cFtmKwKMd5DdLXZzQaz0ur4Dw0pD5PpZaVzp/GzzCkn+wm6rJeE4RhIjrDXTLZXS4nNqNNinTgIEc43b65drmWvcq5sOeoHme/gZA5AAz14mMlth7In7aYt5pogVrHR3yzaCYjt16lQDcKdMmWJA8MYbb6wTTjhB+++/f4vN0wFoNmIfd911l7G84/nBc2bcuHE65JBDdOSRRzoHjqZIOgDd+tXdTU/unnjL6VyfHYDuXPza+jY3UlhpboY8ZEk+tLKNoGXfIHu8dEvF35RV68EPF6khkdS26w3R3psN16kPfqb6eErVK+s089VlWjG9SqtLgdftta0DtK+lWOEoRSKjFK8bIaVCIr2AwS6ulYrqm6o4ptR/eIGq4oDsAqmVl5u2xsv9PQQRICfWL7VgCrMw4U8WDGKgUVgg/fe3oCIqgOQJvg0XSHql6VhNl00snlLFJa37Qlu/eF6EudbtypL1iuclmpdhtsO7mO3Gjh1rpCCuychYkDekk20AngHO/N21vh0BB6AdgA7FFeAAdNcNA/Z2OHnAsvDwtAmFLN0GMdpsb5mt1uzxvGdwz3vf6JUvlxvuuDA/pjN2X1+3vzpHHz2zSEumVqpiCfRce8G0fe3vr4LCUUqmhiuVGqVEfZD4tOvimfZIMRjsOuUNjitO1cNiLPpiUhESEQB2B6z/QnBafaYLQQmEdU1aZ38QANb+nDtkGX6mGfaa7fxDD9tswfpKSdMkfb1m3u2gREpLLm5fYRVenr0rSwBnEod5SYapXm+99czqlGvfgmcAMsVjvA15nAPPbpZ4I+AAtAPQobgiHIDunmHgYcryLcw0oBpmyso8YKn9Eq/22ON9NG+V5q+s1g4bDNF6Q/vpomdmaM7yxsqJiYakyiaXada7K7VsPtUVM0lCTBejmKIFayuiEUrU2wqKPQAQxGCw66QificNsxkbElUiCsDOl/KDakV3zzzpk0eFEfbLgYMSCAkO082v6KmQNNYXOVhpgLm/sV9YaEAzcg7ePC3Y9my7YV5Sn1/Q8cIq9mUYzTPAmsZLs5V6BDny9JWxt8xza+CZBEuS7sLUuCfTrH2pk+V23eg4AO0AdNfNtlaO5AB09w8DN2KYKsA0cg+aBdNB3rPttcdbtKpG178+R6WV9VqrX4HO/NH6+vcHizR9cYUWflSque+uVPk3cSUTnQHTjXGMxKhyOFwpU+SFpVbW4zu/3y4dJaz5ihoUHRRvrPzXrMGONeqw83rY+XRp8LJwsKAEQshfX7ET4aARtJoPzvV/bhMIKyUtaapyuLypVLh/QQYQ7UtA/OFacb1wOgfsWIN1XrhwoXHvQbZBs0nE5FZ4X6CRdATppjt25HB/y9r39TTwbKNqK9Pa//Oi1FfGrjtnlgPQDkB35/xrPrYD0KEYBu94mKQkC6Z58Hrt8YKYaR7KmdjjoZXOp5CFpGemLtWDHy1sZk++M6y/6uZU6r8PzNHKOfVK1GcLJMYUja2lZAJAbUE15eR6cANg4x5iGOxUE4MdUQIXEQOwOyiR6cEhyVrX0TlvHbA3SFu/qwbssT+BkK8SfnJ8YaL5QabBb2QgfKcZ7aSRhfBd30LKSRs36KafUx6x/Y1rGAkCzDOyDRw7vM068vASzbXPNe7VTeeyDHX7zyZ737DgOci+z8o2wsg8EwGS/D744APhnIEmm5/f//73Ztz8oDp7EXN7shFwANoB6FBcDQ5Ah2IY0nYCSzxrj8dDxYJpv9Wd3UGm9njc5J+ftkyfL16t/oUxnbjzenps8mK9OL3EPMDL5lVp1mslWj2nTlUAkKw6cvRTUfEo1dZYb2qoxV4km8jHpq9BscFJJSid3cxg44UdcwC7tUsuKIGQ7Zke/IBhAdP8hpUGcPMb1hlwbFUWfrIY7bNf6sEKfEu5bWPPcPrwvT/etHudTtqF/IH2NUAz4BlmEvDcmnsPe2Z7a5HHb76HvMNe911dWrx9Z5v51j0ZPD/xxBOmCi3SOzM18/LMuG2xxRa6+eabTaKjY6Iznwsd2dIBaAegOzJvsv4dB6CzHtKc7RBwbO3xyPBH3mEdPazVnffgmdrj2e9U1cV14dNfanFZrbHF23xUsdYrrtdDk8q14O1VWvFVjWrK+Eu2TXLY31rKL1xHDXUgKJjqXuyJawA2yY1NCY5F+GCr0QebZMdYtuObsymZ/R3D/vKDDtn+AJiRXjRKTr9tAGJ/qGCfg2T4QQ4eAVINgZED6gy9d3y1tmysg5Fx4/oDPNMAzxxee/MAACAASURBVO0ttgII81rkAdK6srR4xifazg0pHAOA7onMMxUBqUK7/vrrG4s6LOY4l+uvv14U2dphhx109913G1DtWu4i4AC0A9C5m13t2LMD0O0IVog29dvjWZYKR4+gm7e1x7MWWzDQQfZ4tQ0JvT93pRK11RqVV6Wa2ABdN7FEyVQjUqkpr1fRFzV6/aUlql7ZEXu8TIMIbUti4gjl5Y1SPA6q6SPuGfmN4LpRgw2ohmmFyY40/u5rABsAjfzC34Lq7aRjmlEN+cE2LLPfV5pj+bXWyZQqL6pRe0o38LILeEYPC3juLKDiemU1yrp65Lq0eKZXaXu3s+CZktWDB7fU5HB+CxYsMOWshw/3l5xs75Gyv/2HH36o3/72t4Zhpqz29ttv33wQ+n3sscdq6dKluuOOO7TLLrtkvwNuj80RcADaAehQXA4OQIdiGDrVCcAxy4mw0zh7oLFkybcj9nh8z0pGbGLPs58vNXKPRFLafv0h+tlW6+jXD09VQ21Cc99eoUUflauqJKlUKpfa30aWupGdHq5Y/iglGnoxS93ajChAd401X6P+GoAdG5Jq1GDz/2zJ1zs1K7P4ZeQYQfLjIAANK+1/z+I9zw+U6R7b+q3NAxjogoaUyv6SuYWd1e8CmgHPQatDnY0O7LZ9Gc5mafHO9ivd93kBgKnlpyeCZ15c/vrXv5oKgtdcc40OOOAAc6qcF/dfxvjiiy82pbwplHL88cfnKpRuv64SYZtzoA+vYbYZm6xu4AB0VsPZ7Ttj2ddrj2eroiH1AFhnYo/HSQC+hw0blvY7//f0DM0qqVS0iZY7evsxuvHWaZr+5nJVLk0q2dAVlzAICLuFRlDd+JO+QmS3D05XdYAQFOtbBrsJZDcy2R23Ae+q7q9xHHTNfvkxLwlBCxKco/8FgqkYVKsEVtq/0h6gix6ulOb9KTMADYsK84xWGbeNXIBnf3xaKy2e7rrvyrEEZMI8Y1fXE8EzsZo9e7aRbEyYMEG33nprM3j23k/RRv/f//2fjj76aMNQOx107maZY6AdA5272dWOPTsA3Y5g9bBNeXDBUlmvaW72NhnJ7zvLdthsWTsttJewXFZzyYPY+52ahoTuf3+BVtfFtfWYwdpz0+E6+/FpWriq1rAySz5dpSXvlWnF3HrF63PJTHsHBaREVph1+wBQU9PZtRYRKIS5bkpubALVscHxJh/sEAJskgP9+mfAcxDTDlAOkmr4meYAr2cTowBZxxbFCb1/TpCGpOW8Ii+BpXx83MeMGdMtdmYdLS2eqyvEC54pWc6LubeFXbZh+zpv3jz95S9/0X777aef//znLZw2rOvGu+++q5NPPlkHHXSQSTJ0bhy5mlXGe7srGJrcnUCO9+yCk+MA2907AN1Fge7mw9gHa5A93pw5c3TWWWdp77331jnnnGNAM9tnao9nT23i7FLd9s58VdbF1a8gpl/94Dt6d/ZKvfL6Qs1/u1Sls2qVqANMd+XlDR3rBdSAar8dQzcPTtgO3yRtiAxMKFVABccmqQOf8++uHD6As9d6zsYqKIEwHdPcHgcOzs8nDTlwdFwPn9i6BzQvnIBnEnsBimHwAs60tHiupl9vAc82Poxva2PLfXT//fc38g5kHjQHonMzuxyAbj2uXXmLzs0I95C9OgDdQwYqy9209nivv/66rr76am266aZG44fuOejhn6k93vLVdZq1vErfHd5PIwYW6e6J3+iZaUsVw86NB0ppvcrfL9fHE1eqoZrPuuNSH6Jo/iglG6z0g2SmrmLJszyQXb07hsu4h0Qb3S6awLUB27FYo6wim0OKdCOoAGCQ/tkWvfHHJFMHDsB6wFT4w/cadPGB6T2g0SADrlilQaIQVnIsqLQ4gN9rkZet6QRwLCkpMfkUPZl5DopHOmnG119/bcDznnvuqVtuuUXcM61t4ccff2z+PX78+E4nlGZrjHryfhyAdgA6FPPXAehQDEO3dOKRRx4xy5I//elPdeqpp5oMf4C1t4hDZ+3xKN5yw2tzDKguzo/qhJ3Hauqi1frfp0tUU1avua8vV8m0KtWVdxeYJvQIYUcqVriOEnUw1Dh+BCG0bhmmnnVQhhFgzU//pNSvyTkExpjFAELdHoDdngRCa4HnjRigOFMHjjQWdg8dUKuDtkLzsWZD+rRo0SIjTcCWLazg2d9zQKD1m+a6R0dtS4vzIoAMpaPnkil4Blivvbbf8iS7033q1KnGm3nKlCnGq3njjTc2CX4wxe1p6Ldvv/12vfnmm1qyZIlZacDK7uCDD9Yvf/lLsyvLQOPAgROHjd/bb7+tSy65xOSTPPDAA1prLZKhXetMBByAdgC6M/Mna991ADproexRO7r//vt1xRVX6Nxzz9VJJ53UfLNH90w5caQePGDRPVuv6Uzt8bz+1EHet4tX1ejCp2aooraR1RvSr0AnbrOufnXBJJV8VqnaMimVbA/KykXooSJHNco/IsOlFFpqx1J3OtIM66AmBhu9cpMGO69/UvFotDHE3qEPSiDk70EqnCCmmQ4HFb4MqDZoCrQE4Ll5v6vW8AAXD5J1Ac9Dhw41leg6Cjg7HdNO7gDAi37bWuR1prS4FzyjA+fe4W1W89wV4Pn99983mmReDH7yk58YYuDll182Y3b++efrxBNPzChyX375pdmW8d5tt92M9zOSHRILub8BlmkkSu6xxx76/ve/r7vuust8RqXCa6+9VjNnzjRe0WioXet8BByAdgC687MoC3twADoLQeyBu3j11VfNUuLuu++etvewUhZMw7TBoPBAhG0LAsawWjyE7YPYVlGzANxbhW3uimr9b+pSRZTSYVuPVmF+VKc98JmSiihen9SCictVMbVKJd805NgeL9PBQx+A40ej60ckOlyppGOpM41em9tByn2naStANOGOSrFYUomk78XFViX07xTW2/+Ok04XzbZ+w5YABjoaT2n1JWs6cGAbuXjxYuNUg2dxTwXPQePS0dLigOdly5aZl+904BmHEv6Wa+YZthmwii8z1nKbbbaZOVXuY4cddpgB0S+99JKRl7TWuJcdeOCBZmXunnvuMVI3b+M4lljg3AHYMNB33nmnkMcBmmfNmmUkHUg7nCa6zTtBRhs4AO0AdEYTJdcbOQCd6wj3jv0Dhr1e0wBo6zUNsPY3HhR2iZiHFmDcAvB01lr/emeenp9eongypTFDi/TXgzbVeY9P17S3SrT44wqtmlevVCJMLDDs2joeGz1Y6t5mwtxF85cqf/7aGQBagK5vMSISTyg1wB/nVKNVnT85P0gXjayDoQpa5PCZtgyIp7TMB6ABiAAzQCA/vQk8+0c709LibYFn61DSFeCZc8ARg5U15GlXXnlli9PCyxmvZoqinHHGGa1O8H/961+GQSY/BOCdrnF/BJSTiE01wmOOOUbXXXed5s6d2wI88/3ePF+66G7hXDjaCHR3r9921Tzo9uM4AN3tQ9DjOmDt8UgQAlSTdAgoBlD77fE4ObtEDJDmpzV7vHmlVVpZ1aDN1hmo4vyYzv/vF/pq2Wrz0GE//ZbENfWVEs3/okrJhjCBac6U/sBQN0k/jJY6qK50jxvy3Hd44wCvZuQbQS6EOMq1LGLXmGgYIL+IFcSVKPCZPQd4PZsTZDOf3GO9WFJf/vHbLEa0sCTHjRgxwrDPfanZ0uK2gIstLc51zzUNWxvEPHc1eGZMAK9olvmNfMPbkFrAEu+444667777Wh3CQw89VEg4PvroIyPRmDhxomGjN9xwQ+26667NSYLshPshLDPxYH5Mnz5d//znP/WjH/3I3LsceM7e1eIY6NZj6QB09uZaq3tyALqLAt1LD2OZZmuPx0PWSjbQQgcVbmmPPd6y1bW6/rU5WlFZrxEDC3Xe3uN0y1tz9fH8cpXNq9I3b5Zq5axaxWu7MwmxtcGFFmWZGGANwnMsdWC0vhcgv8C+LijfKkgDXdUUYv/OA6oQFtSnVD9izUdMpH9KqfyWn+80JKFXz6gzAAjwDIiyFTp76SWd0WnZ0uKAaWRerDDxIg145N9DhgwxUi8Lnikq05UvHGeeeaaRaFDcZPPNN1/jnLbeemtTSpykwHQNKctWW21lzoXiKCQjcn+zjXNCmrHJJpuYj4gFSYVIe2he2YYDzxlNq4w3cgDaAeiMJ0suN3QAOpfR7Vv7tkyzBdOwUtYiiwSeztjjeSP5xlfL9Y835yqRkpKplDYeMUCjUzHdcvMXKp1Ro4ZK87gKafDp10hF89dpstEDIQaVyQtp93PRLRIJW0pLG48SxDSTdxpUlhuwjSuhtyEBgVH2qz3KPXpruz375f3GN21+Eotrg4KkvjOyXBuMWqYdt11LQ4e64jyEjesdKQurULxU2ByICy+8UF999ZUBrttss40pLGI1yLmYPkH7JOkPtpikwe98x4rrv90S9phEwMmTJ6ftkmWqcSLi3nX22WcbgAzz/vDDD5uKhNgWvvDCC4aJpkz5scceK4quIP3gGI55zs2IOwDtAHRuZlY79+oAdDsD5jbPOAIwzSxrwlB57fFgqIPAtF0GhslBPw17bS31+I7XUu+dr0v1wdwyDSjK03E7jtXrX63QrW/PM6XFaysaNO+NFaqdWavSZVgrhBVM21Ai8xitguJRqq+xLLW/xnTGYe95G3oTCL29hz32VxBMx0pjd+dnq4NANfvn89G+MK2WNDYgdB95PquTogtT2nubhJ68v/XCKj1vENrXYy94RrbBi7JtAGqSlN944w1hI8f1TAlspAz77LOPNtpoo/YdrANbZwNAkxT4wx/+0BwdYEyZbm+j+NTzzz9vqg4CrGn4PZMf8r3vfc+B5w6MW6ZfcQDaAehM50pOt+sLADobXqAs58EqPP3008YHlOU/LIt+//vfd+nSZE4nQw53bu3xANQwP94CDtmwx4snk7roma/02YJyU/V5y3UH6awfbaiT75mieW+t0PLPq1S5NC6lwqabDgo6gJ+MOlDeCEUiw5RK9WKWuvE0W77nsFKOyYl/uJBqBEmPed/wm6JUBABlwh2kgS6VNC5gLN6XtFTSCkn0KSIdtGdcD93ddwE04Jl7ILZufvBMBL2yDWQcsLw4Urz22mvmhfrDDz8MdPHJ5u0nGxIO7lNIPWj33nuvdtpppxZd5Flw3nnnGXAN6+6Vqzm3jWyO5pr7cgDaAejczrAM997bAXQ2vEBZmjzllFNMZjeauO23317z58/XK6+8Yh4g2CQ5c/wMJ5xklkBhqXiYknhE0Qarm87UHo/v8HDme9YeDznHtEUVSiqlLUYPNvKOXz3wmVZU1RvQVFNTq36zqvXp2xUqXdAg+e3RMj+FbtgSdIiWGtePtRWJDlEq2ctYak6HSoam2EpS6p9q+n9EQpvM58ZBo+nfVprBIkOQqiIIQAOCBzUdwzuKAGjCW9b0g8xjlaRv1gTxF5xer4vO56B9r3nBMxpgVoi8rTXNs9VNk2ic69beJEJvdUEv+IWBhol+8sknDYvubeinKUB1xBFH6NJLLzV/csA51yPbuH8HoB2A7pqZ1sZRejOAzpYXKIkoMAyUab3mmmuamYaHHnrIVJjy3kBDMag9qBPWHg8wzVIvANp6TXt9o+0ptdce77OF5br9nXlaWVGtMYNi+vOBm+ui52fr6+VVKvmsXIsmrdLqBQ1KxnsCM+0fWFhqUB/0rdVSh12ukunkBKAGlc/mRaLpHPkFiLbAm3/bH4aTH39pcQA427NrfryVDhuNEr5tgO0ArPfYv2q1/z7BlQkzPbueuF2m4Hm99dbrdkLhnXfeMUVUMrWxQ8ttddzIy0iERDL2hz/8QU899VQLmYYdO7yer776aqONBkh7wTPsPC/4DlDnZqY7AO0AdG5mVjv32psBdLa8QH/xi1+YUrAsQ3qN97k54vtJdv57771nmFTXOh4B4smDhyREGGoeYDYJMai0cCb2eEhHKN7A8ioPdgD63ZO+0RNTFpvPksmUdho3VCtmrNaT/56r8nl1StT1RDBN3KkMgqEymgi01Hi9gSB7YgPZkgXobx4A3dHTCnrHACj7kw2DAHRKWji1Wn0tj7AngWemBeTJvvvua9jjdIVUXnzxRf3vf/8zuuVPP/3UlPnebrvtjD80LDn7QP535JFHGt32gw8+aEAxjQTDn/3sZ+Y3OmjKelsJB88d7PEA8FQldC37EXAA2gHo7M+qDuyxNwPo9i7jBYWPRDhkG2Ryc8P1tz//+c965JFH9MADD5ibr2vZiQAPbOQd1tGDvVownak9HkwS+wE0M35Wa81nj09ZopkllRo5oFDH7zxWd038Rk99ttQ8BFcvrNH8t0pVN69Bq8sBcT2Z1R0mRcZKqZ7GUuO97KeEebEJquHdzjkXNJymCItvPxze904cVUqr569ZmbCdPehRm3O9YM3GChEvoVx/3mZlG1xjlDUPSwuS72Ftx7lQyhuXDn6w14Nx5l5D4z6OhzT3G0A0q45UIVxnnXVM3gufoeeGOIF9/tWvftUMntkfhVe++OIL/eMf/9Bee+0VlnD0qn44AO0AdCgmdG8G0NlIJKEMK9INbpy33XbbGmN299136+9//3ublapCMdg9tBM8wEnosWCah53XHi+oshfOHyQ6AaKtvtF+h99+F5DKurjOfWK65pYCjlLacYO19IvtRuuUWz/RknfKVDazRnVlTVlkPTSOjd1GvzBWeUXrKF4LqA4jSw1y/bZ4ybfhtgLpTg5AEID2FVBpPoIPrw8qTmnJjL4DoNsCz1yXCxcuNC+oYQLPdvxgkG+66SazggjwhWU+4YQT9OyzzxqXEFhkQDBOGlQoxPOZ1S+8nWGc0XjzPRIGIUlmz55twDK2fOwHgOxlniFtAM/83n///Ts5Ud3X00XAAWgHoENxdfRmAJ0NK6NPPvnELOEdeOCBhonwN5YHL7roIv3xj3/U8ccfH4ox7e2dwBIPMM0PKwR+YMyKAOwT+kV0jTwAYbPbsserbUjo/bll6lcY03brDVFFTVynPPCZANe02soGDZ7ZoPdfL9Hq5T2dmfbOEvTTY6TYSCmBxUUQHduVs4oXFUyg/Q00mwV5jR9As8uggpFWQ+3pxrh1k5o6KQjcd2V8uuZYFjxz7ZAw6Geeww6e00UJNyWKnGA9h4sSCeALFizQf/7zHyO9oIog1SZJGvz3v/9tzpt7iN8tyKtvRrYB80zVQgeecz8/HYB2ADr3syyDIzgA3bqZvgPQGUyibtwEe0ELpnmgP/PMM4Y5Qn94+umnr1EJEfbagml+m/Lg/fqldQF55csSPfDRItXFk5qwzkD9cZ+NdOqDn2l+SbWWvFemZZNXq7okIaV6sszDP4Cw1GipSVAcrkh0kFJJ9NVd1TJIIOxMV/xDFWSBx/4hvH14fY8d4nr2sd5vYcd1sWjRIuPH3pvAM6tSEB1onO+66y4j30AnjWSD+wasMWw0pMnnn39uQDTA2mqivTIwyzyTsAhoBjxff/312m+//TozO913M4iAA9AOQGcwTXK/SW8G0E7Ckfv5E5YjAIyxknrssccMcP7BD35gHnqw0yT+BHlNI+0AIMBM88P/g+zxOEcv23T1K1/rlS+XKxptTELcddxQffHWCr3+1CJVLWlQKpEFljQsgW3uB1IPKrqNanL8gLLN1Xl2cQIh7wb+94MA/TOhOO2oBl17RZA7SOgGrMMd6k3g2bpp2GDAJCO9QLpxyCGHmOse1tnqlflN++ijj3TGGWcYOQcVFe+///5mBt57L3j77bcNeJ4xY4ZuuOEGk7joWu4j4AC0A9C5n2UZHKE3A+hsJBEiF8BM3yURZjCZumkTZBznnHOO8em+8cYbtdtuu5mkIB5+sNM4exQWFjaD6c7a4yWSKd01cb6+KavRukOKdfIP1jOlxV+YvsxEoPSLSi2euEp1i+KqC1IidFOcsntYaNz1mphq7PRwJ8gWS93FCYQkCvottdMA6Nv+XqdjfhHkDpLd6HbX3rzgmYRBv2ezlW3gOoFeOEzN5jqwKuW9xvkcp4wddtjByDNw5uHFmf6T4wKg/u53v6s77rjDJBwDspF0/PznPzcv3zDxW265pUkWp1nmGR9o9NVonrnvUGXRta6JgAPQDkB3zUxr4yi9GUC31ws0XajwecbmyNnYhWLKrtEJEoV+97vfmYcYDzp/4wHqtceDjbaFWwDW/iTETOzx/N9ZVlGn856criUVtUopou9/Z4iO3H5dHX/VB1o2sVwV8+sVrwKV9Saphz/SAyWt32SjhxtDR1jqbkggDOpmGgA99Y1qjdswnNdBZ3vVk8GzPXcAMbrlww47rPleQP7KihUr9M9//tOU2PYmEF922WUmORBN9J577ikLvnkBh6Hm3j9p0iQdddRRZlXLtrlz5+o3v/mN5syZo5tvvtnYmbrWdRFwANoB6K6bba0cqTcD6Ey9QKkmSCNxhCU9WAoAlm2ukEoopmpWOgFIYIyt1zQ7tWAati0ITMNwW5kH/8af2n6HLH37nVXV9UbaMag4X3ttOlwrq+t10r8/VW1DY9GNyqW1yp9ep2kfrFTt6t4OpjljXhbGKFo4Xsk6HD+gef1my2u87qRJIITdbuu7GUyRIKu6by/1ljvwO+ZhrTi/RpFe+A7EdYGbBgxzT2Oe7aDRdzycsZKDPca//+KLLzYM8XHHHWcAr79yInZ2FEp5/PHHjVTDNmzr0EK/8MILxuOZ5q1WiMsPjPUWW2zhZBsZXHbZ3sQBaAegsz2nOrS/3gygCUh7SnlfcMEFxsroyiuvNBWsbAsq5U1xjpdfftkUVkF360p5d2j6deuXOmKPB0NlwTT+t7BZrdnjPfHJYj36yWKThLjpqAG69MBNdfpDUzVzboUWv7NKpdOqVF/eG+zxWhvKXU0yYmMDfeaxDi6l0E4Air2ItIsTCDl0y2rU33bTp0gpyktq7pQSA8J4ieotjfsbMoV04Bm5A38Po2zDPwavvvqq0TSjYbaWdOREnHLKKSa/weqXLRhGggEzffTRRxvXHqQflO2+9dZbzUsyv0eOHBk41H6pSG+ZDz3hPByAdgA6FPO0twNogpzOC9Tv05kOQLMPbpbYH8FWkMnNzXn33Xc3Nkhrr03VN9d6egTQu1NSHHaJ8QYY2x+/bzTnygqHBdOADJhowJVlpy3IiieTqo+n1K+gEXRd/sJMvf7VCkUjEfNA33L4QM15o1TvvrxUtaW9yR7PzoiDAkTGq5qqJbINyYiNNbgjeQmlGl0DfS0LFQgtfvfuOZ0Dhy0R7tl25NAGPf/w52bM7DgzP9DN9tTWW8CzN7EPbfJ5551n3HaoIHj55Zc3yzn8pbVJ/iNZEPZ9/Pjx5hqePn260T7jzEH+iyvHHb7Z7QC0A9ChmJV9AUCHItCuEz0qAgBoC6Zhmr2AKYh9bI89Xn08qZvemKMFZTUaMahQZ/1onO58d77+N3WJkvGkSj5areWTV6u2JKFkj89XI7kwqBpbqaQgZq9Kkj85DZrYVxKwI7MpSHqRzoED+YZv++03T+i1p6ubnVsAaNa5xaup70jXuuM79B3gyIsjsg0YWm/rScwz/baOG7gvsTpI5UDIDhw3jjnmGG266aaBYSa/Bfu5adOmGbceiqgg7cDCzivb6I4xcscMjoAD0A5Ah+LacAA6FMPgOhHiCJC1DyuNbhpQgVbaAqbO2uPZ015cXqOzHpuu5ZWNth2bjBigC/b5rg46510t/aBc1cviSvZIRw9QKBZ4FGshsZDflP0r9zDQNgq8LcDm+uURK5s8qTs5SYIAdDscOH55YIPu+Me3FnYwk8wH6yvOigQSAOYGzHSQpr6TZ5C1r2cKnjfYYAMNHsz49ZzGiy8AGlkdlWIByCQEnnTSSYaRbp5tiUSzFIeVJBKNeYmwjj0OPId3zB2AdgA6FLPTAehQDIPrRA+JACyXBdM8dHnYAphY8g1ayrc6ax7OAC1Alv0O3/O6gCwpr9H/PlumoryofrH9uoonUjr6nslaXddIQ5fNrFJ8ao0WfFGphh4Jpu0gA5IB00ifLKgulrS6CWD7JwNsdWOir7dFYlVKJYIEzGkmUxCADnLgQJJOd3ztivPr9bvTA/UlZpkfJpc5wTj7k00p1hMkA+qOad+bwHNb8grkHGickfEdeuihojqtF0QT//nz5xtJXk97UeiOuROWYzoA7QB0KOaiA9ChGIaMO8GDANukKVOmGDC28cYbm8pafj130A552GD8jx0fFRYXL15s9oHHNd/HDxVA51pmEbD2eDBeAGQAtC3cEhTHjtjjPfTRQj308SJV1SW0wdr9dPWh43Xxc1/pvQ+Xa+mkVSr/qlaJ2p7o6OE3XmbeIffArYNy4gBrKymoCJB7WG1LS7a6oGi16mvT2GoEOXBAhgd9HqAYeeXRWu38/UZHlbZaULJpWzKgtvaZjb/3JvBsJRv2OiSxm6RudMzepO633nrLFEqhsiAgmvsc900alUuxvaOsN5Z1QStK2Yi720d2I+AAtAPQ2Z1RHdybA9AdDFw3fK09jiJB3YMVwyeZZWaKCvAQ4UFPAZJ58+YZSybK1vq1kN1wqj3ukNYeDzBNARfYxtaW8tk+c3u8BpXXNmj04CLlx6K66uWv9eznS5VKJgR0XidSqPpPqvXma0sVr+wJYBrEGuRiATj1VjeEHgZIA6jRS/PbIluSEIMKeSxu8qFuOYXyChKKN/iOmc6Bg68GWNitml2jjuQL8pJqZR5IPmwSonVv6aokRC945qXZ/5JnNc89QbZBTAG73L+uuOIKQwjMnDlTo0aNMuW5zzrrLOPbbC0mAdEQD+icDzjgAOOyBOCmnDdFU3BS4v7nWs+IgAPQDkCHYqY6AB2KYWizEzww9ttvPy1dulSPPvqoNttsM/MdlowpGoDN1EsvvWQYmHQNLS8PjF/+8pdGcmAbn+Of+sYbb5js9ZNPPrnN/rgN0kfAamPR6aD0XQAAIABJREFUTCP3ALhYzTRL+X6vafbUHnu8svLVuuzZL7SkOqXhg/vrnL3GaeLslbr9nXlqqEpo6TvlKpterfpVYXX0ACQHlQEPAv985vWTA0Cjo0a6YcuKQyPbVtLEYnvHpykOkZbHjBQ1KJUX4KDBZr6P86MprZpb0+lpz1wATFtA7U1CBFAHFfbp9EGbPIwBiry09XTwbLXJnAv2czDL48aN09ixY831huaZa4x7GQmEVprB6htOSoBt9kFDuoHbBgVWnOY5GzOta/bhALQD0F0z09o4igPQoRiGNjsBS0wSDMwJPtXehnc1FnyAYCyZOtKQhFB4AGs+HiiuZScCVrZhwTQvK5Z5ZEm/vfZ47G/ZsmXmBQiXAQvGS6vqdPpDn2tpBWWwpbUHFOrK/TfRz8+apAUflatuZUKp0Dh6BAFogDItSE8RVCKck7GMMmjXJirCWiMDgbm2MpFyKRKQCJe/WCocveZAB9R7GTYopW8+7zyA9h7M6uOtFSIvybDRrRX26cisBBi2Bp4B88i5uoJ57owEzXvuxOrss882pAEvpXhY77LLLoYguPPOO3XNNddo+PDhuvrqq7X99ts3JwsCrrmX8kP57mOPPdasxDnw3JGZ1X3fcQDaAejum32eIzsAHYphaLMT1113nQG2/P7JT37SYvvly5ebh8eOO+5oigh0pPFgO/zww005W5JuXMtNBGDNrD0eSWde3+ggMB1kj8fSNcvUAC3v8v/CVTV64IOFgls7YpvR2nB4f/3irslaXF6rZCKp0k8qVTW1WqsW1CnRrWDaXzyFWKeTnjQVXlljOPxyD7sPC8LZH8w0Mg9YayQggOhBUqQJWBcuk/J9VnqYUBdGJR9bPWHDhD58I3eZm+kkPW29bLU1Sy14ZoUDqzq/bMOC5w033LDFqlRb++3I3zsrQTMjnEqZl8b33ntPFEjhGiD/AKtJC6CxrPvyyy+N8wbVB4cO5WWqZePa43pDzubAc0dGs3u/4wC0A9DdOwObju4AdCiGoc1O4G0K20JZcW/JWftFDP9ZqiTrvCPtkksu0UMPPaQ///nPOuqoozqyC/eddkbA2uMBqGHQYNIsYPInM82aNcskfFrpTaYexI99slh3TpxvkhCH9c/X+T/+rl77aoUeeWKeVny4WpXf1KcpXNLOk2nX5v4EQr4cBIj53BZZ8R8gCHCn2wfbWk0G/4alHijlFUmxwVJ0gBQZ2Pg7VS0Vr8lWD86br3WG5GnHHVM65JBC7bVXsBSnXWFoZWMr6WGcmRuARm/Fy0wqIQIM0fkyz7obPGdDguYNF2W0YZlp3LMuvfRSA6AB0kg0qDzID9cLMQQwU/CqLdeObI2f209uI+AAtAPQuZ1hGe7dAegMA9XNm2G/NHHiRONviobR33bddVfzoJ08eXK7e0qCzWmnnWaWcP/3v/8ZVsa1ro0AAIPkQ8A0D3wSOWHXYKhZdeDF6emnn9bo0Y2Sg3T2eF4XECvvmFdapZnLqvS9MYM0clCR7po0X/e+t6BZLtGwqE7DZif1zjslStTlOgkx0wRCG3/Yar9eOh1Q9so6/OPnB+3pJCMxKQaYLpQiBVKUn0KprlJKYGHHT1J5eTjgRPXRRz/I+UQJSkLkZctKPYKSEFm5QLYBeOZ+4b+mu5J5JkDZlqBRXRD3jJ122slUGmTlDLCMHOZXv/qVAc/Eh0a1QaQckATopF3r+RFwANoB6FDMYgegQzEMbXYiVwCaBBxs8GC0HnjggTU8UtvsmNsg6xGAOQRMI82hQhrJT+eee66x4Ap6ubEexCxlAyAATa1paSktfulzMzV1UYUK8qL65Xbrapv1huiYez9R5ZJalUxarfKZtUpUZ2bZ1r4AtDeBEObYr4tOB5TTfR50zHTbcs5BVo5rSkmGDZO++WbP9p1+J7dmbuCWYf2mAcp+X3Er2wgLeOaUsyVBswwyMravv/7aAGWSqPfZZx8T2VNPPbUFeOYz8kLQPj/44IOGiXet50fAAWgHoEMxix2ADsUwtNmJXEg4vvjiCwOeeeBSsQuLO9fCEQGW8M855xzD3P397383iU6Aal507FI+LLXf0aM99niJZErRiMw+6hNJnfTvTzVneZX5fywqHbnZaN1z2yzN+KBM8cpko0y50y2d/pkdB1U6CXDJUGvg189W02nYZ/++YZKDpCR+1w/6ZSUgLfcxYUK+Pvzwh52OSEd3YFchrKMHgBnpD5/Tgtw2upp5tufW2fuXBc7cq/Bu/sMf/mCuAxIFeYlAqgK7zEqNtyDKvffeqxtuuMG8fFKe21l0dnS2het7DkA7AB2KGekAdCiGoc1OZIvBsQeaPn26KSjAwwfwjI2Ta+GIAGABK0E8a9F62hcbPgcAWUcPemvBdDbs8Sgn/o8356mmPqFt1xuio3ZYV+c8MV0fzFuleE1CyydVqHx6jepWxtWE0ToQsGwkEKYD0Ols8IJAeDoAHZS0GMxKH3DAYD3yyHYdiEH2v2LdXrCzRPJB42ULf3f+v9tuuxlgjdtGVyQM+s+wvStotkiKBc4k38K040Bz4IEHaueddzaAGd96pGu073//+7r//vubD43d5y233GKkHCRGO/Y5+/Ouu/boALQD0N0191oc1wHoUAxDm5145513DKjKho2dBc88WLF9IgHRtfBEAPDw17/+1fh1Y7UV1Cz7aME0Y2kLtwCqg7ym2cZapiEDYBtvdbygKmxvzlyhv700SxW1cUUjEf14/HBtN3qwzvjLxyr/rEZ1KxraaY+XjQTCIA10JgmE3kgGAehgplmG8V6zNOEFF4zRRRdtEoqJY1lYfgMUGVvG+rbbbjOsLGPLixjSh3333bdFpb6uOIFMAfTHH39sXurpL8AY5yHYZVZksNh88cUXjcPGs88+q5KSEnN+r776qpEt8WJAxUG+R2GUp556yjDOgOpNNtnEuW10xUB30TEcgHYAuoumWuuHcQA6FMPQZicAPzz4YGDSFVLh4TJmzBizLx4uPEBHjBjRnEzD5xY888DBL3Xbbbdt89hug/BHAJcBwDQ/sHVex4ZM7fHSJaZNXVSut2eVavTgYh261ShNW7xav35oqhKplGE1V35WpfyvGvTNrCol463pPLKRQJguybE1VjqIgU4HwoP0z8EA+oknJmjffSnm0r3ND579OnmSCbk3kEyH/Rvzg+v+xz/+sXHcycTRo7Nn2JqEAx97Evywm7MuQqy04NGMzMw2K03xFnsCTN9zzz0GLNOYw1wLvECwqnbZZZeZl1DLaHf2PNz3wxEBB6AdgA7FTHQAOhTDkFEn2uOjSmEVHkwUXYG1plGli4cmWlpcO4JkG7CY6KJd67kRgK2zYBpbLy8wDgJL3sQ0Xrq81fGYD37vYCJDOfEXppeoIZHU1mMH69qfTdApD3ymj99drtKPK1U5t06pBj+Y7o4EwiDQns6BI10CYdDnKS1dupsGDgwC5103d7zgGc2z35GD8VyyZImp1MdYAi4B0bC2JNZRma+16qXZOpN0EjQkGIBcGqW0H3/8cSM5oSjUBx98YLTLgHzKdHMvoxJrW43qgqzgsLKGX7oDz21FrOf93QFoB6BDMWsdgA7FMGTcCQqe3HTTTaJyIA8aksvQMu+///4t9hEEoBcuXGjsnlprPExff/31jPvTmQ29nqyumEFnIpn+u8wRXpwA1F57PH8RFruHoOp4AOggezyqHtbHU1p3SJFi0Yj+8OR0vTWr1LB/7Gfdhnyter9SH723QslaQGsuEwhz6cBBdFoC5VgsqYqKvXMzaBnutb3gOcPd5mSzdBI0GOe//e1vmjt3rrmXXXXVVcZOE6nJHnvsYcpx2xc48gEA2Oi6R40apfHjxxspCpKN559/3nyGFzQVOm1FVuf7nJPh7PadOgDtAHS3T0I64AB0KIahz3XCAmZeCDbddFNjz+YedrmdBgAuVh8A01jeeYFxNuzxymvqdelzs0Qy4lr9C3ThvhvpxS+W6/a356luZYNWTKxS5aw6xatgdK2jRWu+09lw4GhPAmGQAwdjsmYxlyFDpEWLutbCzjs7eDFCG8x1lAnznNuZ1fbeW5OgHXDAAUaaRttvv/0Mc4xzBvrmzTbbTMXFxUYTTZszZ47J23jyySdNYiTVCAHREAM/+MEPTEJ003MtMA+g7Z66LXpCBByAdgA6FPPUAehQDEOf7ATLyVtttZU5d5KHYDm9zWbe98ng5PikAV6AaMA0oBqAYpMQO2KPh0wkSGu9aFWN0Usvq6g3ZzR8QIEu2WsjnXDOh1rwyWo1VCSklN96ji07WsLbGziAelBRoM47cGyySb4++aR7LOx6Gni2I+KXoDFnXnnlFeEccsQRR4hqm5999pm2224740BDoiuyDWQc3qTY2bNnGxCNRA0Q/fOf/1y//vWvm0t55/jScbsPQQQcgHYAOgTT0DHQoRiEPtYJq0mk6iHerOhyYUA32mijFnIUMupZmqWICMu5Qc4S3tABBGGzSKBkKZeHrGttR8Da41EFkRjSbJU72L+guNtS02hs0VkDntMlLn61bLX+88EipZTSL7cfo/HrDNSRd03W7BVVStQnVfp+lWq/rFNlidceL6gCYWva5SAQ7i3h7Y1DOrlH0DGDEwj32Wegnnxyh7aDm+UtLHhmzHDbSKd5JnHO/0Ka5a60e3e8tAGM/RI0NM5Y05EwiOc5L9M2YdDmcPhXpyyIxhOaFSxWstw13+4h6bFfcADaAehQTF7HQIdiGPpUJ2CaLrzwQvPQo8E4kUBEmXLYKED1QQcdpEsvvdR89qc//UlHH310mzGi8Aj6bTSR7mHaZrgCN/Db4/GyY4ExlnfZssd78KOFuuPd+aqsi2tgUb5O3219zSup1j//9ZXKPq1VfUlESvqLn2SjhDen3XkHjrPPXkeXXTa+Y0Hu4Ld6Mni2p0xiIA3PZhovbT/60Y9MQvN9991nqm6SWMjv7bff3hRM4d5ACwLRN954oz766CPxMj5y5MgORtZ9radFwAFoB6BDMWcdgA7FMPSpTnzyySc67rjjjLcrzCWZ8iQNsRz7l7/8xYBoEovQQQLayKjffPPNW9VIv/TSS8Iq689//rMB3g5AZ2dKIbMB5JCIyHgBpu1PNuzxJn9Trh2+M0QTRg/Sf96bq+vfmEdpRCPhqJ5Rp8FzI5r+2Wol43zW3hLe2XDgCGagH3hgvA45ZJ3sBDmDvbQFnpHj4FARRubZnt78+fObS25jO4c38957723mF/cDrl8a4BmLTYAx94WTTjrJaKGDQDTJh7YioUtEzmAi9ZJNHIB2ADoUU9kB6FAMQ5/pBCzSxIkTzUORBnimAMLnn39u/GnRRaJ9xGYPuy2YaBhprKkAEabMdIyl9m8bD2AetHyHhzAJRQ5AZ39KAaAtmEa24S3C0ll7PKQgCxYu1B2fVevTJbWKRiPae9PhumCfjXTQrR9o5pQKlX1creq5CSWNnNrLTgcxyulKeLdWBjzIAzq4tPe0r3bSBmP6Zz/IAXtk3gM+aSQM+gve9ATwbE/r//7v/0xhFxpluHGGwbKOFSZvIisgGos9XrZxGKKIFFKNdM0lIHfJVAzNQRyAdgA6FJPRAehQDEOf6QSSAJZdqTBGw6YKMP3WW28ZwAxApjACmfWAKhhlkoT8D0jv/3kAY+v33HPPme84AJ376UQhHmuPxwsPWmmrmw6qaNiaPR5M9vLly00hDZbhy2vjikUiGljU6Lxw2oOf6cN5q5rt8bbqN0CzXl2lT98vV7LGnmuQ3KM9CYTpHDgCkhkjCe1z7RDddMQWGjOkOKfB7i3g2Xu9It/CRYNr/cgjjzTXOI17A3PByoQA0dwnuLYtE90aiM7pQLidhyoCDkA7AB2KCekAdCiGoU91wlYl46SpkIbvq7ehhwSgkVTIg5P27rvvGhba+sNa27unn37a6CRvueUW7bXXXrJe146B7ropBfCxYJoXGOzxANODBg1aI8mNXgGmkIawLd+zwGnw4MHmO/7ExRWVdbrs+Vkqrao3ntN//snGuv3t+fr3BwuMi0fZpBqtnlmvRCV799rjtcfCju/6tw8u7R0tbNC4c4p0wBajdPlB6VnRzo4A1wBWdQBKEgZ7MvNsY4HM4uCDDzaOG2a0IhFTWRWds5VgeME2L9Yw0YBovgdTPWHChM6G1n2/h0fAAWgHoEMxhR2ADsUw9IlO2AcjjDJ2VbZoCwCKB6nV1JJUCLji/xRFQNaBzpFlbGzX9tlnH8Nawc6RvY9049prrzUxdAC6e6eStcdD6oG0AJcIbxEWb++YA/yd1QYkIIw5Mh7+bdnsdPZ4s0oqdeaj07Ssos4A8vWH9de1B26mA389UYs+qVZDeUpKtsdHOnMHjvy16rXBr/tpn/HD9bdDcpNImCl45iUTKU1PaST4PvDAA+ZlePr06Xr44YfNdX7//febZOJ0IJoiKrhz/PKXv9Qf//jHwBeznhID18/OR8ABaAegOz+LsrAHB6CzEES3i4wiYO3ryLonUZDl20suucQAYcuuAboAxDCUAGySCXfYYQfjrIEF1s0332ySiy6++GLjuMFD+NlnnzUgLAhAs28e0EEJb95OuwSkjIawXRsBbAHFvPTANDMG1msaxwWYRQpfUDjDtvbY432xZLUembxI0UhEJ/9gPa07pFg/u/0jzSmtVrIhqVUf16p+RkKVS5NKNjt6pNNLB8k9ghMI+23QoC1OHqjLDtxMPxjXOO+y2XorePaOsdU7kzT80EMPmbnx73//W9tuu60B0cwdr64e9w5ANC/OsPGu9e0IOADtAHQorgAHoEMxDH2qExRPIQkN1hjfZh6YMND8kExoNc+2iAKgyj5wsb7j7yRTUdIXPfW+++7brJG2DDQ2WbBabTWXfNRWhLLzd+KMVhpmGiD02GOP6bTTThMewLDM2bLHQ9Zx+zuN9nhUQzxv73GatrBCt9z5tco/bVD9Uphpv2c0oDoogTAYQO9wQKGO/d16WlpRp1GDCnXsjmNNKfNsNMAzKy0AyiDZBj7dVO3racyzPzbe686CaAAzIHqbbbZp3vzee+81iYRc58SG+4B9Ec9GvN0+emYEHIB2ADoUM9cB6FAMQ6/vhH1gUgCBrHradddd16xxtgEggRDWmYQyvF1HjRplwDEgmwcsy7jHH3+81l57bS1ZsqTNuMFMs2SM04e32f6QqASgQwpCxTN/YYo2D+A2yDgCxPyaa64xrDOgidLLMNMAI6/XdGft8aYtrtC0Rau13fpD9N3h/fXo5MW68qVZSqZSZi7Vz4lr2LyYPp+yWol6wHQ6AB38+W8vHaV3VaaKGioaprTv+JG66qedl3L0FfBsJ4wXRLMShZyDlShAM6sSjzzyiG699VaTYIoW2vk8Z3yp9foNHYB2ADoUk9wB6FAMQ6/vhH1YAmbxaab99Kc/NUAKYMwPDCUleVmu3XnnnY0bh78BqimssuOOOxoQbZd58YNF4oGGlgYQJhkNSQh2WWT+W+DO361kgyz/66+/3gB5lodJZHMtNxEgzlSHZOUBHbttjJm1x0O6Y+3xkHsEgWnGjrmCPIQf/k/5caubJonR/7J00TMz9O7slUbu8ePNGu3xDr3tQ037dJXKP65XzRwpWYcO2sskBztzHH7NUH1SWtF8iLX65+u507+v/oWNriEdaRY8M59hnv22gDDPVNjE57knaZ7bikUQiObc119/ffGyDWimsMrYsWObr9m29un+3vsj4AC0A9ChmOUOQIdiGPpMJwBQV111lWEckWaQgW+LJEyePNmwy3xOSd9DDjnEMIYwUAAlEo/4PsAaEP6zn/3MACy+d9ZZZxmAgaUdpYJx4YDVmjRpkmG6AR0UZtlyyy1NrFkGB6hjfff++++bJeLdd9/dPKT5CbJi6zODlKMTRfM8fvx4MzbpmrXHA1Cje7cJpIDjTO3xWOa3YBpgbeUhq2vRw0v9CxqB7m8enqq3Z5U22+NtPXCQlk+s0btvrlKyGjBtfzy9jSS1//VD9dUyY/lh2oiBhXruNzuoMK+lP3mmYeyr4NnGxwuiuXYpz81n48aNM7kOo0ePdrKNTCdTH9nOAWgHoEMx1R2ADsUw9JlOILtA+zpjxgwDXAA7VCAkYRB2mYQz5BYs8+PAwYP0ggsuMH8799xz9cYbb5iKa7CZ2N3BzCH5oLLZ6aefbkC33wf6tttuM+D57LPP1q9+9SsTa/sZTDV9oE/4UbeVbNhnBioEJ0oCKOPLnOAFyssyB0ltvPZ4rDwATNnOgmm/Pd6q6nr95bmZWrYaLXOR/nLAJnp48iLd+NocJSqTWvVBg6pmppSoAHA36qYjBQ367jmFKsqPqao+oX4FMR21wxiduUdLiVCm4eNlEau6vsY8++PjBdELFixodm/hRdtpnjOdTX1nOwegHYAOxWx3ADoUw9BnOsGDEk9ndI78pgEerN0ZYAkg/Jvf/KaZOaQSIQAaD1h8n5F3UNFsxIgRhkW+7LLL9PXXXxuG+oc//KEB014faNhmQDoZ/hyXY82cOdOw3BRvAUAjHaAfsOGw2OzHm9hmddjeQg99ZtBCcKKsClgwbe3x0kk26C7jhTTEyjwytcdbWl6rk/7zqeaXNlZoGTO0WNcdtJmOPW+KZr1Xo2iBtO7xRRo9uEin77a+CqJRvfLVcsUTKe2/+UjtN2FExtECPJMwCLPel2Qb6QIUlNDrknwznk59akMHoB2ADsWEdwA6FMPQJzvBMj1lfdE57rHHHqZQAmAXqzqs7rwPT1goPoc5vuiii3TEEUcY4PH444/rr3/9q2GrYasAxoBhCnIAmn/xi18YScYxxxyj7bff3mT52/b73/9eL7/8smGlSTbEl5gy47h88Bn7s5pqr66WfvHj2OrumbbEHhDNyxagmhcfm4TolWx4e9cee7w5K6p096QFJkHw6B3GaNNRA3XsvVP0yYJVZtxpGwzrp3+fsI2OuWeKsc2jDSnO198P3VS7fnftNgNjwTMvc+h7+4rmuc3AuA1cBDKIgAPQDkBnME1yv4kD0LmPsTtCywj4C6fwV0DuK6+8oi+++EKHHXaYARUWrMAEL1682CQPApDRK8Mm09BLUg4cxvrwww83TDRVy9BF4xENAwnDDGA57rjjTBEGGtvwPYALVQxJzgJ4s5yO7nbMmDFGAsD2fA7QoVra3nvvbfrmWjgiwByprKxs9pqmVxZMZ9Me77nPl+nvr3yt0sp6U2L85J3X05ihRTr7iS9aBOKIbUfr4p9s0mpwMgXPWNVxDq65CLgItIyAA9AOQIfimnAAOhTD0Cc74bWnSxcAy0K/+uqrQsqB+waJRcg3aM8//7zRNiPvAGDbBjP51Vdf6dNPPzXMMqWD+T5Mty3agHZ6v/32M5/j1OFveFLjCgKIAUSXlpYaPSYgGoYaQO1aeCLAXCHx0DLTvADZwi2A6iCvacYTAM6LFr/ZB+Nt5SFerfXMZZWaOGeltlh3oLZbb6i+WFJhmOnqBuzuGtvpP1xfZ+zesjS9N0JtgWds/UiadeA5PPPK9SR8EXAA2gHoUMxKB6BDMQyuE1KryUL4wAJ0AcqAV1tYhWIqOHcAeHDosMDaG1CW+9kOnSk6aUAMzDIOHFjXIQeBifbrLQFUACjkGyQ9fvnll+Y7aLdx7EBDjVTEAjOKvCAzgd0mAW7jjTc2ffPa52Uy0AB17PXefPNN43UNoMPWC4kLpYxdyywCvPQApvlBimOZaX5nwx6PXlz/2mz977Olqosntc3Ywbrh55urIOYv1NLYX/rACkc62UZXg+fOzFeuFTzUqQZKoRNWiJjzFDhivp9wwgnmunHNRSAXEXAA2gHoXMyrdu/TAeh2h8x9oRsjAKgFAHnb5ZdfbrxiYZdJQNx8880D2UYLkAHD2N4BsPAk9lY+y+TUsNB78MEHjRabSnrsl2TGk08+2QB7PKWxzUNfTclygP+JJ57YYte2L7Dj9ANgj/sIEhS2BfSj4cbKC1YVT1yAF0VfXGt/BHhpsmCaKpheltmvP2bvls22SYiAw3T2eBW1DaprSGrtAQWB884LntkHEiA/gO9q8Ix1Y3vmqz/ivAxgCcn57LDDDuZlkRjzcsnLKqszXJNo0l1zEch2BByAdgA623OqQ/tzALpDYXNf6uIItGZlBdih7Delu6lgCDu86aabGl0z9ngkK/JAJ+kQtpjEQwq4ALiRfQSx1gAawADHBRhQtIX9AX74G8egDDkMNmAIKQj2el5fa8AXem5A9EsvvWT64m2wdnvttZcp3mITEwF3AGUKznAO3gaIc/7UnZ94xJExBFDzQpZte7wgsInbBoxsGMAz59+R+eo9L+QxrPiwIsIqjG18josNdpPkGADSXXMRyHYEHIB2ADrbc6pD+3MAukNhc18KSQRsRUGAEEmIMMMkIgI0eZjzd7yh0TvTAKpXXHGFceP4wx/+YBhku9Rs90W58DvvvNNIKGxjG9hg2DYcPwDsgN9//OMfBmjjIU1lRT73tv/+97/GxxpQccYZZ7T4G/psSlvDPgOwSJCkkcD42muvhSTCvbsbvCB57fEYZ1Y4AIVWJuSNQHvt8WBqwwSeOZeOztdMZwISJtxveMlEiuSai0C2I+AAtAPQ2Z5THdqfA9AdCpv7UogjgIb4ww8/NJZ4w4YNM8vLm2yyiQHTACZ8o2GKAa+wyP4GawbIgKWj5DQFOFjyBtSiYQWcw+KdeuqpRgrCfpBWUPEQ+Ya3kRCGJzXJj/fdd98ax0KqASvO/khOhLUmKZJ/v/POO4b9Rtqx6667BgK6EA9Dj+sa88Nrj8c42yTEjtjjsZJAUZCwMM92QJinANuOzNdMBhVtNY44FDT65z//mclX3DYuAu2KgAPQDkC3a8LkamMHoHMVWbffroyAdfQAjKbzZ7a6Y1uFEGCLZnqDDTYw0g8azh0k65G09+KLL65xCitWrDDL1gAzj23bAAAV6ElEQVRpQDg60DPPPNNINPC0Rn/tb1tvvbWRaXgZbf82sOaHHnqoAdOw4jDpADrbWPrHbo8XAddyHwFrj4f8B4aalq6ioe0NL0FWM11VVWU+Rl+Nw4u/FDnyEeYSL3e8oHVly8Z8ba2/l1xyiR566CEjb2Iuu+YikO0IOADtAHS251SH9ucAdIfC5r4U4gi0VegE7TEsNDpNgC0gBgkGS86AXKQWFHK56aabmllr9smSPt/lbxRemTRpkokCSX8UYCFpEBcCf4M9JhEQb+qgBlAGMNMnGswlLDRAHlD28MMP69Zbb9Xo0aP1wgsvOHeDLp57Xns8tNOsYlhHD5JF/fZ46Nit2wZjCZhmNYH5wlzYaaedzCpGd4DnbMzX1sKPW85pp51mXkqpHhokg+ni4XOH64URcADaAehQTGsHoEMxDK4T3RAByniTUAi4AbBSgRD5B7IOQBMFWwA7tqFR/te//qVnn31WRx55pPGjBuBiq9cZAA24pjQ5nta0Y4891tjseZl0pCL8/aqrrjLA2rXuiwCuKTDTgGkkNoBoK/VgJeF3v/ud0dcjw2EMeUHCAvGee+4xUiAANSsVyIPQ0SPR6crW2Re+dH3FNx3bRlh3kmDxsnbNRSAXEXAA2gHoXMyrdu/TAeh2h8x9oYdHwO/3zOkAagBCNKQYgGOW1tE0w6YBCmCJsegCEOH4QUIhbCTgtjMSDpLMYMDRy9Luvfdeff/7328BoJ9++mnjagC4Bmy7Fo4IAKAtmAYkU1YetxZWL/x2i8g28PVG5sFLG0mvJSUlJjkVK8b22il2NAK5kHDw4gB45tq4++67jbTJNReBXEXAAWgHoHM1t9q1Xweg2xUut3EvigDgFzDtt4ZjCR73DDTOVDDEMxinjAkTJhgGEdYZpw7bOpuUBfiGtbTOIU8++aQ5lrchLSFpkaIv+FC7Fq4IWAC52Wab6dxzzzVzhBcwq5sGNPs1z4BNWFvG9sc//rH4ble0zs5Xfx+nT59uCqdwPQGev/e973XFabhj9OEIOADtAHQopr8D0KEYBteJkEYAVnjhwoWGEUa6wdI8WmkSEa03NWwizh3ttbHjlJEDIMuA3WbJG5kIFQ6x3vM2bPWuvvpqIzUBSLsWnghY8EyyKJUo0f0yN6zXtHVawde7qxMGg6LUmfmaDjzzwoAvNDFwzUUg1xFwANoB6FzPsYz27wB0RmFyG/WhCFhHD/SrNkGMz2AR0XYCpllutwAa8LDvvvsa27x0hVRw9MDfmcayPfuigAvgCkCMjAPdMwVekADgYmALVGCF97Of/Uz8RgeNpMS18ESAFx6SS3nBCUqaY57wE5aEus7MVxh12yzzjN86L3jbbrtteAbF9aRXR8ABaAegQzHBHYAOxTC4ToQ0AkF66aCutqc0MqW9cSig6ApuHrgWkFQGC83yOslmFGuhUiJgB/9pkhsd+xzSSdIDu9We+UohICRNzFdWWWiw68hOsPjDWSRItgHYRhftmotAtiPgALQD0NmeUx3anwPQHQqb+1IfjIDfHs9WLrShoIAEyWNUYgP4YlOGNnT//fdvES0LSGCbYZ4BzGwHsGafgGuY7tmzZxsGHG0sf8fVwTUXgWxFoL3z1QugkTVRKKW1Run6119/PVvddftxEWiOgAPQDkCH4nJwADoUw+A60cMj4AfT6U4H6zzYZQq1oH8+5phjxFI4Ps+77babAd7+pMYeHhrXfRcBFwEXgaxGwAFoB6CzOqE6ujMHoDsaOfe9vhoB9K4kYqFVpjKg364MMA1z7C+wQUIiVQzr6uqMhprCKGim0TQ/88wzfTWc7rxdBFwEXATaFQEHoB2AbteEydXGDkDnKrJuv70xAsg4kFiQ8Ef57y222MIkT2211VYGTGN3521eZhrdKHINwDIg3DYYabSi6Ejxz01Xirw3xtOdk4uAi4CLQHsj4AC0A9DtnTM52d4B6JyE1e20F0cAUIyrBj9vv/22kWJQhMULprEsGz58eNoozJkzx5Tl5ufrr79u3u64447T73//+1DYndlOoZXFns2r7Qbw+7XdrQ05DiV33HGHKWfNywPe2pQ9x9f6wAMPNIVqXHMRcBFwEcgkAg5AOwCdyTzJ+TYOQOc8xO4AvTwCgMKnnnpKb7zxhrGlKyws1Pjx4w0rTSVDHDZosNfYmfk1zlSno5jKI488ooMOOsh4Sufn54ciau1xa0jXYaQrhx9+uHFu2GWXXQxTX1lZadxFsOYL8s8Oxcm7TrgIuAiEMgIOQDsAHYqJ6QB0KIbBdaKXRODTTz81Eg1bphlbOphavx0eLDY/MK9erXSYkgjpy3777aelS5em9bcG+OO20Fq75JJLjK/1hRdeKBh223jZOPjggw0jjVtDW/vpJVPEnYaLgItAJyPgALQD0J2cQtn5ugPQ2Ymj24uLgD8C2NABCouKitYA0N5tLTPtB9PdHdF3331XJ510UocqLHr7zj7Y18svv2xkG952zjnnmAqPTzzxRDNT393n7Y7vIuAiEO4IOADtAHQoZqgD0KEYBtcJF4HQRQD2/PbbbzfFXZCieBvSC+QYO+64o+67775W+/63v/3NJE9edNFFOvroo5u3RcaBZKW+vl6vvvqqedFwzUXARcBFoK0IOADtAHRbc6RL/u4AdJeE2R3ERaDHReDMM8802ux07PDWW2+twYMH680332z13ADbRx11lNBCU7Vuo402UlVVldFAU9762muvNXpx11wEXARcBDKJgAPQDkBnMk9yvo0D0DkPsTuAi0CPjMCJJ56oiRMnBkovOCHAcHV1tSZPntzm+ZWVlem8884z/tm2wTifcsopJmnSsc9thtBt4CLgItAUAQegHYAOxcXgAHQohsF1wkUgdBHIFoCGeT711FONNR/+2ZQmX716tZ5++mndcMMNxvua0uXOyi50U8B1yEUglBFwANoB6FBMTAegQzEMrhMuAqGLQLYkHMg3pk2bZnTOfm/sK664wmior7nmGuMH7ZqLgIuAi0BbEXAA2gHotuZIl/zdAeguCbM7iItAj4tANpIISRSkUuOECRP05JNPrhEDdNCnn366YLvPP//8Hhcj12EXAReBro+AA9AOQHf9rAs4ogPQoRgG1wkXgdBFAL0y+uSgQif//e9/dcEFF+i3v/2tzjjjjLR9R/uMU8fo0aNNoRl/e+yxx/SnP/1Jp512ms4666zQxcB1yEXARSB8EXAA2gHoUMxKB6BDMQyuEy4CoYsAhVT23XdfUYb70UcfNdplGvrlww47TIsWLTLlzMeMGWM+LykpMX8bMWKEBg4c2Hw+7GPu3Lm6/PLLTUVC2yikQilvyppjc7fzzjuHLgauQy4CLgLhi4AD0A5Ah2JWOgAdimFwnXARCGUE2lPKG0YaZvrKK680rLVtb731lpFpAMh32mknA8QBz1QfXLlypfbZZx/ddNNNoTz/rurU1KlTdfPNN2vKlCkmThtvvLGOP/54U8Uy04af9r/+9S+TnEl5eCwG99hjj/9v735CrDrvMAB/p84qwdbEIHQhCtZ7s+kioouCqBWkKlm4q1lYOyiuCg5kU1JMrSDFhRtXQqukNCBZhqQVpLSQVAMhhBAwcu+0C100EZJV/uAfmlO+0xiMenUcJ3fezDwHApLcOfe9z+8EXu+c831lamqqLF++fKan8ToC8QIKtAIdcZEq0BFjEIJArEAtd7Xg3l7uJicn7yp3owp0/WD1HKdOneqWvKu3ddT1n9esWVN27dpVnnvuuUW9AsfD/CVl1EVSt4WvSwLWHR/rmtobNmwoly9f7raUr78hqL9BePLJJ2OvMcEIPIyAAq1AP8z18q29VoH+1midmAABAvcVqN8279ixo3z00Ucjb5Opm9nULeHvd9TNbl544YXy7LPPdiuaNE3TvfzMmTPl8OHD3a0yR44cMQ0CC0JAgVagIy5kBTpiDEIQILAIBeo3xvv27XukBzUr2+7du7vfENTbYm4v223blm3btpVPPvmkvPXWWzasWYTX2EL8yAq0Ah1xXSvQEWMQggCBRSgwF0sFXr9+vbttY9WqVd1DnXceL774YnnllVe6zWrWr1+/CJV95IUmoEAr0BHXtAIdMQYhCBBYhAJzsVnN9PR0d+tGfWDw5MmTdymePn26HDt2rBw9erRbPcVB4LsuoEAr0BHXsAIdMQYhCBAYo8Crr77aPdBYd0gcDofl5s2bd60eMpM49eG9+s1ufUivPrT32GOPdcvx1TWtV65c+cBTzMV26e+++273IGbdybHe/3znUbMdOnSo20a9ruzhIPBdF1CgFeiIa1iBjhiDEAQIjFFg69at3TrWTzzxRFd665/vXH5vJnHqJjB1M5i1a9eWzZs3d2thnz17tjz++OPdbROrV6++72kU6Jkoew2Bbwoo0Ap0xP8TCnTEGIQgQGCMAhcuXOjuGa4P3NW1k48fP/7QBbouP7d3795uybh6m0Rdmq8edd3rAwcOlI0bN3ZL993vcAvHGIfurRaMgAKtQEdczAp0xBiEIEBgngRmW6Cff/758vrrr5eXX365K9G3H3v27Clvv/12t3153cZ81DEXDxFeu3atPPPMMx4inKfrx9uOX0CBVqDHf9Xd4x0V6IgxCEGAwDwJzLZA12+YP//88/LOO+/ctRHMrXPWh/fqZjGjjjfffLPs37//kZexq+s8v/fee5axm6dryNuOV0CBVqDHe8WNeDcFOmIMQhAgME8CsynQX3zxRfetb91y+7XXXrsred38pN6eUbcwP3jw4MhPVjdS2b59e7l69erIjVTq0nR1N8F61HusP/3007JixYqydOnSr89rI5V5uni87bwIKNAK9LxceHe+qQIdMQYhCBCYJ4HZFOhaeDdt2lTWrVvX7fZ353H+/PlSHxCst3LUBw3vdzzMVt6jtku/11beV65cKefOnevu864POtrKe54uMG875wIKtAI95xfVbE6oQM9Gzc8QILBQBOa7QFfH999/v5w4caLbTbB+K12/2Z6cnCw7d+78BvOoAl1fdOPGje6ByLpE34cffliWLVtWtmzZUqampspTTz21UMblcxCoW9X/f696xz0F4IzpwlCgxwTtbQgQiBSYTYGeq1s4IkGEIhAuoED7Bjr8EhWPAAECC1+g3+//um3b35dSJofD4Usz/cS9Xu8/pZTvD4fDH5RS/nv7z906Z9M0vxgMBn+e6Tm9jgABAo8q4BvoRxX08wQIECDwQIHZFuh+v3+mbdvdpZTNw+HwjdvfqNfr/aOUsmViYmL1Bx98cPmBIbyAAAECcySgQM8RpNMQIECAwGiBBxXofr9fbyCu/3w8GAw+vnWmp59++qdffvnl35umeWNiYmLbxYsXb9T/1u/3d7Rt+9emac4NBoOfsSdAgMA4BRTocWp7LwIECCwigX6/v7+UsvGrj/zjtm3XlVLON03zr6/+3T8Hg8Ef6597vd7hUspvSym/Gw6H9c9fH71e7w+llP1N01xs2/YvpZQfllJ+Xkr5bMmSJT+5dOnScBGx+qgECAQIKNABQxCBAAECC1Gg3++/1Lbt3lGfrWmaPw0Gg18+qECXUr7X6/V+1TTNgVLKj9q2/ayU8re2bX8zPT3974Vo5zMRIJAtoEBnz0c6AgQIECBAgACBMAEFOmwg4hAgQIAAAQIECGQLKNDZ85GOAAECBAgQIEAgTECBDhuIOAQIECBAgAABAtkCCnT2fKQjQIAAAQIECBAIE1CgwwYiDgECBAgQIECAQLaAAp09H+kIECBAgAABAgTCBBTosIGIQ4AAAQIECBAgkC2gQGfPRzoCBAgQIECAAIEwAQU6bCDiECBAgAABAgQIZAso0NnzkY4AAQIECBAgQCBMQIEOG4g4BAgQIECAAAEC2QIKdPZ8pCNAgAABAgQIEAgTUKDDBiIOAQIECBAgQIBAtoACnT0f6QgQIECAAAECBMIEFOiwgYhDgAABAgQIECCQLaBAZ89HOgIECBAgQIAAgTABBTpsIOIQIECAAAECBAhkCyjQ2fORjgABAgQIECBAIExAgQ4biDgECBAgQIAAAQLZAgp09nykI0CAAAECBAgQCBNQoMMGIg4BAgQIECBAgEC2gAKdPR/pCBAgQIAAAQIEwgQU6LCBiEOAAAECBAgQIJAtoEBnz0c6AgQIECBAgACBMAEFOmwg4hAgQIAAAQIECGQLKNDZ85GOAAECBAgQIEAgTECBDhuIOAQIECBAgAABAtkCCnT2fKQjQIAAAQIECBAIE1CgwwYiDgECBAgQIECAQLaAAp09H+kIECBAgAABAgTCBBTosIGIQ4AAAQIECBAgkC2gQGfPRzoCBAgQIECAAIEwAQU6bCDiECBAgAABAgQIZAso0NnzkY4AAQIECBAgQCBMQIEOG4g4BAgQIECAAAEC2QIKdPZ8pCNAgAABAgQIEAgTUKDDBiIOAQIECBAgQIBAtoACnT0f6QgQIECAAAECBMIEFOiwgYhDgAABAgQIECCQLaBAZ89HOgIECBAgQIAAgTABBTpsIOIQIECAAAECBAhkCyjQ2fORjgABAgQIECBAIExAgQ4biDgECBAgQIAAAQLZAgp09nykI0CAAAECBAgQCBNQoMMGIg4BAgQIECBAgEC2gAKdPR/pCBAgQIAAAQIEwgQU6LCBiEOAAAECBAgQIJAtoEBnz0c6AgQIECBAgACBMAEFOmwg4hAgQIAAAQIECGQLKNDZ85GOAAECBAgQIEAgTECBDhuIOAQIECBAgAABAtkCCnT2fKQjQIAAAQIECBAIE1CgwwYiDgECBAgQIECAQLaAAp09H+kIECBAgAABAgTCBBTosIGIQ4AAAQIECBAgkC2gQGfPRzoCBAgQIECAAIEwAQU6bCDiECBAgAABAgQIZAso0NnzkY4AAQIECBAgQCBMQIEOG4g4BAgQIECAAAEC2QIKdPZ8pCNAgAABAgQIEAgTUKDDBiIOAQIECBAgQIBAtoACnT0f6QgQIECAAAECBMIEFOiwgYhDgAABAgQIECCQLaBAZ89HOgIECBAgQIAAgTABBTpsIOIQIECAAAECBAhkCyjQ2fORjgABAgQIECBAIExAgQ4biDgECBAgQIAAAQLZAgp09nykI0CAAAECBAgQCBNQoMMGIg4BAgQIECBAgEC2gAKdPR/pCBAgQIAAAQIEwgQU6LCBiEOAAAECBAgQIJAtoEBnz0c6AgQIECBAgACBMAEFOmwg4hAgQIAAAQIECGQLKNDZ85GOAAECBAgQIEAgTECBDhuIOAQIECBAgAABAtkCCnT2fKQjQIAAAQIECBAIE1CgwwYiDgECBAgQIECAQLaAAp09H+kIECBAgAABAgTCBBTosIGIQ4AAAQIECBAgkC2gQGfPRzoCBAgQIECAAIEwAQU6bCDiECBAgAABAgQIZAso0NnzkY4AAQIECBAgQCBMQIEOG4g4BAgQIECAAAEC2QIKdPZ8pCNAgAABAgQIEAgT+B8KjGf9A56/sQAAAABJRU5ErkJggg==\" width=\"720\">"
      ],
      "text/plain": [
       "<IPython.core.display.HTML object>"
      ]
     },
     "metadata": {},
     "output_type": "display_data"
    },
    {
     "data": {
      "application/vnd.jupyter.widget-view+json": {
       "model_id": "764511f12aa449fd84eaaca50840abc0",
       "version_major": 2,
       "version_minor": 0
      },
      "text/plain": [
       "A Jupyter Widget"
      ]
     },
     "metadata": {},
     "output_type": "display_data"
    }
   ],
   "source": [
    "%matplotlib notebook\n",
    "\n",
    "eps = 1e-5\n",
    "from mpl_toolkits.mplot3d import Axes3D\n",
    "#%mplot3d inline\n",
    "fig = plt.figure(figsize=(10,10))\n",
    "plt.clf()\n",
    "ax = fig.add_subplot(111, projection='3d')\n",
    "\n",
    "def plot(alpha_1=1.0, alpha_2=1.0, alpha_3=1.0):\n",
    "    ax.clear()\n",
    "    #ax.set_figure(figsize=(10,10))\n",
    "    theta1 = np.linspace(0+eps, 1-eps, 50)\n",
    "    theta2 = np.linspace(0+eps, 1-eps, 50)\n",
    "    theta1, theta2 = np.meshgrid(theta1, theta2)\n",
    "    theta3 = 1.0 - theta1 - theta2\n",
    "\n",
    "    null = theta3 <= eps\n",
    "    #plt.figure(figsize=(10,10))\n",
    "    theta1[null] = eps\n",
    "    theta2[null] = eps\n",
    "    theta3[null] = eps\n",
    "    Z = dirichlet_pdf([theta1, theta2, theta3], [alpha_1, alpha_2, alpha_3])\n",
    "    Z = np.ma.masked_array(Z, theta3 > eps)\n",
    "    #theta1 = np.ma.masked_array(theta1, theta3 > eps)\n",
    "    #theta2 = np.ma.masked_array(theta2, theta3 > eps)\n",
    "\n",
    "    #Z[null] = 5\n",
    "    #theta1[null] = 5\n",
    "    #theta2[null] = 5\n",
    "    f = ax.plot_surface(theta1, theta2, Z, cmap=\"jet\")\n",
    "    ax.scatter(theta1, theta2)\n",
    "    ax.set_title(\"Dirichlet(%2.2f, %2.2f, %2.2f)\"%(alpha_1, alpha_2, alpha_3))\n",
    "    ax.set_zlim([0, 10])\n",
    "    ax.set_xlim([0, 1])\n",
    "    ax.set_ylim([0, 1])\n",
    "    ax.set_xlabel(\"theta_1\")\n",
    "    ax.set_ylabel(\"theta_2\")\n",
    "    ax.set_zlabel(\"density\")\n",
    "    #plt.contour(X=theta1, Y=theta2, Z=Z, levels=[1,2])\n",
    "    #CS2 = plt.contour(CS)\n",
    "    #plt.title(\"Beta(%2.2f, %2.2f)\"%(alpha_0, alpha_1))\n",
    "    #plt.show()\n",
    "#interact_manual(plot, alpha_1=(0.0+eps, 5.0), alpha_2=(0.0+eps, 5.0), alpha_3=(0.0+eps, 5.0));\n",
    "\n",
    "interactive(plot, alpha_1=(0.0+eps, 5.0), alpha_2=(0.0+eps, 5.0), alpha_3=(0.0+eps, 5.0))"
   ]
  }
 ],
 "metadata": {
  "kernelspec": {
   "display_name": "Python 3",
   "language": "python",
   "name": "python3"
  },
  "language_info": {
   "codemirror_mode": {
    "name": "ipython",
    "version": 3
   },
   "file_extension": ".py",
   "mimetype": "text/x-python",
   "name": "python",
   "nbconvert_exporter": "python",
   "pygments_lexer": "ipython3",
   "version": "3.5.2"
  },
  "widgets": {
   "application/vnd.jupyter.widget-state+json": {
    "state": {
     "007ba116b0a74ca68ac7f83d4c9f8ee4": {
      "model_module": "jupyter-js-widgets",
      "model_module_version": "~2.1.4",
      "model_name": "LayoutModel",
      "state": {
       "_model_module_version": "~2.1.4",
       "_view_module_version": "~2.1.4"
      }
     },
     "00b99f0695e24cf8afc7eab609afa422": {
      "model_module": "jupyter-js-widgets",
      "model_module_version": "~2.1.4",
      "model_name": "LayoutModel",
      "state": {
       "_model_module_version": "~2.1.4",
       "_view_module_version": "~2.1.4"
      }
     },
     "0185d91495ae486bb425f81700e1ea4f": {
      "model_module": "jupyter-js-widgets",
      "model_module_version": "~2.1.4",
      "model_name": "IntSliderModel",
      "state": {
       "_model_module_version": "~2.1.4",
       "_view_module_version": "~2.1.4",
       "description": "alpha_1",
       "layout": "IPY_MODEL_6ffbe89668214eb99b8ba61db2f88139",
       "max": 50,
       "style": "IPY_MODEL_0c6d5871565343c6bfe948bc10b7732e",
       "value": 1
      }
     },
     "02b38912bada4e0db097e1722cbc0998": {
      "model_module": "jupyter-js-widgets",
      "model_module_version": "~2.1.4",
      "model_name": "LayoutModel",
      "state": {
       "_model_module_version": "~2.1.4",
       "_view_module_version": "~2.1.4"
      }
     },
     "02bdc621d6da405c9a1b827f93e01014": {
      "model_module": "jupyter-js-widgets",
      "model_module_version": "~2.1.4",
      "model_name": "LayoutModel",
      "state": {
       "_model_module_version": "~2.1.4",
       "_view_module_version": "~2.1.4"
      }
     },
     "0409c8cf071c47b6ab46d1e3cd233292": {
      "model_module": "jupyter-js-widgets",
      "model_module_version": "~2.1.4",
      "model_name": "VBoxModel",
      "state": {
       "_dom_classes": [
        "widget-interact"
       ],
       "_model_module_version": "~2.1.4",
       "_view_module_version": "~2.1.4",
       "children": [
        "IPY_MODEL_84c0be1cdd934a49b7521f5c5fcc4469",
        "IPY_MODEL_6cd4484a04d24880a65c868b2ab3ebea",
        "IPY_MODEL_81548a26376546ecb7e1b7b40c2d5c9a"
       ],
       "layout": "IPY_MODEL_8c51eb55d48e4b58a26be2d2fc99b771"
      }
     },
     "04f0ba64b1f84d22a6c65c3fd168d3f9": {
      "model_module": "jupyter-js-widgets",
      "model_module_version": "~2.1.4",
      "model_name": "LayoutModel",
      "state": {
       "_model_module_version": "~2.1.4",
       "_view_module_version": "~2.1.4"
      }
     },
     "06496449e3b248bebdec3dddb70ecb02": {
      "model_module": "jupyter-js-widgets",
      "model_module_version": "~2.1.4",
      "model_name": "VBoxModel",
      "state": {
       "_dom_classes": [
        "widget-interact"
       ],
       "_model_module_version": "~2.1.4",
       "_view_module_version": "~2.1.4",
       "children": [
        "IPY_MODEL_3a0272e1f60f4d61aabaffd40166f18e",
        "IPY_MODEL_3658aad45404407a89a94c8040b099b1",
        "IPY_MODEL_7e10d7f0439045d0a9f33ed972e89b6b"
       ],
       "layout": "IPY_MODEL_923ee436e81945efa72546856a7be35b"
      }
     },
     "089881aa0bc2445d8483705fb903ddb5": {
      "model_module": "jupyter-js-widgets",
      "model_module_version": "~2.1.4",
      "model_name": "LayoutModel",
      "state": {
       "_model_module_version": "~2.1.4",
       "_view_module_version": "~2.1.4"
      }
     },
     "09139e1b80c8425384e76ba2fad76c0b": {
      "model_module": "jupyter-js-widgets",
      "model_module_version": "~2.1.4",
      "model_name": "FloatSliderModel",
      "state": {
       "_model_module_version": "~2.1.4",
       "_view_module_version": "~2.1.4",
       "description": "alpha_1",
       "layout": "IPY_MODEL_94bdaed93698440f97ff63af8e554cef",
       "max": 50,
       "step": 0.1,
       "value": 4.1
      }
     },
     "095c3d0cbc444ea1b099e9bd23f93e55": {
      "model_module": "jupyter-js-widgets",
      "model_module_version": "~2.1.4",
      "model_name": "LayoutModel",
      "state": {
       "_model_module_version": "~2.1.4",
       "_view_module_version": "~2.1.4"
      }
     },
     "0a5110a314074c8bb66c3c523387cae7": {
      "model_module": "jupyter-js-widgets",
      "model_module_version": "~2.1.4",
      "model_name": "LayoutModel",
      "state": {
       "_model_module_version": "~2.1.4",
       "_view_module_version": "~2.1.4"
      }
     },
     "0b120c9a090649a7875184acd7845e84": {
      "model_module": "jupyter-js-widgets",
      "model_module_version": "~2.1.4",
      "model_name": "LayoutModel",
      "state": {
       "_model_module_version": "~2.1.4",
       "_view_module_version": "~2.1.4"
      }
     },
     "0b4b0ecf74b34d05bedaef924af93d07": {
      "model_module": "jupyter-js-widgets",
      "model_module_version": "~2.1.4",
      "model_name": "LayoutModel",
      "state": {
       "_model_module_version": "~2.1.4",
       "_view_module_version": "~2.1.4"
      }
     },
     "0b7004680a8b464bb7264a6e7ff60484": {
      "model_module": "jupyter-js-widgets",
      "model_module_version": "~2.1.4",
      "model_name": "IntSliderModel",
      "state": {
       "_model_module_version": "~2.1.4",
       "_view_module_version": "~2.1.4",
       "description": "alpha_0",
       "layout": "IPY_MODEL_22bebead6617446da6d559e9897641fa",
       "max": 3,
       "min": -1,
       "style": "IPY_MODEL_bfe68c354586409eba329e6bc97ee707",
       "value": 1
      }
     },
     "0bf7707be93044bab423ebe9f5221a78": {
      "model_module": "jupyter-js-widgets",
      "model_module_version": "~2.1.4",
      "model_name": "LayoutModel",
      "state": {
       "_model_module_version": "~2.1.4",
       "_view_module_version": "~2.1.4"
      }
     },
     "0c6d5871565343c6bfe948bc10b7732e": {
      "model_module": "jupyter-js-widgets",
      "model_module_version": "~2.1.4",
      "model_name": "SliderStyleModel",
      "state": {
       "_model_module_version": "~2.1.4",
       "_view_module_version": "~2.1.4"
      }
     },
     "0cc6618c426f4720af16fdc4c41d1701": {
      "model_module": "jupyter-js-widgets",
      "model_module_version": "~2.1.4",
      "model_name": "SliderStyleModel",
      "state": {
       "_model_module_version": "~2.1.4",
       "_view_module_version": "~2.1.4"
      }
     },
     "0dd1a1fe4570474590df16322f073afd": {
      "model_module": "jupyter-js-widgets",
      "model_module_version": "~2.1.4",
      "model_name": "LayoutModel",
      "state": {
       "_model_module_version": "~2.1.4",
       "_view_module_version": "~2.1.4"
      }
     },
     "0ddb60c4ae2340a79fdaf2ce52bafb6f": {
      "model_module": "jupyter-js-widgets",
      "model_module_version": "~2.1.4",
      "model_name": "OutputModel",
      "state": {
       "_dom_classes": [],
       "_model_module": "jupyter-js-widgets",
       "_model_module_version": "~2.1.4",
       "_view_module": "jupyter-js-widgets",
       "_view_module_version": "~2.1.4",
       "layout": "IPY_MODEL_cf5639f915d146f2b2ad111c4cc9c6c9",
       "msg_throttle": 1
      }
     },
     "0e1c336dba37424e8369f36a3b69f3d7": {
      "model_module": "jupyter-js-widgets",
      "model_module_version": "~2.1.4",
      "model_name": "LayoutModel",
      "state": {
       "_model_module_version": "~2.1.4",
       "_view_module_version": "~2.1.4"
      }
     },
     "0f99a6a2a9204a23b2ae2460d96e0716": {
      "model_module": "jupyter-js-widgets",
      "model_module_version": "~2.1.4",
      "model_name": "LayoutModel",
      "state": {
       "_model_module_version": "~2.1.4",
       "_view_module_version": "~2.1.4"
      }
     },
     "10ef81c9b95d414786e2edef0bff91ac": {
      "model_module": "jupyter-js-widgets",
      "model_module_version": "~2.1.4",
      "model_name": "LayoutModel",
      "state": {
       "_model_module_version": "~2.1.4",
       "_view_module_version": "~2.1.4"
      }
     },
     "114f07f7f85948a9b6ba388db4b657c1": {
      "model_module": "jupyter-js-widgets",
      "model_module_version": "~2.1.4",
      "model_name": "OutputModel",
      "state": {
       "_dom_classes": [],
       "_model_module": "jupyter-js-widgets",
       "_model_module_version": "~2.1.4",
       "_view_module": "jupyter-js-widgets",
       "_view_module_version": "~2.1.4",
       "layout": "IPY_MODEL_16d667bf24eb414cb4a91310148f4fb6",
       "msg_throttle": 1
      }
     },
     "138d4ee0e37040c98b618959570f7505": {
      "model_module": "jupyter-js-widgets",
      "model_module_version": "~2.1.4",
      "model_name": "LayoutModel",
      "state": {
       "_model_module_version": "~2.1.4",
       "_view_module_version": "~2.1.4"
      }
     },
     "13ac86b4970a432fabc9a98c38d14e6e": {
      "model_module": "jupyter-js-widgets",
      "model_module_version": "~2.1.4",
      "model_name": "LayoutModel",
      "state": {
       "_model_module_version": "~2.1.4",
       "_view_module_version": "~2.1.4"
      }
     },
     "13cc8f8b865340029595dd77fe0d0987": {
      "model_module": "jupyter-js-widgets",
      "model_module_version": "~2.1.4",
      "model_name": "LayoutModel",
      "state": {
       "_model_module_version": "~2.1.4",
       "_view_module_version": "~2.1.4"
      }
     },
     "1493b21bb66a4f7193b21cf2a3b5de13": {
      "model_module": "jupyter-js-widgets",
      "model_module_version": "~2.1.4",
      "model_name": "OutputModel",
      "state": {
       "_dom_classes": [],
       "_model_module": "jupyter-js-widgets",
       "_model_module_version": "~2.1.4",
       "_view_module": "jupyter-js-widgets",
       "_view_module_version": "~2.1.4",
       "layout": "IPY_MODEL_8f5aec98ae214657b5e9a1764bfadbe4",
       "msg_throttle": 1
      }
     },
     "16d52f2f88274629911681bfb6370a0f": {
      "model_module": "jupyter-js-widgets",
      "model_module_version": "~2.1.4",
      "model_name": "SliderStyleModel",
      "state": {
       "_model_module_version": "~2.1.4",
       "_view_module_version": "~2.1.4"
      }
     },
     "16d667bf24eb414cb4a91310148f4fb6": {
      "model_module": "jupyter-js-widgets",
      "model_module_version": "~2.1.4",
      "model_name": "LayoutModel",
      "state": {
       "_model_module_version": "~2.1.4",
       "_view_module_version": "~2.1.4"
      }
     },
     "16ed36eb00ac4c00a02c9a3e6749fe4e": {
      "model_module": "jupyter-js-widgets",
      "model_module_version": "~2.1.4",
      "model_name": "FloatSliderModel",
      "state": {
       "_model_module_version": "~2.1.4",
       "_view_module_version": "~2.1.4",
       "description": "alpha_0",
       "layout": "IPY_MODEL_9497808823cd4bce89e5484e1e6acb6e",
       "max": 50,
       "value": 18
      }
     },
     "1775ed7f2ddd4ce3b61752fe5680bf6c": {
      "model_module": "jupyter-js-widgets",
      "model_module_version": "~2.1.4",
      "model_name": "LayoutModel",
      "state": {
       "_model_module_version": "~2.1.4",
       "_view_module_version": "~2.1.4"
      }
     },
     "18bc916569234b54a724d5168589cc17": {
      "model_module": "jupyter-js-widgets",
      "model_module_version": "~2.1.4",
      "model_name": "LayoutModel",
      "state": {
       "_model_module_version": "~2.1.4",
       "_view_module_version": "~2.1.4"
      }
     },
     "1b27c61b30704324bea478f299d45105": {
      "model_module": "jupyter-js-widgets",
      "model_module_version": "~2.1.4",
      "model_name": "FloatSliderModel",
      "state": {
       "_model_module_version": "~2.1.4",
       "_view_module_version": "~2.1.4",
       "description": "alpha_0",
       "layout": "IPY_MODEL_f913cf7c6e49448c8ea1544443d9ff00",
       "max": 50,
       "value": 25
      }
     },
     "1c966d6d6a624086b6ce6511965c2072": {
      "model_module": "jupyter-js-widgets",
      "model_module_version": "~2.1.4",
      "model_name": "OutputModel",
      "state": {
       "_dom_classes": [],
       "_model_module": "jupyter-js-widgets",
       "_model_module_version": "~2.1.4",
       "_view_module": "jupyter-js-widgets",
       "_view_module_version": "~2.1.4",
       "layout": "IPY_MODEL_9368338e3dc44be2a721538d446bbbaf",
       "msg_throttle": 1
      }
     },
     "1e497ae74ae5445283f5ed46da044ac1": {
      "model_module": "jupyter-js-widgets",
      "model_module_version": "~2.1.4",
      "model_name": "VBoxModel",
      "state": {
       "_dom_classes": [
        "widget-interact"
       ],
       "_model_module_version": "~2.1.4",
       "_view_module_version": "~2.1.4",
       "children": [
        "IPY_MODEL_44e82a72d8cf420f923d7f505504d14f",
        "IPY_MODEL_68c4146b4f7044a2ab61b29f461b0283",
        "IPY_MODEL_e92cbdf0184744c2973e773f29c7b6d0"
       ],
       "layout": "IPY_MODEL_0a5110a314074c8bb66c3c523387cae7"
      }
     },
     "1e5a2395bea04170b470da1a24b51888": {
      "model_module": "jupyter-js-widgets",
      "model_module_version": "~2.1.4",
      "model_name": "LayoutModel",
      "state": {
       "_model_module_version": "~2.1.4",
       "_view_module_version": "~2.1.4"
      }
     },
     "219450f411f94082a98505d55ea578b4": {
      "model_module": "jupyter-js-widgets",
      "model_module_version": "~2.1.4",
      "model_name": "LayoutModel",
      "state": {
       "_model_module_version": "~2.1.4",
       "_view_module_version": "~2.1.4"
      }
     },
     "22bebead6617446da6d559e9897641fa": {
      "model_module": "jupyter-js-widgets",
      "model_module_version": "~2.1.4",
      "model_name": "LayoutModel",
      "state": {
       "_model_module_version": "~2.1.4",
       "_view_module_version": "~2.1.4"
      }
     },
     "23e56ce1bde14814a9a710ca260ab574": {
      "model_module": "jupyter-js-widgets",
      "model_module_version": "~2.1.4",
      "model_name": "VBoxModel",
      "state": {
       "_dom_classes": [
        "widget-interact"
       ],
       "_model_module_version": "~2.1.4",
       "_view_module_version": "~2.1.4",
       "children": [
        "IPY_MODEL_1b27c61b30704324bea478f299d45105",
        "IPY_MODEL_c107101df3404b27840c65b1521e5d2b",
        "IPY_MODEL_e87ced1070c54bfbbe9dd3032ae7c17d"
       ],
       "layout": "IPY_MODEL_0b4b0ecf74b34d05bedaef924af93d07"
      }
     },
     "2409b4c2bab14190b97282467ca6ab1d": {
      "model_module": "jupyter-js-widgets",
      "model_module_version": "~2.1.4",
      "model_name": "SliderStyleModel",
      "state": {
       "_model_module_version": "~2.1.4",
       "_view_module_version": "~2.1.4"
      }
     },
     "259ca5d936b34fbb9c686b03698ab842": {
      "model_module": "jupyter-js-widgets",
      "model_module_version": "~2.1.4",
      "model_name": "FloatSliderModel",
      "state": {
       "_model_module_version": "~2.1.4",
       "_view_module_version": "~2.1.4",
       "description": "alpha_1",
       "layout": "IPY_MODEL_4c9e18d0234c4ecc83221c17dfef5daf",
       "max": 50,
       "value": 25
      }
     },
     "2770cb08299e4e2a91dcf666da8afe8e": {
      "model_module": "jupyter-js-widgets",
      "model_module_version": "~2.1.4",
      "model_name": "LayoutModel",
      "state": {
       "_model_module_version": "~2.1.4",
       "_view_module_version": "~2.1.4"
      }
     },
     "278b0190a6184e32b22f959dbd5ad285": {
      "model_module": "jupyter-js-widgets",
      "model_module_version": "~2.1.4",
      "model_name": "LayoutModel",
      "state": {
       "_model_module_version": "~2.1.4",
       "_view_module_version": "~2.1.4"
      }
     },
     "280da215a46c4603b46d37e9bf4e23e3": {
      "model_module": "jupyter-js-widgets",
      "model_module_version": "~2.1.4",
      "model_name": "SliderStyleModel",
      "state": {
       "_model_module_version": "~2.1.4",
       "_view_module_version": "~2.1.4"
      }
     },
     "292477d5823d4cfcbd0918933a5168d1": {
      "model_module": "jupyter-js-widgets",
      "model_module_version": "~2.1.4",
      "model_name": "LayoutModel",
      "state": {
       "_model_module_version": "~2.1.4",
       "_view_module_version": "~2.1.4"
      }
     },
     "2a1b13ecdb0f4c14b5ec49d8ca3dece5": {
      "model_module": "jupyter-js-widgets",
      "model_module_version": "~2.1.4",
      "model_name": "SliderStyleModel",
      "state": {
       "_model_module_version": "~2.1.4",
       "_view_module_version": "~2.1.4"
      }
     },
     "2b7a569bdb4043a49cf22cdf2d2b731d": {
      "model_module": "jupyter-js-widgets",
      "model_module_version": "~2.1.4",
      "model_name": "VBoxModel",
      "state": {
       "_dom_classes": [
        "widget-interact"
       ],
       "_model_module_version": "~2.1.4",
       "_view_module_version": "~2.1.4",
       "children": [
        "IPY_MODEL_a4f09294c6d44dd09050ca97e8015219",
        "IPY_MODEL_626ed2515d4a4c9d89909b884348b443",
        "IPY_MODEL_114f07f7f85948a9b6ba388db4b657c1"
       ],
       "layout": "IPY_MODEL_1e5a2395bea04170b470da1a24b51888"
      }
     },
     "2e388be8462d4ccbb8234e063ef8590f": {
      "model_module": "jupyter-js-widgets",
      "model_module_version": "~2.1.4",
      "model_name": "OutputModel",
      "state": {
       "_dom_classes": [],
       "_model_module": "jupyter-js-widgets",
       "_model_module_version": "~2.1.4",
       "_view_module": "jupyter-js-widgets",
       "_view_module_version": "~2.1.4",
       "layout": "IPY_MODEL_b7d9fb6575854b1797b466e542f9da68",
       "msg_throttle": 1
      }
     },
     "2fb3d7b3e46c4277bc8e4dc5f6bee635": {
      "model_module": "jupyter-js-widgets",
      "model_module_version": "~2.1.4",
      "model_name": "OutputModel",
      "state": {
       "_dom_classes": [],
       "_model_module": "jupyter-js-widgets",
       "_model_module_version": "~2.1.4",
       "_view_module": "jupyter-js-widgets",
       "_view_module_version": "~2.1.4",
       "layout": "IPY_MODEL_39af0743fb6a43ea89af4edc8292241a",
       "msg_throttle": 1
      }
     },
     "30a42c8b89814a63b8c6acf0a9a9a00b": {
      "model_module": "jupyter-js-widgets",
      "model_module_version": "~2.1.4",
      "model_name": "FloatSliderModel",
      "state": {
       "_model_module_version": "~2.1.4",
       "_view_module_version": "~2.1.4",
       "description": "alpha_0",
       "layout": "IPY_MODEL_6cdf3621b25143d4b4877c9ad48d3a13",
       "max": 5,
       "min": 1e-05,
       "step": 0.1,
       "value": 1
      }
     },
     "31beec1c2c5d4ac2a9d40b846fa1eae5": {
      "model_module": "jupyter-js-widgets",
      "model_module_version": "~2.1.4",
      "model_name": "LayoutModel",
      "state": {
       "_model_module_version": "~2.1.4",
       "_view_module_version": "~2.1.4"
      }
     },
     "31ec1ac013514909a246308ecaeec8dd": {
      "model_module": "jupyter-js-widgets",
      "model_module_version": "~2.1.4",
      "model_name": "SliderStyleModel",
      "state": {
       "_model_module_version": "~2.1.4",
       "_view_module_version": "~2.1.4"
      }
     },
     "32edbfb987e245e1adaca7818a9099b9": {
      "model_module": "jupyter-js-widgets",
      "model_module_version": "~2.1.4",
      "model_name": "LayoutModel",
      "state": {
       "_model_module_version": "~2.1.4",
       "_view_module_version": "~2.1.4"
      }
     },
     "34e28bbca444488cb30132e6cc2a622a": {
      "model_module": "jupyter-js-widgets",
      "model_module_version": "~2.1.4",
      "model_name": "LayoutModel",
      "state": {
       "_model_module_version": "~2.1.4",
       "_view_module_version": "~2.1.4"
      }
     },
     "3636de76dc384a37b2eb70be05cbabad": {
      "model_module": "jupyter-js-widgets",
      "model_module_version": "~2.1.4",
      "model_name": "FloatSliderModel",
      "state": {
       "_model_module_version": "~2.1.4",
       "_view_module_version": "~2.1.4",
       "description": "alpha_0",
       "layout": "IPY_MODEL_2770cb08299e4e2a91dcf666da8afe8e",
       "max": 50,
       "step": 0.1,
       "value": 30.6
      }
     },
     "3658aad45404407a89a94c8040b099b1": {
      "model_module": "jupyter-js-widgets",
      "model_module_version": "~2.1.4",
      "model_name": "IntSliderModel",
      "state": {
       "_model_module_version": "~2.1.4",
       "_view_module_version": "~2.1.4",
       "description": "alpha_1",
       "layout": "IPY_MODEL_380dfd71a13f4535849cdcb0900427f3",
       "max": 3,
       "min": -1,
       "style": "IPY_MODEL_d2b26778cc8e4700b56cb76e0cab808a",
       "value": 1
      }
     },
     "36c7864857a840f5bb6d659437463466": {
      "model_module": "jupyter-js-widgets",
      "model_module_version": "~2.1.4",
      "model_name": "FloatSliderModel",
      "state": {
       "_model_module_version": "~2.1.4",
       "_view_module_version": "~2.1.4",
       "description": "alpha_0",
       "layout": "IPY_MODEL_7baaf03278cb4d04a36f807b9afbe53b",
       "max": 50,
       "value": 25
      }
     },
     "380dfd71a13f4535849cdcb0900427f3": {
      "model_module": "jupyter-js-widgets",
      "model_module_version": "~2.1.4",
      "model_name": "LayoutModel",
      "state": {
       "_model_module_version": "~2.1.4",
       "_view_module_version": "~2.1.4"
      }
     },
     "39af0743fb6a43ea89af4edc8292241a": {
      "model_module": "jupyter-js-widgets",
      "model_module_version": "~2.1.4",
      "model_name": "LayoutModel",
      "state": {
       "_model_module_version": "~2.1.4",
       "_view_module_version": "~2.1.4"
      }
     },
     "39e339a67738431d95fbf007933998c9": {
      "model_module": "jupyter-js-widgets",
      "model_module_version": "~2.1.4",
      "model_name": "LayoutModel",
      "state": {
       "_model_module_version": "~2.1.4",
       "_view_module_version": "~2.1.4"
      }
     },
     "3a0272e1f60f4d61aabaffd40166f18e": {
      "model_module": "jupyter-js-widgets",
      "model_module_version": "~2.1.4",
      "model_name": "IntSliderModel",
      "state": {
       "_model_module_version": "~2.1.4",
       "_view_module_version": "~2.1.4",
       "description": "alpha_0",
       "layout": "IPY_MODEL_706facd87ea546b48ea707fc4ba1ca7f",
       "max": 3,
       "min": -1,
       "style": "IPY_MODEL_3e6e9995e7644b7eb5557a5911c97ac7",
       "value": 1
      }
     },
     "3b1ad259c4004506a9596541cfae3813": {
      "model_module": "jupyter-js-widgets",
      "model_module_version": "~2.1.4",
      "model_name": "LayoutModel",
      "state": {
       "_model_module_version": "~2.1.4",
       "_view_module_version": "~2.1.4"
      }
     },
     "3bb6bf1b9db6419398f2d3147ef5ff82": {
      "model_module": "jupyter-js-widgets",
      "model_module_version": "~2.1.4",
      "model_name": "LayoutModel",
      "state": {
       "_model_module_version": "~2.1.4",
       "_view_module_version": "~2.1.4"
      }
     },
     "3de2cb99ecda42aaa5ef69f7ede3f6c2": {
      "model_module": "jupyter-js-widgets",
      "model_module_version": "~2.1.4",
      "model_name": "LayoutModel",
      "state": {
       "_model_module_version": "~2.1.4",
       "_view_module_version": "~2.1.4"
      }
     },
     "3e6e9995e7644b7eb5557a5911c97ac7": {
      "model_module": "jupyter-js-widgets",
      "model_module_version": "~2.1.4",
      "model_name": "SliderStyleModel",
      "state": {
       "_model_module_version": "~2.1.4",
       "_view_module_version": "~2.1.4"
      }
     },
     "3e70920b68ac4805913d8a04526c187a": {
      "model_module": "jupyter-js-widgets",
      "model_module_version": "~2.1.4",
      "model_name": "VBoxModel",
      "state": {
       "_dom_classes": [
        "widget-interact"
       ],
       "_model_module_version": "~2.1.4",
       "_view_module_version": "~2.1.4",
       "children": [
        "IPY_MODEL_e8269ff85fec47568550c0dd470e0bbc",
        "IPY_MODEL_0185d91495ae486bb425f81700e1ea4f",
        "IPY_MODEL_944fc5b304634de39641fcea810cbbdd"
       ],
       "layout": "IPY_MODEL_b501b98c05b747e388873141f84f59e4"
      }
     },
     "3e87f0d4c24b49139edce62c82f6cd0b": {
      "model_module": "jupyter-js-widgets",
      "model_module_version": "~2.1.4",
      "model_name": "LayoutModel",
      "state": {
       "_model_module_version": "~2.1.4",
       "_view_module_version": "~2.1.4"
      }
     },
     "3fe7a17cb4024619b81de39920383801": {
      "model_module": "jupyter-js-widgets",
      "model_module_version": "~2.1.4",
      "model_name": "LayoutModel",
      "state": {
       "_model_module_version": "~2.1.4",
       "_view_module_version": "~2.1.4"
      }
     },
     "410227a45135417ebdca5a8f292845c6": {
      "model_module": "jupyter-js-widgets",
      "model_module_version": "~2.1.4",
      "model_name": "IntSliderModel",
      "state": {
       "_model_module_version": "~2.1.4",
       "_view_module_version": "~2.1.4",
       "description": "alpha_0",
       "layout": "IPY_MODEL_3bb6bf1b9db6419398f2d3147ef5ff82",
       "max": 3,
       "min": -1,
       "style": "IPY_MODEL_6b0a8ea9cb2d4f5c9b39b64f230167c5",
       "value": 1
      }
     },
     "41ce52bf6ec64599a64276e5492cc0d4": {
      "model_module": "jupyter-js-widgets",
      "model_module_version": "~2.1.4",
      "model_name": "SliderStyleModel",
      "state": {
       "_model_module_version": "~2.1.4",
       "_view_module_version": "~2.1.4"
      }
     },
     "41d251ad16a847e5af092226f1f32644": {
      "model_module": "jupyter-js-widgets",
      "model_module_version": "~2.1.4",
      "model_name": "FloatSliderModel",
      "state": {
       "_model_module_version": "~2.1.4",
       "_view_module_version": "~2.1.4",
       "description": "alpha_1",
       "layout": "IPY_MODEL_34e28bbca444488cb30132e6cc2a622a",
       "max": 5,
       "min": 1e-20,
       "step": 0.1,
       "value": 1
      }
     },
     "42a558bd3c984701ae71d4f61b266539": {
      "model_module": "jupyter-js-widgets",
      "model_module_version": "~2.1.4",
      "model_name": "OutputModel",
      "state": {
       "_dom_classes": [],
       "_model_module": "jupyter-js-widgets",
       "_model_module_version": "~2.1.4",
       "_view_module": "jupyter-js-widgets",
       "_view_module_version": "~2.1.4",
       "layout": "IPY_MODEL_8348d4fd22e9463aa96af2af31d542e1",
       "msg_throttle": 1
      }
     },
     "42d20f2c497044cdbccdc88db43d337e": {
      "model_module": "jupyter-js-widgets",
      "model_module_version": "~2.1.4",
      "model_name": "FloatSliderModel",
      "state": {
       "_model_module_version": "~2.1.4",
       "_view_module_version": "~2.1.4",
       "description": "alpha_1",
       "layout": "IPY_MODEL_ec54a3cdc42640859556b8949d67c10a",
       "max": 1,
       "step": 50
      }
     },
     "4317ae4d447c4cceac0e155f14dfe68b": {
      "model_module": "jupyter-js-widgets",
      "model_module_version": "~2.1.4",
      "model_name": "VBoxModel",
      "state": {
       "_dom_classes": [
        "widget-interact"
       ],
       "_model_module_version": "~2.1.4",
       "_view_module_version": "~2.1.4",
       "children": [
        "IPY_MODEL_ce3acb88f17947659d401a526f89030e",
        "IPY_MODEL_cb3d551d110b4ab0804c54d4192fc856",
        "IPY_MODEL_1493b21bb66a4f7193b21cf2a3b5de13"
       ],
       "layout": "IPY_MODEL_c6acaf6833104f1d92f24a47d1b87392"
      }
     },
     "43bf09d83aa3420fae8c4da94dfec1ab": {
      "model_module": "jupyter-js-widgets",
      "model_module_version": "~2.1.4",
      "model_name": "OutputModel",
      "state": {
       "_dom_classes": [],
       "_model_module": "jupyter-js-widgets",
       "_model_module_version": "~2.1.4",
       "_view_module": "jupyter-js-widgets",
       "_view_module_version": "~2.1.4",
       "layout": "IPY_MODEL_10ef81c9b95d414786e2edef0bff91ac",
       "msg_throttle": 1
      }
     },
     "44e82a72d8cf420f923d7f505504d14f": {
      "model_module": "jupyter-js-widgets",
      "model_module_version": "~2.1.4",
      "model_name": "FloatSliderModel",
      "state": {
       "_model_module_version": "~2.1.4",
       "_view_module_version": "~2.1.4",
       "description": "alpha_0",
       "layout": "IPY_MODEL_8c8f72cf272441488c371a5345b9b469",
       "max": 50,
       "value": 25
      }
     },
     "45ef7bded82940579dae67a205448cd3": {
      "model_module": "jupyter-js-widgets",
      "model_module_version": "~2.1.4",
      "model_name": "VBoxModel",
      "state": {
       "_dom_classes": [
        "widget-interact"
       ],
       "_model_module_version": "~2.1.4",
       "_view_module_version": "~2.1.4",
       "children": [
        "IPY_MODEL_e6fc11519362447cb1396319a7b17111",
        "IPY_MODEL_42d20f2c497044cdbccdc88db43d337e",
        "IPY_MODEL_b01d3174b1a34f5cba3883dfbc29184a"
       ],
       "layout": "IPY_MODEL_089881aa0bc2445d8483705fb903ddb5"
      }
     },
     "461bf0e9fb4f489c9cde3bbf97986c7b": {
      "model_module": "jupyter-js-widgets",
      "model_module_version": "~2.1.4",
      "model_name": "FloatSliderModel",
      "state": {
       "_model_module_version": "~2.1.4",
       "_view_module_version": "~2.1.4",
       "description": "alpha_1",
       "layout": "IPY_MODEL_0dd1a1fe4570474590df16322f073afd",
       "max": 50,
       "value": 25
      }
     },
     "4737fe49a0c84f538f42ea7f508bc781": {
      "model_module": "jupyter-js-widgets",
      "model_module_version": "~2.1.4",
      "model_name": "VBoxModel",
      "state": {
       "_dom_classes": [
        "widget-interact"
       ],
       "_model_module_version": "~2.1.4",
       "_view_module_version": "~2.1.4",
       "children": [
        "IPY_MODEL_d9923efac4684801a62d8bc9d52dd6c5",
        "IPY_MODEL_c43b0291b3d74cafb4e6dc630c1ee5fa",
        "IPY_MODEL_b9dc4656ea1b4b06b5ffca38f6f631d6"
       ],
       "layout": "IPY_MODEL_0f99a6a2a9204a23b2ae2460d96e0716"
      }
     },
     "4a2f7cbcac174835833ac83ce89b94f6": {
      "model_module": "jupyter-js-widgets",
      "model_module_version": "~2.1.4",
      "model_name": "IntSliderModel",
      "state": {
       "_model_module_version": "~2.1.4",
       "_view_module_version": "~2.1.4",
       "description": "alpha_1",
       "layout": "IPY_MODEL_586696ed68ae4e5288506bd357615ed8",
       "max": 3,
       "min": -1,
       "style": "IPY_MODEL_31ec1ac013514909a246308ecaeec8dd",
       "value": 1
      }
     },
     "4a8be32e9f3e451289a35e89022905f1": {
      "model_module": "jupyter-js-widgets",
      "model_module_version": "~2.1.4",
      "model_name": "LayoutModel",
      "state": {
       "_model_module_version": "~2.1.4",
       "_view_module_version": "~2.1.4"
      }
     },
     "4b3892ea713e4caeb6e42859738b6f69": {
      "model_module": "jupyter-js-widgets",
      "model_module_version": "~2.1.4",
      "model_name": "VBoxModel",
      "state": {
       "_dom_classes": [
        "widget-interact"
       ],
       "_model_module_version": "~2.1.4",
       "_view_module_version": "~2.1.4",
       "children": [
        "IPY_MODEL_5aaf026538ae458fb12894c371d36965",
        "IPY_MODEL_f93d9f7690a74202b43d94ee6e5d37db",
        "IPY_MODEL_9a5482fca7d14e96aba73585d3ac5ba4"
       ],
       "layout": "IPY_MODEL_f99463ff8fe54c0797b78190773fb855"
      }
     },
     "4bf53532905d416ebc77d8f5f2f5f062": {
      "model_module": "jupyter-js-widgets",
      "model_module_version": "~2.1.4",
      "model_name": "OutputModel",
      "state": {
       "_dom_classes": [],
       "_model_module": "jupyter-js-widgets",
       "_model_module_version": "~2.1.4",
       "_view_module": "jupyter-js-widgets",
       "_view_module_version": "~2.1.4",
       "layout": "IPY_MODEL_0b120c9a090649a7875184acd7845e84",
       "msg_throttle": 1
      }
     },
     "4c9e18d0234c4ecc83221c17dfef5daf": {
      "model_module": "jupyter-js-widgets",
      "model_module_version": "~2.1.4",
      "model_name": "LayoutModel",
      "state": {
       "_model_module_version": "~2.1.4",
       "_view_module_version": "~2.1.4"
      }
     },
     "4cefea053ccd48c0a8f518b26877d1fa": {
      "model_module": "jupyter-js-widgets",
      "model_module_version": "~2.1.4",
      "model_name": "IntSliderModel",
      "state": {
       "_model_module_version": "~2.1.4",
       "_view_module_version": "~2.1.4",
       "description": "alpha_0",
       "layout": "IPY_MODEL_60f7254e2020473781f6683b0b8e66d4",
       "max": 3,
       "min": -1,
       "style": "IPY_MODEL_8bbe186ca9fb4cc1afe5e0634b81c01f"
      }
     },
     "4d84d950c08a4bb6b5a5094dbffeee76": {
      "model_module": "jupyter-js-widgets",
      "model_module_version": "~2.1.4",
      "model_name": "LayoutModel",
      "state": {
       "_model_module_version": "~2.1.4",
       "_view_module_version": "~2.1.4"
      }
     },
     "4dee8ecc322141fe83d85ad0b875eb7d": {
      "model_module": "jupyter-js-widgets",
      "model_module_version": "~2.1.4",
      "model_name": "LayoutModel",
      "state": {
       "_model_module_version": "~2.1.4",
       "_view_module_version": "~2.1.4"
      }
     },
     "4f445eae468342df9606ebf9c9e75ef0": {
      "model_module": "jupyter-js-widgets",
      "model_module_version": "~2.1.4",
      "model_name": "FloatSliderModel",
      "state": {
       "_model_module_version": "~2.1.4",
       "_view_module_version": "~2.1.4",
       "description": "alpha_1",
       "layout": "IPY_MODEL_18bc916569234b54a724d5168589cc17",
       "max": 50,
       "value": 25
      }
     },
     "4f9269ac12c54199b49ab6b5f5cb33ff": {
      "model_module": "jupyter-js-widgets",
      "model_module_version": "~2.1.4",
      "model_name": "LayoutModel",
      "state": {
       "_model_module_version": "~2.1.4",
       "_view_module_version": "~2.1.4"
      }
     },
     "532bb85aaf2949199a68f950851fcf1d": {
      "model_module": "jupyter-js-widgets",
      "model_module_version": "~2.1.4",
      "model_name": "OutputModel",
      "state": {
       "_dom_classes": [],
       "_model_module": "jupyter-js-widgets",
       "_model_module_version": "~2.1.4",
       "_view_module": "jupyter-js-widgets",
       "_view_module_version": "~2.1.4",
       "layout": "IPY_MODEL_d6bd9473889f48df95108bd9d39804a0",
       "msg_throttle": 1
      }
     },
     "53bcd4358598415090eba5f8c9aaa701": {
      "model_module": "jupyter-js-widgets",
      "model_module_version": "~2.1.4",
      "model_name": "LayoutModel",
      "state": {
       "_model_module_version": "~2.1.4",
       "_view_module_version": "~2.1.4"
      }
     },
     "55a5da8cc1854188838da83bc347ff67": {
      "model_module": "jupyter-js-widgets",
      "model_module_version": "~2.1.4",
      "model_name": "LayoutModel",
      "state": {
       "_model_module_version": "~2.1.4",
       "_view_module_version": "~2.1.4"
      }
     },
     "57c7cec705914fe7a7aed79ace0b0e1a": {
      "model_module": "jupyter-js-widgets",
      "model_module_version": "~2.1.4",
      "model_name": "FloatSliderModel",
      "state": {
       "_model_module_version": "~2.1.4",
       "_view_module_version": "~2.1.4",
       "description": "alpha_0",
       "layout": "IPY_MODEL_c0ad7e9f2c3d491db79f87962e71193d",
       "max": 50,
       "value": 25
      }
     },
     "584d4feb7253493f8db6381865c674d1": {
      "model_module": "jupyter-js-widgets",
      "model_module_version": "~2.1.4",
      "model_name": "OutputModel",
      "state": {
       "_dom_classes": [],
       "_model_module": "jupyter-js-widgets",
       "_model_module_version": "~2.1.4",
       "_view_module": "jupyter-js-widgets",
       "_view_module_version": "~2.1.4",
       "layout": "IPY_MODEL_fcb20f5e611a432296ed55de4326eb3e",
       "msg_throttle": 1
      }
     },
     "586696ed68ae4e5288506bd357615ed8": {
      "model_module": "jupyter-js-widgets",
      "model_module_version": "~2.1.4",
      "model_name": "LayoutModel",
      "state": {
       "_model_module_version": "~2.1.4",
       "_view_module_version": "~2.1.4"
      }
     },
     "5aaf026538ae458fb12894c371d36965": {
      "model_module": "jupyter-js-widgets",
      "model_module_version": "~2.1.4",
      "model_name": "IntSliderModel",
      "state": {
       "_model_module_version": "~2.1.4",
       "_view_module_version": "~2.1.4",
       "description": "alpha_0",
       "layout": "IPY_MODEL_3e87f0d4c24b49139edce62c82f6cd0b",
       "max": 3,
       "min": -1,
       "style": "IPY_MODEL_2409b4c2bab14190b97282467ca6ab1d",
       "value": 1
      }
     },
     "5cfa625153dd424ea6acf6b9a256cbc4": {
      "model_module": "jupyter-js-widgets",
      "model_module_version": "~2.1.4",
      "model_name": "VBoxModel",
      "state": {
       "_dom_classes": [
        "widget-interact"
       ],
       "_model_module_version": "~2.1.4",
       "_view_module_version": "~2.1.4",
       "children": [
        "IPY_MODEL_30a42c8b89814a63b8c6acf0a9a9a00b",
        "IPY_MODEL_e8817fd6bd2b4550b72b163d3ce7abaa",
        "IPY_MODEL_43bf09d83aa3420fae8c4da94dfec1ab"
       ],
       "layout": "IPY_MODEL_dd2dee68fb2742e4ba2436cc71f79803"
      }
     },
     "5d8cb31c8b7744118423e1fce4cfe0bd": {
      "model_module": "jupyter-js-widgets",
      "model_module_version": "~2.1.4",
      "model_name": "VBoxModel",
      "state": {
       "_dom_classes": [
        "widget-interact"
       ],
       "_model_module_version": "~2.1.4",
       "_view_module_version": "~2.1.4",
       "children": [
        "IPY_MODEL_c336e8dcb28942588fbf552c3e6dd58c",
        "IPY_MODEL_e03e9aac785e46deadacecb850c0c9e1",
        "IPY_MODEL_2fb3d7b3e46c4277bc8e4dc5f6bee635"
       ],
       "layout": "IPY_MODEL_c38305e6c6364610bdd29dbef8aea0aa"
      }
     },
     "60b6168cbcbc4534ad24f5fac170fe6a": {
      "model_module": "jupyter-js-widgets",
      "model_module_version": "~2.1.4",
      "model_name": "LayoutModel",
      "state": {
       "_model_module_version": "~2.1.4",
       "_view_module_version": "~2.1.4"
      }
     },
     "60f7254e2020473781f6683b0b8e66d4": {
      "model_module": "jupyter-js-widgets",
      "model_module_version": "~2.1.4",
      "model_name": "LayoutModel",
      "state": {
       "_model_module_version": "~2.1.4",
       "_view_module_version": "~2.1.4"
      }
     },
     "610148754236452ebd3d7f248af8c322": {
      "model_module": "jupyter-js-widgets",
      "model_module_version": "~2.1.4",
      "model_name": "SliderStyleModel",
      "state": {
       "_model_module_version": "~2.1.4",
       "_view_module_version": "~2.1.4"
      }
     },
     "61f0da5c316c49e4b53b1e9db3c423d1": {
      "model_module": "jupyter-js-widgets",
      "model_module_version": "~2.1.4",
      "model_name": "LayoutModel",
      "state": {
       "_model_module_version": "~2.1.4",
       "_view_module_version": "~2.1.4"
      }
     },
     "6242ebbc6775487f82710fa6c223e919": {
      "model_module": "jupyter-js-widgets",
      "model_module_version": "~2.1.4",
      "model_name": "FloatSliderModel",
      "state": {
       "_model_module_version": "~2.1.4",
       "_view_module_version": "~2.1.4",
       "description": "alpha_0",
       "layout": "IPY_MODEL_7e76087fbbe640a0bace31eadd6f8f7a",
       "max": 50,
       "value": 25
      }
     },
     "626ed2515d4a4c9d89909b884348b443": {
      "model_module": "jupyter-js-widgets",
      "model_module_version": "~2.1.4",
      "model_name": "IntSliderModel",
      "state": {
       "_model_module_version": "~2.1.4",
       "_view_module_version": "~2.1.4",
       "description": "alpha_1",
       "layout": "IPY_MODEL_00b99f0695e24cf8afc7eab609afa422",
       "max": 50,
       "style": "IPY_MODEL_2a1b13ecdb0f4c14b5ec49d8ca3dece5",
       "value": 1
      }
     },
     "646a79c70c4748448641f33e5bb3545b": {
      "model_module": "jupyter-js-widgets",
      "model_module_version": "~2.1.4",
      "model_name": "OutputModel",
      "state": {
       "_dom_classes": [],
       "_model_module": "jupyter-js-widgets",
       "_model_module_version": "~2.1.4",
       "_view_module": "jupyter-js-widgets",
       "_view_module_version": "~2.1.4",
       "layout": "IPY_MODEL_219450f411f94082a98505d55ea578b4",
       "msg_throttle": 1
      }
     },
     "650d165911cb4ec2b59fe2bd3a477800": {
      "model_module": "jupyter-js-widgets",
      "model_module_version": "~2.1.4",
      "model_name": "FloatSliderModel",
      "state": {
       "_model_module_version": "~2.1.4",
       "_view_module_version": "~2.1.4",
       "description": "alpha_0",
       "layout": "IPY_MODEL_a6ea43ae724e4c0d94362d8559a38bc2",
       "max": 5,
       "min": 1e-20,
       "step": 0.1,
       "value": 0.7
      }
     },
     "65e1b047a5ca475fb0024754dde16b5b": {
      "model_module": "jupyter-js-widgets",
      "model_module_version": "~2.1.4",
      "model_name": "LayoutModel",
      "state": {
       "_model_module_version": "~2.1.4",
       "_view_module_version": "~2.1.4"
      }
     },
     "68a5950f51234c03a5b2d52644e17ef9": {
      "model_module": "jupyter-js-widgets",
      "model_module_version": "~2.1.4",
      "model_name": "OutputModel",
      "state": {
       "_dom_classes": [],
       "_model_module": "jupyter-js-widgets",
       "_model_module_version": "~2.1.4",
       "_view_module": "jupyter-js-widgets",
       "_view_module_version": "~2.1.4",
       "layout": "IPY_MODEL_13cc8f8b865340029595dd77fe0d0987",
       "msg_throttle": 1
      }
     },
     "68c4146b4f7044a2ab61b29f461b0283": {
      "model_module": "jupyter-js-widgets",
      "model_module_version": "~2.1.4",
      "model_name": "FloatSliderModel",
      "state": {
       "_model_module_version": "~2.1.4",
       "_view_module_version": "~2.1.4",
       "description": "alpha_1",
       "layout": "IPY_MODEL_61f0da5c316c49e4b53b1e9db3c423d1",
       "max": 50,
       "value": 25
      }
     },
     "6b0a8ea9cb2d4f5c9b39b64f230167c5": {
      "model_module": "jupyter-js-widgets",
      "model_module_version": "~2.1.4",
      "model_name": "SliderStyleModel",
      "state": {
       "_model_module_version": "~2.1.4",
       "_view_module_version": "~2.1.4"
      }
     },
     "6cd4484a04d24880a65c868b2ab3ebea": {
      "model_module": "jupyter-js-widgets",
      "model_module_version": "~2.1.4",
      "model_name": "FloatSliderModel",
      "state": {
       "_model_module_version": "~2.1.4",
       "_view_module_version": "~2.1.4",
       "description": "alpha_1",
       "layout": "IPY_MODEL_32edbfb987e245e1adaca7818a9099b9",
       "max": 5,
       "min": 1e-05,
       "step": 0.1,
       "value": 3.40001
      }
     },
     "6cdf3621b25143d4b4877c9ad48d3a13": {
      "model_module": "jupyter-js-widgets",
      "model_module_version": "~2.1.4",
      "model_name": "LayoutModel",
      "state": {
       "_model_module_version": "~2.1.4",
       "_view_module_version": "~2.1.4"
      }
     },
     "6ffbe89668214eb99b8ba61db2f88139": {
      "model_module": "jupyter-js-widgets",
      "model_module_version": "~2.1.4",
      "model_name": "LayoutModel",
      "state": {
       "_model_module_version": "~2.1.4",
       "_view_module_version": "~2.1.4"
      }
     },
     "706facd87ea546b48ea707fc4ba1ca7f": {
      "model_module": "jupyter-js-widgets",
      "model_module_version": "~2.1.4",
      "model_name": "LayoutModel",
      "state": {
       "_model_module_version": "~2.1.4",
       "_view_module_version": "~2.1.4"
      }
     },
     "723a633c9a014e4eb0828c23834a23d6": {
      "model_module": "jupyter-js-widgets",
      "model_module_version": "~2.1.4",
      "model_name": "LayoutModel",
      "state": {
       "_model_module_version": "~2.1.4",
       "_view_module_version": "~2.1.4"
      }
     },
     "797ded02c41a469891f65cf91105494b": {
      "model_module": "jupyter-js-widgets",
      "model_module_version": "~2.1.4",
      "model_name": "LayoutModel",
      "state": {
       "_model_module_version": "~2.1.4",
       "_view_module_version": "~2.1.4"
      }
     },
     "7a46e048377144358d63b5e18d777c67": {
      "model_module": "jupyter-js-widgets",
      "model_module_version": "~2.1.4",
      "model_name": "FloatSliderModel",
      "state": {
       "_model_module_version": "~2.1.4",
       "_view_module_version": "~2.1.4",
       "description": "alpha_0",
       "layout": "IPY_MODEL_ab32954080f148429df06cbce73f2d5e",
       "max": 5,
       "min": 1e-20,
       "step": 0.1,
       "value": 1
      }
     },
     "7baaf03278cb4d04a36f807b9afbe53b": {
      "model_module": "jupyter-js-widgets",
      "model_module_version": "~2.1.4",
      "model_name": "LayoutModel",
      "state": {
       "_model_module_version": "~2.1.4",
       "_view_module_version": "~2.1.4"
      }
     },
     "7c190dfca02440aca3284b7743774d90": {
      "model_module": "jupyter-js-widgets",
      "model_module_version": "~2.1.4",
      "model_name": "OutputModel",
      "state": {
       "_dom_classes": [],
       "_model_module": "jupyter-js-widgets",
       "_model_module_version": "~2.1.4",
       "_view_module": "jupyter-js-widgets",
       "_view_module_version": "~2.1.4",
       "layout": "IPY_MODEL_dff99ec1a7684191802aeca98e0b442b",
       "msg_throttle": 1
      }
     },
     "7cc26024c61b42ee8884c1aec9d4cb5a": {
      "model_module": "jupyter-js-widgets",
      "model_module_version": "~2.1.4",
      "model_name": "IntSliderModel",
      "state": {
       "_model_module_version": "~2.1.4",
       "_view_module_version": "~2.1.4",
       "description": "alpha_1",
       "layout": "IPY_MODEL_31beec1c2c5d4ac2a9d40b846fa1eae5",
       "max": 3,
       "min": -1,
       "style": "IPY_MODEL_41ce52bf6ec64599a64276e5492cc0d4",
       "value": 1
      }
     },
     "7d9c91037daa449f9e9ad04fa1104b38": {
      "model_module": "jupyter-js-widgets",
      "model_module_version": "~2.1.4",
      "model_name": "FloatSliderModel",
      "state": {
       "_model_module_version": "~2.1.4",
       "_view_module_version": "~2.1.4",
       "description": "alpha_1",
       "layout": "IPY_MODEL_1775ed7f2ddd4ce3b61752fe5680bf6c",
       "max": 50,
       "value": 17
      }
     },
     "7e10d7f0439045d0a9f33ed972e89b6b": {
      "model_module": "jupyter-js-widgets",
      "model_module_version": "~2.1.4",
      "model_name": "OutputModel",
      "state": {
       "_dom_classes": [],
       "_model_module": "jupyter-js-widgets",
       "_model_module_version": "~2.1.4",
       "_view_module": "jupyter-js-widgets",
       "_view_module_version": "~2.1.4",
       "layout": "IPY_MODEL_eef050e0a217483f82816f8990323a87",
       "msg_throttle": 1
      }
     },
     "7e76087fbbe640a0bace31eadd6f8f7a": {
      "model_module": "jupyter-js-widgets",
      "model_module_version": "~2.1.4",
      "model_name": "LayoutModel",
      "state": {
       "_model_module_version": "~2.1.4",
       "_view_module_version": "~2.1.4"
      }
     },
     "81548a26376546ecb7e1b7b40c2d5c9a": {
      "model_module": "jupyter-js-widgets",
      "model_module_version": "~2.1.4",
      "model_name": "OutputModel",
      "state": {
       "_dom_classes": [],
       "_model_module": "jupyter-js-widgets",
       "_model_module_version": "~2.1.4",
       "_view_module": "jupyter-js-widgets",
       "_view_module_version": "~2.1.4",
       "layout": "IPY_MODEL_4dee8ecc322141fe83d85ad0b875eb7d",
       "msg_throttle": 1
      }
     },
     "8348d4fd22e9463aa96af2af31d542e1": {
      "model_module": "jupyter-js-widgets",
      "model_module_version": "~2.1.4",
      "model_name": "LayoutModel",
      "state": {
       "_model_module_version": "~2.1.4",
       "_view_module_version": "~2.1.4"
      }
     },
     "837bc045e988471ab28c5dc13722b604": {
      "model_module": "jupyter-js-widgets",
      "model_module_version": "~2.1.4",
      "model_name": "LayoutModel",
      "state": {
       "_model_module_version": "~2.1.4",
       "_view_module_version": "~2.1.4"
      }
     },
     "84c0be1cdd934a49b7521f5c5fcc4469": {
      "model_module": "jupyter-js-widgets",
      "model_module_version": "~2.1.4",
      "model_name": "FloatSliderModel",
      "state": {
       "_model_module_version": "~2.1.4",
       "_view_module_version": "~2.1.4",
       "description": "alpha_0",
       "layout": "IPY_MODEL_138d4ee0e37040c98b618959570f7505",
       "max": 5,
       "min": 1e-05,
       "step": 0.1,
       "value": 2.00001
      }
     },
     "8555e6c878f848458e080a10d3d0a8f2": {
      "model_module": "jupyter-js-widgets",
      "model_module_version": "~2.1.4",
      "model_name": "VBoxModel",
      "state": {
       "_dom_classes": [
        "widget-interact"
       ],
       "_model_module_version": "~2.1.4",
       "_view_module_version": "~2.1.4",
       "children": [
        "IPY_MODEL_e6ecda4a4a684aaaa8c2716c7c014336",
        "IPY_MODEL_259ca5d936b34fbb9c686b03698ab842",
        "IPY_MODEL_584d4feb7253493f8db6381865c674d1"
       ],
       "layout": "IPY_MODEL_87889954465348e1bf241a38328b3804"
      }
     },
     "87889954465348e1bf241a38328b3804": {
      "model_module": "jupyter-js-widgets",
      "model_module_version": "~2.1.4",
      "model_name": "LayoutModel",
      "state": {
       "_model_module_version": "~2.1.4",
       "_view_module_version": "~2.1.4"
      }
     },
     "878977fed9f84508aea0bbc0789d1cc3": {
      "model_module": "jupyter-js-widgets",
      "model_module_version": "~2.1.4",
      "model_name": "LayoutModel",
      "state": {
       "_model_module_version": "~2.1.4",
       "_view_module_version": "~2.1.4"
      }
     },
     "8bbe186ca9fb4cc1afe5e0634b81c01f": {
      "model_module": "jupyter-js-widgets",
      "model_module_version": "~2.1.4",
      "model_name": "SliderStyleModel",
      "state": {
       "_model_module_version": "~2.1.4",
       "_view_module_version": "~2.1.4"
      }
     },
     "8c51eb55d48e4b58a26be2d2fc99b771": {
      "model_module": "jupyter-js-widgets",
      "model_module_version": "~2.1.4",
      "model_name": "LayoutModel",
      "state": {
       "_model_module_version": "~2.1.4",
       "_view_module_version": "~2.1.4"
      }
     },
     "8c76925b967c470d9a3f85af9818af7b": {
      "model_module": "jupyter-js-widgets",
      "model_module_version": "~2.1.4",
      "model_name": "VBoxModel",
      "state": {
       "_dom_classes": [
        "widget-interact"
       ],
       "_model_module_version": "~2.1.4",
       "_view_module_version": "~2.1.4",
       "children": [
        "IPY_MODEL_986e1869e31346b6bbe421660cdcc6f7",
        "IPY_MODEL_aeb7daa98d1046bd8a4b6a4a33f4ebc5",
        "IPY_MODEL_f9dc3197ada345d0a0f839d2bb570abf"
       ],
       "layout": "IPY_MODEL_53bcd4358598415090eba5f8c9aaa701"
      }
     },
     "8c8f72cf272441488c371a5345b9b469": {
      "model_module": "jupyter-js-widgets",
      "model_module_version": "~2.1.4",
      "model_name": "LayoutModel",
      "state": {
       "_model_module_version": "~2.1.4",
       "_view_module_version": "~2.1.4"
      }
     },
     "8cc5f2417fdd4f338a58013e9cdfe5df": {
      "model_module": "jupyter-js-widgets",
      "model_module_version": "~2.1.4",
      "model_name": "FloatSliderModel",
      "state": {
       "_model_module_version": "~2.1.4",
       "_view_module_version": "~2.1.4",
       "description": "alpha_1",
       "layout": "IPY_MODEL_b9a0d011978d478bae573f286fb8b7a0",
       "max": 5,
       "min": 1e-20,
       "step": 0.1,
       "value": 0.5
      }
     },
     "8d31a916c24c401cb467789fc337481b": {
      "model_module": "jupyter-js-widgets",
      "model_module_version": "~2.1.4",
      "model_name": "LayoutModel",
      "state": {
       "_model_module_version": "~2.1.4",
       "_view_module_version": "~2.1.4"
      }
     },
     "8d9aa06296d24d9a84c306fca78c1922": {
      "model_module": "jupyter-js-widgets",
      "model_module_version": "~2.1.4",
      "model_name": "OutputModel",
      "state": {
       "_dom_classes": [],
       "_model_module": "jupyter-js-widgets",
       "_model_module_version": "~2.1.4",
       "_view_module": "jupyter-js-widgets",
       "_view_module_version": "~2.1.4",
       "layout": "IPY_MODEL_095c3d0cbc444ea1b099e9bd23f93e55",
       "msg_throttle": 1
      }
     },
     "8f510221aad14ab6a5e9795cc45a161e": {
      "model_module": "jupyter-js-widgets",
      "model_module_version": "~2.1.4",
      "model_name": "LayoutModel",
      "state": {
       "_model_module_version": "~2.1.4",
       "_view_module_version": "~2.1.4"
      }
     },
     "8f5aec98ae214657b5e9a1764bfadbe4": {
      "model_module": "jupyter-js-widgets",
      "model_module_version": "~2.1.4",
      "model_name": "LayoutModel",
      "state": {
       "_model_module_version": "~2.1.4",
       "_view_module_version": "~2.1.4"
      }
     },
     "8ff2109a95df4e848a21ced520dd53ed": {
      "model_module": "jupyter-js-widgets",
      "model_module_version": "~2.1.4",
      "model_name": "VBoxModel",
      "state": {
       "_dom_classes": [
        "widget-interact"
       ],
       "_model_module_version": "~2.1.4",
       "_view_module_version": "~2.1.4",
       "children": [
        "IPY_MODEL_6242ebbc6775487f82710fa6c223e919",
        "IPY_MODEL_4f445eae468342df9606ebf9c9e75ef0",
        "IPY_MODEL_8d9aa06296d24d9a84c306fca78c1922"
       ],
       "layout": "IPY_MODEL_4f9269ac12c54199b49ab6b5f5cb33ff"
      }
     },
     "903f18107cf24735a95ba14e3f205a21": {
      "model_module": "jupyter-js-widgets",
      "model_module_version": "~2.1.4",
      "model_name": "LayoutModel",
      "state": {
       "_model_module_version": "~2.1.4",
       "_view_module_version": "~2.1.4"
      }
     },
     "923ee436e81945efa72546856a7be35b": {
      "model_module": "jupyter-js-widgets",
      "model_module_version": "~2.1.4",
      "model_name": "LayoutModel",
      "state": {
       "_model_module_version": "~2.1.4",
       "_view_module_version": "~2.1.4"
      }
     },
     "9368338e3dc44be2a721538d446bbbaf": {
      "model_module": "jupyter-js-widgets",
      "model_module_version": "~2.1.4",
      "model_name": "LayoutModel",
      "state": {
       "_model_module_version": "~2.1.4",
       "_view_module_version": "~2.1.4"
      }
     },
     "944fc5b304634de39641fcea810cbbdd": {
      "model_module": "jupyter-js-widgets",
      "model_module_version": "~2.1.4",
      "model_name": "OutputModel",
      "state": {
       "_dom_classes": [],
       "_model_module": "jupyter-js-widgets",
       "_model_module_version": "~2.1.4",
       "_view_module": "jupyter-js-widgets",
       "_view_module_version": "~2.1.4",
       "layout": "IPY_MODEL_007ba116b0a74ca68ac7f83d4c9f8ee4",
       "msg_throttle": 1
      }
     },
     "9471fe3e1ed74ccca329ecca03135ed6": {
      "model_module": "jupyter-js-widgets",
      "model_module_version": "~2.1.4",
      "model_name": "LayoutModel",
      "state": {
       "_model_module_version": "~2.1.4",
       "_view_module_version": "~2.1.4"
      }
     },
     "9497808823cd4bce89e5484e1e6acb6e": {
      "model_module": "jupyter-js-widgets",
      "model_module_version": "~2.1.4",
      "model_name": "LayoutModel",
      "state": {
       "_model_module_version": "~2.1.4",
       "_view_module_version": "~2.1.4"
      }
     },
     "94bdaed93698440f97ff63af8e554cef": {
      "model_module": "jupyter-js-widgets",
      "model_module_version": "~2.1.4",
      "model_name": "LayoutModel",
      "state": {
       "_model_module_version": "~2.1.4",
       "_view_module_version": "~2.1.4"
      }
     },
     "959a6ee30f204730a8a318cba66f5908": {
      "model_module": "jupyter-js-widgets",
      "model_module_version": "~2.1.4",
      "model_name": "VBoxModel",
      "state": {
       "_dom_classes": [
        "widget-interact"
       ],
       "_model_module_version": "~2.1.4",
       "_view_module_version": "~2.1.4",
       "children": [
        "IPY_MODEL_3636de76dc384a37b2eb70be05cbabad",
        "IPY_MODEL_09139e1b80c8425384e76ba2fad76c0b",
        "IPY_MODEL_68a5950f51234c03a5b2d52644e17ef9"
       ],
       "layout": "IPY_MODEL_8d31a916c24c401cb467789fc337481b"
      }
     },
     "9808308912b64476b34b87bade7a97e8": {
      "model_module": "jupyter-js-widgets",
      "model_module_version": "~2.1.4",
      "model_name": "VBoxModel",
      "state": {
       "_dom_classes": [
        "widget-interact"
       ],
       "_model_module_version": "~2.1.4",
       "_view_module_version": "~2.1.4",
       "children": [
        "IPY_MODEL_16ed36eb00ac4c00a02c9a3e6749fe4e",
        "IPY_MODEL_7d9c91037daa449f9e9ad04fa1104b38",
        "IPY_MODEL_532bb85aaf2949199a68f950851fcf1d"
       ],
       "layout": "IPY_MODEL_878977fed9f84508aea0bbc0789d1cc3"
      }
     },
     "986e1869e31346b6bbe421660cdcc6f7": {
      "model_module": "jupyter-js-widgets",
      "model_module_version": "~2.1.4",
      "model_name": "FloatSliderModel",
      "state": {
       "_model_module_version": "~2.1.4",
       "_view_module_version": "~2.1.4",
       "description": "alpha_0",
       "layout": "IPY_MODEL_39e339a67738431d95fbf007933998c9",
       "max": 50,
       "value": 25
      }
     },
     "9a5482fca7d14e96aba73585d3ac5ba4": {
      "model_module": "jupyter-js-widgets",
      "model_module_version": "~2.1.4",
      "model_name": "OutputModel",
      "state": {
       "_dom_classes": [],
       "_model_module": "jupyter-js-widgets",
       "_model_module_version": "~2.1.4",
       "_view_module": "jupyter-js-widgets",
       "_view_module_version": "~2.1.4",
       "layout": "IPY_MODEL_c8b78d9dc25d41a68af31746252a3bd1",
       "msg_throttle": 1
      }
     },
     "9bcf656cef6a4d729fa619fc80a1b0d2": {
      "model_module": "jupyter-js-widgets",
      "model_module_version": "~2.1.4",
      "model_name": "FloatSliderModel",
      "state": {
       "_model_module_version": "~2.1.4",
       "_view_module_version": "~2.1.4",
       "description": "alpha_1",
       "layout": "IPY_MODEL_a9f5c0e6935d4395b475f026930fe0f5",
       "max": 5,
       "min": 1e-20,
       "step": 0.1,
       "value": 1
      }
     },
     "a27e37f60ce641a6b820c7c245d42a94": {
      "model_module": "jupyter-js-widgets",
      "model_module_version": "~2.1.4",
      "model_name": "OutputModel",
      "state": {
       "_dom_classes": [],
       "_model_module": "jupyter-js-widgets",
       "_model_module_version": "~2.1.4",
       "_view_module": "jupyter-js-widgets",
       "_view_module_version": "~2.1.4",
       "layout": "IPY_MODEL_fd8d3f6d28c84356818ad8cfa035fb8d",
       "msg_throttle": 1
      }
     },
     "a292f679c6b44d5d95c553cdf13688a7": {
      "model_module": "jupyter-js-widgets",
      "model_module_version": "~2.1.4",
      "model_name": "LayoutModel",
      "state": {
       "_model_module_version": "~2.1.4",
       "_view_module_version": "~2.1.4"
      }
     },
     "a4d67ed6eab2476eaee6ae0e029c1075": {
      "model_module": "jupyter-js-widgets",
      "model_module_version": "~2.1.4",
      "model_name": "LayoutModel",
      "state": {
       "_model_module_version": "~2.1.4",
       "_view_module_version": "~2.1.4"
      }
     },
     "a4f09294c6d44dd09050ca97e8015219": {
      "model_module": "jupyter-js-widgets",
      "model_module_version": "~2.1.4",
      "model_name": "IntSliderModel",
      "state": {
       "_model_module_version": "~2.1.4",
       "_view_module_version": "~2.1.4",
       "description": "alpha_0",
       "layout": "IPY_MODEL_e9909da87fae46f6abfa1f04ae0a4930",
       "max": 50,
       "style": "IPY_MODEL_280da215a46c4603b46d37e9bf4e23e3",
       "value": 1
      }
     },
     "a6ea43ae724e4c0d94362d8559a38bc2": {
      "model_module": "jupyter-js-widgets",
      "model_module_version": "~2.1.4",
      "model_name": "LayoutModel",
      "state": {
       "_model_module_version": "~2.1.4",
       "_view_module_version": "~2.1.4"
      }
     },
     "a77856d1e5cc4ed19e97b1b311b158d8": {
      "model_module": "jupyter-js-widgets",
      "model_module_version": "~2.1.4",
      "model_name": "SliderStyleModel",
      "state": {
       "_model_module_version": "~2.1.4",
       "_view_module_version": "~2.1.4"
      }
     },
     "a9785d70d1d04fa08cb33be9cb80fcf7": {
      "model_module": "jupyter-js-widgets",
      "model_module_version": "~2.1.4",
      "model_name": "VBoxModel",
      "state": {
       "_dom_classes": [
        "widget-interact"
       ],
       "_model_module_version": "~2.1.4",
       "_view_module_version": "~2.1.4",
       "children": [
        "IPY_MODEL_36c7864857a840f5bb6d659437463466",
        "IPY_MODEL_461bf0e9fb4f489c9cde3bbf97986c7b",
        "IPY_MODEL_0ddb60c4ae2340a79fdaf2ce52bafb6f"
       ],
       "layout": "IPY_MODEL_13ac86b4970a432fabc9a98c38d14e6e"
      }
     },
     "a9f5c0e6935d4395b475f026930fe0f5": {
      "model_module": "jupyter-js-widgets",
      "model_module_version": "~2.1.4",
      "model_name": "LayoutModel",
      "state": {
       "_model_module_version": "~2.1.4",
       "_view_module_version": "~2.1.4"
      }
     },
     "ab32954080f148429df06cbce73f2d5e": {
      "model_module": "jupyter-js-widgets",
      "model_module_version": "~2.1.4",
      "model_name": "LayoutModel",
      "state": {
       "_model_module_version": "~2.1.4",
       "_view_module_version": "~2.1.4"
      }
     },
     "abca7f8d25f84e859420459d0b3a50d6": {
      "model_module": "jupyter-js-widgets",
      "model_module_version": "~2.1.4",
      "model_name": "VBoxModel",
      "state": {
       "_dom_classes": [
        "widget-interact"
       ],
       "_model_module_version": "~2.1.4",
       "_view_module_version": "~2.1.4",
       "children": [
        "IPY_MODEL_57c7cec705914fe7a7aed79ace0b0e1a",
        "IPY_MODEL_eb74b9eb92254445b6cee0bb31838115",
        "IPY_MODEL_1c966d6d6a624086b6ce6511965c2072"
       ],
       "layout": "IPY_MODEL_0e1c336dba37424e8369f36a3b69f3d7"
      }
     },
     "ad87059001524475bef55a532d300623": {
      "model_module": "jupyter-js-widgets",
      "model_module_version": "~2.1.4",
      "model_name": "SliderStyleModel",
      "state": {
       "_model_module_version": "~2.1.4",
       "_view_module_version": "~2.1.4"
      }
     },
     "ae82c6dc652f4378be360540268c20f0": {
      "model_module": "jupyter-js-widgets",
      "model_module_version": "~2.1.4",
      "model_name": "LayoutModel",
      "state": {
       "_model_module_version": "~2.1.4",
       "_view_module_version": "~2.1.4"
      }
     },
     "aeb7daa98d1046bd8a4b6a4a33f4ebc5": {
      "model_module": "jupyter-js-widgets",
      "model_module_version": "~2.1.4",
      "model_name": "FloatSliderModel",
      "state": {
       "_model_module_version": "~2.1.4",
       "_view_module_version": "~2.1.4",
       "description": "alpha_1",
       "layout": "IPY_MODEL_ec402ec250094302ad68571f136f92ed",
       "max": 50,
       "value": 25
      }
     },
     "b01d3174b1a34f5cba3883dfbc29184a": {
      "model_module": "jupyter-js-widgets",
      "model_module_version": "~2.1.4",
      "model_name": "OutputModel",
      "state": {
       "_dom_classes": [],
       "_model_module": "jupyter-js-widgets",
       "_model_module_version": "~2.1.4",
       "_view_module": "jupyter-js-widgets",
       "_view_module_version": "~2.1.4",
       "layout": "IPY_MODEL_ff861270aca24be0a32c5b935509fe3b",
       "msg_throttle": 1
      }
     },
     "b1d7cbfd5da14a7d86f9d0b75584b7b3": {
      "model_module": "jupyter-js-widgets",
      "model_module_version": "~2.1.4",
      "model_name": "IntSliderModel",
      "state": {
       "_model_module_version": "~2.1.4",
       "_view_module_version": "~2.1.4",
       "description": "alpha_1",
       "layout": "IPY_MODEL_c2ff2a8acd1e4685b06c1290e3e25d4f",
       "max": 3,
       "min": -1,
       "style": "IPY_MODEL_ad87059001524475bef55a532d300623",
       "value": 1
      }
     },
     "b501b98c05b747e388873141f84f59e4": {
      "model_module": "jupyter-js-widgets",
      "model_module_version": "~2.1.4",
      "model_name": "LayoutModel",
      "state": {
       "_model_module_version": "~2.1.4",
       "_view_module_version": "~2.1.4"
      }
     },
     "b5d80fcc70974fdbb5e1153e701d0e70": {
      "model_module": "jupyter-js-widgets",
      "model_module_version": "~2.1.4",
      "model_name": "LayoutModel",
      "state": {
       "_model_module_version": "~2.1.4",
       "_view_module_version": "~2.1.4"
      }
     },
     "b7d9fb6575854b1797b466e542f9da68": {
      "model_module": "jupyter-js-widgets",
      "model_module_version": "~2.1.4",
      "model_name": "LayoutModel",
      "state": {
       "_model_module_version": "~2.1.4",
       "_view_module_version": "~2.1.4"
      }
     },
     "b86b2ad7e4894261a58cebad8f3caa0a": {
      "model_module": "jupyter-js-widgets",
      "model_module_version": "~2.1.4",
      "model_name": "LayoutModel",
      "state": {
       "_model_module_version": "~2.1.4",
       "_view_module_version": "~2.1.4"
      }
     },
     "b9a0d011978d478bae573f286fb8b7a0": {
      "model_module": "jupyter-js-widgets",
      "model_module_version": "~2.1.4",
      "model_name": "LayoutModel",
      "state": {
       "_model_module_version": "~2.1.4",
       "_view_module_version": "~2.1.4"
      }
     },
     "b9dc4656ea1b4b06b5ffca38f6f631d6": {
      "model_module": "jupyter-js-widgets",
      "model_module_version": "~2.1.4",
      "model_name": "OutputModel",
      "state": {
       "_dom_classes": [],
       "_model_module": "jupyter-js-widgets",
       "_model_module_version": "~2.1.4",
       "_view_module": "jupyter-js-widgets",
       "_view_module_version": "~2.1.4",
       "layout": "IPY_MODEL_797ded02c41a469891f65cf91105494b",
       "msg_throttle": 1
      }
     },
     "bc1d80fada3f46c1ad45b8ab0dc91355": {
      "model_module": "jupyter-js-widgets",
      "model_module_version": "~2.1.4",
      "model_name": "VBoxModel",
      "state": {
       "_dom_classes": [
        "widget-interact"
       ],
       "_model_module_version": "~2.1.4",
       "_view_module_version": "~2.1.4",
       "children": [
        "IPY_MODEL_410227a45135417ebdca5a8f292845c6",
        "IPY_MODEL_b1d7cbfd5da14a7d86f9d0b75584b7b3",
        "IPY_MODEL_4bf53532905d416ebc77d8f5f2f5f062"
       ],
       "layout": "IPY_MODEL_a292f679c6b44d5d95c553cdf13688a7"
      }
     },
     "be1e02a7d63445b9b27abcef2ae26dfa": {
      "model_module": "jupyter-js-widgets",
      "model_module_version": "~2.1.4",
      "model_name": "LayoutModel",
      "state": {
       "_model_module_version": "~2.1.4",
       "_view_module_version": "~2.1.4"
      }
     },
     "bfe68c354586409eba329e6bc97ee707": {
      "model_module": "jupyter-js-widgets",
      "model_module_version": "~2.1.4",
      "model_name": "SliderStyleModel",
      "state": {
       "_model_module_version": "~2.1.4",
       "_view_module_version": "~2.1.4"
      }
     },
     "c0ad7e9f2c3d491db79f87962e71193d": {
      "model_module": "jupyter-js-widgets",
      "model_module_version": "~2.1.4",
      "model_name": "LayoutModel",
      "state": {
       "_model_module_version": "~2.1.4",
       "_view_module_version": "~2.1.4"
      }
     },
     "c107101df3404b27840c65b1521e5d2b": {
      "model_module": "jupyter-js-widgets",
      "model_module_version": "~2.1.4",
      "model_name": "FloatSliderModel",
      "state": {
       "_model_module_version": "~2.1.4",
       "_view_module_version": "~2.1.4",
       "description": "alpha_1",
       "layout": "IPY_MODEL_292477d5823d4cfcbd0918933a5168d1",
       "max": 50,
       "value": 25
      }
     },
     "c2ff2a8acd1e4685b06c1290e3e25d4f": {
      "model_module": "jupyter-js-widgets",
      "model_module_version": "~2.1.4",
      "model_name": "LayoutModel",
      "state": {
       "_model_module_version": "~2.1.4",
       "_view_module_version": "~2.1.4"
      }
     },
     "c336e8dcb28942588fbf552c3e6dd58c": {
      "model_module": "jupyter-js-widgets",
      "model_module_version": "~2.1.4",
      "model_name": "FloatSliderModel",
      "state": {
       "_model_module_version": "~2.1.4",
       "_view_module_version": "~2.1.4",
       "description": "alpha_0",
       "layout": "IPY_MODEL_cb325ae1fd6946719f4fb37885b661ea",
       "max": 50,
       "value": 25
      }
     },
     "c38305e6c6364610bdd29dbef8aea0aa": {
      "model_module": "jupyter-js-widgets",
      "model_module_version": "~2.1.4",
      "model_name": "LayoutModel",
      "state": {
       "_model_module_version": "~2.1.4",
       "_view_module_version": "~2.1.4"
      }
     },
     "c43b0291b3d74cafb4e6dc630c1ee5fa": {
      "model_module": "jupyter-js-widgets",
      "model_module_version": "~2.1.4",
      "model_name": "FloatSliderModel",
      "state": {
       "_model_module_version": "~2.1.4",
       "_view_module_version": "~2.1.4",
       "description": "alpha_1",
       "layout": "IPY_MODEL_c7db53e5a27448bf8f474c2505f57f3e",
       "max": 50,
       "value": 3
      }
     },
     "c56c680384204b03adaded1d1038b605": {
      "model_module": "jupyter-js-widgets",
      "model_module_version": "~2.1.4",
      "model_name": "VBoxModel",
      "state": {
       "_dom_classes": [
        "widget-interact"
       ],
       "_model_module_version": "~2.1.4",
       "_view_module_version": "~2.1.4",
       "children": [
        "IPY_MODEL_650d165911cb4ec2b59fe2bd3a477800",
        "IPY_MODEL_9bcf656cef6a4d729fa619fc80a1b0d2",
        "IPY_MODEL_a27e37f60ce641a6b820c7c245d42a94"
       ],
       "layout": "IPY_MODEL_3de2cb99ecda42aaa5ef69f7ede3f6c2"
      }
     },
     "c6acaf6833104f1d92f24a47d1b87392": {
      "model_module": "jupyter-js-widgets",
      "model_module_version": "~2.1.4",
      "model_name": "LayoutModel",
      "state": {
       "_model_module_version": "~2.1.4",
       "_view_module_version": "~2.1.4"
      }
     },
     "c7db53e5a27448bf8f474c2505f57f3e": {
      "model_module": "jupyter-js-widgets",
      "model_module_version": "~2.1.4",
      "model_name": "LayoutModel",
      "state": {
       "_model_module_version": "~2.1.4",
       "_view_module_version": "~2.1.4"
      }
     },
     "c8b78d9dc25d41a68af31746252a3bd1": {
      "model_module": "jupyter-js-widgets",
      "model_module_version": "~2.1.4",
      "model_name": "LayoutModel",
      "state": {
       "_model_module_version": "~2.1.4",
       "_view_module_version": "~2.1.4",
       "height": "350px"
      }
     },
     "cb325ae1fd6946719f4fb37885b661ea": {
      "model_module": "jupyter-js-widgets",
      "model_module_version": "~2.1.4",
      "model_name": "LayoutModel",
      "state": {
       "_model_module_version": "~2.1.4",
       "_view_module_version": "~2.1.4"
      }
     },
     "cb3d551d110b4ab0804c54d4192fc856": {
      "model_module": "jupyter-js-widgets",
      "model_module_version": "~2.1.4",
      "model_name": "FloatSliderModel",
      "state": {
       "_model_module_version": "~2.1.4",
       "_view_module_version": "~2.1.4",
       "description": "alpha_1",
       "layout": "IPY_MODEL_b86b2ad7e4894261a58cebad8f3caa0a",
       "max": 5,
       "step": 0.1,
       "value": 2.7
      }
     },
     "ce3acb88f17947659d401a526f89030e": {
      "model_module": "jupyter-js-widgets",
      "model_module_version": "~2.1.4",
      "model_name": "FloatSliderModel",
      "state": {
       "_model_module_version": "~2.1.4",
       "_view_module_version": "~2.1.4",
       "description": "alpha_0",
       "layout": "IPY_MODEL_65e1b047a5ca475fb0024754dde16b5b",
       "max": 5,
       "step": 0.1,
       "value": 1.5
      }
     },
     "ce6baa2cc74f41019d0ee42cbd14ea93": {
      "model_module": "jupyter-js-widgets",
      "model_module_version": "~2.1.4",
      "model_name": "FloatSliderModel",
      "state": {
       "_model_module_version": "~2.1.4",
       "_view_module_version": "~2.1.4",
       "description": "alpha_0",
       "layout": "IPY_MODEL_a4d67ed6eab2476eaee6ae0e029c1075",
       "max": 5,
       "min": 1e-20,
       "step": 0.1,
       "value": 1
      }
     },
     "cf5639f915d146f2b2ad111c4cc9c6c9": {
      "model_module": "jupyter-js-widgets",
      "model_module_version": "~2.1.4",
      "model_name": "LayoutModel",
      "state": {
       "_model_module_version": "~2.1.4",
       "_view_module_version": "~2.1.4"
      }
     },
     "d2b1bb48fdf14c8a835efb81b64e75e7": {
      "model_module": "jupyter-js-widgets",
      "model_module_version": "~2.1.4",
      "model_name": "IntSliderModel",
      "state": {
       "_model_module_version": "~2.1.4",
       "_view_module_version": "~2.1.4",
       "description": "alpha_1",
       "layout": "IPY_MODEL_02b38912bada4e0db097e1722cbc0998",
       "max": 50,
       "style": "IPY_MODEL_610148754236452ebd3d7f248af8c322",
       "value": 11
      }
     },
     "d2b26778cc8e4700b56cb76e0cab808a": {
      "model_module": "jupyter-js-widgets",
      "model_module_version": "~2.1.4",
      "model_name": "SliderStyleModel",
      "state": {
       "_model_module_version": "~2.1.4",
       "_view_module_version": "~2.1.4"
      }
     },
     "d354676dfb984d388314b723e602fad7": {
      "model_module": "jupyter-js-widgets",
      "model_module_version": "~2.1.4",
      "model_name": "VBoxModel",
      "state": {
       "_dom_classes": [
        "widget-interact"
       ],
       "_model_module_version": "~2.1.4",
       "_view_module_version": "~2.1.4",
       "children": [
        "IPY_MODEL_ed7ab160e3c04d4c8593a3927c0308b4",
        "IPY_MODEL_d2b1bb48fdf14c8a835efb81b64e75e7",
        "IPY_MODEL_42a558bd3c984701ae71d4f61b266539"
       ],
       "layout": "IPY_MODEL_837bc045e988471ab28c5dc13722b604"
      }
     },
     "d5e2e5c428a94e359fc565815e1c3f91": {
      "model_module": "jupyter-js-widgets",
      "model_module_version": "~2.1.4",
      "model_name": "VBoxModel",
      "state": {
       "_dom_classes": [
        "widget-interact"
       ],
       "_model_module_version": "~2.1.4",
       "_view_module_version": "~2.1.4",
       "layout": "IPY_MODEL_9471fe3e1ed74ccca329ecca03135ed6"
      }
     },
     "d6bd9473889f48df95108bd9d39804a0": {
      "model_module": "jupyter-js-widgets",
      "model_module_version": "~2.1.4",
      "model_name": "LayoutModel",
      "state": {
       "_model_module_version": "~2.1.4",
       "_view_module_version": "~2.1.4"
      }
     },
     "d8d0792635a34dfd84c943f07fa16deb": {
      "model_module": "jupyter-js-widgets",
      "model_module_version": "~2.1.4",
      "model_name": "VBoxModel",
      "state": {
       "_dom_classes": [
        "widget-interact"
       ],
       "_model_module_version": "~2.1.4",
       "_view_module_version": "~2.1.4",
       "children": [
        "IPY_MODEL_4cefea053ccd48c0a8f518b26877d1fa",
        "IPY_MODEL_4a2f7cbcac174835833ac83ce89b94f6",
        "IPY_MODEL_2e388be8462d4ccbb8234e063ef8590f"
       ],
       "layout": "IPY_MODEL_8f510221aad14ab6a5e9795cc45a161e"
      }
     },
     "d9923efac4684801a62d8bc9d52dd6c5": {
      "model_module": "jupyter-js-widgets",
      "model_module_version": "~2.1.4",
      "model_name": "FloatSliderModel",
      "state": {
       "_model_module_version": "~2.1.4",
       "_view_module_version": "~2.1.4",
       "description": "alpha_0",
       "layout": "IPY_MODEL_0bf7707be93044bab423ebe9f5221a78",
       "max": 50,
       "value": 25
      }
     },
     "dd2dee68fb2742e4ba2436cc71f79803": {
      "model_module": "jupyter-js-widgets",
      "model_module_version": "~2.1.4",
      "model_name": "LayoutModel",
      "state": {
       "_model_module_version": "~2.1.4",
       "_view_module_version": "~2.1.4"
      }
     },
     "dedf83a7a1024be7963ac7b502dfebf0": {
      "model_module": "jupyter-js-widgets",
      "model_module_version": "~2.1.4",
      "model_name": "LayoutModel",
      "state": {
       "_model_module_version": "~2.1.4",
       "_view_module_version": "~2.1.4"
      }
     },
     "dff99ec1a7684191802aeca98e0b442b": {
      "model_module": "jupyter-js-widgets",
      "model_module_version": "~2.1.4",
      "model_name": "LayoutModel",
      "state": {
       "_model_module_version": "~2.1.4",
       "_view_module_version": "~2.1.4"
      }
     },
     "e03e9aac785e46deadacecb850c0c9e1": {
      "model_module": "jupyter-js-widgets",
      "model_module_version": "~2.1.4",
      "model_name": "FloatSliderModel",
      "state": {
       "_model_module_version": "~2.1.4",
       "_view_module_version": "~2.1.4",
       "description": "alpha_1",
       "layout": "IPY_MODEL_723a633c9a014e4eb0828c23834a23d6",
       "max": 50,
       "value": 25
      }
     },
     "e0ce9f704a054955bb433c7bb4553edd": {
      "model_module": "jupyter-js-widgets",
      "model_module_version": "~2.1.4",
      "model_name": "VBoxModel",
      "state": {
       "_dom_classes": [
        "widget-interact"
       ],
       "_model_module_version": "~2.1.4",
       "_view_module_version": "~2.1.4",
       "children": [
        "IPY_MODEL_7a46e048377144358d63b5e18d777c67",
        "IPY_MODEL_41d251ad16a847e5af092226f1f32644",
        "IPY_MODEL_eee23ae419714b7d96bbe95a4a686247"
       ],
       "layout": "IPY_MODEL_278b0190a6184e32b22f959dbd5ad285"
      }
     },
     "e342fea081194c538de8ca7058634bad": {
      "model_module": "jupyter-js-widgets",
      "model_module_version": "~2.1.4",
      "model_name": "VBoxModel",
      "state": {
       "_dom_classes": [
        "widget-interact"
       ],
       "_model_module_version": "~2.1.4",
       "_view_module_version": "~2.1.4",
       "layout": "IPY_MODEL_903f18107cf24735a95ba14e3f205a21"
      }
     },
     "e356e649925b403b920db14e93d152f3": {
      "model_module": "jupyter-js-widgets",
      "model_module_version": "~2.1.4",
      "model_name": "VBoxModel",
      "state": {
       "_dom_classes": [
        "widget-interact"
       ],
       "_model_module_version": "~2.1.4",
       "_view_module_version": "~2.1.4",
       "children": [
        "IPY_MODEL_0b7004680a8b464bb7264a6e7ff60484",
        "IPY_MODEL_7cc26024c61b42ee8884c1aec9d4cb5a",
        "IPY_MODEL_7c190dfca02440aca3284b7743774d90"
       ],
       "layout": "IPY_MODEL_3b1ad259c4004506a9596541cfae3813"
      }
     },
     "e5d1d7e7a91642fd9a17a84b36f6f15c": {
      "model_module": "jupyter-js-widgets",
      "model_module_version": "~2.1.4",
      "model_name": "LayoutModel",
      "state": {
       "_model_module_version": "~2.1.4",
       "_view_module_version": "~2.1.4"
      }
     },
     "e6ecda4a4a684aaaa8c2716c7c014336": {
      "model_module": "jupyter-js-widgets",
      "model_module_version": "~2.1.4",
      "model_name": "FloatSliderModel",
      "state": {
       "_model_module_version": "~2.1.4",
       "_view_module_version": "~2.1.4",
       "description": "alpha_0",
       "layout": "IPY_MODEL_be1e02a7d63445b9b27abcef2ae26dfa",
       "max": 50,
       "value": 25
      }
     },
     "e6fc11519362447cb1396319a7b17111": {
      "model_module": "jupyter-js-widgets",
      "model_module_version": "~2.1.4",
      "model_name": "FloatSliderModel",
      "state": {
       "_model_module_version": "~2.1.4",
       "_view_module_version": "~2.1.4",
       "description": "alpha_0",
       "layout": "IPY_MODEL_3fe7a17cb4024619b81de39920383801",
       "max": 1,
       "step": 50
      }
     },
     "e8269ff85fec47568550c0dd470e0bbc": {
      "model_module": "jupyter-js-widgets",
      "model_module_version": "~2.1.4",
      "model_name": "IntSliderModel",
      "state": {
       "_model_module_version": "~2.1.4",
       "_view_module_version": "~2.1.4",
       "description": "alpha_0",
       "layout": "IPY_MODEL_e854c0d7ac9e4bcaa37c457b35ba8dd1",
       "max": 50,
       "style": "IPY_MODEL_0cc6618c426f4720af16fdc4c41d1701"
      }
     },
     "e854c0d7ac9e4bcaa37c457b35ba8dd1": {
      "model_module": "jupyter-js-widgets",
      "model_module_version": "~2.1.4",
      "model_name": "LayoutModel",
      "state": {
       "_model_module_version": "~2.1.4",
       "_view_module_version": "~2.1.4"
      }
     },
     "e87ced1070c54bfbbe9dd3032ae7c17d": {
      "model_module": "jupyter-js-widgets",
      "model_module_version": "~2.1.4",
      "model_name": "OutputModel",
      "state": {
       "_dom_classes": [],
       "_model_module": "jupyter-js-widgets",
       "_model_module_version": "~2.1.4",
       "_view_module": "jupyter-js-widgets",
       "_view_module_version": "~2.1.4",
       "layout": "IPY_MODEL_ae82c6dc652f4378be360540268c20f0",
       "msg_throttle": 1
      }
     },
     "e8817fd6bd2b4550b72b163d3ce7abaa": {
      "model_module": "jupyter-js-widgets",
      "model_module_version": "~2.1.4",
      "model_name": "FloatSliderModel",
      "state": {
       "_model_module_version": "~2.1.4",
       "_view_module_version": "~2.1.4",
       "description": "alpha_1",
       "layout": "IPY_MODEL_60b6168cbcbc4534ad24f5fac170fe6a",
       "max": 5,
       "min": 1e-05,
       "step": 0.1,
       "value": 1
      }
     },
     "e92cbdf0184744c2973e773f29c7b6d0": {
      "model_module": "jupyter-js-widgets",
      "model_module_version": "~2.1.4",
      "model_name": "OutputModel",
      "state": {
       "_dom_classes": [],
       "_model_module": "jupyter-js-widgets",
       "_model_module_version": "~2.1.4",
       "_view_module": "jupyter-js-widgets",
       "_view_module_version": "~2.1.4",
       "layout": "IPY_MODEL_04f0ba64b1f84d22a6c65c3fd168d3f9",
       "msg_throttle": 1
      }
     },
     "e9909da87fae46f6abfa1f04ae0a4930": {
      "model_module": "jupyter-js-widgets",
      "model_module_version": "~2.1.4",
      "model_name": "LayoutModel",
      "state": {
       "_model_module_version": "~2.1.4",
       "_view_module_version": "~2.1.4"
      }
     },
     "eb74b9eb92254445b6cee0bb31838115": {
      "model_module": "jupyter-js-widgets",
      "model_module_version": "~2.1.4",
      "model_name": "FloatSliderModel",
      "state": {
       "_model_module_version": "~2.1.4",
       "_view_module_version": "~2.1.4",
       "description": "alpha_1",
       "layout": "IPY_MODEL_b5d80fcc70974fdbb5e1153e701d0e70",
       "max": 50,
       "value": 25
      }
     },
     "ec402ec250094302ad68571f136f92ed": {
      "model_module": "jupyter-js-widgets",
      "model_module_version": "~2.1.4",
      "model_name": "LayoutModel",
      "state": {
       "_model_module_version": "~2.1.4",
       "_view_module_version": "~2.1.4"
      }
     },
     "ec54a3cdc42640859556b8949d67c10a": {
      "model_module": "jupyter-js-widgets",
      "model_module_version": "~2.1.4",
      "model_name": "LayoutModel",
      "state": {
       "_model_module_version": "~2.1.4",
       "_view_module_version": "~2.1.4"
      }
     },
     "ed7ab160e3c04d4c8593a3927c0308b4": {
      "model_module": "jupyter-js-widgets",
      "model_module_version": "~2.1.4",
      "model_name": "IntSliderModel",
      "state": {
       "_model_module_version": "~2.1.4",
       "_view_module_version": "~2.1.4",
       "description": "alpha_0",
       "layout": "IPY_MODEL_55a5da8cc1854188838da83bc347ff67",
       "max": 50,
       "style": "IPY_MODEL_a77856d1e5cc4ed19e97b1b311b158d8",
       "value": 1
      }
     },
     "eee23ae419714b7d96bbe95a4a686247": {
      "model_module": "jupyter-js-widgets",
      "model_module_version": "~2.1.4",
      "model_name": "OutputModel",
      "state": {
       "_dom_classes": [],
       "_model_module": "jupyter-js-widgets",
       "_model_module_version": "~2.1.4",
       "_view_module": "jupyter-js-widgets",
       "_view_module_version": "~2.1.4",
       "layout": "IPY_MODEL_dedf83a7a1024be7963ac7b502dfebf0",
       "msg_throttle": 1
      }
     },
     "eef050e0a217483f82816f8990323a87": {
      "model_module": "jupyter-js-widgets",
      "model_module_version": "~2.1.4",
      "model_name": "LayoutModel",
      "state": {
       "_model_module_version": "~2.1.4",
       "_view_module_version": "~2.1.4"
      }
     },
     "f25437db3b5d4d0bb9d0e7cee77c5ebd": {
      "model_module": "jupyter-js-widgets",
      "model_module_version": "~2.1.4",
      "model_name": "VBoxModel",
      "state": {
       "_dom_classes": [
        "widget-interact"
       ],
       "_model_module_version": "~2.1.4",
       "_view_module_version": "~2.1.4",
       "layout": "IPY_MODEL_4a8be32e9f3e451289a35e89022905f1"
      }
     },
     "f5fb14275c9149c1954337ff39f2eb09": {
      "model_module": "jupyter-js-widgets",
      "model_module_version": "~2.1.4",
      "model_name": "VBoxModel",
      "state": {
       "_dom_classes": [
        "widget-interact"
       ],
       "_model_module_version": "~2.1.4",
       "_view_module_version": "~2.1.4",
       "children": [
        "IPY_MODEL_ce6baa2cc74f41019d0ee42cbd14ea93",
        "IPY_MODEL_8cc5f2417fdd4f338a58013e9cdfe5df",
        "IPY_MODEL_646a79c70c4748448641f33e5bb3545b"
       ],
       "layout": "IPY_MODEL_e5d1d7e7a91642fd9a17a84b36f6f15c"
      }
     },
     "f913cf7c6e49448c8ea1544443d9ff00": {
      "model_module": "jupyter-js-widgets",
      "model_module_version": "~2.1.4",
      "model_name": "LayoutModel",
      "state": {
       "_model_module_version": "~2.1.4",
       "_view_module_version": "~2.1.4"
      }
     },
     "f93d9f7690a74202b43d94ee6e5d37db": {
      "model_module": "jupyter-js-widgets",
      "model_module_version": "~2.1.4",
      "model_name": "IntSliderModel",
      "state": {
       "_model_module_version": "~2.1.4",
       "_view_module_version": "~2.1.4",
       "description": "alpha_1",
       "layout": "IPY_MODEL_02bdc621d6da405c9a1b827f93e01014",
       "max": 3,
       "min": -1,
       "style": "IPY_MODEL_16d52f2f88274629911681bfb6370a0f",
       "value": 1
      }
     },
     "f99463ff8fe54c0797b78190773fb855": {
      "model_module": "jupyter-js-widgets",
      "model_module_version": "~2.1.4",
      "model_name": "LayoutModel",
      "state": {
       "_model_module_version": "~2.1.4",
       "_view_module_version": "~2.1.4"
      }
     },
     "f9dc3197ada345d0a0f839d2bb570abf": {
      "model_module": "jupyter-js-widgets",
      "model_module_version": "~2.1.4",
      "model_name": "OutputModel",
      "state": {
       "_dom_classes": [],
       "_model_module": "jupyter-js-widgets",
       "_model_module_version": "~2.1.4",
       "_view_module": "jupyter-js-widgets",
       "_view_module_version": "~2.1.4",
       "layout": "IPY_MODEL_4d84d950c08a4bb6b5a5094dbffeee76",
       "msg_throttle": 1
      }
     },
     "fcb20f5e611a432296ed55de4326eb3e": {
      "model_module": "jupyter-js-widgets",
      "model_module_version": "~2.1.4",
      "model_name": "LayoutModel",
      "state": {
       "_model_module_version": "~2.1.4",
       "_view_module_version": "~2.1.4"
      }
     },
     "fd8d3f6d28c84356818ad8cfa035fb8d": {
      "model_module": "jupyter-js-widgets",
      "model_module_version": "~2.1.4",
      "model_name": "LayoutModel",
      "state": {
       "_model_module_version": "~2.1.4",
       "_view_module_version": "~2.1.4"
      }
     },
     "ff861270aca24be0a32c5b935509fe3b": {
      "model_module": "jupyter-js-widgets",
      "model_module_version": "~2.1.4",
      "model_name": "LayoutModel",
      "state": {
       "_model_module_version": "~2.1.4",
       "_view_module_version": "~2.1.4"
      }
     }
    },
    "version_major": 1,
    "version_minor": 0
   }
  }
 },
 "nbformat": 4,
 "nbformat_minor": 2
}
