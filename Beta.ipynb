{
 "cells": [
  {
   "cell_type": "code",
   "execution_count": 1,
   "metadata": {
    "collapsed": true
   },
   "outputs": [],
   "source": [
    "from ipywidgets import interact, interactive, fixed, interact_manual\n",
    "import seaborn\n",
    "import matplotlib.pyplot as plt\n",
    "from scipy.special import gamma\n",
    "import numpy as np\n",
    "seaborn.set_context(\"talk\", font_scale=1.5)\n",
    "seaborn.set_style(\"whitegrid\")\n",
    "%matplotlib inline"
   ]
  },
  {
   "cell_type": "code",
   "execution_count": 2,
   "metadata": {
    "collapsed": true
   },
   "outputs": [],
   "source": [
    "def beta_pdf(theta, alpha_0, alpha_1):\n",
    "    return (gamma(alpha_0 + alpha_1) / gamma(alpha_0)) * (np.power(theta, alpha_1 -1)) * ( np.power((1 - theta), alpha_0-1) ) "
   ]
  },
  {
   "cell_type": "code",
   "execution_count": 3,
   "metadata": {},
   "outputs": [
    {
     "data": {
      "application/vnd.jupyter.widget-view+json": {
       "model_id": "a34de47429d04a438e26b63e0d8d8c1e",
       "version_major": 2,
       "version_minor": 0
      },
      "text/plain": [
       "A Jupyter Widget"
      ]
     },
     "metadata": {},
     "output_type": "display_data"
    }
   ],
   "source": [
    "eps = 1e-5\n",
    "\n",
    "def plot(alpha_0=1.0, alpha_1=1.0):\n",
    "    theta = np.linspace(0+eps, 1-eps, 1000)\n",
    "    plt.figure(figsize=(10,10))\n",
    "    f = plt.plot(theta, beta_pdf(theta, alpha_0, alpha_1))\n",
    "    plt.title(\"Beta\")\n",
    "    plt.ylabel(\"Density\")\n",
    "    plt.xlabel(\"theta\")\n",
    "    plt.ylim(0, 10)\n",
    "    plt.show()\n",
    "interactive(plot, alpha_0=(0.0 +eps, 5.0), alpha_1=(0.0+eps, 5.0))\n"
   ]
  }
 ],
 "metadata": {
  "kernelspec": {
   "display_name": "Python 3",
   "language": "python",
   "name": "python3"
  },
  "language_info": {
   "codemirror_mode": {
    "name": "ipython",
    "version": 3
   },
   "file_extension": ".py",
   "mimetype": "text/x-python",
   "name": "python",
   "nbconvert_exporter": "python",
   "pygments_lexer": "ipython3",
   "version": "3.5.2"
  },
  "widgets": {
   "application/vnd.jupyter.widget-state+json": {
    "state": {
     "007ba116b0a74ca68ac7f83d4c9f8ee4": {
      "model_module": "jupyter-js-widgets",
      "model_module_version": "~2.1.4",
      "model_name": "LayoutModel",
      "state": {
       "_model_module_version": "~2.1.4",
       "_view_module_version": "~2.1.4"
      }
     },
     "00b99f0695e24cf8afc7eab609afa422": {
      "model_module": "jupyter-js-widgets",
      "model_module_version": "~2.1.4",
      "model_name": "LayoutModel",
      "state": {
       "_model_module_version": "~2.1.4",
       "_view_module_version": "~2.1.4"
      }
     },
     "0185d91495ae486bb425f81700e1ea4f": {
      "model_module": "jupyter-js-widgets",
      "model_module_version": "~2.1.4",
      "model_name": "IntSliderModel",
      "state": {
       "_model_module_version": "~2.1.4",
       "_view_module_version": "~2.1.4",
       "description": "alpha_1",
       "layout": "IPY_MODEL_6ffbe89668214eb99b8ba61db2f88139",
       "max": 50,
       "style": "IPY_MODEL_0c6d5871565343c6bfe948bc10b7732e",
       "value": 1
      }
     },
     "02b38912bada4e0db097e1722cbc0998": {
      "model_module": "jupyter-js-widgets",
      "model_module_version": "~2.1.4",
      "model_name": "LayoutModel",
      "state": {
       "_model_module_version": "~2.1.4",
       "_view_module_version": "~2.1.4"
      }
     },
     "02bdc621d6da405c9a1b827f93e01014": {
      "model_module": "jupyter-js-widgets",
      "model_module_version": "~2.1.4",
      "model_name": "LayoutModel",
      "state": {
       "_model_module_version": "~2.1.4",
       "_view_module_version": "~2.1.4"
      }
     },
     "0409c8cf071c47b6ab46d1e3cd233292": {
      "model_module": "jupyter-js-widgets",
      "model_module_version": "~2.1.4",
      "model_name": "VBoxModel",
      "state": {
       "_dom_classes": [
        "widget-interact"
       ],
       "_model_module_version": "~2.1.4",
       "_view_module_version": "~2.1.4",
       "children": [
        "IPY_MODEL_84c0be1cdd934a49b7521f5c5fcc4469",
        "IPY_MODEL_6cd4484a04d24880a65c868b2ab3ebea",
        "IPY_MODEL_81548a26376546ecb7e1b7b40c2d5c9a"
       ],
       "layout": "IPY_MODEL_8c51eb55d48e4b58a26be2d2fc99b771"
      }
     },
     "04f0ba64b1f84d22a6c65c3fd168d3f9": {
      "model_module": "jupyter-js-widgets",
      "model_module_version": "~2.1.4",
      "model_name": "LayoutModel",
      "state": {
       "_model_module_version": "~2.1.4",
       "_view_module_version": "~2.1.4"
      }
     },
     "06496449e3b248bebdec3dddb70ecb02": {
      "model_module": "jupyter-js-widgets",
      "model_module_version": "~2.1.4",
      "model_name": "VBoxModel",
      "state": {
       "_dom_classes": [
        "widget-interact"
       ],
       "_model_module_version": "~2.1.4",
       "_view_module_version": "~2.1.4",
       "children": [
        "IPY_MODEL_3a0272e1f60f4d61aabaffd40166f18e",
        "IPY_MODEL_3658aad45404407a89a94c8040b099b1",
        "IPY_MODEL_7e10d7f0439045d0a9f33ed972e89b6b"
       ],
       "layout": "IPY_MODEL_923ee436e81945efa72546856a7be35b"
      }
     },
     "089881aa0bc2445d8483705fb903ddb5": {
      "model_module": "jupyter-js-widgets",
      "model_module_version": "~2.1.4",
      "model_name": "LayoutModel",
      "state": {
       "_model_module_version": "~2.1.4",
       "_view_module_version": "~2.1.4"
      }
     },
     "09139e1b80c8425384e76ba2fad76c0b": {
      "model_module": "jupyter-js-widgets",
      "model_module_version": "~2.1.4",
      "model_name": "FloatSliderModel",
      "state": {
       "_model_module_version": "~2.1.4",
       "_view_module_version": "~2.1.4",
       "description": "alpha_1",
       "layout": "IPY_MODEL_94bdaed93698440f97ff63af8e554cef",
       "max": 50,
       "step": 0.1,
       "value": 4.1
      }
     },
     "095c3d0cbc444ea1b099e9bd23f93e55": {
      "model_module": "jupyter-js-widgets",
      "model_module_version": "~2.1.4",
      "model_name": "LayoutModel",
      "state": {
       "_model_module_version": "~2.1.4",
       "_view_module_version": "~2.1.4"
      }
     },
     "0a5110a314074c8bb66c3c523387cae7": {
      "model_module": "jupyter-js-widgets",
      "model_module_version": "~2.1.4",
      "model_name": "LayoutModel",
      "state": {
       "_model_module_version": "~2.1.4",
       "_view_module_version": "~2.1.4"
      }
     },
     "0b120c9a090649a7875184acd7845e84": {
      "model_module": "jupyter-js-widgets",
      "model_module_version": "~2.1.4",
      "model_name": "LayoutModel",
      "state": {
       "_model_module_version": "~2.1.4",
       "_view_module_version": "~2.1.4"
      }
     },
     "0b4b0ecf74b34d05bedaef924af93d07": {
      "model_module": "jupyter-js-widgets",
      "model_module_version": "~2.1.4",
      "model_name": "LayoutModel",
      "state": {
       "_model_module_version": "~2.1.4",
       "_view_module_version": "~2.1.4"
      }
     },
     "0b7004680a8b464bb7264a6e7ff60484": {
      "model_module": "jupyter-js-widgets",
      "model_module_version": "~2.1.4",
      "model_name": "IntSliderModel",
      "state": {
       "_model_module_version": "~2.1.4",
       "_view_module_version": "~2.1.4",
       "description": "alpha_0",
       "layout": "IPY_MODEL_22bebead6617446da6d559e9897641fa",
       "max": 3,
       "min": -1,
       "style": "IPY_MODEL_bfe68c354586409eba329e6bc97ee707",
       "value": 1
      }
     },
     "0bf7707be93044bab423ebe9f5221a78": {
      "model_module": "jupyter-js-widgets",
      "model_module_version": "~2.1.4",
      "model_name": "LayoutModel",
      "state": {
       "_model_module_version": "~2.1.4",
       "_view_module_version": "~2.1.4"
      }
     },
     "0c6d5871565343c6bfe948bc10b7732e": {
      "model_module": "jupyter-js-widgets",
      "model_module_version": "~2.1.4",
      "model_name": "SliderStyleModel",
      "state": {
       "_model_module_version": "~2.1.4",
       "_view_module_version": "~2.1.4"
      }
     },
     "0cc6618c426f4720af16fdc4c41d1701": {
      "model_module": "jupyter-js-widgets",
      "model_module_version": "~2.1.4",
      "model_name": "SliderStyleModel",
      "state": {
       "_model_module_version": "~2.1.4",
       "_view_module_version": "~2.1.4"
      }
     },
     "0dd1a1fe4570474590df16322f073afd": {
      "model_module": "jupyter-js-widgets",
      "model_module_version": "~2.1.4",
      "model_name": "LayoutModel",
      "state": {
       "_model_module_version": "~2.1.4",
       "_view_module_version": "~2.1.4"
      }
     },
     "0ddb60c4ae2340a79fdaf2ce52bafb6f": {
      "model_module": "jupyter-js-widgets",
      "model_module_version": "~2.1.4",
      "model_name": "OutputModel",
      "state": {
       "_dom_classes": [],
       "_model_module": "jupyter-js-widgets",
       "_model_module_version": "~2.1.4",
       "_view_module": "jupyter-js-widgets",
       "_view_module_version": "~2.1.4",
       "layout": "IPY_MODEL_cf5639f915d146f2b2ad111c4cc9c6c9",
       "msg_throttle": 1
      }
     },
     "0e1c336dba37424e8369f36a3b69f3d7": {
      "model_module": "jupyter-js-widgets",
      "model_module_version": "~2.1.4",
      "model_name": "LayoutModel",
      "state": {
       "_model_module_version": "~2.1.4",
       "_view_module_version": "~2.1.4"
      }
     },
     "0f99a6a2a9204a23b2ae2460d96e0716": {
      "model_module": "jupyter-js-widgets",
      "model_module_version": "~2.1.4",
      "model_name": "LayoutModel",
      "state": {
       "_model_module_version": "~2.1.4",
       "_view_module_version": "~2.1.4"
      }
     },
     "10ef81c9b95d414786e2edef0bff91ac": {
      "model_module": "jupyter-js-widgets",
      "model_module_version": "~2.1.4",
      "model_name": "LayoutModel",
      "state": {
       "_model_module_version": "~2.1.4",
       "_view_module_version": "~2.1.4"
      }
     },
     "114f07f7f85948a9b6ba388db4b657c1": {
      "model_module": "jupyter-js-widgets",
      "model_module_version": "~2.1.4",
      "model_name": "OutputModel",
      "state": {
       "_dom_classes": [],
       "_model_module": "jupyter-js-widgets",
       "_model_module_version": "~2.1.4",
       "_view_module": "jupyter-js-widgets",
       "_view_module_version": "~2.1.4",
       "layout": "IPY_MODEL_16d667bf24eb414cb4a91310148f4fb6",
       "msg_throttle": 1
      }
     },
     "138d4ee0e37040c98b618959570f7505": {
      "model_module": "jupyter-js-widgets",
      "model_module_version": "~2.1.4",
      "model_name": "LayoutModel",
      "state": {
       "_model_module_version": "~2.1.4",
       "_view_module_version": "~2.1.4"
      }
     },
     "13ac86b4970a432fabc9a98c38d14e6e": {
      "model_module": "jupyter-js-widgets",
      "model_module_version": "~2.1.4",
      "model_name": "LayoutModel",
      "state": {
       "_model_module_version": "~2.1.4",
       "_view_module_version": "~2.1.4"
      }
     },
     "13cc8f8b865340029595dd77fe0d0987": {
      "model_module": "jupyter-js-widgets",
      "model_module_version": "~2.1.4",
      "model_name": "LayoutModel",
      "state": {
       "_model_module_version": "~2.1.4",
       "_view_module_version": "~2.1.4"
      }
     },
     "1493b21bb66a4f7193b21cf2a3b5de13": {
      "model_module": "jupyter-js-widgets",
      "model_module_version": "~2.1.4",
      "model_name": "OutputModel",
      "state": {
       "_dom_classes": [],
       "_model_module": "jupyter-js-widgets",
       "_model_module_version": "~2.1.4",
       "_view_module": "jupyter-js-widgets",
       "_view_module_version": "~2.1.4",
       "layout": "IPY_MODEL_8f5aec98ae214657b5e9a1764bfadbe4",
       "msg_throttle": 1
      }
     },
     "16d52f2f88274629911681bfb6370a0f": {
      "model_module": "jupyter-js-widgets",
      "model_module_version": "~2.1.4",
      "model_name": "SliderStyleModel",
      "state": {
       "_model_module_version": "~2.1.4",
       "_view_module_version": "~2.1.4"
      }
     },
     "16d667bf24eb414cb4a91310148f4fb6": {
      "model_module": "jupyter-js-widgets",
      "model_module_version": "~2.1.4",
      "model_name": "LayoutModel",
      "state": {
       "_model_module_version": "~2.1.4",
       "_view_module_version": "~2.1.4"
      }
     },
     "16ed36eb00ac4c00a02c9a3e6749fe4e": {
      "model_module": "jupyter-js-widgets",
      "model_module_version": "~2.1.4",
      "model_name": "FloatSliderModel",
      "state": {
       "_model_module_version": "~2.1.4",
       "_view_module_version": "~2.1.4",
       "description": "alpha_0",
       "layout": "IPY_MODEL_9497808823cd4bce89e5484e1e6acb6e",
       "max": 50,
       "value": 18
      }
     },
     "1775ed7f2ddd4ce3b61752fe5680bf6c": {
      "model_module": "jupyter-js-widgets",
      "model_module_version": "~2.1.4",
      "model_name": "LayoutModel",
      "state": {
       "_model_module_version": "~2.1.4",
       "_view_module_version": "~2.1.4"
      }
     },
     "18bc916569234b54a724d5168589cc17": {
      "model_module": "jupyter-js-widgets",
      "model_module_version": "~2.1.4",
      "model_name": "LayoutModel",
      "state": {
       "_model_module_version": "~2.1.4",
       "_view_module_version": "~2.1.4"
      }
     },
     "1b27c61b30704324bea478f299d45105": {
      "model_module": "jupyter-js-widgets",
      "model_module_version": "~2.1.4",
      "model_name": "FloatSliderModel",
      "state": {
       "_model_module_version": "~2.1.4",
       "_view_module_version": "~2.1.4",
       "description": "alpha_0",
       "layout": "IPY_MODEL_f913cf7c6e49448c8ea1544443d9ff00",
       "max": 50,
       "value": 25
      }
     },
     "1c966d6d6a624086b6ce6511965c2072": {
      "model_module": "jupyter-js-widgets",
      "model_module_version": "~2.1.4",
      "model_name": "OutputModel",
      "state": {
       "_dom_classes": [],
       "_model_module": "jupyter-js-widgets",
       "_model_module_version": "~2.1.4",
       "_view_module": "jupyter-js-widgets",
       "_view_module_version": "~2.1.4",
       "layout": "IPY_MODEL_9368338e3dc44be2a721538d446bbbaf",
       "msg_throttle": 1
      }
     },
     "1e497ae74ae5445283f5ed46da044ac1": {
      "model_module": "jupyter-js-widgets",
      "model_module_version": "~2.1.4",
      "model_name": "VBoxModel",
      "state": {
       "_dom_classes": [
        "widget-interact"
       ],
       "_model_module_version": "~2.1.4",
       "_view_module_version": "~2.1.4",
       "children": [
        "IPY_MODEL_44e82a72d8cf420f923d7f505504d14f",
        "IPY_MODEL_68c4146b4f7044a2ab61b29f461b0283",
        "IPY_MODEL_e92cbdf0184744c2973e773f29c7b6d0"
       ],
       "layout": "IPY_MODEL_0a5110a314074c8bb66c3c523387cae7"
      }
     },
     "1e5a2395bea04170b470da1a24b51888": {
      "model_module": "jupyter-js-widgets",
      "model_module_version": "~2.1.4",
      "model_name": "LayoutModel",
      "state": {
       "_model_module_version": "~2.1.4",
       "_view_module_version": "~2.1.4"
      }
     },
     "219450f411f94082a98505d55ea578b4": {
      "model_module": "jupyter-js-widgets",
      "model_module_version": "~2.1.4",
      "model_name": "LayoutModel",
      "state": {
       "_model_module_version": "~2.1.4",
       "_view_module_version": "~2.1.4"
      }
     },
     "22bebead6617446da6d559e9897641fa": {
      "model_module": "jupyter-js-widgets",
      "model_module_version": "~2.1.4",
      "model_name": "LayoutModel",
      "state": {
       "_model_module_version": "~2.1.4",
       "_view_module_version": "~2.1.4"
      }
     },
     "23e56ce1bde14814a9a710ca260ab574": {
      "model_module": "jupyter-js-widgets",
      "model_module_version": "~2.1.4",
      "model_name": "VBoxModel",
      "state": {
       "_dom_classes": [
        "widget-interact"
       ],
       "_model_module_version": "~2.1.4",
       "_view_module_version": "~2.1.4",
       "children": [
        "IPY_MODEL_1b27c61b30704324bea478f299d45105",
        "IPY_MODEL_c107101df3404b27840c65b1521e5d2b",
        "IPY_MODEL_e87ced1070c54bfbbe9dd3032ae7c17d"
       ],
       "layout": "IPY_MODEL_0b4b0ecf74b34d05bedaef924af93d07"
      }
     },
     "2409b4c2bab14190b97282467ca6ab1d": {
      "model_module": "jupyter-js-widgets",
      "model_module_version": "~2.1.4",
      "model_name": "SliderStyleModel",
      "state": {
       "_model_module_version": "~2.1.4",
       "_view_module_version": "~2.1.4"
      }
     },
     "259ca5d936b34fbb9c686b03698ab842": {
      "model_module": "jupyter-js-widgets",
      "model_module_version": "~2.1.4",
      "model_name": "FloatSliderModel",
      "state": {
       "_model_module_version": "~2.1.4",
       "_view_module_version": "~2.1.4",
       "description": "alpha_1",
       "layout": "IPY_MODEL_4c9e18d0234c4ecc83221c17dfef5daf",
       "max": 50,
       "value": 25
      }
     },
     "2770cb08299e4e2a91dcf666da8afe8e": {
      "model_module": "jupyter-js-widgets",
      "model_module_version": "~2.1.4",
      "model_name": "LayoutModel",
      "state": {
       "_model_module_version": "~2.1.4",
       "_view_module_version": "~2.1.4"
      }
     },
     "278b0190a6184e32b22f959dbd5ad285": {
      "model_module": "jupyter-js-widgets",
      "model_module_version": "~2.1.4",
      "model_name": "LayoutModel",
      "state": {
       "_model_module_version": "~2.1.4",
       "_view_module_version": "~2.1.4"
      }
     },
     "280da215a46c4603b46d37e9bf4e23e3": {
      "model_module": "jupyter-js-widgets",
      "model_module_version": "~2.1.4",
      "model_name": "SliderStyleModel",
      "state": {
       "_model_module_version": "~2.1.4",
       "_view_module_version": "~2.1.4"
      }
     },
     "292477d5823d4cfcbd0918933a5168d1": {
      "model_module": "jupyter-js-widgets",
      "model_module_version": "~2.1.4",
      "model_name": "LayoutModel",
      "state": {
       "_model_module_version": "~2.1.4",
       "_view_module_version": "~2.1.4"
      }
     },
     "2a1b13ecdb0f4c14b5ec49d8ca3dece5": {
      "model_module": "jupyter-js-widgets",
      "model_module_version": "~2.1.4",
      "model_name": "SliderStyleModel",
      "state": {
       "_model_module_version": "~2.1.4",
       "_view_module_version": "~2.1.4"
      }
     },
     "2b7a569bdb4043a49cf22cdf2d2b731d": {
      "model_module": "jupyter-js-widgets",
      "model_module_version": "~2.1.4",
      "model_name": "VBoxModel",
      "state": {
       "_dom_classes": [
        "widget-interact"
       ],
       "_model_module_version": "~2.1.4",
       "_view_module_version": "~2.1.4",
       "children": [
        "IPY_MODEL_a4f09294c6d44dd09050ca97e8015219",
        "IPY_MODEL_626ed2515d4a4c9d89909b884348b443",
        "IPY_MODEL_114f07f7f85948a9b6ba388db4b657c1"
       ],
       "layout": "IPY_MODEL_1e5a2395bea04170b470da1a24b51888"
      }
     },
     "2e388be8462d4ccbb8234e063ef8590f": {
      "model_module": "jupyter-js-widgets",
      "model_module_version": "~2.1.4",
      "model_name": "OutputModel",
      "state": {
       "_dom_classes": [],
       "_model_module": "jupyter-js-widgets",
       "_model_module_version": "~2.1.4",
       "_view_module": "jupyter-js-widgets",
       "_view_module_version": "~2.1.4",
       "layout": "IPY_MODEL_b7d9fb6575854b1797b466e542f9da68",
       "msg_throttle": 1
      }
     },
     "2fb3d7b3e46c4277bc8e4dc5f6bee635": {
      "model_module": "jupyter-js-widgets",
      "model_module_version": "~2.1.4",
      "model_name": "OutputModel",
      "state": {
       "_dom_classes": [],
       "_model_module": "jupyter-js-widgets",
       "_model_module_version": "~2.1.4",
       "_view_module": "jupyter-js-widgets",
       "_view_module_version": "~2.1.4",
       "layout": "IPY_MODEL_39af0743fb6a43ea89af4edc8292241a",
       "msg_throttle": 1
      }
     },
     "30a42c8b89814a63b8c6acf0a9a9a00b": {
      "model_module": "jupyter-js-widgets",
      "model_module_version": "~2.1.4",
      "model_name": "FloatSliderModel",
      "state": {
       "_model_module_version": "~2.1.4",
       "_view_module_version": "~2.1.4",
       "description": "alpha_0",
       "layout": "IPY_MODEL_6cdf3621b25143d4b4877c9ad48d3a13",
       "max": 5,
       "min": 1e-05,
       "step": 0.1,
       "value": 1
      }
     },
     "31beec1c2c5d4ac2a9d40b846fa1eae5": {
      "model_module": "jupyter-js-widgets",
      "model_module_version": "~2.1.4",
      "model_name": "LayoutModel",
      "state": {
       "_model_module_version": "~2.1.4",
       "_view_module_version": "~2.1.4"
      }
     },
     "31ec1ac013514909a246308ecaeec8dd": {
      "model_module": "jupyter-js-widgets",
      "model_module_version": "~2.1.4",
      "model_name": "SliderStyleModel",
      "state": {
       "_model_module_version": "~2.1.4",
       "_view_module_version": "~2.1.4"
      }
     },
     "32edbfb987e245e1adaca7818a9099b9": {
      "model_module": "jupyter-js-widgets",
      "model_module_version": "~2.1.4",
      "model_name": "LayoutModel",
      "state": {
       "_model_module_version": "~2.1.4",
       "_view_module_version": "~2.1.4"
      }
     },
     "34e28bbca444488cb30132e6cc2a622a": {
      "model_module": "jupyter-js-widgets",
      "model_module_version": "~2.1.4",
      "model_name": "LayoutModel",
      "state": {
       "_model_module_version": "~2.1.4",
       "_view_module_version": "~2.1.4"
      }
     },
     "3636de76dc384a37b2eb70be05cbabad": {
      "model_module": "jupyter-js-widgets",
      "model_module_version": "~2.1.4",
      "model_name": "FloatSliderModel",
      "state": {
       "_model_module_version": "~2.1.4",
       "_view_module_version": "~2.1.4",
       "description": "alpha_0",
       "layout": "IPY_MODEL_2770cb08299e4e2a91dcf666da8afe8e",
       "max": 50,
       "step": 0.1,
       "value": 30.6
      }
     },
     "3658aad45404407a89a94c8040b099b1": {
      "model_module": "jupyter-js-widgets",
      "model_module_version": "~2.1.4",
      "model_name": "IntSliderModel",
      "state": {
       "_model_module_version": "~2.1.4",
       "_view_module_version": "~2.1.4",
       "description": "alpha_1",
       "layout": "IPY_MODEL_380dfd71a13f4535849cdcb0900427f3",
       "max": 3,
       "min": -1,
       "style": "IPY_MODEL_d2b26778cc8e4700b56cb76e0cab808a",
       "value": 1
      }
     },
     "36c7864857a840f5bb6d659437463466": {
      "model_module": "jupyter-js-widgets",
      "model_module_version": "~2.1.4",
      "model_name": "FloatSliderModel",
      "state": {
       "_model_module_version": "~2.1.4",
       "_view_module_version": "~2.1.4",
       "description": "alpha_0",
       "layout": "IPY_MODEL_7baaf03278cb4d04a36f807b9afbe53b",
       "max": 50,
       "value": 25
      }
     },
     "380dfd71a13f4535849cdcb0900427f3": {
      "model_module": "jupyter-js-widgets",
      "model_module_version": "~2.1.4",
      "model_name": "LayoutModel",
      "state": {
       "_model_module_version": "~2.1.4",
       "_view_module_version": "~2.1.4"
      }
     },
     "39af0743fb6a43ea89af4edc8292241a": {
      "model_module": "jupyter-js-widgets",
      "model_module_version": "~2.1.4",
      "model_name": "LayoutModel",
      "state": {
       "_model_module_version": "~2.1.4",
       "_view_module_version": "~2.1.4"
      }
     },
     "39e339a67738431d95fbf007933998c9": {
      "model_module": "jupyter-js-widgets",
      "model_module_version": "~2.1.4",
      "model_name": "LayoutModel",
      "state": {
       "_model_module_version": "~2.1.4",
       "_view_module_version": "~2.1.4"
      }
     },
     "3a0272e1f60f4d61aabaffd40166f18e": {
      "model_module": "jupyter-js-widgets",
      "model_module_version": "~2.1.4",
      "model_name": "IntSliderModel",
      "state": {
       "_model_module_version": "~2.1.4",
       "_view_module_version": "~2.1.4",
       "description": "alpha_0",
       "layout": "IPY_MODEL_706facd87ea546b48ea707fc4ba1ca7f",
       "max": 3,
       "min": -1,
       "style": "IPY_MODEL_3e6e9995e7644b7eb5557a5911c97ac7",
       "value": 1
      }
     },
     "3b1ad259c4004506a9596541cfae3813": {
      "model_module": "jupyter-js-widgets",
      "model_module_version": "~2.1.4",
      "model_name": "LayoutModel",
      "state": {
       "_model_module_version": "~2.1.4",
       "_view_module_version": "~2.1.4"
      }
     },
     "3bb6bf1b9db6419398f2d3147ef5ff82": {
      "model_module": "jupyter-js-widgets",
      "model_module_version": "~2.1.4",
      "model_name": "LayoutModel",
      "state": {
       "_model_module_version": "~2.1.4",
       "_view_module_version": "~2.1.4"
      }
     },
     "3de2cb99ecda42aaa5ef69f7ede3f6c2": {
      "model_module": "jupyter-js-widgets",
      "model_module_version": "~2.1.4",
      "model_name": "LayoutModel",
      "state": {
       "_model_module_version": "~2.1.4",
       "_view_module_version": "~2.1.4"
      }
     },
     "3e6e9995e7644b7eb5557a5911c97ac7": {
      "model_module": "jupyter-js-widgets",
      "model_module_version": "~2.1.4",
      "model_name": "SliderStyleModel",
      "state": {
       "_model_module_version": "~2.1.4",
       "_view_module_version": "~2.1.4"
      }
     },
     "3e70920b68ac4805913d8a04526c187a": {
      "model_module": "jupyter-js-widgets",
      "model_module_version": "~2.1.4",
      "model_name": "VBoxModel",
      "state": {
       "_dom_classes": [
        "widget-interact"
       ],
       "_model_module_version": "~2.1.4",
       "_view_module_version": "~2.1.4",
       "children": [
        "IPY_MODEL_e8269ff85fec47568550c0dd470e0bbc",
        "IPY_MODEL_0185d91495ae486bb425f81700e1ea4f",
        "IPY_MODEL_944fc5b304634de39641fcea810cbbdd"
       ],
       "layout": "IPY_MODEL_b501b98c05b747e388873141f84f59e4"
      }
     },
     "3e87f0d4c24b49139edce62c82f6cd0b": {
      "model_module": "jupyter-js-widgets",
      "model_module_version": "~2.1.4",
      "model_name": "LayoutModel",
      "state": {
       "_model_module_version": "~2.1.4",
       "_view_module_version": "~2.1.4"
      }
     },
     "3fe7a17cb4024619b81de39920383801": {
      "model_module": "jupyter-js-widgets",
      "model_module_version": "~2.1.4",
      "model_name": "LayoutModel",
      "state": {
       "_model_module_version": "~2.1.4",
       "_view_module_version": "~2.1.4"
      }
     },
     "410227a45135417ebdca5a8f292845c6": {
      "model_module": "jupyter-js-widgets",
      "model_module_version": "~2.1.4",
      "model_name": "IntSliderModel",
      "state": {
       "_model_module_version": "~2.1.4",
       "_view_module_version": "~2.1.4",
       "description": "alpha_0",
       "layout": "IPY_MODEL_3bb6bf1b9db6419398f2d3147ef5ff82",
       "max": 3,
       "min": -1,
       "style": "IPY_MODEL_6b0a8ea9cb2d4f5c9b39b64f230167c5",
       "value": 1
      }
     },
     "41ce52bf6ec64599a64276e5492cc0d4": {
      "model_module": "jupyter-js-widgets",
      "model_module_version": "~2.1.4",
      "model_name": "SliderStyleModel",
      "state": {
       "_model_module_version": "~2.1.4",
       "_view_module_version": "~2.1.4"
      }
     },
     "41d251ad16a847e5af092226f1f32644": {
      "model_module": "jupyter-js-widgets",
      "model_module_version": "~2.1.4",
      "model_name": "FloatSliderModel",
      "state": {
       "_model_module_version": "~2.1.4",
       "_view_module_version": "~2.1.4",
       "description": "alpha_1",
       "layout": "IPY_MODEL_34e28bbca444488cb30132e6cc2a622a",
       "max": 5,
       "min": 1e-20,
       "step": 0.1,
       "value": 1
      }
     },
     "42a558bd3c984701ae71d4f61b266539": {
      "model_module": "jupyter-js-widgets",
      "model_module_version": "~2.1.4",
      "model_name": "OutputModel",
      "state": {
       "_dom_classes": [],
       "_model_module": "jupyter-js-widgets",
       "_model_module_version": "~2.1.4",
       "_view_module": "jupyter-js-widgets",
       "_view_module_version": "~2.1.4",
       "layout": "IPY_MODEL_8348d4fd22e9463aa96af2af31d542e1",
       "msg_throttle": 1
      }
     },
     "42d20f2c497044cdbccdc88db43d337e": {
      "model_module": "jupyter-js-widgets",
      "model_module_version": "~2.1.4",
      "model_name": "FloatSliderModel",
      "state": {
       "_model_module_version": "~2.1.4",
       "_view_module_version": "~2.1.4",
       "description": "alpha_1",
       "layout": "IPY_MODEL_ec54a3cdc42640859556b8949d67c10a",
       "max": 1,
       "step": 50
      }
     },
     "4317ae4d447c4cceac0e155f14dfe68b": {
      "model_module": "jupyter-js-widgets",
      "model_module_version": "~2.1.4",
      "model_name": "VBoxModel",
      "state": {
       "_dom_classes": [
        "widget-interact"
       ],
       "_model_module_version": "~2.1.4",
       "_view_module_version": "~2.1.4",
       "children": [
        "IPY_MODEL_ce3acb88f17947659d401a526f89030e",
        "IPY_MODEL_cb3d551d110b4ab0804c54d4192fc856",
        "IPY_MODEL_1493b21bb66a4f7193b21cf2a3b5de13"
       ],
       "layout": "IPY_MODEL_c6acaf6833104f1d92f24a47d1b87392"
      }
     },
     "43bf09d83aa3420fae8c4da94dfec1ab": {
      "model_module": "jupyter-js-widgets",
      "model_module_version": "~2.1.4",
      "model_name": "OutputModel",
      "state": {
       "_dom_classes": [],
       "_model_module": "jupyter-js-widgets",
       "_model_module_version": "~2.1.4",
       "_view_module": "jupyter-js-widgets",
       "_view_module_version": "~2.1.4",
       "layout": "IPY_MODEL_10ef81c9b95d414786e2edef0bff91ac",
       "msg_throttle": 1
      }
     },
     "44e82a72d8cf420f923d7f505504d14f": {
      "model_module": "jupyter-js-widgets",
      "model_module_version": "~2.1.4",
      "model_name": "FloatSliderModel",
      "state": {
       "_model_module_version": "~2.1.4",
       "_view_module_version": "~2.1.4",
       "description": "alpha_0",
       "layout": "IPY_MODEL_8c8f72cf272441488c371a5345b9b469",
       "max": 50,
       "value": 25
      }
     },
     "45ef7bded82940579dae67a205448cd3": {
      "model_module": "jupyter-js-widgets",
      "model_module_version": "~2.1.4",
      "model_name": "VBoxModel",
      "state": {
       "_dom_classes": [
        "widget-interact"
       ],
       "_model_module_version": "~2.1.4",
       "_view_module_version": "~2.1.4",
       "children": [
        "IPY_MODEL_e6fc11519362447cb1396319a7b17111",
        "IPY_MODEL_42d20f2c497044cdbccdc88db43d337e",
        "IPY_MODEL_b01d3174b1a34f5cba3883dfbc29184a"
       ],
       "layout": "IPY_MODEL_089881aa0bc2445d8483705fb903ddb5"
      }
     },
     "461bf0e9fb4f489c9cde3bbf97986c7b": {
      "model_module": "jupyter-js-widgets",
      "model_module_version": "~2.1.4",
      "model_name": "FloatSliderModel",
      "state": {
       "_model_module_version": "~2.1.4",
       "_view_module_version": "~2.1.4",
       "description": "alpha_1",
       "layout": "IPY_MODEL_0dd1a1fe4570474590df16322f073afd",
       "max": 50,
       "value": 25
      }
     },
     "4737fe49a0c84f538f42ea7f508bc781": {
      "model_module": "jupyter-js-widgets",
      "model_module_version": "~2.1.4",
      "model_name": "VBoxModel",
      "state": {
       "_dom_classes": [
        "widget-interact"
       ],
       "_model_module_version": "~2.1.4",
       "_view_module_version": "~2.1.4",
       "children": [
        "IPY_MODEL_d9923efac4684801a62d8bc9d52dd6c5",
        "IPY_MODEL_c43b0291b3d74cafb4e6dc630c1ee5fa",
        "IPY_MODEL_b9dc4656ea1b4b06b5ffca38f6f631d6"
       ],
       "layout": "IPY_MODEL_0f99a6a2a9204a23b2ae2460d96e0716"
      }
     },
     "4a2f7cbcac174835833ac83ce89b94f6": {
      "model_module": "jupyter-js-widgets",
      "model_module_version": "~2.1.4",
      "model_name": "IntSliderModel",
      "state": {
       "_model_module_version": "~2.1.4",
       "_view_module_version": "~2.1.4",
       "description": "alpha_1",
       "layout": "IPY_MODEL_586696ed68ae4e5288506bd357615ed8",
       "max": 3,
       "min": -1,
       "style": "IPY_MODEL_31ec1ac013514909a246308ecaeec8dd",
       "value": 1
      }
     },
     "4a8be32e9f3e451289a35e89022905f1": {
      "model_module": "jupyter-js-widgets",
      "model_module_version": "~2.1.4",
      "model_name": "LayoutModel",
      "state": {
       "_model_module_version": "~2.1.4",
       "_view_module_version": "~2.1.4"
      }
     },
     "4b3892ea713e4caeb6e42859738b6f69": {
      "model_module": "jupyter-js-widgets",
      "model_module_version": "~2.1.4",
      "model_name": "VBoxModel",
      "state": {
       "_dom_classes": [
        "widget-interact"
       ],
       "_model_module_version": "~2.1.4",
       "_view_module_version": "~2.1.4",
       "children": [
        "IPY_MODEL_5aaf026538ae458fb12894c371d36965",
        "IPY_MODEL_f93d9f7690a74202b43d94ee6e5d37db",
        "IPY_MODEL_9a5482fca7d14e96aba73585d3ac5ba4"
       ],
       "layout": "IPY_MODEL_f99463ff8fe54c0797b78190773fb855"
      }
     },
     "4bf53532905d416ebc77d8f5f2f5f062": {
      "model_module": "jupyter-js-widgets",
      "model_module_version": "~2.1.4",
      "model_name": "OutputModel",
      "state": {
       "_dom_classes": [],
       "_model_module": "jupyter-js-widgets",
       "_model_module_version": "~2.1.4",
       "_view_module": "jupyter-js-widgets",
       "_view_module_version": "~2.1.4",
       "layout": "IPY_MODEL_0b120c9a090649a7875184acd7845e84",
       "msg_throttle": 1
      }
     },
     "4c9e18d0234c4ecc83221c17dfef5daf": {
      "model_module": "jupyter-js-widgets",
      "model_module_version": "~2.1.4",
      "model_name": "LayoutModel",
      "state": {
       "_model_module_version": "~2.1.4",
       "_view_module_version": "~2.1.4"
      }
     },
     "4cefea053ccd48c0a8f518b26877d1fa": {
      "model_module": "jupyter-js-widgets",
      "model_module_version": "~2.1.4",
      "model_name": "IntSliderModel",
      "state": {
       "_model_module_version": "~2.1.4",
       "_view_module_version": "~2.1.4",
       "description": "alpha_0",
       "layout": "IPY_MODEL_60f7254e2020473781f6683b0b8e66d4",
       "max": 3,
       "min": -1,
       "style": "IPY_MODEL_8bbe186ca9fb4cc1afe5e0634b81c01f"
      }
     },
     "4d84d950c08a4bb6b5a5094dbffeee76": {
      "model_module": "jupyter-js-widgets",
      "model_module_version": "~2.1.4",
      "model_name": "LayoutModel",
      "state": {
       "_model_module_version": "~2.1.4",
       "_view_module_version": "~2.1.4"
      }
     },
     "4dee8ecc322141fe83d85ad0b875eb7d": {
      "model_module": "jupyter-js-widgets",
      "model_module_version": "~2.1.4",
      "model_name": "LayoutModel",
      "state": {
       "_model_module_version": "~2.1.4",
       "_view_module_version": "~2.1.4"
      }
     },
     "4f445eae468342df9606ebf9c9e75ef0": {
      "model_module": "jupyter-js-widgets",
      "model_module_version": "~2.1.4",
      "model_name": "FloatSliderModel",
      "state": {
       "_model_module_version": "~2.1.4",
       "_view_module_version": "~2.1.4",
       "description": "alpha_1",
       "layout": "IPY_MODEL_18bc916569234b54a724d5168589cc17",
       "max": 50,
       "value": 25
      }
     },
     "4f9269ac12c54199b49ab6b5f5cb33ff": {
      "model_module": "jupyter-js-widgets",
      "model_module_version": "~2.1.4",
      "model_name": "LayoutModel",
      "state": {
       "_model_module_version": "~2.1.4",
       "_view_module_version": "~2.1.4"
      }
     },
     "532bb85aaf2949199a68f950851fcf1d": {
      "model_module": "jupyter-js-widgets",
      "model_module_version": "~2.1.4",
      "model_name": "OutputModel",
      "state": {
       "_dom_classes": [],
       "_model_module": "jupyter-js-widgets",
       "_model_module_version": "~2.1.4",
       "_view_module": "jupyter-js-widgets",
       "_view_module_version": "~2.1.4",
       "layout": "IPY_MODEL_d6bd9473889f48df95108bd9d39804a0",
       "msg_throttle": 1
      }
     },
     "53bcd4358598415090eba5f8c9aaa701": {
      "model_module": "jupyter-js-widgets",
      "model_module_version": "~2.1.4",
      "model_name": "LayoutModel",
      "state": {
       "_model_module_version": "~2.1.4",
       "_view_module_version": "~2.1.4"
      }
     },
     "55a5da8cc1854188838da83bc347ff67": {
      "model_module": "jupyter-js-widgets",
      "model_module_version": "~2.1.4",
      "model_name": "LayoutModel",
      "state": {
       "_model_module_version": "~2.1.4",
       "_view_module_version": "~2.1.4"
      }
     },
     "57c7cec705914fe7a7aed79ace0b0e1a": {
      "model_module": "jupyter-js-widgets",
      "model_module_version": "~2.1.4",
      "model_name": "FloatSliderModel",
      "state": {
       "_model_module_version": "~2.1.4",
       "_view_module_version": "~2.1.4",
       "description": "alpha_0",
       "layout": "IPY_MODEL_c0ad7e9f2c3d491db79f87962e71193d",
       "max": 50,
       "value": 25
      }
     },
     "584d4feb7253493f8db6381865c674d1": {
      "model_module": "jupyter-js-widgets",
      "model_module_version": "~2.1.4",
      "model_name": "OutputModel",
      "state": {
       "_dom_classes": [],
       "_model_module": "jupyter-js-widgets",
       "_model_module_version": "~2.1.4",
       "_view_module": "jupyter-js-widgets",
       "_view_module_version": "~2.1.4",
       "layout": "IPY_MODEL_fcb20f5e611a432296ed55de4326eb3e",
       "msg_throttle": 1
      }
     },
     "586696ed68ae4e5288506bd357615ed8": {
      "model_module": "jupyter-js-widgets",
      "model_module_version": "~2.1.4",
      "model_name": "LayoutModel",
      "state": {
       "_model_module_version": "~2.1.4",
       "_view_module_version": "~2.1.4"
      }
     },
     "5aaf026538ae458fb12894c371d36965": {
      "model_module": "jupyter-js-widgets",
      "model_module_version": "~2.1.4",
      "model_name": "IntSliderModel",
      "state": {
       "_model_module_version": "~2.1.4",
       "_view_module_version": "~2.1.4",
       "description": "alpha_0",
       "layout": "IPY_MODEL_3e87f0d4c24b49139edce62c82f6cd0b",
       "max": 3,
       "min": -1,
       "style": "IPY_MODEL_2409b4c2bab14190b97282467ca6ab1d",
       "value": 1
      }
     },
     "5cfa625153dd424ea6acf6b9a256cbc4": {
      "model_module": "jupyter-js-widgets",
      "model_module_version": "~2.1.4",
      "model_name": "VBoxModel",
      "state": {
       "_dom_classes": [
        "widget-interact"
       ],
       "_model_module_version": "~2.1.4",
       "_view_module_version": "~2.1.4",
       "children": [
        "IPY_MODEL_30a42c8b89814a63b8c6acf0a9a9a00b",
        "IPY_MODEL_e8817fd6bd2b4550b72b163d3ce7abaa",
        "IPY_MODEL_43bf09d83aa3420fae8c4da94dfec1ab"
       ],
       "layout": "IPY_MODEL_dd2dee68fb2742e4ba2436cc71f79803"
      }
     },
     "5d8cb31c8b7744118423e1fce4cfe0bd": {
      "model_module": "jupyter-js-widgets",
      "model_module_version": "~2.1.4",
      "model_name": "VBoxModel",
      "state": {
       "_dom_classes": [
        "widget-interact"
       ],
       "_model_module_version": "~2.1.4",
       "_view_module_version": "~2.1.4",
       "children": [
        "IPY_MODEL_c336e8dcb28942588fbf552c3e6dd58c",
        "IPY_MODEL_e03e9aac785e46deadacecb850c0c9e1",
        "IPY_MODEL_2fb3d7b3e46c4277bc8e4dc5f6bee635"
       ],
       "layout": "IPY_MODEL_c38305e6c6364610bdd29dbef8aea0aa"
      }
     },
     "60b6168cbcbc4534ad24f5fac170fe6a": {
      "model_module": "jupyter-js-widgets",
      "model_module_version": "~2.1.4",
      "model_name": "LayoutModel",
      "state": {
       "_model_module_version": "~2.1.4",
       "_view_module_version": "~2.1.4"
      }
     },
     "60f7254e2020473781f6683b0b8e66d4": {
      "model_module": "jupyter-js-widgets",
      "model_module_version": "~2.1.4",
      "model_name": "LayoutModel",
      "state": {
       "_model_module_version": "~2.1.4",
       "_view_module_version": "~2.1.4"
      }
     },
     "610148754236452ebd3d7f248af8c322": {
      "model_module": "jupyter-js-widgets",
      "model_module_version": "~2.1.4",
      "model_name": "SliderStyleModel",
      "state": {
       "_model_module_version": "~2.1.4",
       "_view_module_version": "~2.1.4"
      }
     },
     "61f0da5c316c49e4b53b1e9db3c423d1": {
      "model_module": "jupyter-js-widgets",
      "model_module_version": "~2.1.4",
      "model_name": "LayoutModel",
      "state": {
       "_model_module_version": "~2.1.4",
       "_view_module_version": "~2.1.4"
      }
     },
     "6242ebbc6775487f82710fa6c223e919": {
      "model_module": "jupyter-js-widgets",
      "model_module_version": "~2.1.4",
      "model_name": "FloatSliderModel",
      "state": {
       "_model_module_version": "~2.1.4",
       "_view_module_version": "~2.1.4",
       "description": "alpha_0",
       "layout": "IPY_MODEL_7e76087fbbe640a0bace31eadd6f8f7a",
       "max": 50,
       "value": 25
      }
     },
     "626ed2515d4a4c9d89909b884348b443": {
      "model_module": "jupyter-js-widgets",
      "model_module_version": "~2.1.4",
      "model_name": "IntSliderModel",
      "state": {
       "_model_module_version": "~2.1.4",
       "_view_module_version": "~2.1.4",
       "description": "alpha_1",
       "layout": "IPY_MODEL_00b99f0695e24cf8afc7eab609afa422",
       "max": 50,
       "style": "IPY_MODEL_2a1b13ecdb0f4c14b5ec49d8ca3dece5",
       "value": 1
      }
     },
     "646a79c70c4748448641f33e5bb3545b": {
      "model_module": "jupyter-js-widgets",
      "model_module_version": "~2.1.4",
      "model_name": "OutputModel",
      "state": {
       "_dom_classes": [],
       "_model_module": "jupyter-js-widgets",
       "_model_module_version": "~2.1.4",
       "_view_module": "jupyter-js-widgets",
       "_view_module_version": "~2.1.4",
       "layout": "IPY_MODEL_219450f411f94082a98505d55ea578b4",
       "msg_throttle": 1
      }
     },
     "650d165911cb4ec2b59fe2bd3a477800": {
      "model_module": "jupyter-js-widgets",
      "model_module_version": "~2.1.4",
      "model_name": "FloatSliderModel",
      "state": {
       "_model_module_version": "~2.1.4",
       "_view_module_version": "~2.1.4",
       "description": "alpha_0",
       "layout": "IPY_MODEL_a6ea43ae724e4c0d94362d8559a38bc2",
       "max": 5,
       "min": 1e-20,
       "step": 0.1,
       "value": 0.7
      }
     },
     "65e1b047a5ca475fb0024754dde16b5b": {
      "model_module": "jupyter-js-widgets",
      "model_module_version": "~2.1.4",
      "model_name": "LayoutModel",
      "state": {
       "_model_module_version": "~2.1.4",
       "_view_module_version": "~2.1.4"
      }
     },
     "68a5950f51234c03a5b2d52644e17ef9": {
      "model_module": "jupyter-js-widgets",
      "model_module_version": "~2.1.4",
      "model_name": "OutputModel",
      "state": {
       "_dom_classes": [],
       "_model_module": "jupyter-js-widgets",
       "_model_module_version": "~2.1.4",
       "_view_module": "jupyter-js-widgets",
       "_view_module_version": "~2.1.4",
       "layout": "IPY_MODEL_13cc8f8b865340029595dd77fe0d0987",
       "msg_throttle": 1
      }
     },
     "68c4146b4f7044a2ab61b29f461b0283": {
      "model_module": "jupyter-js-widgets",
      "model_module_version": "~2.1.4",
      "model_name": "FloatSliderModel",
      "state": {
       "_model_module_version": "~2.1.4",
       "_view_module_version": "~2.1.4",
       "description": "alpha_1",
       "layout": "IPY_MODEL_61f0da5c316c49e4b53b1e9db3c423d1",
       "max": 50,
       "value": 25
      }
     },
     "6b0a8ea9cb2d4f5c9b39b64f230167c5": {
      "model_module": "jupyter-js-widgets",
      "model_module_version": "~2.1.4",
      "model_name": "SliderStyleModel",
      "state": {
       "_model_module_version": "~2.1.4",
       "_view_module_version": "~2.1.4"
      }
     },
     "6cd4484a04d24880a65c868b2ab3ebea": {
      "model_module": "jupyter-js-widgets",
      "model_module_version": "~2.1.4",
      "model_name": "FloatSliderModel",
      "state": {
       "_model_module_version": "~2.1.4",
       "_view_module_version": "~2.1.4",
       "description": "alpha_1",
       "layout": "IPY_MODEL_32edbfb987e245e1adaca7818a9099b9",
       "max": 5,
       "min": 1e-05,
       "step": 0.1,
       "value": 3.40001
      }
     },
     "6cdf3621b25143d4b4877c9ad48d3a13": {
      "model_module": "jupyter-js-widgets",
      "model_module_version": "~2.1.4",
      "model_name": "LayoutModel",
      "state": {
       "_model_module_version": "~2.1.4",
       "_view_module_version": "~2.1.4"
      }
     },
     "6ffbe89668214eb99b8ba61db2f88139": {
      "model_module": "jupyter-js-widgets",
      "model_module_version": "~2.1.4",
      "model_name": "LayoutModel",
      "state": {
       "_model_module_version": "~2.1.4",
       "_view_module_version": "~2.1.4"
      }
     },
     "706facd87ea546b48ea707fc4ba1ca7f": {
      "model_module": "jupyter-js-widgets",
      "model_module_version": "~2.1.4",
      "model_name": "LayoutModel",
      "state": {
       "_model_module_version": "~2.1.4",
       "_view_module_version": "~2.1.4"
      }
     },
     "723a633c9a014e4eb0828c23834a23d6": {
      "model_module": "jupyter-js-widgets",
      "model_module_version": "~2.1.4",
      "model_name": "LayoutModel",
      "state": {
       "_model_module_version": "~2.1.4",
       "_view_module_version": "~2.1.4"
      }
     },
     "797ded02c41a469891f65cf91105494b": {
      "model_module": "jupyter-js-widgets",
      "model_module_version": "~2.1.4",
      "model_name": "LayoutModel",
      "state": {
       "_model_module_version": "~2.1.4",
       "_view_module_version": "~2.1.4"
      }
     },
     "7a46e048377144358d63b5e18d777c67": {
      "model_module": "jupyter-js-widgets",
      "model_module_version": "~2.1.4",
      "model_name": "FloatSliderModel",
      "state": {
       "_model_module_version": "~2.1.4",
       "_view_module_version": "~2.1.4",
       "description": "alpha_0",
       "layout": "IPY_MODEL_ab32954080f148429df06cbce73f2d5e",
       "max": 5,
       "min": 1e-20,
       "step": 0.1,
       "value": 1
      }
     },
     "7baaf03278cb4d04a36f807b9afbe53b": {
      "model_module": "jupyter-js-widgets",
      "model_module_version": "~2.1.4",
      "model_name": "LayoutModel",
      "state": {
       "_model_module_version": "~2.1.4",
       "_view_module_version": "~2.1.4"
      }
     },
     "7c190dfca02440aca3284b7743774d90": {
      "model_module": "jupyter-js-widgets",
      "model_module_version": "~2.1.4",
      "model_name": "OutputModel",
      "state": {
       "_dom_classes": [],
       "_model_module": "jupyter-js-widgets",
       "_model_module_version": "~2.1.4",
       "_view_module": "jupyter-js-widgets",
       "_view_module_version": "~2.1.4",
       "layout": "IPY_MODEL_dff99ec1a7684191802aeca98e0b442b",
       "msg_throttle": 1
      }
     },
     "7cc26024c61b42ee8884c1aec9d4cb5a": {
      "model_module": "jupyter-js-widgets",
      "model_module_version": "~2.1.4",
      "model_name": "IntSliderModel",
      "state": {
       "_model_module_version": "~2.1.4",
       "_view_module_version": "~2.1.4",
       "description": "alpha_1",
       "layout": "IPY_MODEL_31beec1c2c5d4ac2a9d40b846fa1eae5",
       "max": 3,
       "min": -1,
       "style": "IPY_MODEL_41ce52bf6ec64599a64276e5492cc0d4",
       "value": 1
      }
     },
     "7d9c91037daa449f9e9ad04fa1104b38": {
      "model_module": "jupyter-js-widgets",
      "model_module_version": "~2.1.4",
      "model_name": "FloatSliderModel",
      "state": {
       "_model_module_version": "~2.1.4",
       "_view_module_version": "~2.1.4",
       "description": "alpha_1",
       "layout": "IPY_MODEL_1775ed7f2ddd4ce3b61752fe5680bf6c",
       "max": 50,
       "value": 17
      }
     },
     "7e10d7f0439045d0a9f33ed972e89b6b": {
      "model_module": "jupyter-js-widgets",
      "model_module_version": "~2.1.4",
      "model_name": "OutputModel",
      "state": {
       "_dom_classes": [],
       "_model_module": "jupyter-js-widgets",
       "_model_module_version": "~2.1.4",
       "_view_module": "jupyter-js-widgets",
       "_view_module_version": "~2.1.4",
       "layout": "IPY_MODEL_eef050e0a217483f82816f8990323a87",
       "msg_throttle": 1
      }
     },
     "7e76087fbbe640a0bace31eadd6f8f7a": {
      "model_module": "jupyter-js-widgets",
      "model_module_version": "~2.1.4",
      "model_name": "LayoutModel",
      "state": {
       "_model_module_version": "~2.1.4",
       "_view_module_version": "~2.1.4"
      }
     },
     "81548a26376546ecb7e1b7b40c2d5c9a": {
      "model_module": "jupyter-js-widgets",
      "model_module_version": "~2.1.4",
      "model_name": "OutputModel",
      "state": {
       "_dom_classes": [],
       "_model_module": "jupyter-js-widgets",
       "_model_module_version": "~2.1.4",
       "_view_module": "jupyter-js-widgets",
       "_view_module_version": "~2.1.4",
       "layout": "IPY_MODEL_4dee8ecc322141fe83d85ad0b875eb7d",
       "msg_throttle": 1
      }
     },
     "8348d4fd22e9463aa96af2af31d542e1": {
      "model_module": "jupyter-js-widgets",
      "model_module_version": "~2.1.4",
      "model_name": "LayoutModel",
      "state": {
       "_model_module_version": "~2.1.4",
       "_view_module_version": "~2.1.4"
      }
     },
     "837bc045e988471ab28c5dc13722b604": {
      "model_module": "jupyter-js-widgets",
      "model_module_version": "~2.1.4",
      "model_name": "LayoutModel",
      "state": {
       "_model_module_version": "~2.1.4",
       "_view_module_version": "~2.1.4"
      }
     },
     "84c0be1cdd934a49b7521f5c5fcc4469": {
      "model_module": "jupyter-js-widgets",
      "model_module_version": "~2.1.4",
      "model_name": "FloatSliderModel",
      "state": {
       "_model_module_version": "~2.1.4",
       "_view_module_version": "~2.1.4",
       "description": "alpha_0",
       "layout": "IPY_MODEL_138d4ee0e37040c98b618959570f7505",
       "max": 5,
       "min": 1e-05,
       "step": 0.1,
       "value": 2.00001
      }
     },
     "8555e6c878f848458e080a10d3d0a8f2": {
      "model_module": "jupyter-js-widgets",
      "model_module_version": "~2.1.4",
      "model_name": "VBoxModel",
      "state": {
       "_dom_classes": [
        "widget-interact"
       ],
       "_model_module_version": "~2.1.4",
       "_view_module_version": "~2.1.4",
       "children": [
        "IPY_MODEL_e6ecda4a4a684aaaa8c2716c7c014336",
        "IPY_MODEL_259ca5d936b34fbb9c686b03698ab842",
        "IPY_MODEL_584d4feb7253493f8db6381865c674d1"
       ],
       "layout": "IPY_MODEL_87889954465348e1bf241a38328b3804"
      }
     },
     "87889954465348e1bf241a38328b3804": {
      "model_module": "jupyter-js-widgets",
      "model_module_version": "~2.1.4",
      "model_name": "LayoutModel",
      "state": {
       "_model_module_version": "~2.1.4",
       "_view_module_version": "~2.1.4"
      }
     },
     "878977fed9f84508aea0bbc0789d1cc3": {
      "model_module": "jupyter-js-widgets",
      "model_module_version": "~2.1.4",
      "model_name": "LayoutModel",
      "state": {
       "_model_module_version": "~2.1.4",
       "_view_module_version": "~2.1.4"
      }
     },
     "8bbe186ca9fb4cc1afe5e0634b81c01f": {
      "model_module": "jupyter-js-widgets",
      "model_module_version": "~2.1.4",
      "model_name": "SliderStyleModel",
      "state": {
       "_model_module_version": "~2.1.4",
       "_view_module_version": "~2.1.4"
      }
     },
     "8c51eb55d48e4b58a26be2d2fc99b771": {
      "model_module": "jupyter-js-widgets",
      "model_module_version": "~2.1.4",
      "model_name": "LayoutModel",
      "state": {
       "_model_module_version": "~2.1.4",
       "_view_module_version": "~2.1.4"
      }
     },
     "8c76925b967c470d9a3f85af9818af7b": {
      "model_module": "jupyter-js-widgets",
      "model_module_version": "~2.1.4",
      "model_name": "VBoxModel",
      "state": {
       "_dom_classes": [
        "widget-interact"
       ],
       "_model_module_version": "~2.1.4",
       "_view_module_version": "~2.1.4",
       "children": [
        "IPY_MODEL_986e1869e31346b6bbe421660cdcc6f7",
        "IPY_MODEL_aeb7daa98d1046bd8a4b6a4a33f4ebc5",
        "IPY_MODEL_f9dc3197ada345d0a0f839d2bb570abf"
       ],
       "layout": "IPY_MODEL_53bcd4358598415090eba5f8c9aaa701"
      }
     },
     "8c8f72cf272441488c371a5345b9b469": {
      "model_module": "jupyter-js-widgets",
      "model_module_version": "~2.1.4",
      "model_name": "LayoutModel",
      "state": {
       "_model_module_version": "~2.1.4",
       "_view_module_version": "~2.1.4"
      }
     },
     "8cc5f2417fdd4f338a58013e9cdfe5df": {
      "model_module": "jupyter-js-widgets",
      "model_module_version": "~2.1.4",
      "model_name": "FloatSliderModel",
      "state": {
       "_model_module_version": "~2.1.4",
       "_view_module_version": "~2.1.4",
       "description": "alpha_1",
       "layout": "IPY_MODEL_b9a0d011978d478bae573f286fb8b7a0",
       "max": 5,
       "min": 1e-20,
       "step": 0.1,
       "value": 0.5
      }
     },
     "8d31a916c24c401cb467789fc337481b": {
      "model_module": "jupyter-js-widgets",
      "model_module_version": "~2.1.4",
      "model_name": "LayoutModel",
      "state": {
       "_model_module_version": "~2.1.4",
       "_view_module_version": "~2.1.4"
      }
     },
     "8d9aa06296d24d9a84c306fca78c1922": {
      "model_module": "jupyter-js-widgets",
      "model_module_version": "~2.1.4",
      "model_name": "OutputModel",
      "state": {
       "_dom_classes": [],
       "_model_module": "jupyter-js-widgets",
       "_model_module_version": "~2.1.4",
       "_view_module": "jupyter-js-widgets",
       "_view_module_version": "~2.1.4",
       "layout": "IPY_MODEL_095c3d0cbc444ea1b099e9bd23f93e55",
       "msg_throttle": 1
      }
     },
     "8f510221aad14ab6a5e9795cc45a161e": {
      "model_module": "jupyter-js-widgets",
      "model_module_version": "~2.1.4",
      "model_name": "LayoutModel",
      "state": {
       "_model_module_version": "~2.1.4",
       "_view_module_version": "~2.1.4"
      }
     },
     "8f5aec98ae214657b5e9a1764bfadbe4": {
      "model_module": "jupyter-js-widgets",
      "model_module_version": "~2.1.4",
      "model_name": "LayoutModel",
      "state": {
       "_model_module_version": "~2.1.4",
       "_view_module_version": "~2.1.4"
      }
     },
     "8ff2109a95df4e848a21ced520dd53ed": {
      "model_module": "jupyter-js-widgets",
      "model_module_version": "~2.1.4",
      "model_name": "VBoxModel",
      "state": {
       "_dom_classes": [
        "widget-interact"
       ],
       "_model_module_version": "~2.1.4",
       "_view_module_version": "~2.1.4",
       "children": [
        "IPY_MODEL_6242ebbc6775487f82710fa6c223e919",
        "IPY_MODEL_4f445eae468342df9606ebf9c9e75ef0",
        "IPY_MODEL_8d9aa06296d24d9a84c306fca78c1922"
       ],
       "layout": "IPY_MODEL_4f9269ac12c54199b49ab6b5f5cb33ff"
      }
     },
     "903f18107cf24735a95ba14e3f205a21": {
      "model_module": "jupyter-js-widgets",
      "model_module_version": "~2.1.4",
      "model_name": "LayoutModel",
      "state": {
       "_model_module_version": "~2.1.4",
       "_view_module_version": "~2.1.4"
      }
     },
     "923ee436e81945efa72546856a7be35b": {
      "model_module": "jupyter-js-widgets",
      "model_module_version": "~2.1.4",
      "model_name": "LayoutModel",
      "state": {
       "_model_module_version": "~2.1.4",
       "_view_module_version": "~2.1.4"
      }
     },
     "9368338e3dc44be2a721538d446bbbaf": {
      "model_module": "jupyter-js-widgets",
      "model_module_version": "~2.1.4",
      "model_name": "LayoutModel",
      "state": {
       "_model_module_version": "~2.1.4",
       "_view_module_version": "~2.1.4"
      }
     },
     "944fc5b304634de39641fcea810cbbdd": {
      "model_module": "jupyter-js-widgets",
      "model_module_version": "~2.1.4",
      "model_name": "OutputModel",
      "state": {
       "_dom_classes": [],
       "_model_module": "jupyter-js-widgets",
       "_model_module_version": "~2.1.4",
       "_view_module": "jupyter-js-widgets",
       "_view_module_version": "~2.1.4",
       "layout": "IPY_MODEL_007ba116b0a74ca68ac7f83d4c9f8ee4",
       "msg_throttle": 1
      }
     },
     "9471fe3e1ed74ccca329ecca03135ed6": {
      "model_module": "jupyter-js-widgets",
      "model_module_version": "~2.1.4",
      "model_name": "LayoutModel",
      "state": {
       "_model_module_version": "~2.1.4",
       "_view_module_version": "~2.1.4"
      }
     },
     "9497808823cd4bce89e5484e1e6acb6e": {
      "model_module": "jupyter-js-widgets",
      "model_module_version": "~2.1.4",
      "model_name": "LayoutModel",
      "state": {
       "_model_module_version": "~2.1.4",
       "_view_module_version": "~2.1.4"
      }
     },
     "94bdaed93698440f97ff63af8e554cef": {
      "model_module": "jupyter-js-widgets",
      "model_module_version": "~2.1.4",
      "model_name": "LayoutModel",
      "state": {
       "_model_module_version": "~2.1.4",
       "_view_module_version": "~2.1.4"
      }
     },
     "959a6ee30f204730a8a318cba66f5908": {
      "model_module": "jupyter-js-widgets",
      "model_module_version": "~2.1.4",
      "model_name": "VBoxModel",
      "state": {
       "_dom_classes": [
        "widget-interact"
       ],
       "_model_module_version": "~2.1.4",
       "_view_module_version": "~2.1.4",
       "children": [
        "IPY_MODEL_3636de76dc384a37b2eb70be05cbabad",
        "IPY_MODEL_09139e1b80c8425384e76ba2fad76c0b",
        "IPY_MODEL_68a5950f51234c03a5b2d52644e17ef9"
       ],
       "layout": "IPY_MODEL_8d31a916c24c401cb467789fc337481b"
      }
     },
     "9808308912b64476b34b87bade7a97e8": {
      "model_module": "jupyter-js-widgets",
      "model_module_version": "~2.1.4",
      "model_name": "VBoxModel",
      "state": {
       "_dom_classes": [
        "widget-interact"
       ],
       "_model_module_version": "~2.1.4",
       "_view_module_version": "~2.1.4",
       "children": [
        "IPY_MODEL_16ed36eb00ac4c00a02c9a3e6749fe4e",
        "IPY_MODEL_7d9c91037daa449f9e9ad04fa1104b38",
        "IPY_MODEL_532bb85aaf2949199a68f950851fcf1d"
       ],
       "layout": "IPY_MODEL_878977fed9f84508aea0bbc0789d1cc3"
      }
     },
     "986e1869e31346b6bbe421660cdcc6f7": {
      "model_module": "jupyter-js-widgets",
      "model_module_version": "~2.1.4",
      "model_name": "FloatSliderModel",
      "state": {
       "_model_module_version": "~2.1.4",
       "_view_module_version": "~2.1.4",
       "description": "alpha_0",
       "layout": "IPY_MODEL_39e339a67738431d95fbf007933998c9",
       "max": 50,
       "value": 25
      }
     },
     "9a5482fca7d14e96aba73585d3ac5ba4": {
      "model_module": "jupyter-js-widgets",
      "model_module_version": "~2.1.4",
      "model_name": "OutputModel",
      "state": {
       "_dom_classes": [],
       "_model_module": "jupyter-js-widgets",
       "_model_module_version": "~2.1.4",
       "_view_module": "jupyter-js-widgets",
       "_view_module_version": "~2.1.4",
       "layout": "IPY_MODEL_c8b78d9dc25d41a68af31746252a3bd1",
       "msg_throttle": 1
      }
     },
     "9bcf656cef6a4d729fa619fc80a1b0d2": {
      "model_module": "jupyter-js-widgets",
      "model_module_version": "~2.1.4",
      "model_name": "FloatSliderModel",
      "state": {
       "_model_module_version": "~2.1.4",
       "_view_module_version": "~2.1.4",
       "description": "alpha_1",
       "layout": "IPY_MODEL_a9f5c0e6935d4395b475f026930fe0f5",
       "max": 5,
       "min": 1e-20,
       "step": 0.1,
       "value": 1
      }
     },
     "a27e37f60ce641a6b820c7c245d42a94": {
      "model_module": "jupyter-js-widgets",
      "model_module_version": "~2.1.4",
      "model_name": "OutputModel",
      "state": {
       "_dom_classes": [],
       "_model_module": "jupyter-js-widgets",
       "_model_module_version": "~2.1.4",
       "_view_module": "jupyter-js-widgets",
       "_view_module_version": "~2.1.4",
       "layout": "IPY_MODEL_fd8d3f6d28c84356818ad8cfa035fb8d",
       "msg_throttle": 1
      }
     },
     "a292f679c6b44d5d95c553cdf13688a7": {
      "model_module": "jupyter-js-widgets",
      "model_module_version": "~2.1.4",
      "model_name": "LayoutModel",
      "state": {
       "_model_module_version": "~2.1.4",
       "_view_module_version": "~2.1.4"
      }
     },
     "a4d67ed6eab2476eaee6ae0e029c1075": {
      "model_module": "jupyter-js-widgets",
      "model_module_version": "~2.1.4",
      "model_name": "LayoutModel",
      "state": {
       "_model_module_version": "~2.1.4",
       "_view_module_version": "~2.1.4"
      }
     },
     "a4f09294c6d44dd09050ca97e8015219": {
      "model_module": "jupyter-js-widgets",
      "model_module_version": "~2.1.4",
      "model_name": "IntSliderModel",
      "state": {
       "_model_module_version": "~2.1.4",
       "_view_module_version": "~2.1.4",
       "description": "alpha_0",
       "layout": "IPY_MODEL_e9909da87fae46f6abfa1f04ae0a4930",
       "max": 50,
       "style": "IPY_MODEL_280da215a46c4603b46d37e9bf4e23e3",
       "value": 1
      }
     },
     "a6ea43ae724e4c0d94362d8559a38bc2": {
      "model_module": "jupyter-js-widgets",
      "model_module_version": "~2.1.4",
      "model_name": "LayoutModel",
      "state": {
       "_model_module_version": "~2.1.4",
       "_view_module_version": "~2.1.4"
      }
     },
     "a77856d1e5cc4ed19e97b1b311b158d8": {
      "model_module": "jupyter-js-widgets",
      "model_module_version": "~2.1.4",
      "model_name": "SliderStyleModel",
      "state": {
       "_model_module_version": "~2.1.4",
       "_view_module_version": "~2.1.4"
      }
     },
     "a9785d70d1d04fa08cb33be9cb80fcf7": {
      "model_module": "jupyter-js-widgets",
      "model_module_version": "~2.1.4",
      "model_name": "VBoxModel",
      "state": {
       "_dom_classes": [
        "widget-interact"
       ],
       "_model_module_version": "~2.1.4",
       "_view_module_version": "~2.1.4",
       "children": [
        "IPY_MODEL_36c7864857a840f5bb6d659437463466",
        "IPY_MODEL_461bf0e9fb4f489c9cde3bbf97986c7b",
        "IPY_MODEL_0ddb60c4ae2340a79fdaf2ce52bafb6f"
       ],
       "layout": "IPY_MODEL_13ac86b4970a432fabc9a98c38d14e6e"
      }
     },
     "a9f5c0e6935d4395b475f026930fe0f5": {
      "model_module": "jupyter-js-widgets",
      "model_module_version": "~2.1.4",
      "model_name": "LayoutModel",
      "state": {
       "_model_module_version": "~2.1.4",
       "_view_module_version": "~2.1.4"
      }
     },
     "ab32954080f148429df06cbce73f2d5e": {
      "model_module": "jupyter-js-widgets",
      "model_module_version": "~2.1.4",
      "model_name": "LayoutModel",
      "state": {
       "_model_module_version": "~2.1.4",
       "_view_module_version": "~2.1.4"
      }
     },
     "abca7f8d25f84e859420459d0b3a50d6": {
      "model_module": "jupyter-js-widgets",
      "model_module_version": "~2.1.4",
      "model_name": "VBoxModel",
      "state": {
       "_dom_classes": [
        "widget-interact"
       ],
       "_model_module_version": "~2.1.4",
       "_view_module_version": "~2.1.4",
       "children": [
        "IPY_MODEL_57c7cec705914fe7a7aed79ace0b0e1a",
        "IPY_MODEL_eb74b9eb92254445b6cee0bb31838115",
        "IPY_MODEL_1c966d6d6a624086b6ce6511965c2072"
       ],
       "layout": "IPY_MODEL_0e1c336dba37424e8369f36a3b69f3d7"
      }
     },
     "ad87059001524475bef55a532d300623": {
      "model_module": "jupyter-js-widgets",
      "model_module_version": "~2.1.4",
      "model_name": "SliderStyleModel",
      "state": {
       "_model_module_version": "~2.1.4",
       "_view_module_version": "~2.1.4"
      }
     },
     "ae82c6dc652f4378be360540268c20f0": {
      "model_module": "jupyter-js-widgets",
      "model_module_version": "~2.1.4",
      "model_name": "LayoutModel",
      "state": {
       "_model_module_version": "~2.1.4",
       "_view_module_version": "~2.1.4"
      }
     },
     "aeb7daa98d1046bd8a4b6a4a33f4ebc5": {
      "model_module": "jupyter-js-widgets",
      "model_module_version": "~2.1.4",
      "model_name": "FloatSliderModel",
      "state": {
       "_model_module_version": "~2.1.4",
       "_view_module_version": "~2.1.4",
       "description": "alpha_1",
       "layout": "IPY_MODEL_ec402ec250094302ad68571f136f92ed",
       "max": 50,
       "value": 25
      }
     },
     "b01d3174b1a34f5cba3883dfbc29184a": {
      "model_module": "jupyter-js-widgets",
      "model_module_version": "~2.1.4",
      "model_name": "OutputModel",
      "state": {
       "_dom_classes": [],
       "_model_module": "jupyter-js-widgets",
       "_model_module_version": "~2.1.4",
       "_view_module": "jupyter-js-widgets",
       "_view_module_version": "~2.1.4",
       "layout": "IPY_MODEL_ff861270aca24be0a32c5b935509fe3b",
       "msg_throttle": 1
      }
     },
     "b1d7cbfd5da14a7d86f9d0b75584b7b3": {
      "model_module": "jupyter-js-widgets",
      "model_module_version": "~2.1.4",
      "model_name": "IntSliderModel",
      "state": {
       "_model_module_version": "~2.1.4",
       "_view_module_version": "~2.1.4",
       "description": "alpha_1",
       "layout": "IPY_MODEL_c2ff2a8acd1e4685b06c1290e3e25d4f",
       "max": 3,
       "min": -1,
       "style": "IPY_MODEL_ad87059001524475bef55a532d300623",
       "value": 1
      }
     },
     "b501b98c05b747e388873141f84f59e4": {
      "model_module": "jupyter-js-widgets",
      "model_module_version": "~2.1.4",
      "model_name": "LayoutModel",
      "state": {
       "_model_module_version": "~2.1.4",
       "_view_module_version": "~2.1.4"
      }
     },
     "b5d80fcc70974fdbb5e1153e701d0e70": {
      "model_module": "jupyter-js-widgets",
      "model_module_version": "~2.1.4",
      "model_name": "LayoutModel",
      "state": {
       "_model_module_version": "~2.1.4",
       "_view_module_version": "~2.1.4"
      }
     },
     "b7d9fb6575854b1797b466e542f9da68": {
      "model_module": "jupyter-js-widgets",
      "model_module_version": "~2.1.4",
      "model_name": "LayoutModel",
      "state": {
       "_model_module_version": "~2.1.4",
       "_view_module_version": "~2.1.4"
      }
     },
     "b86b2ad7e4894261a58cebad8f3caa0a": {
      "model_module": "jupyter-js-widgets",
      "model_module_version": "~2.1.4",
      "model_name": "LayoutModel",
      "state": {
       "_model_module_version": "~2.1.4",
       "_view_module_version": "~2.1.4"
      }
     },
     "b9a0d011978d478bae573f286fb8b7a0": {
      "model_module": "jupyter-js-widgets",
      "model_module_version": "~2.1.4",
      "model_name": "LayoutModel",
      "state": {
       "_model_module_version": "~2.1.4",
       "_view_module_version": "~2.1.4"
      }
     },
     "b9dc4656ea1b4b06b5ffca38f6f631d6": {
      "model_module": "jupyter-js-widgets",
      "model_module_version": "~2.1.4",
      "model_name": "OutputModel",
      "state": {
       "_dom_classes": [],
       "_model_module": "jupyter-js-widgets",
       "_model_module_version": "~2.1.4",
       "_view_module": "jupyter-js-widgets",
       "_view_module_version": "~2.1.4",
       "layout": "IPY_MODEL_797ded02c41a469891f65cf91105494b",
       "msg_throttle": 1
      }
     },
     "bc1d80fada3f46c1ad45b8ab0dc91355": {
      "model_module": "jupyter-js-widgets",
      "model_module_version": "~2.1.4",
      "model_name": "VBoxModel",
      "state": {
       "_dom_classes": [
        "widget-interact"
       ],
       "_model_module_version": "~2.1.4",
       "_view_module_version": "~2.1.4",
       "children": [
        "IPY_MODEL_410227a45135417ebdca5a8f292845c6",
        "IPY_MODEL_b1d7cbfd5da14a7d86f9d0b75584b7b3",
        "IPY_MODEL_4bf53532905d416ebc77d8f5f2f5f062"
       ],
       "layout": "IPY_MODEL_a292f679c6b44d5d95c553cdf13688a7"
      }
     },
     "be1e02a7d63445b9b27abcef2ae26dfa": {
      "model_module": "jupyter-js-widgets",
      "model_module_version": "~2.1.4",
      "model_name": "LayoutModel",
      "state": {
       "_model_module_version": "~2.1.4",
       "_view_module_version": "~2.1.4"
      }
     },
     "bfe68c354586409eba329e6bc97ee707": {
      "model_module": "jupyter-js-widgets",
      "model_module_version": "~2.1.4",
      "model_name": "SliderStyleModel",
      "state": {
       "_model_module_version": "~2.1.4",
       "_view_module_version": "~2.1.4"
      }
     },
     "c0ad7e9f2c3d491db79f87962e71193d": {
      "model_module": "jupyter-js-widgets",
      "model_module_version": "~2.1.4",
      "model_name": "LayoutModel",
      "state": {
       "_model_module_version": "~2.1.4",
       "_view_module_version": "~2.1.4"
      }
     },
     "c107101df3404b27840c65b1521e5d2b": {
      "model_module": "jupyter-js-widgets",
      "model_module_version": "~2.1.4",
      "model_name": "FloatSliderModel",
      "state": {
       "_model_module_version": "~2.1.4",
       "_view_module_version": "~2.1.4",
       "description": "alpha_1",
       "layout": "IPY_MODEL_292477d5823d4cfcbd0918933a5168d1",
       "max": 50,
       "value": 25
      }
     },
     "c2ff2a8acd1e4685b06c1290e3e25d4f": {
      "model_module": "jupyter-js-widgets",
      "model_module_version": "~2.1.4",
      "model_name": "LayoutModel",
      "state": {
       "_model_module_version": "~2.1.4",
       "_view_module_version": "~2.1.4"
      }
     },
     "c336e8dcb28942588fbf552c3e6dd58c": {
      "model_module": "jupyter-js-widgets",
      "model_module_version": "~2.1.4",
      "model_name": "FloatSliderModel",
      "state": {
       "_model_module_version": "~2.1.4",
       "_view_module_version": "~2.1.4",
       "description": "alpha_0",
       "layout": "IPY_MODEL_cb325ae1fd6946719f4fb37885b661ea",
       "max": 50,
       "value": 25
      }
     },
     "c38305e6c6364610bdd29dbef8aea0aa": {
      "model_module": "jupyter-js-widgets",
      "model_module_version": "~2.1.4",
      "model_name": "LayoutModel",
      "state": {
       "_model_module_version": "~2.1.4",
       "_view_module_version": "~2.1.4"
      }
     },
     "c43b0291b3d74cafb4e6dc630c1ee5fa": {
      "model_module": "jupyter-js-widgets",
      "model_module_version": "~2.1.4",
      "model_name": "FloatSliderModel",
      "state": {
       "_model_module_version": "~2.1.4",
       "_view_module_version": "~2.1.4",
       "description": "alpha_1",
       "layout": "IPY_MODEL_c7db53e5a27448bf8f474c2505f57f3e",
       "max": 50,
       "value": 3
      }
     },
     "c56c680384204b03adaded1d1038b605": {
      "model_module": "jupyter-js-widgets",
      "model_module_version": "~2.1.4",
      "model_name": "VBoxModel",
      "state": {
       "_dom_classes": [
        "widget-interact"
       ],
       "_model_module_version": "~2.1.4",
       "_view_module_version": "~2.1.4",
       "children": [
        "IPY_MODEL_650d165911cb4ec2b59fe2bd3a477800",
        "IPY_MODEL_9bcf656cef6a4d729fa619fc80a1b0d2",
        "IPY_MODEL_a27e37f60ce641a6b820c7c245d42a94"
       ],
       "layout": "IPY_MODEL_3de2cb99ecda42aaa5ef69f7ede3f6c2"
      }
     },
     "c6acaf6833104f1d92f24a47d1b87392": {
      "model_module": "jupyter-js-widgets",
      "model_module_version": "~2.1.4",
      "model_name": "LayoutModel",
      "state": {
       "_model_module_version": "~2.1.4",
       "_view_module_version": "~2.1.4"
      }
     },
     "c7db53e5a27448bf8f474c2505f57f3e": {
      "model_module": "jupyter-js-widgets",
      "model_module_version": "~2.1.4",
      "model_name": "LayoutModel",
      "state": {
       "_model_module_version": "~2.1.4",
       "_view_module_version": "~2.1.4"
      }
     },
     "c8b78d9dc25d41a68af31746252a3bd1": {
      "model_module": "jupyter-js-widgets",
      "model_module_version": "~2.1.4",
      "model_name": "LayoutModel",
      "state": {
       "_model_module_version": "~2.1.4",
       "_view_module_version": "~2.1.4",
       "height": "350px"
      }
     },
     "cb325ae1fd6946719f4fb37885b661ea": {
      "model_module": "jupyter-js-widgets",
      "model_module_version": "~2.1.4",
      "model_name": "LayoutModel",
      "state": {
       "_model_module_version": "~2.1.4",
       "_view_module_version": "~2.1.4"
      }
     },
     "cb3d551d110b4ab0804c54d4192fc856": {
      "model_module": "jupyter-js-widgets",
      "model_module_version": "~2.1.4",
      "model_name": "FloatSliderModel",
      "state": {
       "_model_module_version": "~2.1.4",
       "_view_module_version": "~2.1.4",
       "description": "alpha_1",
       "layout": "IPY_MODEL_b86b2ad7e4894261a58cebad8f3caa0a",
       "max": 5,
       "step": 0.1,
       "value": 2.7
      }
     },
     "ce3acb88f17947659d401a526f89030e": {
      "model_module": "jupyter-js-widgets",
      "model_module_version": "~2.1.4",
      "model_name": "FloatSliderModel",
      "state": {
       "_model_module_version": "~2.1.4",
       "_view_module_version": "~2.1.4",
       "description": "alpha_0",
       "layout": "IPY_MODEL_65e1b047a5ca475fb0024754dde16b5b",
       "max": 5,
       "step": 0.1,
       "value": 1.5
      }
     },
     "ce6baa2cc74f41019d0ee42cbd14ea93": {
      "model_module": "jupyter-js-widgets",
      "model_module_version": "~2.1.4",
      "model_name": "FloatSliderModel",
      "state": {
       "_model_module_version": "~2.1.4",
       "_view_module_version": "~2.1.4",
       "description": "alpha_0",
       "layout": "IPY_MODEL_a4d67ed6eab2476eaee6ae0e029c1075",
       "max": 5,
       "min": 1e-20,
       "step": 0.1,
       "value": 1
      }
     },
     "cf5639f915d146f2b2ad111c4cc9c6c9": {
      "model_module": "jupyter-js-widgets",
      "model_module_version": "~2.1.4",
      "model_name": "LayoutModel",
      "state": {
       "_model_module_version": "~2.1.4",
       "_view_module_version": "~2.1.4"
      }
     },
     "d2b1bb48fdf14c8a835efb81b64e75e7": {
      "model_module": "jupyter-js-widgets",
      "model_module_version": "~2.1.4",
      "model_name": "IntSliderModel",
      "state": {
       "_model_module_version": "~2.1.4",
       "_view_module_version": "~2.1.4",
       "description": "alpha_1",
       "layout": "IPY_MODEL_02b38912bada4e0db097e1722cbc0998",
       "max": 50,
       "style": "IPY_MODEL_610148754236452ebd3d7f248af8c322",
       "value": 11
      }
     },
     "d2b26778cc8e4700b56cb76e0cab808a": {
      "model_module": "jupyter-js-widgets",
      "model_module_version": "~2.1.4",
      "model_name": "SliderStyleModel",
      "state": {
       "_model_module_version": "~2.1.4",
       "_view_module_version": "~2.1.4"
      }
     },
     "d354676dfb984d388314b723e602fad7": {
      "model_module": "jupyter-js-widgets",
      "model_module_version": "~2.1.4",
      "model_name": "VBoxModel",
      "state": {
       "_dom_classes": [
        "widget-interact"
       ],
       "_model_module_version": "~2.1.4",
       "_view_module_version": "~2.1.4",
       "children": [
        "IPY_MODEL_ed7ab160e3c04d4c8593a3927c0308b4",
        "IPY_MODEL_d2b1bb48fdf14c8a835efb81b64e75e7",
        "IPY_MODEL_42a558bd3c984701ae71d4f61b266539"
       ],
       "layout": "IPY_MODEL_837bc045e988471ab28c5dc13722b604"
      }
     },
     "d5e2e5c428a94e359fc565815e1c3f91": {
      "model_module": "jupyter-js-widgets",
      "model_module_version": "~2.1.4",
      "model_name": "VBoxModel",
      "state": {
       "_dom_classes": [
        "widget-interact"
       ],
       "_model_module_version": "~2.1.4",
       "_view_module_version": "~2.1.4",
       "layout": "IPY_MODEL_9471fe3e1ed74ccca329ecca03135ed6"
      }
     },
     "d6bd9473889f48df95108bd9d39804a0": {
      "model_module": "jupyter-js-widgets",
      "model_module_version": "~2.1.4",
      "model_name": "LayoutModel",
      "state": {
       "_model_module_version": "~2.1.4",
       "_view_module_version": "~2.1.4"
      }
     },
     "d8d0792635a34dfd84c943f07fa16deb": {
      "model_module": "jupyter-js-widgets",
      "model_module_version": "~2.1.4",
      "model_name": "VBoxModel",
      "state": {
       "_dom_classes": [
        "widget-interact"
       ],
       "_model_module_version": "~2.1.4",
       "_view_module_version": "~2.1.4",
       "children": [
        "IPY_MODEL_4cefea053ccd48c0a8f518b26877d1fa",
        "IPY_MODEL_4a2f7cbcac174835833ac83ce89b94f6",
        "IPY_MODEL_2e388be8462d4ccbb8234e063ef8590f"
       ],
       "layout": "IPY_MODEL_8f510221aad14ab6a5e9795cc45a161e"
      }
     },
     "d9923efac4684801a62d8bc9d52dd6c5": {
      "model_module": "jupyter-js-widgets",
      "model_module_version": "~2.1.4",
      "model_name": "FloatSliderModel",
      "state": {
       "_model_module_version": "~2.1.4",
       "_view_module_version": "~2.1.4",
       "description": "alpha_0",
       "layout": "IPY_MODEL_0bf7707be93044bab423ebe9f5221a78",
       "max": 50,
       "value": 25
      }
     },
     "dd2dee68fb2742e4ba2436cc71f79803": {
      "model_module": "jupyter-js-widgets",
      "model_module_version": "~2.1.4",
      "model_name": "LayoutModel",
      "state": {
       "_model_module_version": "~2.1.4",
       "_view_module_version": "~2.1.4"
      }
     },
     "dedf83a7a1024be7963ac7b502dfebf0": {
      "model_module": "jupyter-js-widgets",
      "model_module_version": "~2.1.4",
      "model_name": "LayoutModel",
      "state": {
       "_model_module_version": "~2.1.4",
       "_view_module_version": "~2.1.4"
      }
     },
     "dff99ec1a7684191802aeca98e0b442b": {
      "model_module": "jupyter-js-widgets",
      "model_module_version": "~2.1.4",
      "model_name": "LayoutModel",
      "state": {
       "_model_module_version": "~2.1.4",
       "_view_module_version": "~2.1.4"
      }
     },
     "e03e9aac785e46deadacecb850c0c9e1": {
      "model_module": "jupyter-js-widgets",
      "model_module_version": "~2.1.4",
      "model_name": "FloatSliderModel",
      "state": {
       "_model_module_version": "~2.1.4",
       "_view_module_version": "~2.1.4",
       "description": "alpha_1",
       "layout": "IPY_MODEL_723a633c9a014e4eb0828c23834a23d6",
       "max": 50,
       "value": 25
      }
     },
     "e0ce9f704a054955bb433c7bb4553edd": {
      "model_module": "jupyter-js-widgets",
      "model_module_version": "~2.1.4",
      "model_name": "VBoxModel",
      "state": {
       "_dom_classes": [
        "widget-interact"
       ],
       "_model_module_version": "~2.1.4",
       "_view_module_version": "~2.1.4",
       "children": [
        "IPY_MODEL_7a46e048377144358d63b5e18d777c67",
        "IPY_MODEL_41d251ad16a847e5af092226f1f32644",
        "IPY_MODEL_eee23ae419714b7d96bbe95a4a686247"
       ],
       "layout": "IPY_MODEL_278b0190a6184e32b22f959dbd5ad285"
      }
     },
     "e342fea081194c538de8ca7058634bad": {
      "model_module": "jupyter-js-widgets",
      "model_module_version": "~2.1.4",
      "model_name": "VBoxModel",
      "state": {
       "_dom_classes": [
        "widget-interact"
       ],
       "_model_module_version": "~2.1.4",
       "_view_module_version": "~2.1.4",
       "layout": "IPY_MODEL_903f18107cf24735a95ba14e3f205a21"
      }
     },
     "e356e649925b403b920db14e93d152f3": {
      "model_module": "jupyter-js-widgets",
      "model_module_version": "~2.1.4",
      "model_name": "VBoxModel",
      "state": {
       "_dom_classes": [
        "widget-interact"
       ],
       "_model_module_version": "~2.1.4",
       "_view_module_version": "~2.1.4",
       "children": [
        "IPY_MODEL_0b7004680a8b464bb7264a6e7ff60484",
        "IPY_MODEL_7cc26024c61b42ee8884c1aec9d4cb5a",
        "IPY_MODEL_7c190dfca02440aca3284b7743774d90"
       ],
       "layout": "IPY_MODEL_3b1ad259c4004506a9596541cfae3813"
      }
     },
     "e5d1d7e7a91642fd9a17a84b36f6f15c": {
      "model_module": "jupyter-js-widgets",
      "model_module_version": "~2.1.4",
      "model_name": "LayoutModel",
      "state": {
       "_model_module_version": "~2.1.4",
       "_view_module_version": "~2.1.4"
      }
     },
     "e6ecda4a4a684aaaa8c2716c7c014336": {
      "model_module": "jupyter-js-widgets",
      "model_module_version": "~2.1.4",
      "model_name": "FloatSliderModel",
      "state": {
       "_model_module_version": "~2.1.4",
       "_view_module_version": "~2.1.4",
       "description": "alpha_0",
       "layout": "IPY_MODEL_be1e02a7d63445b9b27abcef2ae26dfa",
       "max": 50,
       "value": 25
      }
     },
     "e6fc11519362447cb1396319a7b17111": {
      "model_module": "jupyter-js-widgets",
      "model_module_version": "~2.1.4",
      "model_name": "FloatSliderModel",
      "state": {
       "_model_module_version": "~2.1.4",
       "_view_module_version": "~2.1.4",
       "description": "alpha_0",
       "layout": "IPY_MODEL_3fe7a17cb4024619b81de39920383801",
       "max": 1,
       "step": 50
      }
     },
     "e8269ff85fec47568550c0dd470e0bbc": {
      "model_module": "jupyter-js-widgets",
      "model_module_version": "~2.1.4",
      "model_name": "IntSliderModel",
      "state": {
       "_model_module_version": "~2.1.4",
       "_view_module_version": "~2.1.4",
       "description": "alpha_0",
       "layout": "IPY_MODEL_e854c0d7ac9e4bcaa37c457b35ba8dd1",
       "max": 50,
       "style": "IPY_MODEL_0cc6618c426f4720af16fdc4c41d1701"
      }
     },
     "e854c0d7ac9e4bcaa37c457b35ba8dd1": {
      "model_module": "jupyter-js-widgets",
      "model_module_version": "~2.1.4",
      "model_name": "LayoutModel",
      "state": {
       "_model_module_version": "~2.1.4",
       "_view_module_version": "~2.1.4"
      }
     },
     "e87ced1070c54bfbbe9dd3032ae7c17d": {
      "model_module": "jupyter-js-widgets",
      "model_module_version": "~2.1.4",
      "model_name": "OutputModel",
      "state": {
       "_dom_classes": [],
       "_model_module": "jupyter-js-widgets",
       "_model_module_version": "~2.1.4",
       "_view_module": "jupyter-js-widgets",
       "_view_module_version": "~2.1.4",
       "layout": "IPY_MODEL_ae82c6dc652f4378be360540268c20f0",
       "msg_throttle": 1
      }
     },
     "e8817fd6bd2b4550b72b163d3ce7abaa": {
      "model_module": "jupyter-js-widgets",
      "model_module_version": "~2.1.4",
      "model_name": "FloatSliderModel",
      "state": {
       "_model_module_version": "~2.1.4",
       "_view_module_version": "~2.1.4",
       "description": "alpha_1",
       "layout": "IPY_MODEL_60b6168cbcbc4534ad24f5fac170fe6a",
       "max": 5,
       "min": 1e-05,
       "step": 0.1,
       "value": 1
      }
     },
     "e92cbdf0184744c2973e773f29c7b6d0": {
      "model_module": "jupyter-js-widgets",
      "model_module_version": "~2.1.4",
      "model_name": "OutputModel",
      "state": {
       "_dom_classes": [],
       "_model_module": "jupyter-js-widgets",
       "_model_module_version": "~2.1.4",
       "_view_module": "jupyter-js-widgets",
       "_view_module_version": "~2.1.4",
       "layout": "IPY_MODEL_04f0ba64b1f84d22a6c65c3fd168d3f9",
       "msg_throttle": 1
      }
     },
     "e9909da87fae46f6abfa1f04ae0a4930": {
      "model_module": "jupyter-js-widgets",
      "model_module_version": "~2.1.4",
      "model_name": "LayoutModel",
      "state": {
       "_model_module_version": "~2.1.4",
       "_view_module_version": "~2.1.4"
      }
     },
     "eb74b9eb92254445b6cee0bb31838115": {
      "model_module": "jupyter-js-widgets",
      "model_module_version": "~2.1.4",
      "model_name": "FloatSliderModel",
      "state": {
       "_model_module_version": "~2.1.4",
       "_view_module_version": "~2.1.4",
       "description": "alpha_1",
       "layout": "IPY_MODEL_b5d80fcc70974fdbb5e1153e701d0e70",
       "max": 50,
       "value": 25
      }
     },
     "ec402ec250094302ad68571f136f92ed": {
      "model_module": "jupyter-js-widgets",
      "model_module_version": "~2.1.4",
      "model_name": "LayoutModel",
      "state": {
       "_model_module_version": "~2.1.4",
       "_view_module_version": "~2.1.4"
      }
     },
     "ec54a3cdc42640859556b8949d67c10a": {
      "model_module": "jupyter-js-widgets",
      "model_module_version": "~2.1.4",
      "model_name": "LayoutModel",
      "state": {
       "_model_module_version": "~2.1.4",
       "_view_module_version": "~2.1.4"
      }
     },
     "ed7ab160e3c04d4c8593a3927c0308b4": {
      "model_module": "jupyter-js-widgets",
      "model_module_version": "~2.1.4",
      "model_name": "IntSliderModel",
      "state": {
       "_model_module_version": "~2.1.4",
       "_view_module_version": "~2.1.4",
       "description": "alpha_0",
       "layout": "IPY_MODEL_55a5da8cc1854188838da83bc347ff67",
       "max": 50,
       "style": "IPY_MODEL_a77856d1e5cc4ed19e97b1b311b158d8",
       "value": 1
      }
     },
     "eee23ae419714b7d96bbe95a4a686247": {
      "model_module": "jupyter-js-widgets",
      "model_module_version": "~2.1.4",
      "model_name": "OutputModel",
      "state": {
       "_dom_classes": [],
       "_model_module": "jupyter-js-widgets",
       "_model_module_version": "~2.1.4",
       "_view_module": "jupyter-js-widgets",
       "_view_module_version": "~2.1.4",
       "layout": "IPY_MODEL_dedf83a7a1024be7963ac7b502dfebf0",
       "msg_throttle": 1
      }
     },
     "eef050e0a217483f82816f8990323a87": {
      "model_module": "jupyter-js-widgets",
      "model_module_version": "~2.1.4",
      "model_name": "LayoutModel",
      "state": {
       "_model_module_version": "~2.1.4",
       "_view_module_version": "~2.1.4"
      }
     },
     "f25437db3b5d4d0bb9d0e7cee77c5ebd": {
      "model_module": "jupyter-js-widgets",
      "model_module_version": "~2.1.4",
      "model_name": "VBoxModel",
      "state": {
       "_dom_classes": [
        "widget-interact"
       ],
       "_model_module_version": "~2.1.4",
       "_view_module_version": "~2.1.4",
       "layout": "IPY_MODEL_4a8be32e9f3e451289a35e89022905f1"
      }
     },
     "f5fb14275c9149c1954337ff39f2eb09": {
      "model_module": "jupyter-js-widgets",
      "model_module_version": "~2.1.4",
      "model_name": "VBoxModel",
      "state": {
       "_dom_classes": [
        "widget-interact"
       ],
       "_model_module_version": "~2.1.4",
       "_view_module_version": "~2.1.4",
       "children": [
        "IPY_MODEL_ce6baa2cc74f41019d0ee42cbd14ea93",
        "IPY_MODEL_8cc5f2417fdd4f338a58013e9cdfe5df",
        "IPY_MODEL_646a79c70c4748448641f33e5bb3545b"
       ],
       "layout": "IPY_MODEL_e5d1d7e7a91642fd9a17a84b36f6f15c"
      }
     },
     "f913cf7c6e49448c8ea1544443d9ff00": {
      "model_module": "jupyter-js-widgets",
      "model_module_version": "~2.1.4",
      "model_name": "LayoutModel",
      "state": {
       "_model_module_version": "~2.1.4",
       "_view_module_version": "~2.1.4"
      }
     },
     "f93d9f7690a74202b43d94ee6e5d37db": {
      "model_module": "jupyter-js-widgets",
      "model_module_version": "~2.1.4",
      "model_name": "IntSliderModel",
      "state": {
       "_model_module_version": "~2.1.4",
       "_view_module_version": "~2.1.4",
       "description": "alpha_1",
       "layout": "IPY_MODEL_02bdc621d6da405c9a1b827f93e01014",
       "max": 3,
       "min": -1,
       "style": "IPY_MODEL_16d52f2f88274629911681bfb6370a0f",
       "value": 1
      }
     },
     "f99463ff8fe54c0797b78190773fb855": {
      "model_module": "jupyter-js-widgets",
      "model_module_version": "~2.1.4",
      "model_name": "LayoutModel",
      "state": {
       "_model_module_version": "~2.1.4",
       "_view_module_version": "~2.1.4"
      }
     },
     "f9dc3197ada345d0a0f839d2bb570abf": {
      "model_module": "jupyter-js-widgets",
      "model_module_version": "~2.1.4",
      "model_name": "OutputModel",
      "state": {
       "_dom_classes": [],
       "_model_module": "jupyter-js-widgets",
       "_model_module_version": "~2.1.4",
       "_view_module": "jupyter-js-widgets",
       "_view_module_version": "~2.1.4",
       "layout": "IPY_MODEL_4d84d950c08a4bb6b5a5094dbffeee76",
       "msg_throttle": 1
      }
     },
     "fcb20f5e611a432296ed55de4326eb3e": {
      "model_module": "jupyter-js-widgets",
      "model_module_version": "~2.1.4",
      "model_name": "LayoutModel",
      "state": {
       "_model_module_version": "~2.1.4",
       "_view_module_version": "~2.1.4"
      }
     },
     "fd8d3f6d28c84356818ad8cfa035fb8d": {
      "model_module": "jupyter-js-widgets",
      "model_module_version": "~2.1.4",
      "model_name": "LayoutModel",
      "state": {
       "_model_module_version": "~2.1.4",
       "_view_module_version": "~2.1.4"
      }
     },
     "ff861270aca24be0a32c5b935509fe3b": {
      "model_module": "jupyter-js-widgets",
      "model_module_version": "~2.1.4",
      "model_name": "LayoutModel",
      "state": {
       "_model_module_version": "~2.1.4",
       "_view_module_version": "~2.1.4"
      }
     }
    },
    "version_major": 1,
    "version_minor": 0
   }
  }
 },
 "nbformat": 4,
 "nbformat_minor": 2
}
