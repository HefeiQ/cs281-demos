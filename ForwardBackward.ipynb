{
 "cells": [
  {
   "cell_type": "code",
   "execution_count": 1,
   "metadata": {
    "collapsed": true
   },
   "outputs": [],
   "source": [
    "import torch"
   ]
  },
  {
   "cell_type": "code",
   "execution_count": 125,
   "metadata": {},
   "outputs": [],
   "source": [
    "T = 10\n",
    "V = 2\n",
    "\n",
    "# log potentials\n",
    "unary = torch.rand(T, V)\n",
    "binary = torch.rand(T, V, V)\n",
    "\n",
    "unary.fill_(1)\n",
    "\n",
    "# psi^T_t (ignoring the timestep)\n",
    "binary[:, 0, 0] = 1\n",
    "binary[:, 1, 1] = 1\n",
    "binary[:, 1, 0] = 0.1\n",
    "binary[:, 0, 1] = 0.1\n",
    "\n",
    "# Fix two values. \n",
    "unary[2][0] = 100\n",
    "unary[8][1] = 100"
   ]
  },
  {
   "cell_type": "code",
   "execution_count": 126,
   "metadata": {},
   "outputs": [],
   "source": [
    "# Forward\n",
    "m_f = torch.Tensor(T, V) \n",
    "bel_f = torch.Tensor(T, V) \n",
    "bel_f[0] = 1 / 2.\n",
    "for t in range(1, T):\n",
    "    m_f[t] = torch.mm(binary[t], bel_f[t-1].unsqueeze(1))\n",
    "    bel_f[t] = unary[t] * m_f[t]\n",
    "    bel_f[t] = bel_f[t] / bel_f[t].sum()"
   ]
  },
  {
   "cell_type": "code",
   "execution_count": 127,
   "metadata": {},
   "outputs": [],
   "source": [
    "# Backward\n",
    "m_b = torch.Tensor(T, V) \n",
    "bel = torch.Tensor(T, V) \n",
    "bel[T-1] = 1 /2.\n",
    "for t in range(T-2, -1, -1):\n",
    "    m_b[t] = torch.mm(binary[t].transpose(0, 1), \n",
    "            (unary[t+1] * bel[t+1]).unsqueeze(1))\n",
    "    bel[t] = m_b[t] * bel_f[t]\n",
    "    bel[t] = bel[t] / bel[t].sum()\n"
   ]
  },
  {
   "cell_type": "code",
   "execution_count": null,
   "metadata": {},
   "outputs": [],
   "source": []
  },
  {
   "cell_type": "code",
   "execution_count": 128,
   "metadata": {},
   "outputs": [
    {
     "data": {
      "text/plain": [
       "<matplotlib.image.AxesImage at 0x7f8594319c88>"
      ]
     },
     "execution_count": 128,
     "metadata": {},
     "output_type": "execute_result"
    },
    {
     "data": {
      "image/png": "[encoded data removed]",
      "text/plain": [
       "<matplotlib.figure.Figure at 0x7f859466bd30>"
      ]
     },
     "metadata": {},
     "output_type": "display_data"
    }
   ],
   "source": [
    "# Draw\n",
    "%matplotlib inline\n",
    "import matplotlib.pyplot as plt\n",
    "plt.imshow(unary.numpy().T)"
   ]
  },
  {
   "cell_type": "code",
   "execution_count": 129,
   "metadata": {},
   "outputs": [
    {
     "data": {
      "text/plain": [
       "<matplotlib.image.AxesImage at 0x7f8594270ef0>"
      ]
     },
     "execution_count": 129,
     "metadata": {},
     "output_type": "execute_result"
    },
    {
     "data": {
      "image/png": "[encoded data removed]",
      "text/plain": [
       "<matplotlib.figure.Figure at 0x7f85942ab400>"
      ]
     },
     "metadata": {},
     "output_type": "display_data"
    }
   ],
   "source": [
    "plt.imshow(bel.numpy().T)"
   ]
  }
 ],
 "metadata": {
  "kernelspec": {
   "display_name": "Python 3",
   "language": "python",
   "name": "python3"
  },
  "language_info": {
   "codemirror_mode": {
    "name": "ipython",
    "version": 3
   },
   "file_extension": ".py",
   "mimetype": "text/x-python",
   "name": "python",
   "nbconvert_exporter": "python",
   "pygments_lexer": "ipython3",
   "version": "3.5.2"
  }
 },
 "nbformat": 4,
 "nbformat_minor": 2
}
