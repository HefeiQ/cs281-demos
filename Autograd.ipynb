{
 "cells": [
  {
   "cell_type": "code",
   "execution_count": 2,
   "metadata": {
    "collapsed": true
   },
   "outputs": [],
   "source": [
    "import torch\n",
    "from torch.autograd import Variable\n",
    "import numpy as np"
   ]
  },
  {
   "cell_type": "code",
   "execution_count": 3,
   "metadata": {
    "collapsed": true
   },
   "outputs": [],
   "source": [
    "x = Variable(torch.from_numpy(np.zeros(10)).float(),\n",
    "             requires_grad=True)\n",
    "\n",
    "y = Variable(torch.from_numpy(np.ones(10)).float(), \n",
    "            requires_grad=True)"
   ]
  },
  {
   "cell_type": "code",
   "execution_count": 4,
   "metadata": {
    "collapsed": true
   },
   "outputs": [],
   "source": [
    "# Compute z as a function of x and y.\n",
    "z = x.dot(y)"
   ]
  },
  {
   "cell_type": "code",
   "execution_count": 5,
   "metadata": {},
   "outputs": [
    {
     "name": "stdout",
     "output_type": "stream",
     "text": [
      "Variable containing:\n",
      " 0\n",
      "[torch.FloatTensor of size 1]\n",
      "\n"
     ]
    }
   ],
   "source": [
    "# Compute the forward pass.\n",
    "print(z)"
   ]
  },
  {
   "cell_type": "code",
   "execution_count": 8,
   "metadata": {},
   "outputs": [
    {
     "name": "stdout",
     "output_type": "stream",
     "text": [
      "Variable containing:\n",
      " 1\n",
      " 1\n",
      " 1\n",
      " 1\n",
      " 1\n",
      " 1\n",
      " 1\n",
      " 1\n",
      " 1\n",
      " 1\n",
      "[torch.FloatTensor of size 10]\n",
      "\n"
     ]
    }
   ],
   "source": [
    "print(x.grad)"
   ]
  },
  {
   "cell_type": "code",
   "execution_count": 7,
   "metadata": {
    "collapsed": true
   },
   "outputs": [],
   "source": [
    "# Compute the backward pass (reverse-mode autodiff)\n",
    "z.backward()"
   ]
  },
  {
   "cell_type": "code",
   "execution_count": 80,
   "metadata": {},
   "outputs": [
    {
     "data": {
      "text/plain": [
       "Variable containing:\n",
       " 1\n",
       " 1\n",
       " 1\n",
       " 1\n",
       " 1\n",
       " 1\n",
       " 1\n",
       " 1\n",
       " 1\n",
       " 1\n",
       "[torch.FloatTensor of size 10]"
      ]
     },
     "execution_count": 80,
     "metadata": {},
     "output_type": "execute_result"
    }
   ],
   "source": [
    "x.grad"
   ]
  },
  {
   "cell_type": "code",
   "execution_count": 9,
   "metadata": {
    "collapsed": true
   },
   "outputs": [],
   "source": [
    "# Building logistic regression from scratch. \n",
    "m = 784\n",
    "\n",
    "# parameters\n",
    "w = Variable(torch.from_numpy(np.zeros(m)).float(), requires_grad=True)\n",
    "b = Variable(torch.from_numpy(np.zeros(1)).float(), requires_grad=True)\n",
    "\n",
    "def logistic_regression(x):\n",
    "    \"Write the function like you would in standard method\"\n",
    "    return torch.sigmoid(w.dot(x) + b) \n",
    "\n",
    "def negative_likelihood(xs, ys):\n",
    "    ll = 0\n",
    "    for n in range(xs.size(0)):\n",
    "        # Can even have if statements \n",
    "    \n",
    "        if ys[n] == 5:\n",
    "            ll = ll + torch.log(logistic_regression(xs[n]))\n",
    "        else:\n",
    "            ll = ll + torch.log(1 - logistic_regression(xs[n]))\n",
    "    return -ll"
   ]
  },
  {
   "cell_type": "code",
   "execution_count": 10,
   "metadata": {
    "collapsed": true
   },
   "outputs": [],
   "source": [
    "# Load image data.\n",
    "from data_util import load_mnist\n",
    "trX, teX, trY, teY = load_mnist(onehot=False)"
   ]
  },
  {
   "cell_type": "code",
   "execution_count": 11,
   "metadata": {},
   "outputs": [
    {
     "name": "stdout",
     "output_type": "stream",
     "text": [
      "5\n"
     ]
    },
    {
     "data": {
      "text/plain": [
       "<matplotlib.image.AxesImage at 0x7f8d28d0d5c0>"
      ]
     },
     "execution_count": 11,
     "metadata": {},
     "output_type": "execute_result"
    },
    {
     "data": {
      "image/png": "[encoded data removed]",
      "text/plain": [
       "<matplotlib.figure.Figure at 0x7f8d4c52b4a8>"
      ]
     },
     "metadata": {},
     "output_type": "display_data"
    }
   ],
   "source": [
    "import matplotlib.pyplot as plt\n",
    "%matplotlib inline\n",
    "print(trY[0])\n",
    "plt.imshow(trX[0].reshape(28, 28))"
   ]
  },
  {
   "cell_type": "code",
   "execution_count": 13,
   "metadata": {},
   "outputs": [
    {
     "data": {
      "text/plain": [
       "0.5"
      ]
     },
     "execution_count": 13,
     "metadata": {},
     "output_type": "execute_result"
    }
   ],
   "source": [
    "xs = Variable(torch.from_numpy(trX[:10]).float(), requires_grad=True)\n",
    "logistic_regression(xs[0]).data[0]"
   ]
  },
  {
   "cell_type": "code",
   "execution_count": 14,
   "metadata": {},
   "outputs": [
    {
     "name": "stdout",
     "output_type": "stream",
     "text": [
      "Variable containing:\n",
      " 6.9315\n",
      "[torch.FloatTensor of size 1]\n",
      "\n"
     ]
    }
   ],
   "source": [
    "ys = torch.from_numpy(trY[:10]).long()\n",
    "L = negative_likelihood(xs, ys)\n",
    "print(L)"
   ]
  },
  {
   "cell_type": "code",
   "execution_count": 15,
   "metadata": {
    "collapsed": true
   },
   "outputs": [],
   "source": [
    "L.backward()"
   ]
  },
  {
   "cell_type": "code",
   "execution_count": 16,
   "metadata": {},
   "outputs": [
    {
     "data": {
      "text/plain": [
       "<matplotlib.image.AxesImage at 0x7f8d28937ba8>"
      ]
     },
     "execution_count": 16,
     "metadata": {},
     "output_type": "execute_result"
    },
    {
     "data": {
      "image/png": "[encoded data removed]",
      "text/plain": [
       "<matplotlib.figure.Figure at 0x7f8d28cde400>"
      ]
     },
     "metadata": {},
     "output_type": "display_data"
    }
   ],
   "source": [
    "plt.imshow(w.grad.data.numpy().reshape(28, 28))"
   ]
  },
  {
   "cell_type": "code",
   "execution_count": 225,
   "metadata": {},
   "outputs": [
    {
     "data": {
      "text/plain": [
       "(60000, 784)"
      ]
     },
     "execution_count": 225,
     "metadata": {},
     "output_type": "execute_result"
    }
   ],
   "source": [
    "trX.shape"
   ]
  },
  {
   "cell_type": "code",
   "execution_count": 17,
   "metadata": {},
   "outputs": [
    {
     "name": "stdout",
     "output_type": "stream",
     "text": [
      "304.41976741483086\n",
      "186.578247347079\n",
      "143.98104433847948\n",
      "109.42108591646684\n",
      "87.42873766692355\n",
      "72.18946863081874\n",
      "60.8571748311424\n",
      "49.934328361894586\n",
      "41.826126895002744\n",
      "35.904716126919084\n",
      "31.470956345334343\n",
      "28.175670119810093\n",
      "25.52304454682053\n",
      "23.189465945504708\n",
      "21.181663327374736\n",
      "19.47156900009213\n",
      "17.965678690309687\n",
      "16.621669217478484\n",
      "15.43870530051663\n",
      "14.410063948577772\n"
     ]
    }
   ],
   "source": [
    "import torch.optim as optim\n",
    "w.data.zero_()\n",
    "b.data.zero_()\n",
    "opt = optim.SGD([w, b], lr=0.1)\n",
    "\n",
    "for epoch in range(20):\n",
    "    total = 0\n",
    "    for i in range(0, 1000, 5):\n",
    "        # Reset param grads\n",
    "        opt.zero_grad()\n",
    "\n",
    "        # Find minibatch\n",
    "        xs = Variable(torch.from_numpy(trX[i:i+5]).float(), requires_grad=True)\n",
    "        ys = torch.from_numpy(trY[i:i+5]).long()\n",
    "\n",
    "        # Compute minibatch likelihood and gradients.\n",
    "        L = negative_likelihood(xs, ys)\n",
    "        L.backward()\n",
    "        #print(xs.grad)\n",
    "        #print(L.data[0])\n",
    "        total += L.data[0]\n",
    "        # Update with a gradient step.\n",
    "        #print(w.grad.data)\n",
    "        opt.step()\n",
    "    print(total)"
   ]
  },
  {
   "cell_type": "code",
   "execution_count": 18,
   "metadata": {},
   "outputs": [
    {
     "data": {
      "text/plain": [
       "<matplotlib.image.AxesImage at 0x7f8d288a5828>"
      ]
     },
     "execution_count": 18,
     "metadata": {},
     "output_type": "execute_result"
    },
    {
     "data": {
      "image/png": "[encoded data removed]",
      "text/plain": [
       "<matplotlib.figure.Figure at 0x7f8d28c0aeb8>"
      ]
     },
     "metadata": {},
     "output_type": "display_data"
    }
   ],
   "source": [
    "plt.imshow(w.data.numpy().reshape(28, 28))"
   ]
  },
  {
   "cell_type": "code",
   "execution_count": null,
   "metadata": {
    "collapsed": true
   },
   "outputs": [],
   "source": []
  },
  {
   "cell_type": "code",
   "execution_count": null,
   "metadata": {
    "collapsed": true
   },
   "outputs": [],
   "source": [
    "# Everything else in pytorch is just fancy extensions beyond the core autograd mechanism"
   ]
  },
  {
   "cell_type": "code",
   "execution_count": null,
   "metadata": {
    "collapsed": true
   },
   "outputs": [],
   "source": [
    "# The module or blocks approach.\n",
    "from torch import nn\n",
    "class Linear(nn.Module):\n",
    "    def __init__(self, m, n):\n",
    "        super() \n",
    "        self.W = torch.FloatTensor(m, n)\n",
    "        self.b = torhc.FloatTensor(n)\n",
    "        self.register_parameter()\n",
    "        self.register_parameter()\n",
    "\n",
    "    def forward(self, input):\n",
    "        return self.W.dot(input) + self.b\n",
    "\n",
    "\n",
    "layer = Linear(784, 10)\n",
    "layer.forward(x)"
   ]
  }
 ],
 "metadata": {
  "kernelspec": {
   "display_name": "Python 3",
   "language": "python",
   "name": "python3"
  },
  "language_info": {
   "codemirror_mode": {
    "name": "ipython",
    "version": 3
   },
   "file_extension": ".py",
   "mimetype": "text/x-python",
   "name": "python",
   "nbconvert_exporter": "python",
   "pygments_lexer": "ipython3",
   "version": "3.5.2"
  }
 },
 "nbformat": 4,
 "nbformat_minor": 2
}
