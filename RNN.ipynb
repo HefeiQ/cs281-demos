{
 "cells": [
  {
   "cell_type": "code",
   "execution_count": 1,
   "metadata": {
    "collapsed": false
   },
   "outputs": [],
   "source": [
    "import torch\n",
    "import torch.nn as nn\n",
    "from torch.autograd import Variable"
   ]
  },
  {
   "cell_type": "code",
   "execution_count": 2,
   "metadata": {
    "collapsed": false
   },
   "outputs": [],
   "source": [
    "class RNN(nn.Module):\n",
    "\n",
    "    def __init__(self, size):\n",
    "        super(RNN, self).__init__()\n",
    "        self.W1 = nn.Linear(size, size)\n",
    "        self.W2 = nn.Linear(size, size, bias=False)\n",
    "        self.h0 = nn.Parameter(torch.Tensor(size), \n",
    "                               requires_grad=True)\n",
    "\n",
    "    def forward(self, xs):\n",
    "        hs = [self.h0]\n",
    "        for i in range(xs.size(0)):\n",
    "            h = nn.Tanh()(self.W1(hs[i]) + self.W2(xs[i]))\n",
    "            hs.append(h)\n",
    "        return hs"
   ]
  },
  {
   "cell_type": "code",
   "execution_count": 3,
   "metadata": {
    "collapsed": false
   },
   "outputs": [
    {
     "name": "stdout",
     "output_type": "stream",
     "text": [
      "None\n"
     ]
    }
   ],
   "source": [
    "rnn = RNN(5)\n",
    "a = Variable(torch.Tensor(100, 5).fill_(1), requires_grad=True)\n",
    "hs = rnn(a)\n",
    "loss = hs[100].sum()\n",
    "loss[0].backward()\n",
    "print(hs[100].grad)\n"
   ]
  },
  {
   "cell_type": "code",
   "execution_count": 33,
   "metadata": {
    "collapsed": true
   },
   "outputs": [],
   "source": [
    "class Gated(nn.Module):\n",
    "    def __init__(self, size):\n",
    "        super(RNN, self).__init__()\n",
    "        self.W1 = nn.Linear(size, size)\n",
    "        self.W2 = nn.Linear(size, size, bias=False)\n",
    "        self.activation = nn.Tanh()\n",
    "\n",
    "        self.gate_W1 = nn.Linear(size, size)\n",
    "        self.gate_W2 = nn.Linear(size, size, bias=False)\n",
    "        self.gate_activation = nn.Sigmoid()\n",
    "        self.h0 = nn.Parameter(torch.Tensor(size))\n",
    "\n",
    "    def forward(self, xs):\n",
    "        hs = [self.h0]\n",
    "        for i in range(xs.size(0)):\n",
    "            h = self.activation(self.W1(hs[i]) + self.W2(xs[i]))\n",
    "            t = self.gate_activation(self.gate_W1(hs[i]) + self.gate_W2(xs[i]))\n",
    "            \n",
    "            hs.append((1-t) * h[i] + t * h )\n",
    "        return hs"
   ]
  }
 ],
 "metadata": {
  "kernelspec": {
   "display_name": "IPython (Python 3)",
   "language": "python",
   "name": "python3"
  },
  "language_info": {
   "codemirror_mode": {
    "name": "ipython",
    "version": 3
   },
   "file_extension": ".py",
   "mimetype": "text/x-python",
   "name": "python",
   "nbconvert_exporter": "python",
   "pygments_lexer": "ipython3",
   "version": "3.5.2"
  }
 },
 "nbformat": 4,
 "nbformat_minor": 2
}
