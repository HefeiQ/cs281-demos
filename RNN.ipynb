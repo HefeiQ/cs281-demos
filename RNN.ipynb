{
 "cells": [
  {
   "cell_type": "code",
   "execution_count": 1,
   "metadata": {
    "collapsed": true
   },
   "outputs": [],
   "source": [
    "import torch\n",
    "import torch.nn as nn\n",
    "from torch.autograd import Variable"
   ]
  },
  {
   "cell_type": "code",
   "execution_count": 3,
   "metadata": {
    "collapsed": true
   },
   "outputs": [],
   "source": [
    "class RNN(nn.Module):\n",
    "\n",
    "    def __init__(self, size):\n",
    "        super(RNN, self).__init__()\n",
    "        self.W1 = nn.Linear(size, size)\n",
    "        self.W2 = nn.Linear(size, size, bias=False)\n",
    "        self.h0 = nn.Parameter(torch.Tensor(size).fill_(0), \n",
    "                               requires_grad=True)\n",
    "\n",
    "    def forward(self, xs):\n",
    "        hs = [self.h0]\n",
    "        for i in range(xs.size(0)):\n",
    "            h = nn.Tanh()(self.W2(hs[i]) + self.W1(xs[i]))\n",
    "            hs.append(h)\n",
    "        return hs"
   ]
  },
  {
   "cell_type": "code",
   "execution_count": 6,
   "metadata": {},
   "outputs": [
    {
     "name": "stdout",
     "output_type": "stream",
     "text": [
      "Variable containing:\n",
      " 0.6130\n",
      " 0.5908\n",
      "-0.1896\n",
      "-0.5053\n",
      "-0.0959\n",
      "[torch.FloatTensor of size 5]\n",
      "\n",
      "Variable containing:\n",
      "1.00000e-44 *\n",
      "  1.5414\n",
      "  1.6816\n",
      " -0.5605\n",
      " -1.9618\n",
      "  0.1401\n",
      "[torch.FloatTensor of size 5]\n",
      "\n"
     ]
    }
   ],
   "source": [
    "rnn = RNN(5)\n",
    "T = 100\n",
    "x = Variable(torch.FloatTensor(T, 5).fill_(1), \n",
    "            requires_grad=True) \n",
    "hs = rnn(x)\n",
    "\n",
    "loss = hs[T].sum()\n",
    "loss.backward()\n",
    "print(x.grad[99])\n",
    "print(x.grad[0])"
   ]
  },
  {
   "cell_type": "code",
   "execution_count": 96,
   "metadata": {
    "collapsed": true
   },
   "outputs": [],
   "source": [
    "class Gated(nn.Module):\n",
    "    def __init__(self, size):\n",
    "        super(Gated, self).__init__()\n",
    "        self.W1 = nn.Linear(size, size)\n",
    "        self.W2 = nn.Linear(size, size, bias=False)\n",
    "        self.activation = nn.Tanh()\n",
    "\n",
    "        self.gate_W1 = nn.Linear(size, size)\n",
    "        self.gate_W2 = nn.Linear(size, size, bias=False)\n",
    "        self.gate_activation = nn.Sigmoid()\n",
    "        self.h0 = nn.Parameter(torch.Tensor(size))\n",
    "\n",
    "    def forward(self, xs):\n",
    "        hs = [self.h0]\n",
    "        for i in range(xs.size(0)):\n",
    "            h = self.activation(self.W1(hs[i]) + self.W2(xs[i]))\n",
    "            t = 0.1 # self.gate_activation(self.gate_W1(hs[i]) + self.gate_W2(xs[i]))\n",
    "            hs.append( (1-t) * hs[i] + t * h)\n",
    "        return hs"
   ]
  },
  {
   "cell_type": "code",
   "execution_count": 103,
   "metadata": {},
   "outputs": [
    {
     "name": "stdout",
     "output_type": "stream",
     "text": [
      "Variable containing:\n",
      "1.00000e-02 *\n",
      "  1.8279\n",
      " -3.2543\n",
      "  1.1446\n",
      " -4.7897\n",
      "  4.0270\n",
      "[torch.FloatTensor of size 5]\n",
      "\n",
      "Variable containing:\n",
      "1.00000e-05 *\n",
      " -0.4706\n",
      " -0.3314\n",
      " -0.6020\n",
      " -1.5595\n",
      "  0.0797\n",
      "[torch.FloatTensor of size 5]\n",
      "\n"
     ]
    }
   ],
   "source": [
    "rnn = Gated(5)\n",
    "a = Variable(torch.FloatTensor(100, 5).fill_(1), \n",
    "            requires_grad=True) \n",
    "hs = rnn(a)\n",
    "loss = hs[-1].sum()\n",
    "loss.backward()\n",
    "print(a.grad[99])\n",
    "print(a.grad[0])"
   ]
  },
  {
   "cell_type": "code",
   "execution_count": null,
   "metadata": {
    "collapsed": true
   },
   "outputs": [],
   "source": []
  }
 ],
 "metadata": {
  "kernelspec": {
   "display_name": "Python 3",
   "language": "python",
   "name": "python3"
  },
  "language_info": {
   "codemirror_mode": {
    "name": "ipython",
    "version": 3
   },
   "file_extension": ".py",
   "mimetype": "text/x-python",
   "name": "python",
   "nbconvert_exporter": "python",
   "pygments_lexer": "ipython3",
   "version": "3.5.2"
  }
 },
 "nbformat": 4,
 "nbformat_minor": 2
}
